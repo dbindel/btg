{
 "cells": [
  {
   "cell_type": "markdown",
   "metadata": {},
   "source": [
    "## Summary\n",
    "This is a short walk-through of our current fast implementation of the btg program. It's essentially a Jupyter Notebook version of the file *driver.jl*. \n",
    "\n",
    "As of 3/19, the code adheres to most of the points outlined in the Latex BTG document started by Eric. Namely, it\n",
    "- supports covariates\n",
    "- stably computes Jacobians by taking log, shifting, and exponentiating\n",
    "- uses a quadrature rule on $\\theta$ and $\\lambda$\n",
    "- Normalizes weights to get proper distribution: $ w(\\theta_i, \\lambda_j) = \\frac{w(\\theta_i) w(\\lambda_j) p(y | \\theta_i, \\lambda_j)}\n",
    "                                    {\\sum_{i,j} w(\\theta_i) w(\\lambda_j) p(y | \\theta_i, \\lambda_j)}$\n",
    "- takes advantage of built-in Julia T-dist CDF and PDF functions to compute Bayesian predictive PDF and CDF \n",
    "- includes documentation for each function\n",
    "- stores and updates set of Cholesky factorizations\n",
    "\n",
    "In addition it also \n",
    "- supports both Gaussian and Gauss-Turan quadrature for $\\theta$ \n",
    "- \n",
    "\n",
    "\n",
    "\n",
    "## TODO: \n",
    "Bayesian LCB optimization\n",
    "Monte carlo for high dim quadrature (Cameron)\n",
    "sparse grids for high dim quadrature (Leo)\n",
    "(Xinran)\n",
    "\n",
    "(probably need Cameron's help for this)"
   ]
  },
  {
   "cell_type": "code",
   "execution_count": null,
   "metadata": {
    "collapsed": true
   },
   "outputs": [],
   "source": []
  },
  {
   "cell_type": "code",
   "execution_count": null,
   "metadata": {
    "collapsed": true
   },
   "outputs": [],
   "source": []
  },
  {
   "cell_type": "code",
   "execution_count": null,
   "metadata": {
    "collapsed": true
   },
   "outputs": [],
   "source": []
  }
 ],
 "metadata": {
  "kernelspec": {
   "display_name": "Julia 1.3.1",
   "language": "julia",
   "name": "julia-1.3"
  },
  "language_info": {
   "file_extension": ".jl",
   "mimetype": "application/julia",
   "name": "julia",
   "version": "1.3.1"
  }
 },
 "nbformat": 4,
 "nbformat_minor": 2
}
