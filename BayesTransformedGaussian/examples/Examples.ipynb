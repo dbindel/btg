{
 "cells": [
  {
   "cell_type": "code",
   "execution_count": 2,
   "metadata": {},
   "outputs": [
    {
     "data": {
      "text/plain": [
       "3-element Array{Int64,1}:\n",
       " 1\n",
       " 2\n",
       " 3"
      ]
     },
     "execution_count": 2,
     "metadata": {},
     "output_type": "execute_result"
    }
   ],
   "source": [
    "x = [1;2;3]"
   ]
  },
  {
   "cell_type": "code",
   "execution_count": 13,
   "metadata": {},
   "outputs": [
    {
     "name": "stdout",
     "output_type": "stream",
     "text": [
      "\u001b[32m\u001b[1m Resolving\u001b[22m\u001b[39m package versions...\n",
      "\u001b[32m\u001b[1m  Updating\u001b[22m\u001b[39m `C:\\Users\\Albert Huang\\Desktop\\btg\\BayesTransformedGaussian\\Project.toml`\n",
      "\u001b[90m [no changes]\u001b[39m\n",
      "\u001b[32m\u001b[1m  Updating\u001b[22m\u001b[39m `C:\\Users\\Albert Huang\\Desktop\\btg\\BayesTransformedGaussian\\Manifest.toml`\n",
      "\u001b[90m [no changes]\u001b[39m\n"
     ]
    },
    {
     "name": "stderr",
     "output_type": "stream",
     "text": [
      "WARNING: could not import Statistics.pdf into Main\n",
      "WARNING: could not import Statistics.cdf into Main\n"
     ]
    },
    {
     "ename": "LoadError",
     "evalue": "UndefVarError: BTG not defined",
     "output_type": "error",
     "traceback": [
      "UndefVarError: BTG not defined",
      "",
      "Stacktrace:",
      " [1] top-level scope at C:\\Users\\Albert Huang\\Desktop\\btg\\BayesTransformedGaussian\\src\\statistics.jl:6",
      " [2] include at .\\boot.jl:328 [inlined]",
      " [3] include_relative(::Module, ::String) at .\\loading.jl:1105",
      " [4] include(::Module, ::String) at .\\Base.jl:31",
      " [5] include(::String) at .\\client.jl:424",
      " [6] top-level scope at In[13]:4"
     ]
    }
   ],
   "source": [
    "using Pkg\n",
    "Pkg.instantiate()\n",
    "Pkg.add(\"Cubature\")\n",
    "include(\"../src/statistics.jl\")"
   ]
  },
  {
   "cell_type": "code",
   "execution_count": null,
   "metadata": {
    "collapsed": true
   },
   "outputs": [],
   "source": []
  }
 ],
 "metadata": {
  "kernelspec": {
   "display_name": "Julia 1.3.1",
   "language": "julia",
   "name": "julia-1.3"
  },
  "language_info": {
   "file_extension": ".jl",
   "mimetype": "application/julia",
   "name": "julia",
   "version": "1.3.1"
  }
 },
 "nbformat": 4,
 "nbformat_minor": 2
}
