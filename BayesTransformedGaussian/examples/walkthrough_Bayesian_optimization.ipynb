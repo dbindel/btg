{
 "cells": [
  {
   "cell_type": "markdown",
   "metadata": {},
   "source": [
    "    In the following cells we demonstrate the use of incremental.jl"
   ]
  },
  {
   "cell_type": "code",
   "execution_count": 23,
   "metadata": {},
   "outputs": [],
   "source": [
    "include(\"../src/bayesopt/incremental.jl\")\n",
    "include(\"../src/kernels/kernel.jl\")"
   ]
  },
  {
   "cell_type": "code",
   "execution_count": 24,
   "metadata": {},
   "outputs": [
    {
     "ename": "MethodError",
     "evalue": "MethodError: no method matching incremental_cholesky!(::Array{Float64,2})\nClosest candidates are:\n  incremental_cholesky!(::AbstractArray{T,2} where T, !Matched::Any; check) at C:\\Users\\Albert Huang\\Desktop\\btg\\BayesTransformedGaussian\\src\\bayesopt\\incremental.jl:20",
     "output_type": "error",
     "traceback": [
      "MethodError: no method matching incremental_cholesky!(::Array{Float64,2})\nClosest candidates are:\n  incremental_cholesky!(::AbstractArray{T,2} where T, !Matched::Any; check) at C:\\Users\\Albert Huang\\Desktop\\btg\\BayesTransformedGaussian\\src\\bayesopt\\incremental.jl:20",
      "",
      "Stacktrace:",
      " [1] top-level scope at In[24]:3"
     ]
    }
   ],
   "source": [
    "x = rand(10, 7)\n",
    "K = correlation(Gaussian(), 1.1, x)\n",
    "ic = incremental_cholesky!(K)"
   ]
  },
  {
   "cell_type": "code",
   "execution_count": 25,
   "metadata": {},
   "outputs": [
    {
     "data": {
      "text/plain": [
       "update_test_buffer! (generic function with 1 method)"
      ]
     },
     "execution_count": 25,
     "metadata": {},
     "output_type": "execute_result"
    }
   ],
   "source": [
    "include(\"../src/computation/buffers0.jl\")"
   ]
  },
  {
   "cell_type": "code",
   "execution_count": 33,
   "metadata": {},
   "outputs": [
    {
     "name": "stdout",
     "output_type": "stream",
     "text": [
      "(3, 2)\n",
      "(3, 10)\n"
     ]
    },
    {
     "ename": "DimensionMismatch",
     "evalue": "DimensionMismatch(\"tried to assign 1×3 array to 1×2 destination\")",
     "output_type": "error",
     "traceback": [
      "DimensionMismatch(\"tried to assign 1×3 array to 1×2 destination\")",
      "",
      "Stacktrace:",
      " [1] throw_setindex_mismatch(::Array{Int64,2}, ::Tuple{Int64,Int64}) at .\\indices.jl:169",
      " [2] setindex_shape_check at .\\indices.jl:226 [inlined]",
      " [3] macro expansion at .\\multidimensional.jl:722 [inlined]",
      " [4] _unsafe_setindex!(::IndexLinear, ::Array{Float64,2}, ::Array{Int64,2}, ::UnitRange{Int64}, ::Base.Slice{Base.OneTo{Int64}}) at .\\multidimensional.jl:717",
      " [5] _setindex! at .\\multidimensional.jl:712 [inlined]",
      " [6] setindex! at .\\abstractarray.jl:1074 [inlined]",
      " [7] update!(::extensible_trainingData{Array{Float64,2},Array{Float64,1}}, ::Array{Int64,2}, ::Array{Int64,2}, ::Array{Int64,1}) at C:\\Users\\Albert Huang\\Desktop\\btg\\BayesTransformedGaussian\\src\\datastructs.jl:74",
      " [8] top-level scope at In[33]:5"
     ]
    }
   ],
   "source": [
    "\n",
    "td = newExtensibleTrainingData(3, 2, 10)\n",
    "println(size(td.x))\n",
    "println(size(td.Fx))\n",
    "update!(td, [1 2 3], [1 2], [1])\n",
    "println(size(td.x))\n",
    "println(size(td.Fx))\n",
    "println(size(td.y))\n",
    "println(size(td.n))#should be 1\n",
    "update!(td, ones(9, 3), ones(9, 2), ones(9))\n",
    "println(size(td.x))\n",
    "println(size(td.Fx))\n",
    "println(size(td.y))\n",
    "println(size(td.n))#should be 10"
   ]
  },
  {
   "cell_type": "code",
   "execution_count": 34,
   "metadata": {},
   "outputs": [
    {
     "ename": "DataType",
     "evalue": "BoundsError",
     "output_type": "error",
     "traceback": [
      "BoundsError",
      "",
      "Stacktrace:",
      " [1] update!(::extensible_trainingData{Array{Float64,2},Array{Float64,1}}, ::Array{Float64,2}, ::Array{Float64,2}, ::Array{Float64,1}) at C:\\Users\\Albert Huang\\Desktop\\btg\\BayesTransformedGaussian\\src\\datastructs.jl:72",
      " [2] top-level scope at In[34]:1"
     ]
    }
   ],
   "source": [
    "update!(td, ones(9, 3), ones(9, 2), ones(9)) #throws bounds error"
   ]
  },
  {
   "cell_type": "markdown",
   "metadata": {},
   "source": [
    "## Test train_buffer functionality"
   ]
  },
  {
   "cell_type": "code",
   "execution_count": 35,
   "metadata": {},
   "outputs": [
    {
     "ename": "DataType",
     "evalue": "BoundsError",
     "output_type": "error",
     "traceback": [
      "BoundsError",
      "",
      "Stacktrace:",
      " [1] update!(::extensible_trainingData{Array{Float64,2},Array{Float64,1}}, ::Array{Float64,2}, ::Array{Float64,2}, ::Array{Float64,1}) at C:\\Users\\Albert Huang\\Desktop\\btg\\BayesTransformedGaussian\\src\\datastructs.jl:72",
      " [2] top-level scope at In[35]:2"
     ]
    }
   ],
   "source": [
    "td = newExtensibleTrainingData(3, 2, 10)\n",
    "update!(td, rand(10, 3), rand(10, 2), rand(10))\n",
    "bf = init_train_buffer(1.1, td) \n",
    "r = triu(bf.choleskyΣθ.R)\n",
    "println(norm(correlation(Gaussian(), 1.1, td.x) .- r'*r))"
   ]
  }
 ],
 "metadata": {
  "kernelspec": {
   "display_name": "Julia 1.3.1",
   "language": "julia",
   "name": "julia-1.3"
  },
  "language_info": {
   "file_extension": ".jl",
   "mimetype": "application/julia",
   "name": "julia",
   "version": "1.3.1"
  }
 },
 "nbformat": 4,
 "nbformat_minor": 2
}
