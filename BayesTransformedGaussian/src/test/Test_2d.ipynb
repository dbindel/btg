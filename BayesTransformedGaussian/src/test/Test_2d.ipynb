{
 "cells": [
  {
   "cell_type": "code",
   "execution_count": 1,
   "metadata": {
    "scrolled": true
   },
   "outputs": [
    {
     "data": {
      "text/plain": [
       "comp_tdist"
      ]
     },
     "execution_count": 1,
     "metadata": {},
     "output_type": "execute_result"
    }
   ],
   "source": [
    "using LinearAlgebra                                                             \n",
    "using Test                                                                                       \n",
    "using Distributions                                                             \n",
    "using DataFrames                                                                          \n",
    "using CSV                                                                              \n",
    "using Polynomials  \n",
    "                                                                                 \n",
    "include(\"../computation/finitedifference.jl\")                                                   \n",
    "include(\"../quadrature/quadrature.jl\")                                             \n",
    "include(\"../transforms/transforms.jl\")                                             \n",
    "include(\"../priors/priors.jl\")                                                     \n",
    "include(\"../bayesopt/incremental.jl\")                                              \n",
    "include(\"../kernels/kernel.jl\")                                                    \n",
    "include(\"../datastructs.jl\")                                                       \n",
    "include(\"../computation/buffers0.jl\") #datastruct, kernel, incremental, quadrature \n",
    "include(\"../model0.jl\") #buffers, datastructs, several auxiliary                   \n",
    "include(\"../computation/tdist.jl\") #model0 and buffer0  "
   ]
  },
  {
   "cell_type": "code",
   "execution_count": 71,
   "metadata": {},
   "outputs": [
    {
     "data": {
      "text/plain": [
       "covariate_fun (generic function with 1 method)"
      ]
     },
     "execution_count": 71,
     "metadata": {},
     "output_type": "execute_result"
    }
   ],
   "source": [
    "function covariate_fun(x, p)\n",
    "    n = size(x, 1)\n",
    "    d = size(x, 2)\n",
    "    if p == 1\n",
    "        return ones(n, 1)\n",
    "    elseif p == 1 + d\n",
    "        return hcat(ones(n), x)\n",
    "    else\n",
    "         throw(ArgumentError(\"Only support constant or linear convariate.\"))\n",
    "    end\n",
    "end"
   ]
  },
  {
   "cell_type": "code",
   "execution_count": 80,
   "metadata": {},
   "outputs": [
    {
     "data": {
      "text/plain": [
       "test_fun1 (generic function with 1 method)"
      ]
     },
     "execution_count": 80,
     "metadata": {},
     "output_type": "execute_result"
    }
   ],
   "source": [
    "# Data and setup for different tests\n",
    "\n",
    "# choice of covariate functions\n",
    "p = 1\n",
    "p = 3\n",
    "\n",
    "# training\n",
    "x1 = 4 .* rand(nx, 2) .- 2 \n",
    "x2 = [-0.28340   0.62098;\n",
    "     -1.59902   1.86275;\n",
    "      0.49347  -1.46311;\n",
    "      1.50624  -1.42874; \n",
    "      1.57966  -1.4987;  \n",
    "     -1.35577   0.33419;\n",
    "      1.57967   0.4927;  \n",
    "      1.30226   1.30865; \n",
    "      1.84554  -1.71706; \n",
    "      1.45705   0.264961]\n",
    "x3 = [-0.801151   -0.543169;   \n",
    "      -0.94552     1.09677;    \n",
    "       0.947512   -0.827147;   \n",
    "      -1.42516     0.916257;   \n",
    "      -1.35157     0.449443;   \n",
    "       0.266677    1.31536;    \n",
    "      -0.555493    0.841922;   \n",
    "      -0.0235545   0.000649033;\n",
    "      -0.339027    0.843967;   \n",
    "      -1.7816      1.52251; ]\n",
    "\n",
    "# testing\n",
    "x01 = 4 .*rand(1, 2) .- 2\n",
    "x02 = [-1.0097 0.3929]\n",
    "x03 = [-0.936599  -1.94613]\n",
    "\n",
    "# underlying 2d function \n",
    "test_fun1(x, y) = x^2 * exp(- x^2 - y^2) \n"
   ]
  },
  {
   "cell_type": "markdown",
   "metadata": {},
   "source": [
    "# Summary\n",
    "Settings parameters: \\\n",
    "p: choices of covariates, p = 1 if constant and p = 2 if linear \\\n",
    "x: training data \\\n",
    "x0: testing data\n",
    "\n",
    "Tests:\n",
    "1. p=3 or p=1, x=x2, x0=x02 \\\n",
    "   pdf blows up near 0, numerical issue (g'(y0) blows up when y0~=0?)\n",
    "2. p=1, x=x3, x0=x03 \\\n",
    "    pdf weird shape (no peak, uniformish)\n",
    "3. p=3, x=x3, x0=x03 \\\n",
    "    pdf blows up near 0, and pdf support ~= $[0,5]$"
   ]
  },
  {
   "cell_type": "code",
   "execution_count": 85,
   "metadata": {
    "scrolled": true
   },
   "outputs": [
    {
     "name": "stdout",
     "output_type": "stream",
     "text": [
      "Prediction at x0 = [-0.936599 -1.94613]\n",
      "Covariates at x0: [1.0]\n",
      "Should expect peak near 0.03286481634183594\n"
     ]
    },
    {
     "data": {
      "text/plain": [
       "trainingData([-0.801151 -0.543169; -0.94552 1.09677; … ; -0.339027 0.843967; -1.7816 1.52251], [1.0; 1.0; … ; 1.0; 1.0], [1.0, 0.43663144201603993, 0.7338171864726465, 0.4576033210508781, 0.9551187910061221, 0.04668018187390902, 0.44356252266100166, 0.0022047418193966426, 0.19983095330496892, 0.05198373342080949], 2, 1, 10)"
      ]
     },
     "execution_count": 85,
     "metadata": {},
     "output_type": "execute_result"
    }
   ],
   "source": [
    "# parameter setting: change for different tests\n",
    "\n",
    "p = 1 # choose covariate basis function, only support 1 or 1+dim(x)\n",
    "x = x3 # choose training data \n",
    "x0 = x03 # choose testing data\n",
    "test_fun = test_fun1 # choose underlying function\n",
    "\n",
    "#####################################\n",
    "\n",
    "# setup values and covariates (no changes needed)\n",
    "Fx = covariate_fun(x, p)\n",
    "y = [test_fun(_x[1], _x[2]) for _x in zip(x[:,1], x[:,2])]\n",
    "ymax = maximum(y)\n",
    "y /= ymax\n",
    "trainingData1 = trainingData(x, Fx, y) \n",
    "\n",
    "Fx0 = covariate_fun(x0, p)\n",
    "y0_true = test_fun(x0[1], x0[2])/ymax\n",
    "println(\"Prediction at x0 = $x0\")\n",
    "println(\"Covariates at x0: $Fx0\")\n",
    "println(\"Should expect peak near $y0_true\")\n"
   ]
  },
  {
   "cell_type": "code",
   "execution_count": 86,
   "metadata": {
    "scrolled": true
   },
   "outputs": [
    {
     "data": {
      "text/plain": [
       "1×2 Array{Float64,2}:\n",
       " 0.5  5.0"
      ]
     },
     "execution_count": 86,
     "metadata": {},
     "output_type": "execute_result"
    }
   ],
   "source": [
    "d = getDimension(trainingData1)\n",
    "n = getNumPts(trainingData1)\n",
    "p = getCovDimension(trainingData1)\n",
    "rangeθ = [0.25 150]\n",
    "rangeλ = [0.5 5]"
   ]
  },
  {
   "cell_type": "code",
   "execution_count": 87,
   "metadata": {
    "scrolled": true
   },
   "outputs": [
    {
     "name": "stdout",
     "output_type": "stream",
     "text": [
      "Iterating over nodeset to build train_buffer_dict...\n",
      "Iteration: 1\n",
      "Iteration: 2\n",
      "Iteration: 3\n",
      "Iteration: 4\n",
      "Iteration: 5\n",
      "Iteration: 6\n",
      "Iteration: 7\n",
      "Iteration: 8\n",
      "Iteration: 9\n",
      "Iteration: 10\n",
      "Iteration: 11\n",
      "Iteration: 12\n"
     ]
    },
    {
     "data": {
      "text/plain": [
       "#185 (generic function with 1 method)"
      ]
     },
     "execution_count": 87,
     "metadata": {},
     "output_type": "execute_result"
    }
   ],
   "source": [
    "btg1 = btg(trainingData1, rangeθ, rangeλ);\n",
    "(dpdf, pdf, cdf) = solve(btg1);\n",
    "dpdf_fixed = y0 -> dpdf(x0, Fx0, y0) \n",
    "pdf_fixed = y0 -> pdf(x0, Fx0, y0)\n",
    "cdf_fixed = y0 -> cdf(x0, Fx0, y0)"
   ]
  },
  {
   "cell_type": "code",
   "execution_count": 88,
   "metadata": {
    "scrolled": false
   },
   "outputs": [
    {
     "data": {
      "image/svg+xml": [
       "<?xml version=\"1.0\" encoding=\"utf-8\"?>\n",
       "<svg xmlns=\"http://www.w3.org/2000/svg\" xmlns:xlink=\"http://www.w3.org/1999/xlink\" width=\"600\" height=\"400\" viewBox=\"0 0 2400 1600\">\n",
       "<defs>\n",
       "  <clipPath id=\"clip7900\">\n",
       "    <rect x=\"0\" y=\"0\" width=\"2400\" height=\"1600\"/>\n",
       "  </clipPath>\n",
       "</defs>\n",
       "<path clip-path=\"url(#clip7900)\" d=\"\n",
       "M0 1600 L2400 1600 L2400 0 L0 0  Z\n",
       "  \" fill=\"#ffffff\" fill-rule=\"evenodd\" fill-opacity=\"1\"/>\n",
       "<defs>\n",
       "  <clipPath id=\"clip7901\">\n",
       "    <rect x=\"480\" y=\"0\" width=\"1681\" height=\"1600\"/>\n",
       "  </clipPath>\n",
       "</defs>\n",
       "<path clip-path=\"url(#clip7900)\" d=\"\n",
       "M140.517 1487.47 L2352.76 1487.47 L2352.76 47.2441 L140.517 47.2441  Z\n",
       "  \" fill=\"#ffffff\" fill-rule=\"evenodd\" fill-opacity=\"1\"/>\n",
       "<defs>\n",
       "  <clipPath id=\"clip7902\">\n",
       "    <rect x=\"140\" y=\"47\" width=\"2213\" height=\"1441\"/>\n",
       "  </clipPath>\n",
       "</defs>\n",
       "<polyline clip-path=\"url(#clip7902)\" style=\"stroke:#000000; stroke-width:2; stroke-opacity:0.1; fill:none\" points=\"\n",
       "  203.123,1487.47 203.123,47.2441 \n",
       "  \"/>\n",
       "<polyline clip-path=\"url(#clip7902)\" style=\"stroke:#000000; stroke-width:2; stroke-opacity:0.1; fill:none\" points=\"\n",
       "  620.528,1487.47 620.528,47.2441 \n",
       "  \"/>\n",
       "<polyline clip-path=\"url(#clip7902)\" style=\"stroke:#000000; stroke-width:2; stroke-opacity:0.1; fill:none\" points=\"\n",
       "  1037.93,1487.47 1037.93,47.2441 \n",
       "  \"/>\n",
       "<polyline clip-path=\"url(#clip7902)\" style=\"stroke:#000000; stroke-width:2; stroke-opacity:0.1; fill:none\" points=\"\n",
       "  1455.34,1487.47 1455.34,47.2441 \n",
       "  \"/>\n",
       "<polyline clip-path=\"url(#clip7902)\" style=\"stroke:#000000; stroke-width:2; stroke-opacity:0.1; fill:none\" points=\"\n",
       "  1872.74,1487.47 1872.74,47.2441 \n",
       "  \"/>\n",
       "<polyline clip-path=\"url(#clip7902)\" style=\"stroke:#000000; stroke-width:2; stroke-opacity:0.1; fill:none\" points=\"\n",
       "  2290.15,1487.47 2290.15,47.2441 \n",
       "  \"/>\n",
       "<polyline clip-path=\"url(#clip7902)\" style=\"stroke:#000000; stroke-width:2; stroke-opacity:0.1; fill:none\" points=\"\n",
       "  140.517,1446.75 2352.76,1446.75 \n",
       "  \"/>\n",
       "<polyline clip-path=\"url(#clip7902)\" style=\"stroke:#000000; stroke-width:2; stroke-opacity:0.1; fill:none\" points=\"\n",
       "  140.517,1030.82 2352.76,1030.82 \n",
       "  \"/>\n",
       "<polyline clip-path=\"url(#clip7902)\" style=\"stroke:#000000; stroke-width:2; stroke-opacity:0.1; fill:none\" points=\"\n",
       "  140.517,614.879 2352.76,614.879 \n",
       "  \"/>\n",
       "<polyline clip-path=\"url(#clip7902)\" style=\"stroke:#000000; stroke-width:2; stroke-opacity:0.1; fill:none\" points=\"\n",
       "  140.517,198.942 2352.76,198.942 \n",
       "  \"/>\n",
       "<polyline clip-path=\"url(#clip7900)\" style=\"stroke:#000000; stroke-width:4; stroke-opacity:1; fill:none\" points=\"\n",
       "  140.517,1487.47 2352.76,1487.47 \n",
       "  \"/>\n",
       "<polyline clip-path=\"url(#clip7900)\" style=\"stroke:#000000; stroke-width:4; stroke-opacity:1; fill:none\" points=\"\n",
       "  140.517,1487.47 140.517,47.2441 \n",
       "  \"/>\n",
       "<polyline clip-path=\"url(#clip7900)\" style=\"stroke:#000000; stroke-width:4; stroke-opacity:1; fill:none\" points=\"\n",
       "  203.123,1487.47 203.123,1470.19 \n",
       "  \"/>\n",
       "<polyline clip-path=\"url(#clip7900)\" style=\"stroke:#000000; stroke-width:4; stroke-opacity:1; fill:none\" points=\"\n",
       "  620.528,1487.47 620.528,1470.19 \n",
       "  \"/>\n",
       "<polyline clip-path=\"url(#clip7900)\" style=\"stroke:#000000; stroke-width:4; stroke-opacity:1; fill:none\" points=\"\n",
       "  1037.93,1487.47 1037.93,1470.19 \n",
       "  \"/>\n",
       "<polyline clip-path=\"url(#clip7900)\" style=\"stroke:#000000; stroke-width:4; stroke-opacity:1; fill:none\" points=\"\n",
       "  1455.34,1487.47 1455.34,1470.19 \n",
       "  \"/>\n",
       "<polyline clip-path=\"url(#clip7900)\" style=\"stroke:#000000; stroke-width:4; stroke-opacity:1; fill:none\" points=\"\n",
       "  1872.74,1487.47 1872.74,1470.19 \n",
       "  \"/>\n",
       "<polyline clip-path=\"url(#clip7900)\" style=\"stroke:#000000; stroke-width:4; stroke-opacity:1; fill:none\" points=\"\n",
       "  2290.15,1487.47 2290.15,1470.19 \n",
       "  \"/>\n",
       "<polyline clip-path=\"url(#clip7900)\" style=\"stroke:#000000; stroke-width:4; stroke-opacity:1; fill:none\" points=\"\n",
       "  140.517,1446.75 167.064,1446.75 \n",
       "  \"/>\n",
       "<polyline clip-path=\"url(#clip7900)\" style=\"stroke:#000000; stroke-width:4; stroke-opacity:1; fill:none\" points=\"\n",
       "  140.517,1030.82 167.064,1030.82 \n",
       "  \"/>\n",
       "<polyline clip-path=\"url(#clip7900)\" style=\"stroke:#000000; stroke-width:4; stroke-opacity:1; fill:none\" points=\"\n",
       "  140.517,614.879 167.064,614.879 \n",
       "  \"/>\n",
       "<polyline clip-path=\"url(#clip7900)\" style=\"stroke:#000000; stroke-width:4; stroke-opacity:1; fill:none\" points=\"\n",
       "  140.517,198.942 167.064,198.942 \n",
       "  \"/>\n",
       "<g clip-path=\"url(#clip7900)\">\n",
       "<text style=\"fill:#000000; fill-opacity:1; font-family:Arial,Helvetica Neue,Helvetica,sans-serif; font-size:48px; text-anchor:middle;\" transform=\"rotate(0, 203.123, 1541.47)\" x=\"203.123\" y=\"1541.47\">0</text>\n",
       "</g>\n",
       "<g clip-path=\"url(#clip7900)\">\n",
       "<text style=\"fill:#000000; fill-opacity:1; font-family:Arial,Helvetica Neue,Helvetica,sans-serif; font-size:48px; text-anchor:middle;\" transform=\"rotate(0, 620.528, 1541.47)\" x=\"620.528\" y=\"1541.47\">1</text>\n",
       "</g>\n",
       "<g clip-path=\"url(#clip7900)\">\n",
       "<text style=\"fill:#000000; fill-opacity:1; font-family:Arial,Helvetica Neue,Helvetica,sans-serif; font-size:48px; text-anchor:middle;\" transform=\"rotate(0, 1037.93, 1541.47)\" x=\"1037.93\" y=\"1541.47\">2</text>\n",
       "</g>\n",
       "<g clip-path=\"url(#clip7900)\">\n",
       "<text style=\"fill:#000000; fill-opacity:1; font-family:Arial,Helvetica Neue,Helvetica,sans-serif; font-size:48px; text-anchor:middle;\" transform=\"rotate(0, 1455.34, 1541.47)\" x=\"1455.34\" y=\"1541.47\">3</text>\n",
       "</g>\n",
       "<g clip-path=\"url(#clip7900)\">\n",
       "<text style=\"fill:#000000; fill-opacity:1; font-family:Arial,Helvetica Neue,Helvetica,sans-serif; font-size:48px; text-anchor:middle;\" transform=\"rotate(0, 1872.74, 1541.47)\" x=\"1872.74\" y=\"1541.47\">4</text>\n",
       "</g>\n",
       "<g clip-path=\"url(#clip7900)\">\n",
       "<text style=\"fill:#000000; fill-opacity:1; font-family:Arial,Helvetica Neue,Helvetica,sans-serif; font-size:48px; text-anchor:middle;\" transform=\"rotate(0, 2290.15, 1541.47)\" x=\"2290.15\" y=\"1541.47\">5</text>\n",
       "</g>\n",
       "<g clip-path=\"url(#clip7900)\">\n",
       "<text style=\"fill:#000000; fill-opacity:1; font-family:Arial,Helvetica Neue,Helvetica,sans-serif; font-size:48px; text-anchor:end;\" transform=\"rotate(0, 116.517, 1464.25)\" x=\"116.517\" y=\"1464.25\">0</text>\n",
       "</g>\n",
       "<g clip-path=\"url(#clip7900)\">\n",
       "<text style=\"fill:#000000; fill-opacity:1; font-family:Arial,Helvetica Neue,Helvetica,sans-serif; font-size:48px; text-anchor:end;\" transform=\"rotate(0, 116.517, 1048.32)\" x=\"116.517\" y=\"1048.32\">5</text>\n",
       "</g>\n",
       "<g clip-path=\"url(#clip7900)\">\n",
       "<text style=\"fill:#000000; fill-opacity:1; font-family:Arial,Helvetica Neue,Helvetica,sans-serif; font-size:48px; text-anchor:end;\" transform=\"rotate(0, 116.517, 632.379)\" x=\"116.517\" y=\"632.379\">10</text>\n",
       "</g>\n",
       "<g clip-path=\"url(#clip7900)\">\n",
       "<text style=\"fill:#000000; fill-opacity:1; font-family:Arial,Helvetica Neue,Helvetica,sans-serif; font-size:48px; text-anchor:end;\" transform=\"rotate(0, 116.517, 216.442)\" x=\"116.517\" y=\"216.442\">15</text>\n",
       "</g>\n",
       "<polyline clip-path=\"url(#clip7902)\" style=\"stroke:#009af9; stroke-width:4; stroke-opacity:1; fill:none\" points=\"\n",
       "  203.127,88.0053 224.208,1363.57 245.289,1367.24 266.37,1367.83 287.451,1368.19 308.532,1368.96 329.613,1370.35 350.694,1372.38 371.775,1375.01 392.856,1378.17 \n",
       "  413.937,1381.77 435.018,1385.7 456.099,1389.84 477.18,1394.11 498.261,1398.39 519.342,1402.61 540.423,1406.7 561.504,1410.58 582.585,1414.24 603.666,1417.62 \n",
       "  624.747,1420.73 645.828,1423.56 666.909,1426.11 687.99,1428.4 709.071,1430.45 730.152,1432.27 751.233,1433.88 772.314,1435.31 793.395,1436.57 814.476,1437.69 \n",
       "  835.557,1438.67 856.638,1439.54 877.719,1440.3 898.8,1440.98 919.881,1441.58 940.962,1442.11 962.043,1442.58 983.124,1443 1004.2,1443.37 1025.29,1443.7 \n",
       "  1046.37,1443.99 1067.45,1444.25 1088.53,1444.49 1109.61,1444.7 1130.69,1444.88 1151.77,1445.05 1172.85,1445.2 1193.93,1445.34 1215.01,1445.46 1236.1,1445.57 \n",
       "  1257.18,1445.67 1278.26,1445.76 1299.34,1445.84 1320.42,1445.91 1341.5,1445.98 1362.58,1446.04 1383.66,1446.1 1404.74,1446.15 1425.82,1446.19 1446.91,1446.24 \n",
       "  1467.99,1446.27 1489.07,1446.31 1510.15,1446.34 1531.23,1446.37 1552.31,1446.4 1573.39,1446.42 1594.47,1446.45 1615.55,1446.47 1636.63,1446.49 1657.72,1446.51 \n",
       "  1678.8,1446.52 1699.88,1446.54 1720.96,1446.55 1742.04,1446.56 1763.12,1446.58 1784.2,1446.59 1805.28,1446.6 1826.36,1446.61 1847.44,1446.62 1868.53,1446.63 \n",
       "  1889.61,1446.63 1910.69,1446.64 1931.77,1446.65 1952.85,1446.65 1973.93,1446.66 1995.01,1446.67 2016.09,1446.67 2037.17,1446.67 2058.25,1446.68 2079.34,1446.68 \n",
       "  2100.42,1446.69 2121.5,1446.69 2142.58,1446.69 2163.66,1446.7 2184.74,1446.7 2205.82,1446.7 2226.9,1446.71 2247.98,1446.71 2269.06,1446.71 2290.15,1446.71 \n",
       "  \n",
       "  \"/>\n",
       "<path clip-path=\"url(#clip7900)\" d=\"\n",
       "M2016.69 251.724 L2280.76 251.724 L2280.76 130.764 L2016.69 130.764  Z\n",
       "  \" fill=\"#ffffff\" fill-rule=\"evenodd\" fill-opacity=\"1\"/>\n",
       "<polyline clip-path=\"url(#clip7900)\" style=\"stroke:#000000; stroke-width:4; stroke-opacity:1; fill:none\" points=\"\n",
       "  2016.69,251.724 2280.76,251.724 2280.76,130.764 2016.69,130.764 2016.69,251.724 \n",
       "  \"/>\n",
       "<polyline clip-path=\"url(#clip7900)\" style=\"stroke:#009af9; stroke-width:4; stroke-opacity:1; fill:none\" points=\"\n",
       "  2040.69,191.244 2184.69,191.244 \n",
       "  \"/>\n",
       "<g clip-path=\"url(#clip7900)\">\n",
       "<text style=\"fill:#000000; fill-opacity:1; font-family:Arial,Helvetica Neue,Helvetica,sans-serif; font-size:48px; text-anchor:start;\" transform=\"rotate(0, 2208.69, 208.744)\" x=\"2208.69\" y=\"208.744\">y</text>\n",
       "</g>\n",
       "</svg>\n"
      ]
     },
     "metadata": {},
     "output_type": "display_data"
    },
    {
     "data": {
      "image/svg+xml": [
       "<?xml version=\"1.0\" encoding=\"utf-8\"?>\n",
       "<svg xmlns=\"http://www.w3.org/2000/svg\" xmlns:xlink=\"http://www.w3.org/1999/xlink\" width=\"600\" height=\"400\" viewBox=\"0 0 2400 1600\">\n",
       "<defs>\n",
       "  <clipPath id=\"clip8300\">\n",
       "    <rect x=\"0\" y=\"0\" width=\"2400\" height=\"1600\"/>\n",
       "  </clipPath>\n",
       "</defs>\n",
       "<path clip-path=\"url(#clip8300)\" d=\"\n",
       "M0 1600 L2400 1600 L2400 0 L0 0  Z\n",
       "  \" fill=\"#ffffff\" fill-rule=\"evenodd\" fill-opacity=\"1\"/>\n",
       "<defs>\n",
       "  <clipPath id=\"clip8301\">\n",
       "    <rect x=\"480\" y=\"0\" width=\"1681\" height=\"1600\"/>\n",
       "  </clipPath>\n",
       "</defs>\n",
       "<path clip-path=\"url(#clip8300)\" d=\"\n",
       "M140.517 1487.47 L2352.76 1487.47 L2352.76 121.675 L140.517 121.675  Z\n",
       "  \" fill=\"#ffffff\" fill-rule=\"evenodd\" fill-opacity=\"1\"/>\n",
       "<defs>\n",
       "  <clipPath id=\"clip8302\">\n",
       "    <rect x=\"140\" y=\"121\" width=\"2213\" height=\"1367\"/>\n",
       "  </clipPath>\n",
       "</defs>\n",
       "<polyline clip-path=\"url(#clip8302)\" style=\"stroke:#000000; stroke-width:2; stroke-opacity:0.1; fill:none\" points=\"\n",
       "  203.123,1487.47 203.123,121.675 \n",
       "  \"/>\n",
       "<polyline clip-path=\"url(#clip8302)\" style=\"stroke:#000000; stroke-width:2; stroke-opacity:0.1; fill:none\" points=\"\n",
       "  620.528,1487.47 620.528,121.675 \n",
       "  \"/>\n",
       "<polyline clip-path=\"url(#clip8302)\" style=\"stroke:#000000; stroke-width:2; stroke-opacity:0.1; fill:none\" points=\"\n",
       "  1037.93,1487.47 1037.93,121.675 \n",
       "  \"/>\n",
       "<polyline clip-path=\"url(#clip8302)\" style=\"stroke:#000000; stroke-width:2; stroke-opacity:0.1; fill:none\" points=\"\n",
       "  1455.34,1487.47 1455.34,121.675 \n",
       "  \"/>\n",
       "<polyline clip-path=\"url(#clip8302)\" style=\"stroke:#000000; stroke-width:2; stroke-opacity:0.1; fill:none\" points=\"\n",
       "  1872.74,1487.47 1872.74,121.675 \n",
       "  \"/>\n",
       "<polyline clip-path=\"url(#clip8302)\" style=\"stroke:#000000; stroke-width:2; stroke-opacity:0.1; fill:none\" points=\"\n",
       "  2290.15,1487.47 2290.15,121.675 \n",
       "  \"/>\n",
       "<polyline clip-path=\"url(#clip8302)\" style=\"stroke:#000000; stroke-width:2; stroke-opacity:0.1; fill:none\" points=\"\n",
       "  140.517,1448.86 2352.76,1448.86 \n",
       "  \"/>\n",
       "<polyline clip-path=\"url(#clip8302)\" style=\"stroke:#000000; stroke-width:2; stroke-opacity:0.1; fill:none\" points=\"\n",
       "  140.517,1054.42 2352.76,1054.42 \n",
       "  \"/>\n",
       "<polyline clip-path=\"url(#clip8302)\" style=\"stroke:#000000; stroke-width:2; stroke-opacity:0.1; fill:none\" points=\"\n",
       "  140.517,659.975 2352.76,659.975 \n",
       "  \"/>\n",
       "<polyline clip-path=\"url(#clip8302)\" style=\"stroke:#000000; stroke-width:2; stroke-opacity:0.1; fill:none\" points=\"\n",
       "  140.517,265.533 2352.76,265.533 \n",
       "  \"/>\n",
       "<polyline clip-path=\"url(#clip8300)\" style=\"stroke:#000000; stroke-width:4; stroke-opacity:1; fill:none\" points=\"\n",
       "  140.517,1487.47 2352.76,1487.47 \n",
       "  \"/>\n",
       "<polyline clip-path=\"url(#clip8300)\" style=\"stroke:#000000; stroke-width:4; stroke-opacity:1; fill:none\" points=\"\n",
       "  140.517,1487.47 140.517,121.675 \n",
       "  \"/>\n",
       "<polyline clip-path=\"url(#clip8300)\" style=\"stroke:#000000; stroke-width:4; stroke-opacity:1; fill:none\" points=\"\n",
       "  203.123,1487.47 203.123,1471.09 \n",
       "  \"/>\n",
       "<polyline clip-path=\"url(#clip8300)\" style=\"stroke:#000000; stroke-width:4; stroke-opacity:1; fill:none\" points=\"\n",
       "  620.528,1487.47 620.528,1471.09 \n",
       "  \"/>\n",
       "<polyline clip-path=\"url(#clip8300)\" style=\"stroke:#000000; stroke-width:4; stroke-opacity:1; fill:none\" points=\"\n",
       "  1037.93,1487.47 1037.93,1471.09 \n",
       "  \"/>\n",
       "<polyline clip-path=\"url(#clip8300)\" style=\"stroke:#000000; stroke-width:4; stroke-opacity:1; fill:none\" points=\"\n",
       "  1455.34,1487.47 1455.34,1471.09 \n",
       "  \"/>\n",
       "<polyline clip-path=\"url(#clip8300)\" style=\"stroke:#000000; stroke-width:4; stroke-opacity:1; fill:none\" points=\"\n",
       "  1872.74,1487.47 1872.74,1471.09 \n",
       "  \"/>\n",
       "<polyline clip-path=\"url(#clip8300)\" style=\"stroke:#000000; stroke-width:4; stroke-opacity:1; fill:none\" points=\"\n",
       "  2290.15,1487.47 2290.15,1471.09 \n",
       "  \"/>\n",
       "<polyline clip-path=\"url(#clip8300)\" style=\"stroke:#000000; stroke-width:4; stroke-opacity:1; fill:none\" points=\"\n",
       "  140.517,1448.86 167.064,1448.86 \n",
       "  \"/>\n",
       "<polyline clip-path=\"url(#clip8300)\" style=\"stroke:#000000; stroke-width:4; stroke-opacity:1; fill:none\" points=\"\n",
       "  140.517,1054.42 167.064,1054.42 \n",
       "  \"/>\n",
       "<polyline clip-path=\"url(#clip8300)\" style=\"stroke:#000000; stroke-width:4; stroke-opacity:1; fill:none\" points=\"\n",
       "  140.517,659.975 167.064,659.975 \n",
       "  \"/>\n",
       "<polyline clip-path=\"url(#clip8300)\" style=\"stroke:#000000; stroke-width:4; stroke-opacity:1; fill:none\" points=\"\n",
       "  140.517,265.533 167.064,265.533 \n",
       "  \"/>\n",
       "<g clip-path=\"url(#clip8300)\">\n",
       "<text style=\"fill:#000000; fill-opacity:1; font-family:Arial,Helvetica Neue,Helvetica,sans-serif; font-size:48px; text-anchor:middle;\" transform=\"rotate(0, 203.123, 1541.47)\" x=\"203.123\" y=\"1541.47\">0</text>\n",
       "</g>\n",
       "<g clip-path=\"url(#clip8300)\">\n",
       "<text style=\"fill:#000000; fill-opacity:1; font-family:Arial,Helvetica Neue,Helvetica,sans-serif; font-size:48px; text-anchor:middle;\" transform=\"rotate(0, 620.528, 1541.47)\" x=\"620.528\" y=\"1541.47\">1</text>\n",
       "</g>\n",
       "<g clip-path=\"url(#clip8300)\">\n",
       "<text style=\"fill:#000000; fill-opacity:1; font-family:Arial,Helvetica Neue,Helvetica,sans-serif; font-size:48px; text-anchor:middle;\" transform=\"rotate(0, 1037.93, 1541.47)\" x=\"1037.93\" y=\"1541.47\">2</text>\n",
       "</g>\n",
       "<g clip-path=\"url(#clip8300)\">\n",
       "<text style=\"fill:#000000; fill-opacity:1; font-family:Arial,Helvetica Neue,Helvetica,sans-serif; font-size:48px; text-anchor:middle;\" transform=\"rotate(0, 1455.34, 1541.47)\" x=\"1455.34\" y=\"1541.47\">3</text>\n",
       "</g>\n",
       "<g clip-path=\"url(#clip8300)\">\n",
       "<text style=\"fill:#000000; fill-opacity:1; font-family:Arial,Helvetica Neue,Helvetica,sans-serif; font-size:48px; text-anchor:middle;\" transform=\"rotate(0, 1872.74, 1541.47)\" x=\"1872.74\" y=\"1541.47\">4</text>\n",
       "</g>\n",
       "<g clip-path=\"url(#clip8300)\">\n",
       "<text style=\"fill:#000000; fill-opacity:1; font-family:Arial,Helvetica Neue,Helvetica,sans-serif; font-size:48px; text-anchor:middle;\" transform=\"rotate(0, 2290.15, 1541.47)\" x=\"2290.15\" y=\"1541.47\">5</text>\n",
       "</g>\n",
       "<g clip-path=\"url(#clip8300)\">\n",
       "<text style=\"fill:#000000; fill-opacity:1; font-family:Arial,Helvetica Neue,Helvetica,sans-serif; font-size:48px; text-anchor:end;\" transform=\"rotate(0, 116.517, 1466.36)\" x=\"116.517\" y=\"1466.36\">0</text>\n",
       "</g>\n",
       "<g clip-path=\"url(#clip8300)\">\n",
       "<text style=\"fill:#000000; fill-opacity:1; font-family:Arial,Helvetica Neue,Helvetica,sans-serif; font-size:48px; text-anchor:end;\" transform=\"rotate(0, 116.517, 1071.92)\" x=\"116.517\" y=\"1071.92\">5</text>\n",
       "</g>\n",
       "<g clip-path=\"url(#clip8300)\">\n",
       "<text style=\"fill:#000000; fill-opacity:1; font-family:Arial,Helvetica Neue,Helvetica,sans-serif; font-size:48px; text-anchor:end;\" transform=\"rotate(0, 116.517, 677.475)\" x=\"116.517\" y=\"677.475\">10</text>\n",
       "</g>\n",
       "<g clip-path=\"url(#clip8300)\">\n",
       "<text style=\"fill:#000000; fill-opacity:1; font-family:Arial,Helvetica Neue,Helvetica,sans-serif; font-size:48px; text-anchor:end;\" transform=\"rotate(0, 116.517, 283.033)\" x=\"116.517\" y=\"283.033\">15</text>\n",
       "</g>\n",
       "<g clip-path=\"url(#clip8300)\">\n",
       "<text style=\"fill:#000000; fill-opacity:1; font-family:Arial,Helvetica Neue,Helvetica,sans-serif; font-size:84px; text-anchor:middle;\" transform=\"rotate(0, 1246.64, 73.2)\" x=\"1246.64\" y=\"73.2\">PDF and CDF of Bayesian Predictive Distribution</text>\n",
       "</g>\n",
       "<polyline clip-path=\"url(#clip8302)\" style=\"stroke:#009af9; stroke-width:4; stroke-opacity:1; fill:none\" points=\"\n",
       "  203.127,160.33 224.208,1369.98 245.289,1373.46 266.37,1374.01 287.451,1374.35 308.532,1375.09 329.613,1376.4 350.694,1378.33 371.775,1380.83 392.856,1383.82 \n",
       "  413.937,1387.23 435.018,1390.96 456.099,1394.89 477.18,1398.93 498.261,1403 519.342,1407 540.423,1410.87 561.504,1414.56 582.585,1418.02 603.666,1421.23 \n",
       "  624.747,1424.18 645.828,1426.86 666.909,1429.28 687.99,1431.45 709.071,1433.39 730.152,1435.12 751.233,1436.65 772.314,1438 793.395,1439.2 814.476,1440.26 \n",
       "  835.557,1441.19 856.638,1442.02 877.719,1442.74 898.8,1443.39 919.881,1443.95 940.962,1444.46 962.043,1444.9 983.124,1445.3 1004.2,1445.65 1025.29,1445.96 \n",
       "  1046.37,1446.24 1067.45,1446.49 1088.53,1446.71 1109.61,1446.91 1130.69,1447.08 1151.77,1447.24 1172.85,1447.39 1193.93,1447.51 1215.01,1447.63 1236.1,1447.73 \n",
       "  1257.18,1447.83 1278.26,1447.91 1299.34,1447.99 1320.42,1448.06 1341.5,1448.13 1362.58,1448.18 1383.66,1448.24 1404.74,1448.28 1425.82,1448.33 1446.91,1448.37 \n",
       "  1467.99,1448.4 1489.07,1448.44 1510.15,1448.47 1531.23,1448.5 1552.31,1448.52 1573.39,1448.55 1594.47,1448.57 1615.55,1448.59 1636.63,1448.61 1657.72,1448.62 \n",
       "  1678.8,1448.64 1699.88,1448.65 1720.96,1448.67 1742.04,1448.68 1763.12,1448.69 1784.2,1448.7 1805.28,1448.71 1826.36,1448.72 1847.44,1448.73 1868.53,1448.74 \n",
       "  1889.61,1448.74 1910.69,1448.75 1931.77,1448.76 1952.85,1448.76 1973.93,1448.77 1995.01,1448.77 2016.09,1448.78 2037.17,1448.78 2058.25,1448.79 2079.34,1448.79 \n",
       "  2100.42,1448.8 2121.5,1448.8 2142.58,1448.8 2163.66,1448.81 2184.74,1448.81 2205.82,1448.81 2226.9,1448.81 2247.98,1448.82 2269.06,1448.82 2290.15,1448.82 \n",
       "  \n",
       "  \"/>\n",
       "<polyline clip-path=\"url(#clip8302)\" style=\"stroke:#e26f46; stroke-width:4; stroke-opacity:1; fill:none\" points=\"\n",
       "  203.127,1440.19 224.208,1435.16 245.289,1431.29 266.37,1427.5 287.451,1423.73 308.532,1419.98 329.613,1416.28 350.694,1412.67 371.775,1409.17 392.856,1405.81 \n",
       "  413.937,1402.61 435.018,1399.59 456.099,1396.76 477.18,1394.14 498.261,1391.72 519.342,1389.5 540.423,1387.49 561.504,1385.66 582.585,1384.02 603.666,1382.54 \n",
       "  624.747,1381.22 645.828,1380.05 666.909,1379 687.99,1378.07 709.071,1377.24 730.152,1376.5 751.233,1375.85 772.314,1375.26 793.395,1374.75 814.476,1374.29 \n",
       "  835.557,1373.88 856.638,1373.51 877.719,1373.18 898.8,1372.89 919.881,1372.63 940.962,1372.39 962.043,1372.18 983.124,1371.99 1004.2,1371.82 1025.29,1371.67 \n",
       "  1046.37,1371.53 1067.45,1371.4 1088.53,1371.29 1109.61,1371.19 1130.69,1371.09 1151.77,1371.01 1172.85,1370.93 1193.93,1370.86 1215.01,1370.79 1236.1,1370.73 \n",
       "  1257.18,1370.68 1278.26,1370.63 1299.34,1370.58 1320.42,1370.54 1341.5,1370.5 1362.58,1370.47 1383.66,1370.43 1404.74,1370.4 1425.82,1370.38 1446.91,1370.35 \n",
       "  1467.99,1370.33 1489.07,1370.3 1510.15,1370.28 1531.23,1370.26 1552.31,1370.25 1573.39,1370.23 1594.47,1370.21 1615.55,1370.2 1636.63,1370.19 1657.72,1370.17 \n",
       "  1678.8,1370.16 1699.88,1370.15 1720.96,1370.14 1742.04,1370.13 1763.12,1370.12 1784.2,1370.12 1805.28,1370.11 1826.36,1370.1 1847.44,1370.09 1868.53,1370.09 \n",
       "  1889.61,1370.08 1910.69,1370.08 1931.77,1370.07 1952.85,1370.07 1973.93,1370.06 1995.01,1370.06 2016.09,1370.05 2037.17,1370.05 2058.25,1370.04 2079.34,1370.04 \n",
       "  2100.42,1370.04 2121.5,1370.03 2142.58,1370.03 2163.66,1370.03 2184.74,1370.03 2205.82,1370.02 2226.9,1370.02 2247.98,1370.02 2269.06,1370.02 2290.15,1370.02 \n",
       "  \n",
       "  \"/>\n",
       "<path clip-path=\"url(#clip8300)\" d=\"\n",
       "M2016.69 386.635 L2280.76 386.635 L2280.76 205.195 L2016.69 205.195  Z\n",
       "  \" fill=\"#ffffff\" fill-rule=\"evenodd\" fill-opacity=\"1\"/>\n",
       "<polyline clip-path=\"url(#clip8300)\" style=\"stroke:#000000; stroke-width:4; stroke-opacity:1; fill:none\" points=\"\n",
       "  2016.69,386.635 2280.76,386.635 2280.76,205.195 2016.69,205.195 2016.69,386.635 \n",
       "  \"/>\n",
       "<polyline clip-path=\"url(#clip8300)\" style=\"stroke:#009af9; stroke-width:4; stroke-opacity:1; fill:none\" points=\"\n",
       "  2040.69,265.675 2184.69,265.675 \n",
       "  \"/>\n",
       "<g clip-path=\"url(#clip8300)\">\n",
       "<text style=\"fill:#000000; fill-opacity:1; font-family:Arial,Helvetica Neue,Helvetica,sans-serif; font-size:48px; text-anchor:start;\" transform=\"rotate(0, 2208.69, 283.175)\" x=\"2208.69\" y=\"283.175\">y</text>\n",
       "</g>\n",
       "<polyline clip-path=\"url(#clip8300)\" style=\"stroke:#e26f46; stroke-width:4; stroke-opacity:1; fill:none\" points=\"\n",
       "  2040.69,326.155 2184.69,326.155 \n",
       "  \"/>\n",
       "<g clip-path=\"url(#clip8300)\">\n",
       "<text style=\"fill:#000000; fill-opacity:1; font-family:Arial,Helvetica Neue,Helvetica,sans-serif; font-size:48px; text-anchor:start;\" transform=\"rotate(0, 2208.69, 343.655)\" x=\"2208.69\" y=\"343.655\">y</text>\n",
       "</g>\n",
       "</svg>\n"
      ]
     },
     "metadata": {},
     "output_type": "display_data"
    },
    {
     "data": {
      "text/plain": [
       "([1.0e-5, 0.0505149494949495, 0.10101989898989899, 0.1515248484848485, 0.202029797979798, 0.2525347474747475, 0.303039696969697, 0.3535446464646465, 0.404049595959596, 0.4545545454545455  …  4.545455454545454, 4.595960404040404, 4.646465353535353, 4.696970303030303, 4.747475252525253, 4.797980202020202, 4.848485151515152, 4.898990101010101, 4.949495050505051, 5.0], [0.10991313962275373, 0.17367783837191236, 0.22272463989295588, 0.27077483382150486, 0.3185952416471261, 0.3660876139482856, 0.41292717996973927, 0.45872905642671014, 0.5031127415584193, 0.5457331879190542  …  0.9991455209396893, 0.9991851463025629, 0.9992226150163435, 0.9992580616255713, 0.9992916112247001, 0.9993233801947374, 0.999353476876899, 0.9993820021891349, 0.9994090501907841, 0.9994347086001043])"
      ]
     },
     "execution_count": 88,
     "metadata": {},
     "output_type": "execute_result"
    }
   ],
   "source": [
    "plt(pdf_fixed, 1e-5, 5, 100)\n",
    "plt!(cdf_fixed, 1e-5, 5, 100, title = \"PDF and CDF of Bayesian Predictive Distribution\")"
   ]
  }
 ],
 "metadata": {
  "kernelspec": {
   "display_name": "Julia 1.3.1",
   "language": "julia",
   "name": "julia-1.3"
  },
  "language_info": {
   "file_extension": ".jl",
   "mimetype": "application/julia",
   "name": "julia",
   "version": "1.3.1"
  }
 },
 "nbformat": 4,
 "nbformat_minor": 2
}
