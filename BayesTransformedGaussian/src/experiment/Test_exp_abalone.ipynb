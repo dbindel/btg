{
 "cells": [
  {
   "cell_type": "code",
   "execution_count": 1,
   "metadata": {},
   "outputs": [
    {
     "data": {
      "text/plain": [
       "credible_interval (generic function with 3 methods)"
      ]
     },
     "execution_count": 1,
     "metadata": {},
     "output_type": "execute_result"
    }
   ],
   "source": [
    "using Dates\n",
    "using ArgParse\n",
    "using Printf\n",
    "using Random\n",
    "\n",
    "include(\"../btg.jl\")\n"
   ]
  },
  {
   "cell_type": "code",
   "execution_count": 2,
   "metadata": {},
   "outputs": [
    {
     "data": {
      "text/plain": [
       "3"
      ]
     },
     "execution_count": 2,
     "metadata": {},
     "output_type": "execute_result"
    }
   ],
   "source": [
    "# load abalone data\n",
    "df = DataFrame(CSV.File(\"../datasets/abalone.csv\"))\n",
    "data = convert(Matrix, df[:,2:8]) #length, diameter, height, whole weight, shucked weight, viscera weight, shell weight\n",
    "target = convert(Array, df[:, 9]) #age\n",
    "\n",
    "# shuffle data\n",
    "ind_shuffle = randperm(MersenneTwister(1234), size(data, 1)) \n",
    "data = data[ind_shuffle, :]\n",
    "target = target[ind_shuffle]\n",
    "# training set\n",
    "id_train = 1:200; posx = 1:7; posc = 1:3\n",
    "x = data[id_train, posx] \n",
    "Fx = data[id_train, posc] \n",
    "y = float(target[id_train])\n",
    "ymax_train = maximum(y)\n",
    "y ./= ymax_train\n",
    "trainingData0 = trainingData(x, Fx, y) #training data used for testing various functions\n",
    "d = getDimension(trainingData0); n = getNumPts(trainingData0); p = getCovDimension(trainingData0)\n"
   ]
  },
  {
   "cell_type": "code",
   "execution_count": 3,
   "metadata": {},
   "outputs": [],
   "source": [
    "#parameter setting\n",
    "rangeθ = [10.0 1000]\n",
    "rangeθm = repeat(rangeθ, d, 1)\n",
    "rangeλ = [-1. 1.] #we will always used 1 range scale for lambda\n",
    "myquadtype1 = [\"SparseGrid\", \"Gaussian\"]\n",
    "myquadtype2 = [\"QuasiMonteCarlo\", \"QuasiMonteCarlo\"]\n",
    "myquadtype = [\"SparseCarlo\", \"SparseCarlo\"]\n",
    "myquadtype4 = [\"Gaussian\", \"Gaussian\"]\n",
    "# fit btg model\n",
    "btg0 = btg(trainingData0, rangeθm, rangeλ; quadtype = myquadtype)\n",
    "(pdf0_raw, cdf0_raw, dpdf0_raw, quantInfo0_raw) = solve(btg0); #initialize training_buffer_dicts, solve once so can use fast techiques to extrapolate submatrix determinants, etc.\n"
   ]
  },
  {
   "cell_type": "markdown",
   "metadata": {},
   "source": [
    "# Test"
   ]
  },
  {
   "cell_type": "code",
   "execution_count": 4,
   "metadata": {
    "scrolled": true
   },
   "outputs": [
    {
     "data": {
      "text/plain": [
       "0.0"
      ]
     },
     "execution_count": 4,
     "metadata": {},
     "output_type": "execute_result"
    }
   ],
   "source": [
    "id_test = 1001:1030\n",
    "n_test = length(id_test)\n",
    "id_fail = []\n",
    "x_test = data[id_test, posx]\n",
    "Fx_test = data[id_test, posc]\n",
    "y_test_true = target[id_test]\n",
    "count_test = 0\n",
    "error_abs = 0.\n",
    "error_sq = 0.\n",
    "nlpd = 0."
   ]
  },
  {
   "cell_type": "code",
   "execution_count": 5,
   "metadata": {
    "scrolled": true
   },
   "outputs": [
    {
     "name": "stderr",
     "output_type": "stream",
     "text": [
      "┌ Info: i\n",
      "│   i = 1\n",
      "└ @ Main In[5]:4\n",
      "┌ Info: True, median \n",
      "│   (y_test_i_true, median_test_i) = (10, 4.797367768086591)\n",
      "└ @ Main In[5]:10\n",
      "┌ Info: CI\n",
      "│   CI_test_i = [3.492390678598973, 6.5828005340691]\n",
      "└ @ Main In[5]:14\n",
      "┌ Info: Count, id_fail\n",
      "│   (count_test, id_fail) = (0, Any[])\n",
      "└ @ Main In[5]:21\n",
      "┌ Info: i\n",
      "│   i = 2\n",
      "└ @ Main In[5]:4\n",
      "┌ Info: True, median \n",
      "│   (y_test_i_true, median_test_i) = (13, 7.964525432120251)\n",
      "└ @ Main In[5]:10\n",
      "┌ Info: CI\n",
      "│   CI_test_i = [3.2490348787688252, 19.50891144603267]\n",
      "└ @ Main In[5]:14\n",
      "┌ Info: Count, id_fail\n",
      "│   (count_test, id_fail) = (1, Any[])\n",
      "└ @ Main In[5]:21\n",
      "┌ Info: i\n",
      "│   i = 3\n",
      "└ @ Main In[5]:4\n",
      "┌ Info: True, median \n",
      "│   (y_test_i_true, median_test_i) = (7, 10.740513011500154)\n",
      "└ @ Main In[5]:10\n",
      "┌ Info: CI\n",
      "│   CI_test_i = [4.385873878166963, 26.27607396624067]\n",
      "└ @ Main In[5]:14\n",
      "┌ Info: Count, id_fail\n",
      "│   (count_test, id_fail) = (2, Any[])\n",
      "└ @ Main In[5]:21\n",
      "┌ Info: i\n",
      "│   i = 4\n",
      "└ @ Main In[5]:4\n",
      "┌ Info: True, median \n",
      "│   (y_test_i_true, median_test_i) = (10, 10.528981791217362)\n",
      "└ @ Main In[5]:10\n",
      "┌ Info: CI\n",
      "│   CI_test_i = [5.500367169831358, 20.141973244090668]\n",
      "└ @ Main In[5]:14\n",
      "┌ Info: Count, id_fail\n",
      "│   (count_test, id_fail) = (3, Any[])\n",
      "└ @ Main In[5]:21\n",
      "┌ Info: i\n",
      "│   i = 5\n",
      "└ @ Main In[5]:4\n",
      "┌ Info: True, median \n",
      "│   (y_test_i_true, median_test_i) = (9, 9.703740895583147)\n",
      "└ @ Main In[5]:10\n",
      "┌ Info: CI\n",
      "│   CI_test_i = [6.519943062956366, 14.460841948401157]\n",
      "└ @ Main In[5]:14\n",
      "┌ Info: Count, id_fail\n",
      "│   (count_test, id_fail) = (4, Any[])\n",
      "└ @ Main In[5]:21\n",
      "┌ Info: i\n",
      "│   i = 6\n",
      "└ @ Main In[5]:4\n",
      "┌ Info: True, median \n",
      "│   (y_test_i_true, median_test_i) = (16, 10.096873103367962)\n",
      "└ @ Main In[5]:10\n",
      "┌ Info: CI\n",
      "│   CI_test_i = [4.334409337282708, 23.459741097447353]\n",
      "└ @ Main In[5]:14\n",
      "┌ Info: Count, id_fail\n",
      "│   (count_test, id_fail) = (5, Any[])\n",
      "└ @ Main In[5]:21\n",
      "┌ Info: i\n",
      "│   i = 7\n",
      "└ @ Main In[5]:4\n",
      "┌ Info: True, median \n",
      "│   (y_test_i_true, median_test_i) = (11, 12.679015398122358)\n",
      "└ @ Main In[5]:10\n",
      "┌ Info: CI\n",
      "│   CI_test_i = [5.321139806197381, 30.179960719337416]\n",
      "└ @ Main In[5]:14\n",
      "┌ Info: Count, id_fail\n",
      "│   (count_test, id_fail) = (6, Any[])\n",
      "└ @ Main In[5]:21\n",
      "┌ Info: i\n",
      "│   i = 8\n",
      "└ @ Main In[5]:4\n",
      "┌ Info: True, median \n",
      "│   (y_test_i_true, median_test_i) = (9, 7.502647826619213)\n",
      "└ @ Main In[5]:10\n",
      "┌ Info: CI\n",
      "│   CI_test_i = [5.5165432167488, 10.23405823913237]\n",
      "└ @ Main In[5]:14\n",
      "┌ Info: Count, id_fail\n",
      "│   (count_test, id_fail) = (7, Any[])\n",
      "└ @ Main In[5]:21\n",
      "┌ Info: i\n",
      "│   i = 9\n",
      "└ @ Main In[5]:4\n",
      "┌ Info: True, median \n",
      "│   (y_test_i_true, median_test_i) = (13, 8.202531913020362)\n",
      "└ @ Main In[5]:10\n",
      "┌ Info: CI\n",
      "│   CI_test_i = [3.35308839680682, 20.050647489162163]\n",
      "└ @ Main In[5]:14\n",
      "┌ Info: Count, id_fail\n",
      "│   (count_test, id_fail) = (8, Any[])\n",
      "└ @ Main In[5]:21\n",
      "┌ Info: i\n",
      "│   i = 10\n",
      "└ @ Main In[5]:4\n",
      "┌ Info: True, median \n",
      "│   (y_test_i_true, median_test_i) = (17, 9.568920614620383)\n",
      "└ @ Main In[5]:10\n",
      "┌ Info: CI\n",
      "│   CI_test_i = [3.9705150374913827, 23.045058207158885]\n",
      "└ @ Main In[5]:14\n",
      "┌ Info: Count, id_fail\n",
      "│   (count_test, id_fail) = (9, Any[])\n",
      "└ @ Main In[5]:21\n",
      "┌ Info: i\n",
      "│   i = 11\n",
      "└ @ Main In[5]:4\n",
      "┌ Info: True, median \n",
      "│   (y_test_i_true, median_test_i) = (6, 6.714931705866732)\n",
      "└ @ Main In[5]:10\n",
      "┌ Info: CI\n",
      "│   CI_test_i = [5.5399599859058, 8.135496167777733]\n",
      "└ @ Main In[5]:14\n",
      "┌ Info: Count, id_fail\n",
      "│   (count_test, id_fail) = (10, Any[])\n",
      "└ @ Main In[5]:21\n",
      "┌ Info: i\n",
      "│   i = 12\n",
      "└ @ Main In[5]:4\n",
      "┌ Info: True, median \n",
      "│   (y_test_i_true, median_test_i) = (9, 9.383586109216148)\n",
      "└ @ Main In[5]:10\n",
      "┌ Info: CI\n",
      "│   CI_test_i = [4.8946504414401, 17.989893760436455]\n",
      "└ @ Main In[5]:14\n",
      "┌ Info: Count, id_fail\n",
      "│   (count_test, id_fail) = (11, Any[])\n",
      "└ @ Main In[5]:21\n",
      "┌ Info: i\n",
      "│   i = 13\n",
      "└ @ Main In[5]:4\n",
      "┌ Info: True, median \n",
      "│   (y_test_i_true, median_test_i) = (6, 11.501909486062017)\n",
      "└ @ Main In[5]:10\n",
      "┌ Info: CI\n",
      "│   CI_test_i = [4.820860120082329, 27.47030035929256]\n",
      "└ @ Main In[5]:14\n",
      "┌ Info: Count, id_fail\n",
      "│   (count_test, id_fail) = (12, Any[])\n",
      "└ @ Main In[5]:21\n",
      "┌ Info: i\n",
      "│   i = 14\n",
      "└ @ Main In[5]:4\n",
      "┌ Info: True, median \n",
      "│   (y_test_i_true, median_test_i) = (6, 6.943623266689586)\n",
      "└ @ Main In[5]:10\n",
      "┌ Info: CI\n",
      "│   CI_test_i = [5.855293358712274, 8.249246158300776]\n",
      "└ @ Main In[5]:14\n",
      "┌ Info: Count, id_fail\n",
      "│   (count_test, id_fail) = (13, Any[])\n",
      "└ @ Main In[5]:21\n",
      "┌ Info: i\n",
      "│   i = 15\n",
      "└ @ Main In[5]:4\n",
      "┌ Info: True, median \n",
      "│   (y_test_i_true, median_test_i) = (20, 10.356600046046218)\n",
      "└ @ Main In[5]:10\n",
      "┌ Info: CI\n",
      "│   CI_test_i = [4.332177603462593, 24.791676682347084]\n",
      "└ @ Main In[5]:14\n",
      "┌ Info: Count, id_fail\n",
      "│   (count_test, id_fail) = (14, Any[])\n",
      "└ @ Main In[5]:21\n",
      "┌ Info: i\n",
      "│   i = 16\n",
      "└ @ Main In[5]:4\n",
      "┌ Info: True, median \n",
      "│   (y_test_i_true, median_test_i) = (9, 10.87665390971157)\n",
      "└ @ Main In[5]:10\n",
      "┌ Info: CI\n",
      "│   CI_test_i = [4.410517824615583, 26.81827652297749]\n",
      "└ @ Main In[5]:14\n",
      "┌ Info: Count, id_fail\n",
      "│   (count_test, id_fail) = (15, Any[])\n",
      "└ @ Main In[5]:21\n",
      "┌ Info: i\n",
      "│   i = 17\n",
      "└ @ Main In[5]:4\n",
      "┌ Info: True, median \n",
      "│   (y_test_i_true, median_test_i) = (8, 11.500577802312948)\n",
      "└ @ Main In[5]:10\n",
      "┌ Info: CI\n",
      "│   CI_test_i = [5.662610033304995, 23.340271869742732]\n",
      "└ @ Main In[5]:14\n",
      "┌ Info: Count, id_fail\n",
      "│   (count_test, id_fail) = (16, Any[])\n",
      "└ @ Main In[5]:21\n",
      "┌ Info: i\n",
      "│   i = 18\n",
      "└ @ Main In[5]:4\n",
      "┌ Info: True, median \n",
      "│   (y_test_i_true, median_test_i) = (7, 7.480529990040332)\n",
      "└ @ Main In[5]:10\n",
      "┌ Info: CI\n",
      "│   CI_test_i = [5.446253275808987, 10.138590023388655]\n",
      "└ @ Main In[5]:14\n",
      "┌ Info: Count, id_fail\n",
      "│   (count_test, id_fail) = (17, Any[])\n",
      "└ @ Main In[5]:21\n",
      "┌ Info: i\n",
      "│   i = 19\n",
      "└ @ Main In[5]:4\n",
      "┌ Info: True, median \n",
      "│   (y_test_i_true, median_test_i) = (9, 7.799368582067334)\n",
      "└ @ Main In[5]:10\n",
      "┌ Info: CI\n",
      "│   CI_test_i = [4.710737799237454, 12.914479557340977]\n",
      "└ @ Main In[5]:14\n",
      "┌ Info: Count, id_fail\n",
      "│   (count_test, id_fail) = (18, Any[])\n",
      "└ @ Main In[5]:21\n",
      "┌ Info: i\n",
      "│   i = 20\n",
      "└ @ Main In[5]:4\n",
      "┌ Info: True, median \n",
      "│   (y_test_i_true, median_test_i) = (6, 10.74251213221021)\n",
      "└ @ Main In[5]:10\n",
      "┌ Info: CI\n",
      "│   CI_test_i = [7.248663066913571, 15.873258880175976]\n",
      "└ @ Main In[5]:14\n",
      "┌ Info: Count, id_fail\n",
      "│   (count_test, id_fail) = (18, Any[])\n",
      "└ @ Main In[5]:21\n",
      "┌ Info: i\n",
      "│   i = 21\n",
      "└ @ Main In[5]:4\n",
      "┌ Info: True, median \n",
      "│   (y_test_i_true, median_test_i) = (12, 8.34883569778382)\n",
      "└ @ Main In[5]:10\n",
      "┌ Info: CI\n",
      "│   CI_test_i = [3.4276741521802143, 20.322511542392014]\n",
      "└ @ Main In[5]:14\n",
      "┌ Info: Count, id_fail\n",
      "│   (count_test, id_fail) = (19, Any[])\n",
      "└ @ Main In[5]:21\n",
      "┌ Info: i\n",
      "│   i = 22\n",
      "└ @ Main In[5]:4\n",
      "┌ Info: True, median \n",
      "│   (y_test_i_true, median_test_i) = (8, 6.599352322693454)\n",
      "└ @ Main In[5]:10\n",
      "┌ Info: CI\n",
      "│   CI_test_i = [4.749816275593828, 9.145771777904272]\n",
      "└ @ Main In[5]:14\n",
      "┌ Info: Count, id_fail\n",
      "│   (count_test, id_fail) = (20, Any[])\n",
      "└ @ Main In[5]:21\n",
      "┌ Info: i\n",
      "│   i = 23\n",
      "└ @ Main In[5]:4\n",
      "┌ Info: True, median \n",
      "│   (y_test_i_true, median_test_i) = (13, 8.963964174229261)\n",
      "└ @ Main In[5]:10\n",
      "┌ Info: CI\n",
      "│   CI_test_i = [4.1199463810221735, 19.4965875552286]\n",
      "└ @ Main In[5]:14\n",
      "┌ Info: Count, id_fail\n",
      "│   (count_test, id_fail) = (21, Any[])\n",
      "└ @ Main In[5]:21\n",
      "┌ Info: i\n",
      "│   i = 24\n",
      "└ @ Main In[5]:4\n",
      "┌ Info: True, median \n",
      "│   (y_test_i_true, median_test_i) = (13, 11.664843403200338)\n",
      "└ @ Main In[5]:10\n",
      "┌ Info: CI\n",
      "│   CI_test_i = [4.8749946873300285, 27.876936569738255]\n",
      "└ @ Main In[5]:14\n",
      "┌ Info: Count, id_fail\n",
      "│   (count_test, id_fail) = (22, Any[])\n",
      "└ @ Main In[5]:21\n",
      "┌ Info: i\n",
      "│   i = 25\n",
      "└ @ Main In[5]:4\n",
      "┌ Info: True, median \n",
      "│   (y_test_i_true, median_test_i) = (10, 8.171628121902925)\n",
      "└ @ Main In[5]:10\n",
      "┌ Info: CI\n",
      "│   CI_test_i = [4.983234526278398, 13.39195199388379]\n",
      "└ @ Main In[5]:14\n",
      "┌ Info: Count, id_fail\n",
      "│   (count_test, id_fail) = (23, Any[])\n",
      "└ @ Main In[5]:21\n",
      "┌ Info: i\n",
      "│   i = 26\n",
      "└ @ Main In[5]:4\n",
      "┌ Info: True, median \n",
      "│   (y_test_i_true, median_test_i) = (8, 10.653813168555542)\n",
      "└ @ Main In[5]:10\n",
      "┌ Info: CI\n",
      "│   CI_test_i = [5.689212631322631, 20.18381725267873]\n",
      "└ @ Main In[5]:14\n",
      "┌ Info: Count, id_fail\n",
      "│   (count_test, id_fail) = (24, Any[])\n",
      "└ @ Main In[5]:21\n",
      "┌ Info: i\n",
      "│   i = 27\n",
      "└ @ Main In[5]:4\n",
      "┌ Info: True, median \n",
      "│   (y_test_i_true, median_test_i) = (10, 14.19417447113591)\n",
      "└ @ Main In[5]:10\n",
      "┌ Info: CI\n",
      "│   CI_test_i = [7.2678298625790765, 27.81033861751164]\n",
      "└ @ Main In[5]:14\n",
      "┌ Info: Count, id_fail\n",
      "│   (count_test, id_fail) = (25, Any[])\n",
      "└ @ Main In[5]:21\n",
      "┌ Info: i\n",
      "│   i = 28\n",
      "└ @ Main In[5]:4\n",
      "┌ Info: True, median \n",
      "│   (y_test_i_true, median_test_i) = (9, 9.790698752196795)\n",
      "└ @ Main In[5]:10\n"
     ]
    },
    {
     "name": "stderr",
     "output_type": "stream",
     "text": [
      "┌ Info: CI\n",
      "│   CI_test_i = [6.145197243176283, 15.6110255724764]\n",
      "└ @ Main In[5]:14\n",
      "┌ Info: Count, id_fail\n",
      "│   (count_test, id_fail) = (26, Any[])\n",
      "└ @ Main In[5]:21\n",
      "┌ Info: i\n",
      "│   i = 29\n",
      "└ @ Main In[5]:4\n",
      "┌ Info: True, median \n",
      "│   (y_test_i_true, median_test_i) = (15, 11.723171379527965)\n",
      "└ @ Main In[5]:10\n",
      "┌ Info: CI\n",
      "│   CI_test_i = [4.916247688867088, 27.950181512127717]\n",
      "└ @ Main In[5]:14\n",
      "┌ Info: Count, id_fail\n",
      "│   (count_test, id_fail) = (27, Any[])\n",
      "└ @ Main In[5]:21\n",
      "┌ Info: i\n",
      "│   i = 30\n",
      "└ @ Main In[5]:4\n",
      "┌ Info: True, median \n",
      "│   (y_test_i_true, median_test_i) = (6, 5.598715531867994)\n",
      "└ @ Main In[5]:10\n",
      "┌ Info: CI\n",
      "│   CI_test_i = [4.712420849913544, 6.7360676380491]\n",
      "└ @ Main In[5]:14\n",
      "┌ Info: Count, id_fail\n",
      "│   (count_test, id_fail) = (28, Any[])\n",
      "└ @ Main In[5]:21\n"
     ]
    }
   ],
   "source": [
    "for i in 1:n_test\n",
    "    global error_abs, error_sq, nlpd, count_test\n",
    "    # mod(i, 10) == 0 ? (@info i) : nothing\n",
    "    @info \"i\" i\n",
    "    x_test_i = reshape(x_test[i, :], 1, length(posx))\n",
    "    Fx_test_i = reshape(Fx_test[i, :], 1, length(posc))\n",
    "    pdf_test_i, cdf_test_i, dpdf_test_i, quantbound_test_i, support_test_i = pre_process(x_test_i, Fx_test_i, pdf0_raw, cdf0_raw, dpdf0_raw, quantInfo0_raw)\n",
    "    y_test_i_true = y_test_true[i]\n",
    "    median_test_i = ymax_train * quantile(cdf_test_i, quantbound_test_i, support_test_i)[1]\n",
    "    @info \"True, median \" y_test_i_true, median_test_i\n",
    "    try \n",
    "        CI_test_i = ymax_train .* credible_interval(cdf_test_i, quantbound_test_i, support_test_i; mode=:equal, wp=.95)[1]\n",
    "        count_test += (y_test_i_true >= CI_test_i[1])&&(y_test_i_true <= CI_test_i[2]) ? 1 : 0\n",
    "        @info \"CI\" CI_test_i\n",
    "    catch err\n",
    "        append!(id_fail, i)\n",
    "    end\n",
    "    error_abs += abs(y_test_i_true - median_test_i)\n",
    "    error_sq += (y_test_i_true - median_test_i)^2\n",
    "    nlpd += log(pdf_test_i(y_test_i_true)) \n",
    "    @info \"Count, id_fail\" count_test, id_fail\n",
    "end"
   ]
  },
  {
   "cell_type": "code",
   "execution_count": 6,
   "metadata": {
    "scrolled": true
   },
   "outputs": [
    {
     "data": {
      "text/plain": [
       "40.18671922407129"
      ]
     },
     "execution_count": 6,
     "metadata": {},
     "output_type": "execute_result"
    }
   ],
   "source": [
    "count_test /= n_test - length(id_fail)\n",
    "error_abs  /= n_test\n",
    "error_sq   /= n_test\n",
    "nlpd       /= -n_test"
   ]
  },
  {
   "cell_type": "code",
   "execution_count": 7,
   "metadata": {},
   "outputs": [
    {
     "data": {
      "text/plain": [
       "14.098494448005281"
      ]
     },
     "execution_count": 7,
     "metadata": {},
     "output_type": "execute_result"
    }
   ],
   "source": [
    "error_sq"
   ]
  },
  {
   "cell_type": "code",
   "execution_count": 8,
   "metadata": {
    "scrolled": false
   },
   "outputs": [
    {
     "data": {
      "text/plain": [
       "2.9691971991088915"
      ]
     },
     "execution_count": 8,
     "metadata": {},
     "output_type": "execute_result"
    }
   ],
   "source": [
    "error_abs"
   ]
  },
  {
   "cell_type": "code",
   "execution_count": 9,
   "metadata": {},
   "outputs": [
    {
     "data": {
      "text/plain": [
       "40.18671922407129"
      ]
     },
     "execution_count": 9,
     "metadata": {},
     "output_type": "execute_result"
    }
   ],
   "source": [
    "nlpd"
   ]
  },
  {
   "cell_type": "markdown",
   "metadata": {},
   "source": [
    "# Validation"
   ]
  },
  {
   "cell_type": "code",
   "execution_count": null,
   "metadata": {},
   "outputs": [],
   "source": [
    "function lootd(td::AbstractTrainingData, i::Int64)\n",
    "        x = getPosition(td)\n",
    "        Fx = getCovariates(td)\n",
    "        z = getLabel(td)\n",
    "        x_minus_i = x[[1:i-1;i+1:end], :]\n",
    "        Fx_minus_i = Fx[[1:i-1;i+1:end], :]\n",
    "        z_minus_i = z[[1:i-1;i+1:end]]\n",
    "        x_i = x[i:i, :]\n",
    "        Fx_i = Fx[i:i, :]\n",
    "        z_i = z[i:i, :]\n",
    "        return trainingData(x_minus_i, Fx_minus_i, z_minus_i), x_i, Fx_i, z_i\n",
    "end"
   ]
  }
 ],
 "metadata": {
  "kernelspec": {
   "display_name": "Julia 1.4.1",
   "language": "julia",
   "name": "julia-1.4"
  },
  "language_info": {
   "file_extension": ".jl",
   "mimetype": "application/julia",
   "name": "julia",
   "version": "1.4.1"
  }
 },
 "nbformat": 4,
 "nbformat_minor": 4
}
