{
 "cells": [
  {
   "cell_type": "code",
   "execution_count": 82,
   "metadata": {},
   "outputs": [],
   "source": [
    "include(\"../src/kernels/kernel.jl\")"
   ]
  },
  {
   "cell_type": "code",
   "execution_count": 72,
   "metadata": {},
   "outputs": [
    {
     "name": "stdout",
     "output_type": "stream",
     "text": [
      "[0.0 24.0; 24.0 0.0]\n"
     ]
    }
   ],
   "source": [
    "println(distancematrix(Gaussian(), [1, 2, 3] ,[3 4 5; 1 2 3]))"
   ]
  },
  {
   "cell_type": "markdown",
   "metadata": {},
   "source": [
    "The following code throws an error, because the array-type input for the length scale variable (second input) indicates that multiple length scales should be used. However, only one number is supplied."
   ]
  },
  {
   "cell_type": "code",
   "execution_count": 73,
   "metadata": {},
   "outputs": [
    {
     "ename": "AssertionError",
     "evalue": "AssertionError: max(size(θ, 1), size(θ, 2)) == size(x, 2) == size(y, 2)",
     "output_type": "error",
     "traceback": [
      "AssertionError: max(size(θ, 1), size(θ, 2)) == size(x, 2) == size(y, 2)",
      "",
      "Stacktrace:",
      " [1] #computeDists!#111(::Int64, ::typeof(computeDists!), ::Array{Float64,2}, ::Gaussian, ::Array{Int64,1}, ::Array{Int64,2}, ::Array{Int64,2}) at C:\\Users\\Albert Huang\\Desktop\\btg\\BayesTransformedGaussian\\src\\kernels\\kernel.jl:42",
      " [2] #computeDists! at .\\none:0 [inlined]",
      " [3] #distancematrix#110 at C:\\Users\\Albert Huang\\Desktop\\btg\\BayesTransformedGaussian\\src\\kernels\\kernel.jl:32 [inlined]",
      " [4] distancematrix at C:\\Users\\Albert Huang\\Desktop\\btg\\BayesTransformedGaussian\\src\\kernels\\kernel.jl:31 [inlined] (repeats 2 times)",
      " [5] top-level scope at In[73]:1"
     ]
    }
   ],
   "source": [
    "distancematrix(Gaussian(), [2], [3 4 5; 1 2 3])\n"
   ]
  },
  {
   "cell_type": "markdown",
   "metadata": {},
   "source": [
    "Instead, we should input [2] as a scalar 2, so that it's interpreted as a single length scale"
   ]
  },
  {
   "cell_type": "code",
   "execution_count": 74,
   "metadata": {},
   "outputs": [
    {
     "data": {
      "text/plain": [
       "2×2 Array{Float64,2}:\n",
       "  0.0  12.0\n",
       " 12.0   0.0"
      ]
     },
     "execution_count": 74,
     "metadata": {},
     "output_type": "execute_result"
    }
   ],
   "source": [
    "distancematrix(Gaussian(), 2, [3 4 5; 1 2 3])"
   ]
  },
  {
   "cell_type": "code",
   "execution_count": 83,
   "metadata": {},
   "outputs": [
    {
     "data": {
      "text/plain": [
       "1×1 Array{Float64,2}:\n",
       " 0.049787068367863944"
      ]
     },
     "execution_count": 83,
     "metadata": {},
     "output_type": "execute_result"
    }
   ],
   "source": [
    "cross_correlation(Gaussian(), 2, [1 2 3], [2 3 4])"
   ]
  },
  {
   "cell_type": "code",
   "execution_count": 84,
   "metadata": {},
   "outputs": [
    {
     "data": {
      "text/plain": [
       "3×3 Array{Float64,2}:\n",
       " 0.367879  0.0183156  0.00012341\n",
       " 1.0       0.367879   0.0183156 \n",
       " 0.367879  1.0        0.367879  "
      ]
     },
     "execution_count": 84,
     "metadata": {},
     "output_type": "execute_result"
    }
   ],
   "source": [
    "cross_correlation(Gaussian(), 2, [1; 2; 3], [2; 3; 4])"
   ]
  },
  {
   "cell_type": "code",
   "execution_count": 85,
   "metadata": {},
   "outputs": [
    {
     "ename": "DimensionMismatch",
     "evalue": "DimensionMismatch(\"Incorrect vector dimensions.\")",
     "output_type": "error",
     "traceback": [
      "DimensionMismatch(\"Incorrect vector dimensions.\")",
      "",
      "Stacktrace:",
      " [1] get_pairwise_dims at C:\\Users\\Albert Huang\\.julia\\packages\\Distances\\jwhuc\\src\\common.jl:76 [inlined]",
      " [2] _pairwise!(::Array{Float64,2}, ::WeightedSqEuclidean{Array{Int64,1}}, ::Transpose{Int64,Array{Int64,2}}, ::Transpose{Int64,Array{Int64,2}}) at C:\\Users\\Albert Huang\\.julia\\packages\\Distances\\jwhuc\\src\\wmetrics.jl:125",
      " [3] #pairwise!#1(::Int64, ::typeof(pairwise!), ::Array{Float64,2}, ::WeightedSqEuclidean{Array{Int64,1}}, ::Array{Int64,2}, ::Array{Int64,2}) at C:\\Users\\Albert Huang\\.julia\\packages\\Distances\\jwhuc\\src\\generic.jl:164",
      " [4] #pairwise! at .\\none:0 [inlined]",
      " [5] #cross_correlation!#134(::Int64, ::typeof(cross_correlation!), ::Array{Float64,2}, ::Gaussian, ::Array{Int64,1}, ::Array{Int64,1}, ::Array{Int64,1}) at C:\\Users\\Albert Huang\\Desktop\\btg\\BayesTransformedGaussian\\src\\kernels\\kernel.jl:73",
      " [6] cross_correlation! at C:\\Users\\Albert Huang\\Desktop\\btg\\BayesTransformedGaussian\\src\\kernels\\kernel.jl:71 [inlined]",
      " [7] #cross_correlation#133 at C:\\Users\\Albert Huang\\Desktop\\btg\\BayesTransformedGaussian\\src\\kernels\\kernel.jl:66 [inlined]",
      " [8] cross_correlation(::Gaussian, ::Array{Int64,1}, ::Array{Int64,1}, ::Array{Int64,1}) at C:\\Users\\Albert Huang\\Desktop\\btg\\BayesTransformedGaussian\\src\\kernels\\kernel.jl:65",
      " [9] top-level scope at In[85]:1"
     ]
    }
   ],
   "source": [
    "cross_correlation(Gaussian(), [1,2,3], [1; 2; 3], [2; 3; 4])"
   ]
  },
  {
   "cell_type": "code",
   "execution_count": 86,
   "metadata": {},
   "outputs": [
    {
     "ename": "MethodError",
     "evalue": "MethodError: no method matching reshape(::Int64, ::Int64, ::Int64)\nClosest candidates are:\n  reshape(!Matched::AbstractArray, ::Int64...) at reshapedarray.jl:116\n  reshape(!Matched::AbstractArray, ::Union{Int64, AbstractUnitRange}...) at reshapedarray.jl:110\n  reshape(!Matched::AbstractArray, ::Union{Colon, Int64}...) at reshapedarray.jl:117",
     "output_type": "error",
     "traceback": [
      "MethodError: no method matching reshape(::Int64, ::Int64, ::Int64)\nClosest candidates are:\n  reshape(!Matched::AbstractArray, ::Int64...) at reshapedarray.jl:116\n  reshape(!Matched::AbstractArray, ::Union{Int64, AbstractUnitRange}...) at reshapedarray.jl:110\n  reshape(!Matched::AbstractArray, ::Union{Colon, Int64}...) at reshapedarray.jl:117",
      "",
      "Stacktrace:",
      " [1] #correlation!#137(::Int64, ::Int64, ::typeof(correlation!), ::Array{Float64,2}, ::Gaussian, ::Array{Int64,1}, ::Int64) at C:\\Users\\Albert Huang\\Desktop\\btg\\BayesTransformedGaussian\\src\\kernels\\kernel.jl:79",
      " [2] (::var\"#kw##correlation!\")(::NamedTuple{(:jitter,),Tuple{Int64}}, ::typeof(correlation!), ::Array{Float64,2}, ::Gaussian, ::Array{Int64,1}, ::Int64) at .\\none:0",
      " [3] #correlation#132(::Int64, ::Int64, ::typeof(correlation), ::Gaussian, ::Array{Int64,1}, ::Int64) at C:\\Users\\Albert Huang\\Desktop\\btg\\BayesTransformedGaussian\\src\\kernels\\kernel.jl:60",
      " [4] correlation(::Gaussian, ::Array{Int64,1}, ::Int64) at C:\\Users\\Albert Huang\\Desktop\\btg\\BayesTransformedGaussian\\src\\kernels\\kernel.jl:59",
      " [5] top-level scope at In[86]:1"
     ]
    }
   ],
   "source": [
    "correlation(Gaussian(), 2, [1; 2; 3])"
   ]
  },
  {
   "cell_type": "code",
   "execution_count": null,
   "metadata": {
    "collapsed": true
   },
   "outputs": [],
   "source": []
  },
  {
   "cell_type": "code",
   "execution_count": null,
   "metadata": {
    "collapsed": true
   },
   "outputs": [],
   "source": []
  },
  {
   "cell_type": "code",
   "execution_count": null,
   "metadata": {
    "collapsed": true
   },
   "outputs": [],
   "source": []
  },
  {
   "cell_type": "code",
   "execution_count": null,
   "metadata": {
    "collapsed": true
   },
   "outputs": [],
   "source": []
  }
 ],
 "metadata": {
  "kernelspec": {
   "display_name": "Julia 1.3.1",
   "language": "julia",
   "name": "julia-1.3"
  },
  "language_info": {
   "file_extension": ".jl",
   "mimetype": "application/julia",
   "name": "julia",
   "version": "1.3.1"
  }
 },
 "nbformat": 4,
 "nbformat_minor": 2
}
