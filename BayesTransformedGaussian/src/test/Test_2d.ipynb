{
 "cells": [
  {
   "cell_type": "code",
   "execution_count": 76,
   "metadata": {
    "scrolled": true
   },
   "outputs": [
    {
     "data": {
      "text/plain": [
       "compute_higher_derivs"
      ]
     },
     "execution_count": 76,
     "metadata": {},
     "output_type": "execute_result"
    }
   ],
   "source": [
    "using LinearAlgebra                                                             \n",
    "using Test                                                                                       \n",
    "using Distributions                                                             \n",
    "using DataFrames                                                                          \n",
    "using CSV                                                                              \n",
    "using Polynomials  \n",
    "using Sobol\n",
    "                                                                                 \n",
    "include(\"../computation/finitedifference.jl\")                                                   \n",
    "include(\"../quadrature/quadrature.jl\")                                             \n",
    "include(\"../transforms/transforms.jl\")                                             \n",
    "include(\"../priors/priors.jl\")                                                     \n",
    "include(\"../bayesopt/incremental.jl\")                                              \n",
    "include(\"../kernels/kernel.jl\")                                                    \n",
    "include(\"../datastructs.jl\")                                                       \n",
    "include(\"../computation/buffers0.jl\") #datastruct, kernel, incremental, quadrature \n",
    "include(\"../model0.jl\") #buffers, datastructs, several auxiliary                   \n",
    "include(\"../computation/tdist.jl\") #model0 and buffer0  "
   ]
  },
  {
   "cell_type": "code",
   "execution_count": 77,
   "metadata": {},
   "outputs": [
    {
     "data": {
      "text/plain": [
       "covariate_fun (generic function with 1 method)"
      ]
     },
     "execution_count": 77,
     "metadata": {},
     "output_type": "execute_result"
    }
   ],
   "source": [
    "function covariate_fun(x, p)\n",
    "    n = size(x, 1)\n",
    "    d = size(x, 2)\n",
    "    if p == 1\n",
    "        return ones(n, 1)\n",
    "    elseif p == 1 + d\n",
    "        return hcat(ones(n), x)\n",
    "    else\n",
    "         throw(ArgumentError(\"Only support constant or linear convariate.\"))\n",
    "    end\n",
    "end"
   ]
  },
  {
   "cell_type": "markdown",
   "metadata": {},
   "source": [
    "# Summary\n",
    "Settings parameters: \\\n",
    "p: choices of covariates, p = 1 if constant and p = 2 if linear \\\n",
    "x: training data \\\n",
    "x0: testing data\n",
    "\n",
    "Tests:\n",
    "1. p=3 or p=1, x=x2, x0=x02, test_fun1 \\\n",
    "   pdf blows up near 0, numerical issue (g'(y0) blows up when y0~=0?)\n",
    "2. p=1, x=x3, x0=x03, test_fun1 \\\n",
    "    pdf weird shape (no peak, uniformish)\n",
    "3. p=3, x=x3, x0=x03, test_fun1 \\\n",
    "    pdf blows up near 0, and pdf support ~= $[0,5]$\n",
    "4. p=1, x=2, x0=x04, test_fun2 \\\n",
    "    pdf heavy near 0"
   ]
  },
  {
   "cell_type": "code",
   "execution_count": 78,
   "metadata": {},
   "outputs": [
    {
     "data": {
      "text/plain": [
       "test_fun2 (generic function with 1 method)"
      ]
     },
     "execution_count": 78,
     "metadata": {},
     "output_type": "execute_result"
    }
   ],
   "source": [
    "# Data and setup for different tests\n",
    "\n",
    "# choice of covariate functions\n",
    "p = 1\n",
    "# p = 3\n",
    "\n",
    "# training\n",
    "nx = 20\n",
    "x1 = 4 .* rand(nx, 2) .- 2 \n",
    "x2 = [-0.28340   0.62098;\n",
    "     -1.59902   1.86275;\n",
    "      0.49347  -1.46311;\n",
    "      1.50624  -1.42874; \n",
    "      1.57966  -1.4987;  \n",
    "     -1.35577   0.33419;\n",
    "      1.57967   0.4927;  \n",
    "      1.30226   1.30865; \n",
    "      1.84554  -1.71706; \n",
    "      1.45705   0.264961]\n",
    "x3 = [-0.801151   -0.543169;   \n",
    "      -0.94552     1.09677;    \n",
    "       0.947512   -0.827147;   \n",
    "      -1.42516     0.916257;   \n",
    "      -1.35157     0.449443;   \n",
    "       0.266677    1.31536;    \n",
    "      -0.555493    0.841922;   \n",
    "      -0.0235545   0.000649033;\n",
    "      -0.339027    0.843967;   \n",
    "      -1.7816      1.52251; ]\n",
    "\n",
    "# testing\n",
    "x01 = 4 .*rand(1, 2) .- 2\n",
    "x02 = [-1.0097 0.3929]\n",
    "x03 = [-0.936599  -1.94613]\n",
    "x04 = [0.6368579322807415 0.5764428247722932]\n",
    "\n",
    "# underlying 2d function \n",
    "test_fun1(x, y) = x^2 * exp(- x^2 - y^2) \n",
    "test_fun2(x, y) = sin(x^2 + y^2) + 1.1"
   ]
  },
  {
   "cell_type": "code",
   "execution_count": 79,
   "metadata": {
    "scrolled": true
   },
   "outputs": [
    {
     "name": "stdout",
     "output_type": "stream",
     "text": [
      "Prediction at x0 = [0.13741735813259126 -0.1423597097512177]\n",
      "Covariates at x0: [1.0]\n",
      "Should expect peak near 0.5614193652814495\n"
     ]
    }
   ],
   "source": [
    "# parameter setting: change for different tests\n",
    "\n",
    "p = 1 # choose covariate basis function, only support 1 or 1+dim(x)\n",
    "x = x2 # choose training data \n",
    "x0 = x01 # choose testing data\n",
    "test_fun = test_fun2 # choose underlying function\n",
    "\n",
    "#####################################\n",
    "\n",
    "# setup values and covariates (no changes needed)\n",
    "Fx = covariate_fun(x, p)\n",
    "y = [test_fun(_x[1], _x[2]) for _x in zip(x[:,1], x[:,2])]\n",
    "ymax = maximum(y)\n",
    "y /= ymax\n",
    "trainingData1 = trainingData(x, Fx, y) \n",
    "\n",
    "Fx0 = covariate_fun(x0, p)\n",
    "y0_true = test_fun(x0[1], x0[2])/ymax\n",
    "println(\"Prediction at x0 = $x0\")\n",
    "println(\"Covariates at x0: $Fx0\")\n",
    "println(\"Should expect peak near $y0_true\")\n"
   ]
  },
  {
   "cell_type": "code",
   "execution_count": 80,
   "metadata": {
    "scrolled": true
   },
   "outputs": [
    {
     "data": {
      "text/plain": [
       "1×2 Array{Float64,2}:\n",
       " 0.2  3.0"
      ]
     },
     "execution_count": 80,
     "metadata": {},
     "output_type": "execute_result"
    }
   ],
   "source": [
    "d = getDimension(trainingData1)\n",
    "n = getNumPts(trainingData1)\n",
    "p = getCovDimension(trainingData1)\n",
    "rangeθ = [0.25 150]\n",
    "rangeθ2 = [0.25 150; 0.25 150]\n",
    "rangeλ = [0.2 3.]"
   ]
  },
  {
   "cell_type": "code",
   "execution_count": 83,
   "metadata": {
    "scrolled": true
   },
   "outputs": [
    {
     "data": {
      "text/plain": [
       "#802 (generic function with 1 method)"
      ]
     },
     "execution_count": 83,
     "metadata": {},
     "output_type": "execute_result"
    }
   ],
   "source": [
    "btg1 = btg(trainingData1, rangeθ, rangeλ, quadtype = [\"Gaussian\", \"Gaussian\"]);\n",
    "(pdf1, cdf1, dpdf1, quantInfo1) = solve(btg1);\n",
    "pdf_fixed = y0 -> pdf(x0, Fx0, y0)\n",
    "cdf_fixed = y0 -> cdf(x0, Fx0, y0)\n",
    "dpdf_fixed = y0 -> dpdf(x0, Fx0, y0) "
   ]
  },
  {
   "cell_type": "code",
   "execution_count": 84,
   "metadata": {},
   "outputs": [
    {
     "data": {
      "text/plain": [
       "#808 (generic function with 1 method)"
      ]
     },
     "execution_count": 84,
     "metadata": {},
     "output_type": "execute_result"
    }
   ],
   "source": [
    "btg2 = btg(trainingData1, rangeθ2, rangeλ, quadtype = [\"Gaussian\", \"Gaussian\"]);\n",
    "(pdf2, cdf2, dpdf2, quantInfo2) = solve(btg2);\n",
    "pdf_fixed2 = y0 -> pdf2(x0, Fx0, y0)\n",
    "cdf_fixed2 = y0 -> cdf2(x0, Fx0, y0)\n",
    "dpdf_fixed2 = y0 -> dpdf2(x0, Fx0, y0) "
   ]
  },
  {
   "cell_type": "code",
   "execution_count": 85,
   "metadata": {},
   "outputs": [
    {
     "data": {
      "text/plain": [
       "#814 (generic function with 1 method)"
      ]
     },
     "execution_count": 85,
     "metadata": {},
     "output_type": "execute_result"
    }
   ],
   "source": [
    "btg3 = btg(trainingData1, rangeθ2, rangeλ; quadtype = [\"MonteCarlo\", \"MonteCarlo\"]);\n",
    "(pdf3, cdf3, dpdf3, quantInfo3) = solve(btg3);\n",
    "pdf_fixed3 = y0 -> pdf3(x0, Fx0, y0)\n",
    "cdf_fixed3 = y0 -> cdf3(x0, Fx0, y0)\n",
    "dpdf_fixed3 = y0 -> dpdf3(x0, Fx0, y0) "
   ]
  },
  {
   "cell_type": "code",
   "execution_count": 86,
   "metadata": {},
   "outputs": [
    {
     "data": {
      "text/plain": [
       "#820 (generic function with 1 method)"
      ]
     },
     "execution_count": 86,
     "metadata": {},
     "output_type": "execute_result"
    }
   ],
   "source": [
    "btg4 = btg(trainingData1, rangeθ2, rangeλ; quadtype = [\"MonteCarlo\", \"Gaussian\"]);\n",
    "(pdf4, cdf4, dpdf4, quantInfo4) = solve(btg4);\n",
    "pdf_fixed4 = y0 -> pdf4(x0, Fx0, y0)\n",
    "cdf_fixed4 = y0 -> cdf4(x0, Fx0, y0)\n",
    "dpdf_fixed4 = y0 -> dpdf4(x0, Fx0, y0) "
   ]
  },
  {
   "cell_type": "code",
   "execution_count": 87,
   "metadata": {},
   "outputs": [
    {
     "data": {
      "text/plain": [
       "#826 (generic function with 1 method)"
      ]
     },
     "execution_count": 87,
     "metadata": {},
     "output_type": "execute_result"
    }
   ],
   "source": [
    "btg5 = btg(trainingData1, rangeθ2, rangeλ; quadtype = [\"QuasiMonteCarlo\", \"QuasiMonteCarlo\"]);\n",
    "(pdf5, cdf5, dpdf5, quantInfo5) = solve(btg5);\n",
    "pdf_fixed5 = y0 -> pdf5(x0, Fx0, y0)\n",
    "cdf_fixed5 = y0 -> cdf5(x0, Fx0, y0)\n",
    "dpdf_fixed5 = y0 -> dpdf5(x0, Fx0, y0) "
   ]
  },
  {
   "cell_type": "code",
   "execution_count": 88,
   "metadata": {},
   "outputs": [
    {
     "data": {
      "text/plain": [
       "#832 (generic function with 1 method)"
      ]
     },
     "execution_count": 88,
     "metadata": {},
     "output_type": "execute_result"
    }
   ],
   "source": [
    "btg6 = btg(trainingData1, rangeθ2, rangeλ; quadtype = [\"QuasiMonteCarlo\", \"Gaussian\"]);\n",
    "(pdf6, cdf6, dpdf6, quantInfo6) = solve(btg6);\n",
    "pdf_fixed6 = y0 -> pdf6(x0, Fx0, y0)\n",
    "cdf_fixed6 = y0 -> cdf6(x0, Fx0, y0)\n",
    "dpdf_fixed6 = y0 -> dpdf6(x0, Fx0, y0) "
   ]
  },
  {
   "cell_type": "markdown",
   "metadata": {},
   "source": [
    "# Statistics"
   ]
  },
  {
   "cell_type": "code",
   "execution_count": 89,
   "metadata": {
    "scrolled": false
   },
   "outputs": [
    {
     "data": {
      "text/plain": [
       "credible_interval (generic function with 3 methods)"
      ]
     },
     "execution_count": 89,
     "metadata": {},
     "output_type": "execute_result"
    }
   ],
   "source": [
    "include(\"test_quantile.jl\")\n",
    "include(\"../statistics.jl\")"
   ]
  },
  {
   "cell_type": "code",
   "execution_count": 91,
   "metadata": {
    "scrolled": true
   },
   "outputs": [
    {
     "name": "stdout",
     "output_type": "stream",
     "text": [
      "[\"Gaussian\", \"Gaussian\"] Estimated support of pdf: [0.01, 14.929919999999996]\n",
      "[\"Gaussian\", \"Gaussian\"] Estimated support of pdf: [0.01, 14.929919999999996]\n",
      "[\"MonteCarlo\", \"MonteCarlo\"] Estimated support of pdf: [0.01, 12.441599999999998]\n",
      "[\"MonteCarlo\", \"Gaussian\"] Estimated support of pdf: [0.01, 14.929919999999996]\n",
      "[\"QuasiMonteCarlo\", \"QuasiMonteCarlo\"] Estimated support of pdf: [0.01, 14.929919999999996]\n",
      "[\"QuasiMonteCarlo\", \"Gaussian\"] Estimated support of pdf: [0.01, 14.929919999999996]\n"
     ]
    }
   ],
   "source": [
    "# preprocess output from solve(btg)\n",
    "pdf_fixed1, cdf_fixed1, dpdf_fixed1, quant01, support1 = pre_process(x0, Fx0, pdf1, cdf1, dpdf1, quantInfo1[1]);\n",
    "println(btg1.quadType, \" Estimated support of pdf: $support1\")\n",
    "\n",
    "pdf_fixed2, cdf_fixed2, dpdf_fixed2, quant02, support2 = pre_process(x0, Fx0, pdf2, cdf2, dpdf2, quantInfo2[1]);\n",
    "println(btg2.quadType, \" Estimated support of pdf: $support2\")\n",
    "\n",
    "pdf_fixed3, cdf_fixed3, dpdf_fixed3, quant03, support3 = pre_process(x0, Fx0, pdf3, cdf3, dpdf3, quantInfo3[1]);\n",
    "println(btg3.quadType, \" Estimated support of pdf: $support3\")\n",
    "\n",
    "pdf_fixed4, cdf_fixed4, dpdf_fixed4, quant04, support4 = pre_process(x0, Fx0, pdf4, cdf4, dpdf4, quantInfo4[1]);\n",
    "println(btg4.quadType, \" Estimated support of pdf: $support4\")\n",
    "\n",
    "pdf_fixed5, cdf_fixed5, dpdf_fixed5, quant05, support5 = pre_process(x0, Fx0, pdf5, cdf5, dpdf5, quantInfo5[1]);\n",
    "println(btg5.quadType, \" Estimated support of pdf: $support5\")\n",
    "\n",
    "pdf_fixed6, cdf_fixed6, dpdf_fixed6, quant06, support6 = pre_process(x0, Fx0, pdf6, cdf6, dpdf6, quantInfo6[1]);\n",
    "println(btg6.quadType, \" Estimated support of pdf: $support6\")"
   ]
  },
  {
   "cell_type": "code",
   "execution_count": 102,
   "metadata": {
    "scrolled": true
   },
   "outputs": [
    {
     "data": {
      "image/svg+xml": [
       "<?xml version=\"1.0\" encoding=\"utf-8\"?>\n",
       "<svg xmlns=\"http://www.w3.org/2000/svg\" xmlns:xlink=\"http://www.w3.org/1999/xlink\" width=\"600\" height=\"400\" viewBox=\"0 0 2400 1600\">\n",
       "<defs>\n",
       "  <clipPath id=\"clip0700\">\n",
       "    <rect x=\"0\" y=\"0\" width=\"2400\" height=\"1600\"/>\n",
       "  </clipPath>\n",
       "</defs>\n",
       "<path clip-path=\"url(#clip0700)\" d=\"\n",
       "M0 1600 L2400 1600 L2400 0 L0 0  Z\n",
       "  \" fill=\"#ffffff\" fill-rule=\"evenodd\" fill-opacity=\"1\"/>\n",
       "<defs>\n",
       "  <clipPath id=\"clip0701\">\n",
       "    <rect x=\"480\" y=\"0\" width=\"1681\" height=\"1600\"/>\n",
       "  </clipPath>\n",
       "</defs>\n",
       "<path clip-path=\"url(#clip0700)\" d=\"\n",
       "M180.66 1487.47 L2352.76 1487.47 L2352.76 121.675 L180.66 121.675  Z\n",
       "  \" fill=\"#ffffff\" fill-rule=\"evenodd\" fill-opacity=\"1\"/>\n",
       "<defs>\n",
       "  <clipPath id=\"clip0702\">\n",
       "    <rect x=\"180\" y=\"121\" width=\"2173\" height=\"1367\"/>\n",
       "  </clipPath>\n",
       "</defs>\n",
       "<polyline clip-path=\"url(#clip0702)\" style=\"stroke:#000000; stroke-width:2; stroke-opacity:0.1; fill:none\" points=\"\n",
       "  673.534,1487.47 673.534,121.675 \n",
       "  \"/>\n",
       "<polyline clip-path=\"url(#clip0702)\" style=\"stroke:#000000; stroke-width:2; stroke-opacity:0.1; fill:none\" points=\"\n",
       "  1212.78,1487.47 1212.78,121.675 \n",
       "  \"/>\n",
       "<polyline clip-path=\"url(#clip0702)\" style=\"stroke:#000000; stroke-width:2; stroke-opacity:0.1; fill:none\" points=\"\n",
       "  1752.03,1487.47 1752.03,121.675 \n",
       "  \"/>\n",
       "<polyline clip-path=\"url(#clip0702)\" style=\"stroke:#000000; stroke-width:2; stroke-opacity:0.1; fill:none\" points=\"\n",
       "  2291.28,1487.47 2291.28,121.675 \n",
       "  \"/>\n",
       "<polyline clip-path=\"url(#clip0702)\" style=\"stroke:#000000; stroke-width:2; stroke-opacity:0.1; fill:none\" points=\"\n",
       "  180.66,1461.46 2352.76,1461.46 \n",
       "  \"/>\n",
       "<polyline clip-path=\"url(#clip0702)\" style=\"stroke:#000000; stroke-width:2; stroke-opacity:0.1; fill:none\" points=\"\n",
       "  180.66,1188.79 2352.76,1188.79 \n",
       "  \"/>\n",
       "<polyline clip-path=\"url(#clip0702)\" style=\"stroke:#000000; stroke-width:2; stroke-opacity:0.1; fill:none\" points=\"\n",
       "  180.66,916.115 2352.76,916.115 \n",
       "  \"/>\n",
       "<polyline clip-path=\"url(#clip0702)\" style=\"stroke:#000000; stroke-width:2; stroke-opacity:0.1; fill:none\" points=\"\n",
       "  180.66,643.444 2352.76,643.444 \n",
       "  \"/>\n",
       "<polyline clip-path=\"url(#clip0702)\" style=\"stroke:#000000; stroke-width:2; stroke-opacity:0.1; fill:none\" points=\"\n",
       "  180.66,370.773 2352.76,370.773 \n",
       "  \"/>\n",
       "<polyline clip-path=\"url(#clip0700)\" style=\"stroke:#000000; stroke-width:4; stroke-opacity:1; fill:none\" points=\"\n",
       "  180.66,1487.47 2352.76,1487.47 \n",
       "  \"/>\n",
       "<polyline clip-path=\"url(#clip0700)\" style=\"stroke:#000000; stroke-width:4; stroke-opacity:1; fill:none\" points=\"\n",
       "  180.66,1487.47 180.66,121.675 \n",
       "  \"/>\n",
       "<polyline clip-path=\"url(#clip0700)\" style=\"stroke:#000000; stroke-width:4; stroke-opacity:1; fill:none\" points=\"\n",
       "  673.534,1487.47 673.534,1471.09 \n",
       "  \"/>\n",
       "<polyline clip-path=\"url(#clip0700)\" style=\"stroke:#000000; stroke-width:4; stroke-opacity:1; fill:none\" points=\"\n",
       "  1212.78,1487.47 1212.78,1471.09 \n",
       "  \"/>\n",
       "<polyline clip-path=\"url(#clip0700)\" style=\"stroke:#000000; stroke-width:4; stroke-opacity:1; fill:none\" points=\"\n",
       "  1752.03,1487.47 1752.03,1471.09 \n",
       "  \"/>\n",
       "<polyline clip-path=\"url(#clip0700)\" style=\"stroke:#000000; stroke-width:4; stroke-opacity:1; fill:none\" points=\"\n",
       "  2291.28,1487.47 2291.28,1471.09 \n",
       "  \"/>\n",
       "<polyline clip-path=\"url(#clip0700)\" style=\"stroke:#000000; stroke-width:4; stroke-opacity:1; fill:none\" points=\"\n",
       "  180.66,1461.46 206.725,1461.46 \n",
       "  \"/>\n",
       "<polyline clip-path=\"url(#clip0700)\" style=\"stroke:#000000; stroke-width:4; stroke-opacity:1; fill:none\" points=\"\n",
       "  180.66,1188.79 206.725,1188.79 \n",
       "  \"/>\n",
       "<polyline clip-path=\"url(#clip0700)\" style=\"stroke:#000000; stroke-width:4; stroke-opacity:1; fill:none\" points=\"\n",
       "  180.66,916.115 206.725,916.115 \n",
       "  \"/>\n",
       "<polyline clip-path=\"url(#clip0700)\" style=\"stroke:#000000; stroke-width:4; stroke-opacity:1; fill:none\" points=\"\n",
       "  180.66,643.444 206.725,643.444 \n",
       "  \"/>\n",
       "<polyline clip-path=\"url(#clip0700)\" style=\"stroke:#000000; stroke-width:4; stroke-opacity:1; fill:none\" points=\"\n",
       "  180.66,370.773 206.725,370.773 \n",
       "  \"/>\n",
       "<g clip-path=\"url(#clip0700)\">\n",
       "<text style=\"fill:#000000; fill-opacity:1; font-family:Arial,Helvetica Neue,Helvetica,sans-serif; font-size:48px; text-anchor:middle;\" transform=\"rotate(0, 673.534, 1541.47)\" x=\"673.534\" y=\"1541.47\">0.5</text>\n",
       "</g>\n",
       "<g clip-path=\"url(#clip0700)\">\n",
       "<text style=\"fill:#000000; fill-opacity:1; font-family:Arial,Helvetica Neue,Helvetica,sans-serif; font-size:48px; text-anchor:middle;\" transform=\"rotate(0, 1212.78, 1541.47)\" x=\"1212.78\" y=\"1541.47\">1.0</text>\n",
       "</g>\n",
       "<g clip-path=\"url(#clip0700)\">\n",
       "<text style=\"fill:#000000; fill-opacity:1; font-family:Arial,Helvetica Neue,Helvetica,sans-serif; font-size:48px; text-anchor:middle;\" transform=\"rotate(0, 1752.03, 1541.47)\" x=\"1752.03\" y=\"1541.47\">1.5</text>\n",
       "</g>\n",
       "<g clip-path=\"url(#clip0700)\">\n",
       "<text style=\"fill:#000000; fill-opacity:1; font-family:Arial,Helvetica Neue,Helvetica,sans-serif; font-size:48px; text-anchor:middle;\" transform=\"rotate(0, 2291.28, 1541.47)\" x=\"2291.28\" y=\"1541.47\">2.0</text>\n",
       "</g>\n",
       "<g clip-path=\"url(#clip0700)\">\n",
       "<text style=\"fill:#000000; fill-opacity:1; font-family:Arial,Helvetica Neue,Helvetica,sans-serif; font-size:48px; text-anchor:end;\" transform=\"rotate(0, 156.66, 1478.96)\" x=\"156.66\" y=\"1478.96\">0.00</text>\n",
       "</g>\n",
       "<g clip-path=\"url(#clip0700)\">\n",
       "<text style=\"fill:#000000; fill-opacity:1; font-family:Arial,Helvetica Neue,Helvetica,sans-serif; font-size:48px; text-anchor:end;\" transform=\"rotate(0, 156.66, 1206.29)\" x=\"156.66\" y=\"1206.29\">0.25</text>\n",
       "</g>\n",
       "<g clip-path=\"url(#clip0700)\">\n",
       "<text style=\"fill:#000000; fill-opacity:1; font-family:Arial,Helvetica Neue,Helvetica,sans-serif; font-size:48px; text-anchor:end;\" transform=\"rotate(0, 156.66, 933.615)\" x=\"156.66\" y=\"933.615\">0.50</text>\n",
       "</g>\n",
       "<g clip-path=\"url(#clip0700)\">\n",
       "<text style=\"fill:#000000; fill-opacity:1; font-family:Arial,Helvetica Neue,Helvetica,sans-serif; font-size:48px; text-anchor:end;\" transform=\"rotate(0, 156.66, 660.944)\" x=\"156.66\" y=\"660.944\">0.75</text>\n",
       "</g>\n",
       "<g clip-path=\"url(#clip0700)\">\n",
       "<text style=\"fill:#000000; fill-opacity:1; font-family:Arial,Helvetica Neue,Helvetica,sans-serif; font-size:48px; text-anchor:end;\" transform=\"rotate(0, 156.66, 388.273)\" x=\"156.66\" y=\"388.273\">1.00</text>\n",
       "</g>\n",
       "<g clip-path=\"url(#clip0700)\">\n",
       "<text style=\"fill:#000000; fill-opacity:1; font-family:Arial,Helvetica Neue,Helvetica,sans-serif; font-size:84px; text-anchor:middle;\" transform=\"rotate(0, 1266.71, 73.2)\" x=\"1266.71\" y=\"73.2\">2D Test: PDF Comparison</text>\n",
       "</g>\n",
       "<polyline clip-path=\"url(#clip0702)\" style=\"stroke:#009af9; stroke-width:4; stroke-opacity:1; fill:none\" points=\"\n",
       "  242.135,1092.55 262.833,1058.16 283.532,1022.63 304.23,986.071 324.929,948.569 345.627,910.225 366.325,871.14 387.024,831.423 407.722,791.193 428.421,750.581 \n",
       "  449.119,709.729 469.818,668.797 490.516,627.955 511.215,587.392 531.913,547.311 552.612,507.931 573.31,469.487 594.008,432.231 614.707,396.428 635.405,362.356 \n",
       "  656.104,330.306 676.802,300.574 697.501,273.466 718.199,249.287 738.898,228.34 759.596,210.918 780.294,197.303 800.993,187.752 821.691,182.496 842.39,181.73 \n",
       "  863.088,185.604 883.787,194.217 904.485,207.61 925.184,225.755 945.882,248.559 966.581,275.849 987.279,307.382 1007.98,342.837 1028.68,381.827 1049.37,423.9 \n",
       "  1070.07,468.555 1090.77,515.25 1111.47,563.423 1132.17,612.503 1152.87,661.932 1173.57,711.178 1194.26,759.753 1214.96,807.219 1235.66,853.204 1256.36,897.4 \n",
       "  1277.06,939.569 1297.76,979.538 1318.45,1017.2 1339.15,1052.49 1359.85,1085.42 1380.55,1116 1401.25,1144.31 1421.95,1170.43 1442.64,1194.48 1463.34,1216.56 \n",
       "  1484.04,1236.8 1504.74,1255.32 1525.44,1272.26 1546.14,1287.74 1566.84,1301.86 1587.53,1314.75 1608.23,1326.51 1628.93,1337.24 1649.63,1347.03 1670.33,1355.96 \n",
       "  1691.03,1364.12 1711.72,1371.57 1732.42,1378.37 1753.12,1384.59 1773.82,1390.29 1794.52,1395.5 1815.22,1400.27 1835.92,1404.65 1856.61,1408.66 1877.31,1412.35 \n",
       "  1898.01,1415.74 1918.71,1418.86 1939.41,1421.73 1960.11,1424.37 1980.8,1426.81 2001.5,1429.06 2022.2,1431.14 2042.9,1433.06 2063.6,1434.84 2084.3,1436.49 \n",
       "  2105,1438.02 2125.69,1439.44 2146.39,1440.75 2167.09,1441.97 2187.79,1443.11 2208.49,1444.17 2229.19,1445.16 2249.88,1446.08 2270.58,1446.93 2291.28,1447.73 \n",
       "  \n",
       "  \"/>\n",
       "<polyline clip-path=\"url(#clip0702)\" style=\"stroke:#e26f46; stroke-width:4; stroke-opacity:1; fill:none\" points=\"\n",
       "  242.135,1076.54 262.833,1040.55 283.532,1003.46 304.23,965.379 324.929,926.448 345.627,886.78 366.325,846.499 387.024,805.732 407.722,764.619 428.421,723.306 \n",
       "  449.119,681.954 469.818,640.734 490.516,599.831 511.215,559.443 531.913,519.782 552.612,481.073 573.31,443.555 594.008,407.48 614.707,373.109 635.405,340.714 \n",
       "  656.104,310.577 676.802,282.981 697.501,258.212 718.199,236.555 738.898,218.286 759.596,203.67 780.294,192.954 800.993,186.36 821.691,184.08 842.39,186.266 \n",
       "  863.088,193.028 883.787,204.421 904.485,220.443 925.184,241.03 945.882,266.048 966.581,295.295 987.279,328.499 1007.98,365.32 1028.68,405.357 1049.37,448.154 \n",
       "  1070.07,493.211 1090.77,539.999 1111.47,587.973 1132.17,636.587 1152.87,685.314 1173.57,733.656 1194.26,781.16 1214.96,827.427 1235.66,872.121 1256.36,914.97 \n",
       "  1277.06,955.767 1297.76,994.368 1318.45,1030.69 1339.15,1064.69 1359.85,1096.37 1380.55,1125.8 1401.25,1153.02 1421.95,1178.14 1442.64,1201.27 1463.34,1222.51 \n",
       "  1484.04,1241.99 1504.74,1259.84 1525.44,1276.17 1546.14,1291.09 1566.84,1304.74 1587.53,1317.2 1608.23,1328.59 1628.93,1338.98 1649.63,1348.48 1670.33,1357.16 \n",
       "  1691.03,1365.1 1711.72,1372.35 1732.42,1378.99 1753.12,1385.07 1773.82,1390.64 1794.52,1395.74 1815.22,1400.42 1835.92,1404.72 1856.61,1408.67 1877.31,1412.31 \n",
       "  1898.01,1415.65 1918.71,1418.73 1939.41,1421.56 1960.11,1424.18 1980.8,1426.6 2001.5,1428.83 2022.2,1430.9 2042.9,1432.81 2063.6,1434.58 2084.3,1436.23 \n",
       "  2105,1437.75 2125.69,1439.17 2146.39,1440.48 2167.09,1441.71 2187.79,1442.85 2208.49,1443.91 2229.19,1444.9 2249.88,1445.82 2270.58,1446.69 2291.28,1447.49 \n",
       "  \n",
       "  \"/>\n",
       "<polyline clip-path=\"url(#clip0702)\" style=\"stroke:#3da44d; stroke-width:4; stroke-opacity:1; fill:none\" points=\"\n",
       "  242.135,1098.89 262.833,1064.23 283.532,1028.46 304.23,991.657 324.929,953.915 345.627,915.322 366.325,875.971 387.024,835.964 407.722,795.411 428.421,754.434 \n",
       "  449.119,713.166 469.818,671.753 490.516,630.355 511.215,589.146 531.913,548.318 552.612,508.077 573.31,468.649 594.008,430.276 614.707,393.22 635.405,357.76 \n",
       "  656.104,324.19 676.802,292.82 697.501,263.975 718.199,237.985 738.898,215.186 759.596,195.914 780.294,180.495 800.993,169.241 821.691,162.435 842.39,160.33 \n",
       "  863.088,163.13 883.787,170.986 904.485,183.981 925.184,202.126 945.882,225.346 966.581,253.481 987.279,286.279 1007.98,323.4 1028.68,364.418 1049.37,408.833 \n",
       "  1070.07,456.081 1090.77,505.55 1111.47,556.604 1132.17,608.596 1152.87,660.894 1173.57,712.9 1194.26,764.066 1214.96,813.907 1235.66,862.015 1256.36,908.057 \n",
       "  1277.06,951.785 1297.76,993.023 1318.45,1031.67 1339.15,1067.68 1359.85,1101.08 1380.55,1131.91 1401.25,1160.27 1421.95,1186.27 1442.64,1210.05 1463.34,1231.75 \n",
       "  1484.04,1251.51 1504.74,1269.49 1525.44,1285.83 1546.14,1300.67 1566.84,1314.13 1587.53,1326.36 1608.23,1337.45 1628.93,1347.53 1649.63,1356.67 1670.33,1364.99 \n",
       "  1691.03,1372.55 1711.72,1379.43 1732.42,1385.69 1753.12,1391.4 1773.82,1396.62 1794.52,1401.38 1815.22,1405.73 1835.92,1409.71 1856.61,1413.37 1877.31,1416.71 \n",
       "  1898.01,1419.79 1918.71,1422.61 1939.41,1425.21 1960.11,1427.61 1980.8,1429.82 2001.5,1431.86 2022.2,1433.74 2042.9,1435.48 2063.6,1437.1 2084.3,1438.59 \n",
       "  2105,1439.98 2125.69,1441.26 2146.39,1442.46 2167.09,1443.57 2187.79,1444.6 2208.49,1445.57 2229.19,1446.47 2249.88,1447.31 2270.58,1448.09 2291.28,1448.82 \n",
       "  \n",
       "  \"/>\n",
       "<polyline clip-path=\"url(#clip0702)\" style=\"stroke:#c271d2; stroke-width:4; stroke-opacity:1; fill:none\" points=\"\n",
       "  242.135,1075.79 262.833,1039.75 283.532,1002.6 304.23,964.471 324.929,925.491 345.627,885.778 366.325,845.456 387.024,804.655 407.722,763.514 428.421,722.181 \n",
       "  449.119,680.817 469.818,639.595 490.516,598.699 511.215,558.328 531.913,518.694 552.612,480.024 573.31,442.556 594.008,406.542 614.707,372.243 635.405,339.933 \n",
       "  656.104,309.89 676.802,282.398 697.501,257.743 718.199,236.208 738.898,218.068 759.596,203.586 780.294,193.008 800.993,186.553 821.691,184.411 842.39,186.733 \n",
       "  863.088,193.625 883.787,205.141 904.485,221.276 925.184,241.962 945.882,267.066 966.581,296.383 987.279,329.64 1007.98,366.496 1028.68,406.549 1049.37,449.343 \n",
       "  1070.07,494.381 1090.77,541.132 1111.47,589.054 1132.17,637.604 1152.87,686.256 1173.57,734.514 1194.26,781.929 1214.96,828.105 1235.66,872.707 1256.36,915.465 \n",
       "  1277.06,956.173 1297.76,994.691 1318.45,1030.93 1339.15,1064.86 1359.85,1096.48 1380.55,1125.85 1401.25,1153.02 1421.95,1178.1 1442.64,1201.19 1463.34,1222.4 \n",
       "  1484.04,1241.86 1504.74,1259.68 1525.44,1275.99 1546.14,1290.91 1566.84,1304.55 1587.53,1317 1608.23,1328.38 1628.93,1338.78 1649.63,1348.28 1670.33,1356.96 \n",
       "  1691.03,1364.9 1711.72,1372.16 1732.42,1378.8 1753.12,1384.89 1773.82,1390.46 1794.52,1395.57 1815.22,1400.26 1835.92,1404.56 1856.61,1408.52 1877.31,1412.16 \n",
       "  1898.01,1415.51 1918.71,1418.59 1939.41,1421.43 1960.11,1424.06 1980.8,1426.48 2001.5,1428.72 2022.2,1430.79 2042.9,1432.71 2063.6,1434.48 2084.3,1436.13 \n",
       "  2105,1437.66 2125.69,1439.08 2146.39,1440.4 2167.09,1441.63 2187.79,1442.77 2208.49,1443.84 2229.19,1444.83 2249.88,1445.76 2270.58,1446.62 2291.28,1447.43 \n",
       "  \n",
       "  \"/>\n",
       "<polyline clip-path=\"url(#clip0702)\" style=\"stroke:#ac8d18; stroke-width:4; stroke-opacity:1; fill:none\" points=\"\n",
       "  242.135,1079.32 262.833,1043.79 283.532,1006.85 304.23,968.67 324.929,929.375 345.627,889.111 366.325,848.023 387.024,806.27 407.722,764.021 428.421,721.46 \n",
       "  449.119,678.786 469.818,636.211 490.516,593.963 511.215,552.282 531.913,511.422 552.612,471.65 573.31,433.244 594.008,396.489 614.707,361.678 635.405,329.109 \n",
       "  656.104,299.079 676.802,271.883 697.501,247.81 718.199,227.137 738.898,210.126 759.596,197.015 780.294,188.019 800.993,183.316 821.691,183.048 842.39,187.313 \n",
       "  863.088,196.157 883.787,209.576 904.485,227.504 925.184,249.817 945.882,276.327 966.581,306.786 987.279,340.885 1007.98,378.261 1028.68,418.501 1049.37,461.153 \n",
       "  1070.07,505.733 1090.77,551.743 1111.47,598.676 1132.17,646.036 1152.87,693.347 1173.57,740.169 1194.26,786.102 1214.96,830.797 1235.66,873.963 1256.36,915.363 \n",
       "  1277.06,954.82 1297.76,992.211 1318.45,1027.46 1339.15,1060.54 1359.85,1091.45 1380.55,1120.24 1401.25,1146.97 1421.95,1171.72 1442.64,1194.57 1463.34,1215.65 \n",
       "  1484.04,1235.05 1504.74,1252.89 1525.44,1269.27 1546.14,1284.3 1566.84,1298.09 1587.53,1310.73 1608.23,1322.31 1628.93,1332.93 1649.63,1342.66 1670.33,1351.58 \n",
       "  1691.03,1359.76 1711.72,1367.26 1732.42,1374.14 1753.12,1380.45 1773.82,1386.26 1794.52,1391.59 1815.22,1396.49 1835.92,1401 1856.61,1405.15 1877.31,1408.98 \n",
       "  1898.01,1412.51 1918.71,1415.76 1939.41,1418.76 1960.11,1421.54 1980.8,1424.11 2001.5,1426.48 2022.2,1428.68 2042.9,1430.72 2063.6,1432.61 2084.3,1434.37 \n",
       "  2105,1436 2125.69,1437.51 2146.39,1438.92 2167.09,1440.24 2187.79,1441.46 2208.49,1442.6 2229.19,1443.66 2249.88,1444.65 2270.58,1445.58 2291.28,1446.45 \n",
       "  \n",
       "  \"/>\n",
       "<polyline clip-path=\"url(#clip0702)\" style=\"stroke:#00a9ad; stroke-width:4; stroke-opacity:1; fill:none\" points=\"\n",
       "  242.135,1077.14 262.833,1041.19 283.532,1004.13 304.23,966.085 324.929,927.182 345.627,887.536 366.325,847.271 387.024,806.515 407.722,765.404 428.421,724.088 \n",
       "  449.119,682.724 469.818,641.485 490.516,600.554 511.215,560.131 531.913,520.426 552.612,481.665 573.31,444.087 594.008,407.943 614.707,373.496 635.405,341.02 \n",
       "  656.104,310.794 676.802,283.103 697.501,258.236 718.199,236.477 738.898,218.104 759.596,203.383 780.294,192.563 800.993,185.867 821.691,183.489 842.39,185.583 \n",
       "  863.088,192.26 883.787,203.577 904.485,219.533 925.184,240.065 945.882,265.041 966.581,294.26 987.279,327.449 1007.98,364.27 1028.68,404.319 1049.37,447.142 \n",
       "  1070.07,492.237 1090.77,539.073 1111.47,587.103 1132.17,635.781 1152.87,684.577 1173.57,732.991 1194.26,780.568 1214.96,826.909 1235.66,871.674 1256.36,914.591 \n",
       "  1277.06,955.453 1297.76,994.113 1318.45,1030.49 1339.15,1064.53 1359.85,1096.27 1380.55,1125.73 1401.25,1152.98 1421.95,1178.13 1442.64,1201.28 1463.34,1222.55 \n",
       "  1484.04,1242.05 1504.74,1259.9 1525.44,1276.24 1546.14,1291.18 1566.84,1304.83 1587.53,1317.3 1608.23,1328.69 1628.93,1339.09 1649.63,1348.59 1670.33,1357.27 \n",
       "  1691.03,1365.2 1711.72,1372.46 1732.42,1379.09 1753.12,1385.17 1773.82,1390.74 1794.52,1395.84 1815.22,1400.52 1835.92,1404.81 1856.61,1408.76 1877.31,1412.39 \n",
       "  1898.01,1415.73 1918.71,1418.81 1939.41,1421.64 1960.11,1424.26 1980.8,1426.67 2001.5,1428.9 2022.2,1430.96 2042.9,1432.87 2063.6,1434.64 2084.3,1436.28 \n",
       "  2105,1437.81 2125.69,1439.22 2146.39,1440.53 2167.09,1441.76 2187.79,1442.89 2208.49,1443.95 2229.19,1444.94 2249.88,1445.86 2270.58,1446.73 2291.28,1447.53 \n",
       "  \n",
       "  \"/>\n",
       "<path clip-path=\"url(#clip0700)\" d=\"\n",
       "M1424.07 628.555 L2280.76 628.555 L2280.76 205.195 L1424.07 205.195  Z\n",
       "  \" fill=\"#ffffff\" fill-rule=\"evenodd\" fill-opacity=\"1\"/>\n",
       "<polyline clip-path=\"url(#clip0700)\" style=\"stroke:#000000; stroke-width:4; stroke-opacity:1; fill:none\" points=\"\n",
       "  1424.07,628.555 2280.76,628.555 2280.76,205.195 1424.07,205.195 1424.07,628.555 \n",
       "  \"/>\n",
       "<polyline clip-path=\"url(#clip0700)\" style=\"stroke:#009af9; stroke-width:4; stroke-opacity:1; fill:none\" points=\"\n",
       "  1448.07,265.675 1592.07,265.675 \n",
       "  \"/>\n",
       "<g clip-path=\"url(#clip0700)\">\n",
       "<text style=\"fill:#000000; fill-opacity:1; font-family:Arial,Helvetica Neue,Helvetica,sans-serif; font-size:48px; text-anchor:start;\" transform=\"rotate(0, 1616.07, 283.175)\" x=\"1616.07\" y=\"283.175\">Gauss+Gauss, 1 lengthscale</text>\n",
       "</g>\n",
       "<polyline clip-path=\"url(#clip0700)\" style=\"stroke:#e26f46; stroke-width:4; stroke-opacity:1; fill:none\" points=\"\n",
       "  1448.07,326.155 1592.07,326.155 \n",
       "  \"/>\n",
       "<g clip-path=\"url(#clip0700)\">\n",
       "<text style=\"fill:#000000; fill-opacity:1; font-family:Arial,Helvetica Neue,Helvetica,sans-serif; font-size:48px; text-anchor:start;\" transform=\"rotate(0, 1616.07, 343.655)\" x=\"1616.07\" y=\"343.655\">Gauss+Gauss</text>\n",
       "</g>\n",
       "<polyline clip-path=\"url(#clip0700)\" style=\"stroke:#3da44d; stroke-width:4; stroke-opacity:1; fill:none\" points=\"\n",
       "  1448.07,386.635 1592.07,386.635 \n",
       "  \"/>\n",
       "<g clip-path=\"url(#clip0700)\">\n",
       "<text style=\"fill:#000000; fill-opacity:1; font-family:Arial,Helvetica Neue,Helvetica,sans-serif; font-size:48px; text-anchor:start;\" transform=\"rotate(0, 1616.07, 404.135)\" x=\"1616.07\" y=\"404.135\">MC+MC</text>\n",
       "</g>\n",
       "<polyline clip-path=\"url(#clip0700)\" style=\"stroke:#c271d2; stroke-width:4; stroke-opacity:1; fill:none\" points=\"\n",
       "  1448.07,447.115 1592.07,447.115 \n",
       "  \"/>\n",
       "<g clip-path=\"url(#clip0700)\">\n",
       "<text style=\"fill:#000000; fill-opacity:1; font-family:Arial,Helvetica Neue,Helvetica,sans-serif; font-size:48px; text-anchor:start;\" transform=\"rotate(0, 1616.07, 464.615)\" x=\"1616.07\" y=\"464.615\">MC+Gaussian</text>\n",
       "</g>\n",
       "<polyline clip-path=\"url(#clip0700)\" style=\"stroke:#ac8d18; stroke-width:4; stroke-opacity:1; fill:none\" points=\"\n",
       "  1448.07,507.595 1592.07,507.595 \n",
       "  \"/>\n",
       "<g clip-path=\"url(#clip0700)\">\n",
       "<text style=\"fill:#000000; fill-opacity:1; font-family:Arial,Helvetica Neue,Helvetica,sans-serif; font-size:48px; text-anchor:start;\" transform=\"rotate(0, 1616.07, 525.095)\" x=\"1616.07\" y=\"525.095\">QMC+QMC</text>\n",
       "</g>\n",
       "<polyline clip-path=\"url(#clip0700)\" style=\"stroke:#00a9ad; stroke-width:4; stroke-opacity:1; fill:none\" points=\"\n",
       "  1448.07,568.075 1592.07,568.075 \n",
       "  \"/>\n",
       "<g clip-path=\"url(#clip0700)\">\n",
       "<text style=\"fill:#000000; fill-opacity:1; font-family:Arial,Helvetica Neue,Helvetica,sans-serif; font-size:48px; text-anchor:start;\" transform=\"rotate(0, 1616.07, 585.575)\" x=\"1616.07\" y=\"585.575\">QMC+Gaussian</text>\n",
       "</g>\n",
       "</svg>\n"
      ]
     },
     "execution_count": 102,
     "metadata": {},
     "output_type": "execute_result"
    }
   ],
   "source": [
    "a = 0.1; b = 2\n",
    "ygrid = range(a, b, length = 100)\n",
    "pdf_plot = plot(ygrid, pdf_fixed.(ygrid), label = \"Gauss+Gauss, 1 lengthscale\")\n",
    "plot!(ygrid, pdf_fixed2.(ygrid), label = \"Gauss+Gauss\")\n",
    "plot!(ygrid, pdf_fixed3.(ygrid), label = \"MC+MC\")\n",
    "plot!(ygrid, pdf_fixed4.(ygrid), label = \"MC+Gaussian\")\n",
    "plot!(ygrid, pdf_fixed5.(ygrid), label = \"QMC+QMC\")\n",
    "plot!(ygrid, pdf_fixed6.(ygrid), label = \"QMC+Gaussian\", title = \"2D Test: PDF Comparison\")"
   ]
  },
  {
   "cell_type": "code",
   "execution_count": null,
   "metadata": {
    "scrolled": false
   },
   "outputs": [],
   "source": [
    "cdf_plot = plot(ygrid, cdf_fixed.(ygrid), label = \"Gauss+Gauss, 1 lengthscale\", legend=:bottomright)\n",
    "plot!(ygrid, cdf_fixed2.(ygrid), label = \"Gauss+Gauss\")\n",
    "# plot!(ygrid, cdf_fixed3.(ygrid), label = \"MC+MC\")\n",
    "# plot!(ygrid, cdf_fixed4.(ygrid), label = \"MC+Gaussian\")\n",
    "# plot!(ygrid, cdf_fixed5.(ygrid), label = \"QMC+QMC\")\n",
    "# plot!(ygrid, cdf_fixed6.(ygrid), label = \"QMC+Gaussian\", title = \"2D Test: CDF Comparison\")"
   ]
  },
  {
   "cell_type": "code",
   "execution_count": null,
   "metadata": {},
   "outputs": [],
   "source": [
    "DistributionInfo = summary_comp(pdf_fixed, cdf_fixed, dpdf_fixed, quant0, support; px = .8)"
   ]
  }
 ],
 "metadata": {
  "kernelspec": {
   "display_name": "Julia 1.3.1",
   "language": "julia",
   "name": "julia-1.3"
  },
  "language_info": {
   "file_extension": ".jl",
   "mimetype": "application/julia",
   "name": "julia",
   "version": "1.3.1"
  }
 },
 "nbformat": 4,
 "nbformat_minor": 2
}
