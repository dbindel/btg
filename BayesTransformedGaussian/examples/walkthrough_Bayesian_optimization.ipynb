{
 "cells": [
  {
   "cell_type": "markdown",
   "metadata": {},
   "source": [
    "    In the following cells we demonstrate the use of incremental.jl"
   ]
  },
  {
   "cell_type": "code",
   "execution_count": 7,
   "metadata": {},
   "outputs": [
    {
     "name": "stderr",
     "output_type": "stream",
     "text": [
      "WARNING: using DataFrames.setindex! in module Main conflicts with an existing identifier.\n"
     ]
    },
    {
     "ename": "ErrorException",
     "evalue": "could not open file C:\\Users\\Albert Huang\\Desktop\\btg\\BayesTransformedGaussian\\computation\\finitedifference.jl",
     "output_type": "error",
     "traceback": [
      "could not open file C:\\Users\\Albert Huang\\Desktop\\btg\\BayesTransformedGaussian\\computation\\finitedifference.jl",
      "",
      "Stacktrace:",
      " [1] include at .\\boot.jl:328 [inlined]",
      " [2] include_relative(::Module, ::String) at .\\loading.jl:1105",
      " [3] include(::Module, ::String) at .\\Base.jl:31",
      " [4] include(::String) at .\\client.jl:424",
      " [5] top-level scope at In[7]:10"
     ]
    }
   ],
   "source": [
    "#~~~~~~~~~~~~~~~~~~~~~~~~~~~~~~(The BTG Program)~~~~~~~~~~~~~~~~~~~~~~~~~~~~~~~~#\n",
    "#################################################################################\n",
    "#copy this box into a file to use the BTG program                               #\n",
    "using LinearAlgebra                                                             #\n",
    "using Test                                                                      #                  \n",
    "using Distributions                                                             #\n",
    "using DataFrames                                                                #          \n",
    "using CSV                                                                       #       \n",
    "using Polynomials                                                               #\n",
    "                                                                                # \n",
    "include(\"../computation/finitedifference.jl\")                                      #             \n",
    "include(\"../quadrature/quadrature.jl\")                                             #\n",
    "include(\"../transforms/transforms.jl\")                                             #\n",
    "include(\"../priors/priors.jl\")                                                     #\n",
    "include(\"../bayesopt/incremental.jl\")                                              #\n",
    "include(\"../kernels/kernel.jl\")                                                    #\n",
    "include(\"../datastructs.jl\")                                                       #\n",
    "include(\"../computation/buffers0.jl\") #datastruct, kernel, incremental, quadrature #\n",
    "include(\"../model0.jl\") #buffers, datastructs, several auxiliary                   #\n",
    "include(\"../computation/tdist.jl\") #model0 and buffer0                             #\n",
    "#################################################################################"
   ]
  },
  {
   "cell_type": "code",
   "execution_count": null,
   "metadata": {
    "collapsed": true
   },
   "outputs": [],
   "source": []
  },
  {
   "cell_type": "code",
   "execution_count": 8,
   "metadata": {},
   "outputs": [
    {
     "ename": "MethodError",
     "evalue": "MethodError: no method matching incremental_cholesky!(::Array{Float64,2})\nClosest candidates are:\n  incremental_cholesky!(::AbstractArray{T,2} where T, !Matched::Any; check) at C:\\Users\\Albert Huang\\Desktop\\btg\\BayesTransformedGaussian\\src\\bayesopt\\incremental.jl:20",
     "output_type": "error",
     "traceback": [
      "MethodError: no method matching incremental_cholesky!(::Array{Float64,2})\nClosest candidates are:\n  incremental_cholesky!(::AbstractArray{T,2} where T, !Matched::Any; check) at C:\\Users\\Albert Huang\\Desktop\\btg\\BayesTransformedGaussian\\src\\bayesopt\\incremental.jl:20",
      "",
      "Stacktrace:",
      " [1] top-level scope at In[8]:3"
     ]
    }
   ],
   "source": [
    "x = rand(10, 7)\n",
    "K = correlation(Gaussian(), 1.1, x)\n",
    "ic = incremental_cholesky!(K)"
   ]
  },
  {
   "cell_type": "code",
   "execution_count": 9,
   "metadata": {},
   "outputs": [
    {
     "ename": "LoadError",
     "evalue": "UndefVarError: AbstractTrainingData not defined",
     "output_type": "error",
     "traceback": [
      "UndefVarError: AbstractTrainingData not defined",
      "",
      "Stacktrace:",
      " [1] top-level scope at C:\\Users\\Albert Huang\\Desktop\\btg\\BayesTransformedGaussian\\src\\computation\\buffers0.jl:8",
      " [2] include at .\\boot.jl:328 [inlined]",
      " [3] include_relative(::Module, ::String) at .\\loading.jl:1105",
      " [4] include(::Module, ::String) at .\\Base.jl:31",
      " [5] include(::String) at .\\client.jl:424",
      " [6] top-level scope at In[9]:1"
     ]
    }
   ],
   "source": [
    "include(\"../src/computation/buffers0.jl\")"
   ]
  },
  {
   "cell_type": "markdown",
   "metadata": {},
   "source": [
    "## Test ExtensibleTrainingData functionality"
   ]
  },
  {
   "cell_type": "code",
   "execution_count": 10,
   "metadata": {},
   "outputs": [
    {
     "ename": "UndefVarError",
     "evalue": "UndefVarError: newExtensibleTrainingData not defined",
     "output_type": "error",
     "traceback": [
      "UndefVarError: newExtensibleTrainingData not defined",
      "",
      "Stacktrace:",
      " [1] top-level scope at In[10]:1"
     ]
    }
   ],
   "source": [
    "\n",
    "td = newExtensibleTrainingData(3, 2, 10)\n",
    "println(size(td.x))\n",
    "println(size(td.Fx))\n",
    "update!(td, [1 2 3], [1 2], [1])\n",
    "println(size(td.x))\n",
    "println(size(td.Fx))\n",
    "println(size(td.y))\n",
    "println(size(td.n))#should be 1\n",
    "update!(td, ones(9, 3), ones(9, 2), ones(9))\n",
    "println(size(td.x))\n",
    "println(size(td.Fx))\n",
    "println(size(td.y))\n",
    "println(size(td.n))#should be 10"
   ]
  },
  {
   "cell_type": "code",
   "execution_count": 11,
   "metadata": {},
   "outputs": [
    {
     "ename": "UndefVarError",
     "evalue": "UndefVarError: td not defined",
     "output_type": "error",
     "traceback": [
      "UndefVarError: td not defined",
      "",
      "Stacktrace:",
      " [1] top-level scope at In[11]:1"
     ]
    }
   ],
   "source": [
    "update!(td, ones(9, 3), ones(9, 2), ones(9)) #throws bounds error"
   ]
  },
  {
   "cell_type": "markdown",
   "metadata": {},
   "source": [
    "## Test train_buffer functionality"
   ]
  },
  {
   "cell_type": "code",
   "execution_count": 12,
   "metadata": {},
   "outputs": [
    {
     "ename": "UndefVarError",
     "evalue": "UndefVarError: newExtensibleTrainingData not defined",
     "output_type": "error",
     "traceback": [
      "UndefVarError: newExtensibleTrainingData not defined",
      "",
      "Stacktrace:",
      " [1] top-level scope at In[12]:1"
     ]
    }
   ],
   "source": [
    "td = newExtensibleTrainingData(3, 2, 10)\n",
    "update!(td, rand(10, 3), rand(10, 2), rand(10))\n",
    "bf = init_train_buffer(1.1, td) \n",
    "r = triu(bf.choleskyΣθ.R)\n",
    "println(norm(correlation(Gaussian(), 1.1, td.x) .- r'*r))"
   ]
  }
 ],
 "metadata": {
  "kernelspec": {
   "display_name": "Julia 1.3.1",
   "language": "julia",
   "name": "julia-1.3"
  },
  "language_info": {
   "file_extension": ".jl",
   "mimetype": "application/julia",
   "name": "julia",
   "version": "1.3.1"
  }
 },
 "nbformat": 4,
 "nbformat_minor": 2
}
