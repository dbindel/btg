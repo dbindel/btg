{
 "cells": [
  {
   "cell_type": "markdown",
   "metadata": {},
   "source": [
    "    In the following cells we demonstrate the use of incremental.jl"
   ]
  },
  {
   "cell_type": "code",
   "execution_count": 2,
   "metadata": {},
   "outputs": [
    {
     "name": "stderr",
     "output_type": "stream",
     "text": [
      "WARNING: using PyPlot.setindex! in module Main conflicts with an existing identifier.\n"
     ]
    }
   ],
   "source": [
    "include(\"../src/bayesopt/incremental.jl\")\n",
    "include(\"../src/kernels/kernel.jl\")"
   ]
  },
  {
   "cell_type": "code",
   "execution_count": 3,
   "metadata": {},
   "outputs": [
    {
     "data": {
      "text/plain": [
       "10×10 Array{Float64,2}:\n",
       " 1.0       0.485748  0.767947  0.480633  …  0.492122  0.651118  0.552875\n",
       " 0.485748  1.0       0.468715  0.851118     0.747964  0.331234  0.35975 \n",
       " 0.767947  0.468715  1.0       0.431133     0.37966   0.555387  0.483661\n",
       " 0.480633  0.851118  0.431133  1.0          0.781483  0.463925  0.382172\n",
       " 0.646933  0.420699  0.621307  0.446652     0.294164  0.489804  0.386193\n",
       " 0.476896  0.535668  0.611602  0.652252  …  0.564539  0.471809  0.447832\n",
       " 0.651072  0.707817  0.536782  0.662521     0.582957  0.396718  0.55698 \n",
       " 0.492122  0.747964  0.37966   0.781483     1.0       0.352746  0.462018\n",
       " 0.651118  0.331234  0.555387  0.463925     0.352746  1.0       0.542227\n",
       " 0.552875  0.35975   0.483661  0.382172     0.462018  0.542227  1.0     "
      ]
     },
     "execution_count": 3,
     "metadata": {},
     "output_type": "execute_result"
    }
   ],
   "source": [
    "x = rand(10, 7)\n",
    "K = correlation(Gaussian(), 1.1, x)\n",
    "ic = incremental_cholesky!(K)"
   ]
  },
  {
   "cell_type": "code",
   "execution_count": null,
   "metadata": {
    "collapsed": true
   },
   "outputs": [],
   "source": []
  },
  {
   "cell_type": "code",
   "execution_count": null,
   "metadata": {
    "collapsed": true
   },
   "outputs": [],
   "source": []
  }
 ],
 "metadata": {
  "kernelspec": {
   "display_name": "Julia 1.3.1",
   "language": "julia",
   "name": "julia-1.3"
  },
  "language_info": {
   "file_extension": ".jl",
   "mimetype": "application/julia",
   "name": "julia",
   "version": "1.3.1"
  }
 },
 "nbformat": 4,
 "nbformat_minor": 2
}
