{
 "cells": [
  {
   "cell_type": "code",
   "execution_count": 18,
   "metadata": {
    "scrolled": false
   },
   "outputs": [
    {
     "data": {
      "text/plain": [
       "btgPredict"
      ]
     },
     "execution_count": 18,
     "metadata": {},
     "output_type": "execute_result"
    }
   ],
   "source": [
    "using Dates\n",
    "using ArgParse\n",
    "using Printf\n",
    "using Random\n",
    "using GaussianProcesses\n",
    "using Cubature\n",
    "include(\"../../btg.jl\")"
   ]
  },
  {
   "cell_type": "code",
   "execution_count": 19,
   "metadata": {
    "scrolled": true
   },
   "outputs": [
    {
     "data": {
      "text/plain": [
       "22.0"
      ]
     },
     "execution_count": 19,
     "metadata": {},
     "output_type": "execute_result"
    }
   ],
   "source": [
    "#########################\n",
    "# initialize training set\n",
    "#########################\n",
    "# args here: ntrain, posc, yshift, are part of data process, no need to put into BTG options\n",
    "# so keep them here \n",
    "\n",
    "df = DataFrame(CSV.File(\"../../datasets/abalone.csv\", header = 0))\n",
    "data = convert(Matrix, df[:,2:8]) #length, diameter, height, whole weight, shucked weight, viscera weight, shell weight\n",
    "target = convert(Array, df[:, 9]) #age\n",
    "ntrain_size = 1000\n",
    "feature_size = 7\n",
    "# shuffle data\n",
    "randseed = 1234; rng = MersenneTwister(randseed)\n",
    "ind_shuffle = randperm(rng, size(data, 1)) \n",
    "data = data[ind_shuffle, :]\n",
    "target = target[ind_shuffle];\n",
    "id_train = 1:100\n",
    "n_train = length(id_train)\n",
    "posx = 1:feature_size\n",
    "x = data[id_train, posx]\n",
    "\n",
    "posc = 3\n",
    "posc = 1:posc\n",
    "Fx = data[id_train, posc] \n",
    "\n",
    "y = float(target[id_train])\n",
    "trainingData0 = trainingData(x, Fx, y) \n",
    "d = getDimension(trainingData0); n = getNumPts(trainingData0); p = getCovDimension(trainingData0)\n",
    "ymax = trainingData0.ymax"
   ]
  },
  {
   "cell_type": "code",
   "execution_count": 24,
   "metadata": {
    "scrolled": true
   },
   "outputs": [
    {
     "data": {
      "text/plain": [
       "7×2 Array{Float64,2}:\n",
       " 100.0  2000.0\n",
       " 100.0  2000.0\n",
       " 100.0  2000.0\n",
       " 100.0  2000.0\n",
       " 100.0  2000.0\n",
       " 100.0  2000.0\n",
       " 100.0  2000.0"
      ]
     },
     "execution_count": 24,
     "metadata": {},
     "output_type": "execute_result"
    }
   ],
   "source": [
    "rangeλ = reshape(convert(Array{Float64, 1}, [-1, 2]), 1, 2)\n",
    "rangeθ = reshape(convert(Array{Float64, 1}, [100, 2000]), 1, 2)\n",
    "rangeθm = repeat(rangeθ, 7, 1)"
   ]
  },
  {
   "cell_type": "code",
   "execution_count": 29,
   "metadata": {
    "scrolled": false
   },
   "outputs": [
    {
     "data": {
      "text/plain": [
       "Options(\"BoxCox\", \"Gaussian\", Dict(\"λ\" => \"Gaussian\",\"θ\" => \"Gaussian\"), Dict(\"Gaussian\" => 12,\"MonteCarlo\" => 400), Dict(\"λ\" => [-1.0 2.0],\"θ\" => [100.0 2000.0]), Dict{String,priorType}(\"λ\" => Uniform(Real[-1.0 2.0], 1, Real[3.0]),\"θ\" => inverseUniform([100.0 2000.0], 1, Real[1900.0])), 1, 0.95)"
      ]
     },
     "execution_count": 29,
     "metadata": {},
     "output_type": "execute_result"
    }
   ],
   "source": [
    "options = Options(rangeθ, rangeλ, trainingData0, 1)"
   ]
  },
  {
   "cell_type": "code",
   "execution_count": 30,
   "metadata": {
    "scrolled": true
   },
   "outputs": [
    {
     "data": {
      "text/plain": [
       "1×2 Array{Float64,2}:\n",
       " -1.0  2.0"
      ]
     },
     "execution_count": 30,
     "metadata": {},
     "output_type": "execute_result"
    }
   ],
   "source": [
    "options.parameter_range[\"λ\"]"
   ]
  },
  {
   "cell_type": "code",
   "execution_count": 31,
   "metadata": {
    "scrolled": true
   },
   "outputs": [
    {
     "data": {
      "text/plain": [
       "1×2 Array{Float64,2}:\n",
       " 100.0  2000.0"
      ]
     },
     "execution_count": 31,
     "metadata": {},
     "output_type": "execute_result"
    }
   ],
   "source": [
    "options.parameter_range[\"θ\"]"
   ]
  },
  {
   "cell_type": "code",
   "execution_count": 32,
   "metadata": {
    "scrolled": false
   },
   "outputs": [
    {
     "name": "stdout",
     "output_type": "stream",
     "text": [
      "  2.444171 seconds (4.94 M allocations: 240.286 MiB, 4.30% gc time)\n"
     ]
    }
   ],
   "source": [
    "@time btg0 = btg(trainingData0, options);"
   ]
  },
  {
   "cell_type": "code",
   "execution_count": 33,
   "metadata": {
    "scrolled": true
   },
   "outputs": [],
   "source": [
    "# @time model0 = btgModel(btg0);"
   ]
  },
  {
   "cell_type": "code",
   "execution_count": 34,
   "metadata": {
    "scrolled": false
   },
   "outputs": [
    {
     "data": {
      "text/plain": [
       "3×1 Array{Float64,2}:\n",
       " 10.0\n",
       "  7.0\n",
       " 11.0"
      ]
     },
     "execution_count": 34,
     "metadata": {},
     "output_type": "execute_result"
    }
   ],
   "source": [
    "##################################################\n",
    "# process test data \n",
    "##################################################\n",
    "ntrain_size = 800\n",
    "id_test = (ntrain_size+1) :(3+ntrain_size)\n",
    "n_test = length(id_test)\n",
    "x_test = data[id_test, posx]; # n*d\n",
    "posc = 1:3\n",
    "Fx_test = data[id_test, posc] \n",
    "y_test_true = reshape(float(target[id_test]), 3, 1)"
   ]
  },
  {
   "cell_type": "code",
   "execution_count": 47,
   "metadata": {
    "scrolled": false
   },
   "outputs": [
    {
     "data": {
      "text/plain": [
       "12×12 Array{Float64,2}:\n",
       " 3.54944e-16  4.34664e-15  8.41411e-14  …  5.37718e-19  1.84734e-20\n",
       " 9.57546e-8   1.08355e-6   1.66977e-5      4.85962e-15  8.55911e-17\n",
       " 0.000505632  0.005001     0.0549122       1.59434e-16  1.43439e-18\n",
       " 0.000260594  0.00216993   0.0166898       2.38741e-20  1.47063e-22\n",
       " 4.88929e-6   3.49436e-5   0.000202844     5.10515e-24  2.63774e-26\n",
       " 6.55111e-8   4.19123e-7   2.00731e-6   …  6.22002e-27  2.96262e-29\n",
       " 1.4916e-9    8.85614e-9   3.74152e-8      3.74833e-29  1.71554e-31\n",
       " 6.80989e-11  3.84605e-10  1.49669e-9      7.86005e-31  3.52226e-33\n",
       " 5.98643e-12  3.26878e-11  1.20437e-10     4.27542e-32  1.89293e-34\n",
       " 9.08628e-13  4.85105e-12  1.72396e-11     4.79554e-33  2.10792e-35\n",
       " 2.05277e-13  1.0806e-12   3.75473e-12  …  9.01802e-34  3.94707e-36\n",
       " 5.05663e-14  2.64235e-13  9.07451e-13     2.0221e-34   8.83142e-37"
      ]
     },
     "metadata": {},
     "output_type": "display_data"
    },
    {
     "name": "stdout",
     "output_type": "stream",
     "text": [
      "\n",
      " weightsTensorGrid\n",
      "  1.714573 seconds (7.36 M allocations: 293.506 MiB, 4.57% gc time)\n"
     ]
    }
   ],
   "source": [
    "@time predict = btgPredict(x_test, Fx_test, btg0; y_true = y_test_true);"
   ]
  },
  {
   "cell_type": "code",
   "execution_count": 48,
   "metadata": {
    "scrolled": true
   },
   "outputs": [
    {
     "data": {
      "text/plain": [
       "testingData([0.675 0.51 … 0.3175 0.3965; 0.34 0.25 … 0.0405 0.05; 0.665 0.505 … 0.2925 0.32], [0.675 0.51 0.195; 0.34 0.25 0.075; 0.665 0.505 0.16], [10.0; 7.0; 11.0], 7, 3, 3)"
      ]
     },
     "execution_count": 48,
     "metadata": {},
     "output_type": "execute_result"
    }
   ],
   "source": [
    "predict.testingdata"
   ]
  },
  {
   "cell_type": "code",
   "execution_count": 49,
   "metadata": {
    "scrolled": true
   },
   "outputs": [
    {
     "data": {
      "text/plain": [
       "3-element Array{Real,1}:\n",
       " 9.121171329404955\n",
       " 6.816050410640659\n",
       " 9.451162968569534"
      ]
     },
     "execution_count": 49,
     "metadata": {},
     "output_type": "execute_result"
    }
   ],
   "source": [
    "predict.median"
   ]
  },
  {
   "cell_type": "code",
   "execution_count": 50,
   "metadata": {
    "scrolled": false
   },
   "outputs": [
    {
     "data": {
      "text/plain": [
       "3-element Array{Array,1}:\n",
       " Real[4.8403041369058855, 18.96200130204881]\n",
       " Real[5.795380873543383, 8.105537406676829]\n",
       " Real[6.944307586036174, 13.094156687117545]"
      ]
     },
     "execution_count": 50,
     "metadata": {},
     "output_type": "execute_result"
    }
   ],
   "source": [
    "predict.credible_intervel"
   ]
  },
  {
   "cell_type": "code",
   "execution_count": 51,
   "metadata": {
    "scrolled": true
   },
   "outputs": [
    {
     "data": {
      "text/plain": [
       "3-element Array{Real,1}:\n",
       " 0.8788286705950448\n",
       " 0.18394958935934103\n",
       " 1.548837031430466"
      ]
     },
     "execution_count": 51,
     "metadata": {},
     "output_type": "execute_result"
    }
   ],
   "source": [
    "predict.absolute_error"
   ]
  },
  {
   "cell_type": "code",
   "execution_count": 52,
   "metadata": {},
   "outputs": [
    {
     "data": {
      "text/plain": [
       "3-element Array{Real,1}:\n",
       " -0.8938289428414969\n",
       " -2.6529760490608183\n",
       " -1.1364793759317373"
      ]
     },
     "execution_count": 52,
     "metadata": {},
     "output_type": "execute_result"
    }
   ],
   "source": [
    "predict.negative_log_pred_density"
   ]
  },
  {
   "cell_type": "code",
   "execution_count": 53,
   "metadata": {
    "scrolled": true
   },
   "outputs": [
    {
     "data": {
      "text/plain": [
       "Dict{String,Float64} with 5 entries:\n",
       "  \"time_median\"     => 8.75449\n",
       "  \"time_total\"      => 53.2284\n",
       "  \"time_eval\"       => 0.136463\n",
       "  \"time_preprocess\" => 26.4767\n",
       "  \"time_CI\"         => 16.8319"
      ]
     },
     "execution_count": 53,
     "metadata": {},
     "output_type": "execute_result"
    }
   ],
   "source": [
    "predict.time_cost"
   ]
  },
  {
   "cell_type": "code",
   "execution_count": null,
   "metadata": {},
   "outputs": [],
   "source": []
  },
  {
   "cell_type": "code",
   "execution_count": null,
   "metadata": {},
   "outputs": [],
   "source": []
  },
  {
   "cell_type": "code",
   "execution_count": null,
   "metadata": {},
   "outputs": [],
   "source": []
  },
  {
   "cell_type": "code",
   "execution_count": null,
   "metadata": {},
   "outputs": [],
   "source": []
  }
 ],
 "metadata": {
  "kernelspec": {
   "display_name": "Julia 1.4.1",
   "language": "julia",
   "name": "julia-1.4"
  },
  "language_info": {
   "file_extension": ".jl",
   "mimetype": "application/julia",
   "name": "julia",
   "version": "1.4.1"
  }
 },
 "nbformat": 4,
 "nbformat_minor": 4
}
