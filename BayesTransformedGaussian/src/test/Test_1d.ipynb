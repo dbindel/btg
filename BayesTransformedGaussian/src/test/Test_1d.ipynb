{
 "cells": [
  {
   "cell_type": "code",
   "execution_count": 36,
   "metadata": {
    "scrolled": false
   },
   "outputs": [
    {
     "data": {
      "text/plain": [
       "compute_BO_derivs"
      ]
     },
     "execution_count": 36,
     "metadata": {},
     "output_type": "execute_result"
    }
   ],
   "source": [
    "using LinearAlgebra                                                             \n",
    "using Test                                                                                       \n",
    "using Distributions                                                             \n",
    "using DataFrames                                                                          \n",
    "using CSV                                                                              \n",
    "using Polynomials  \n",
    "using Roots\n",
    "using Plots\n",
    "using StatsFuns\n",
    "using Pkg\n",
    "                                                                                 \n",
    "include(\"../computation/finitedifference.jl\")                                                   \n",
    "include(\"../quadrature/quadrature.jl\")                                             \n",
    "include(\"../transforms/transforms.jl\")                                             \n",
    "include(\"../priors/priors.jl\")                                                     \n",
    "include(\"../bayesopt/incremental.jl\")                                              \n",
    "include(\"../kernels/kernel.jl\")                                                    \n",
    "include(\"../datastructs.jl\")                                                       \n",
    "include(\"../computation/buffers0.jl\") #datastruct, kernel, incremental, quadrature \n",
    "include(\"../model0.jl\") #buffers, datastructs, several auxiliary  \n",
    "# include(\"../model_MC.jl\") #buffers, datastructs, several auxiliary                   \n",
    "include(\"../computation/tdist.jl\") #model0 and buffer0  \n"
   ]
  },
  {
   "cell_type": "code",
   "execution_count": 37,
   "metadata": {},
   "outputs": [
    {
     "data": {
      "text/plain": [
       "covariate_fun (generic function with 1 method)"
      ]
     },
     "execution_count": 37,
     "metadata": {},
     "output_type": "execute_result"
    }
   ],
   "source": [
    "function covariate_fun(x, p)\n",
    "    n = size(x, 1)\n",
    "    d = size(x, 2)\n",
    "    if p == 1\n",
    "        return ones(n, 1)\n",
    "    elseif p == 1 + d\n",
    "        return hcat(ones(n), x)\n",
    "    else\n",
    "         throw(ArgumentError(\"Only support constant or linear convariate.\"))\n",
    "    end\n",
    "end"
   ]
  },
  {
   "cell_type": "code",
   "execution_count": 38,
   "metadata": {},
   "outputs": [
    {
     "data": {
      "text/plain": [
       "test_fun3 (generic function with 1 method)"
      ]
     },
     "execution_count": 38,
     "metadata": {},
     "output_type": "execute_result"
    }
   ],
   "source": [
    "# Data and setup for different tests\n",
    "\n",
    "# choice of covariate functions\n",
    "p = 1\n",
    "p = 2\n",
    "\n",
    "# training\n",
    "x1 = [0., .5, .8, 1., 1.6, 2.]\n",
    "x2 = [0., .5, .8, 1., 2.]\n",
    "x3 = [0., .8, 1., 1.6, 2.]\n",
    "x4 = [0., 1., 1.6, 2.]\n",
    "\n",
    "# testing\n",
    "x01 = .25\n",
    "x02 = 1.2\n",
    "x03 = .5\n",
    "x04 = .6\n",
    "\n",
    "# underlying 1d function\n",
    "test_fun1(x) = sin(x) + 1.1\n",
    "test_fun2(x) = sin(15*x) + (x^2+1) \n",
    "test_fun3(x) = log(x^2+1) + (x^3+x+1)/(exp(x)) "
   ]
  },
  {
   "cell_type": "markdown",
   "metadata": {},
   "source": [
    "# Summary\n",
    "**Settings parameters**: \\\n",
    "p: choices of covariates, p = 1 if constant and p = 2 if linear \\\n",
    "x: training data \\\n",
    "x0: testing data\n",
    "test_fun: underlying function\n",
    "\n",
    "**Tests**:\n",
    "1. p=1 or p=2, x=x1, x0=x01, test_fun=test_fun1 \\\n",
    "    narrow pdf, some quantile comp hard ==> bracketing interval $[0,5]$ works well!\n",
    "2. p=1, x2, x02, test_fun2 \\\n",
    "    pdf very large near 0, so 2.5% quantile estimation gives negative estimate, which is not a good guess and also indicates that 2.5% quantile is extremely small. \n",
    "3. p=1, x3, x03, test_fun3 \\\n",
    "    narrow pdf, median hard ==> bracketing interval $[0,5]$ works well! \\\n",
    "    cdf(0) = 0.02898, 2.5% quantile doesn't exist\n",
    "4. p=1, x4, x04, test_fun1 \\\n",
    "    two-peak pdf, can do mode, some quantile, but two-peak makes computation of CI (equal and narrow) super hard.\n",
    "    \n",
    "**Conclusion**:\n",
    "1. Narrow pdf is the hardest case. Even if quant0 provides relatively good initial guess, find_zero easily goes to negative region, where CDF is not defined. \\\n",
    "Solution: bracketing interval works better than initial guess in root-finding\n",
    "2. cdf(0) > 2.5% makes 2.5% quantile doesn't exist          \n",
    "3. Weird shape: large pdf near 0 and two-peak pdf should be carefully treated. \n",
    " "
   ]
  },
  {
   "cell_type": "code",
   "execution_count": 39,
   "metadata": {
    "scrolled": false
   },
   "outputs": [
    {
     "name": "stdout",
     "output_type": "stream",
     "text": [
      "Prediction at x0 = [0.5]\n",
      "Covariates at x0: [1.0]\n",
      "Should expect peak near [0.752260142876725]\n"
     ]
    }
   ],
   "source": [
    "p = 1 # choose covariate basis function, only support 1 or 1+dim(x)\n",
    "x = x3 # choose training data \n",
    "x0 = x03 # choose testing data\n",
    "test_fun = test_fun1 # choose underlying function\n",
    "\n",
    "x = reshape(x, size(x, 1), 1)\n",
    "x0 = reshape([x0], 1, 1) \n",
    "Fx = covariate_fun(x, p)\n",
    "y = reshape(test_fun.(x), size(x, 1))\n",
    "ymax = maximum(y)\n",
    "y /= ymax\n",
    "trainingData1 = trainingData(x, Fx, y) \n",
    "\n",
    "Fx0 = covariate_fun(x0, p)\n",
    "y0_true = reshape(test_fun.(x0), 1)./ymax\n",
    "println(\"Prediction at x0 = $x0\")\n",
    "println(\"Covariates at x0: $Fx0\")\n",
    "println(\"Should expect peak near $y0_true\")"
   ]
  },
  {
   "cell_type": "code",
   "execution_count": 40,
   "metadata": {
    "collapsed": true,
    "scrolled": false
   },
   "outputs": [],
   "source": [
    "d = getDimension(trainingData1)\n",
    "n = getNumPts(trainingData1)\n",
    "p = getCovDimension(trainingData1)\n",
    "rangeθ = [0.25 100]\n",
    "rangeλ = [0.5 5]\n",
    "type1 = [\"MonteCarlo\", \"MonteCarlo\"]\n",
    "transform = BoxCox()\n",
    "corr = Gaussian()\n",
    "btg1 = btg(trainingData1, rangeθ, rangeλ; quadtype = type1)\n",
    "weightTensorGrid = weight_comp(btg1)\n",
    "pdf1, cdf1, dpdf1, quantInfo1 = solve(btg1);"
   ]
  },
  {
   "cell_type": "code",
   "execution_count": 41,
   "metadata": {
    "collapsed": true
   },
   "outputs": [],
   "source": [
    "btg2 = btg(trainingData1, rangeθ, rangeλ)\n",
    "weightTensorGrid2 = weight_comp(btg2)\n",
    "pdf2, cdf2, dpdf2, quantInfo2 = solve(btg2);"
   ]
  },
  {
   "cell_type": "code",
   "execution_count": 42,
   "metadata": {
    "collapsed": true
   },
   "outputs": [],
   "source": [
    "btg3 = btg(trainingData1, rangeθ, rangeλ; quadtype = [\"MonteCarlo\", \"Gaussian\"])\n",
    "weightTensorGrid3 = weight_comp(btg3)\n",
    "pdf3, cdf3, dpdf3, quantInfo3 = solve(btg3);"
   ]
  },
  {
   "cell_type": "code",
   "execution_count": 43,
   "metadata": {
    "collapsed": true
   },
   "outputs": [],
   "source": [
    "btg4 = btg(trainingData1, rangeθ, rangeλ; quadtype = [\"SparseGrid\", \"Gaussian\"])\n",
    "weightTensorGrid4 = weight_comp(btg4)\n",
    "pdf4, cdf4, dpdf4, quantInfo4 = solve(btg4);"
   ]
  },
  {
   "cell_type": "code",
   "execution_count": 44,
   "metadata": {
    "scrolled": true
   },
   "outputs": [
    {
     "ename": "SystemError",
     "evalue": "SystemError: opening file \"C:\\\\Users\\\\ALBERT~1\\\\AppData\\\\Local\\\\Temp\\\\jl_13C4.tmp.svg\": No such file or directory",
     "output_type": "error",
     "traceback": [
      "SystemError: opening file \"C:\\\\Users\\\\ALBERT~1\\\\AppData\\\\Local\\\\Temp\\\\jl_13C4.tmp.svg\": No such file or directory",
      "",
      "Stacktrace:",
      " [1] #systemerror#44(::Nothing, ::typeof(systemerror), ::String, ::Bool) at .\\error.jl:134",
      " [2] systemerror at .\\error.jl:134 [inlined]",
      " [3] #open#512(::Nothing, ::Nothing, ::Nothing, ::Nothing, ::Nothing, ::typeof(open), ::String) at .\\iostream.jl:254",
      " [4] open at .\\iostream.jl:246 [inlined]",
      " [5] #open#271(::Base.Iterators.Pairs{Union{},Union{},Tuple{},NamedTuple{(),Tuple{}}}, ::typeof(open), ::Base.var\"#280#281\"{String}, ::String) at .\\io.jl:296",
      " [6] open at .\\io.jl:296 [inlined]",
      " [7] read at .\\io.jl:381 [inlined]",
      " [8] _show(::Base.GenericIOBuffer{Array{UInt8,1}}, ::MIME{Symbol(\"image/svg+xml\")}, ::Plots.Plot{Plots.GRBackend}) at C:\\Users\\Albert Huang\\.julia\\packages\\Plots\\vTdnV\\src\\backends\\gr.jl:1924",
      " [9] show(::Base.GenericIOBuffer{Array{UInt8,1}}, ::MIME{Symbol(\"image/svg+xml\")}, ::Plots.Plot{Plots.GRBackend}) at C:\\Users\\Albert Huang\\.julia\\packages\\Plots\\vTdnV\\src\\output.jl:207",
      " [10] #sprint#339(::Nothing, ::Int64, ::typeof(sprint), ::Function, ::MIME{Symbol(\"image/svg+xml\")}, ::Vararg{Any,N} where N) at .\\strings\\io.jl:105",
      " [11] sprint(::Function, ::MIME{Symbol(\"image/svg+xml\")}, ::Vararg{Any,N} where N) at .\\strings\\io.jl:101",
      " [12] _ijulia_display_dict(::Plots.Plot{Plots.GRBackend}) at C:\\Users\\Albert Huang\\.julia\\packages\\Plots\\vTdnV\\src\\ijulia.jl:53",
      " [13] display_dict at C:\\Users\\Albert Huang\\.julia\\packages\\Plots\\vTdnV\\src\\init.jl:83 [inlined]",
      " [14] display(::IJulia.InlineDisplay, ::Plots.Plot{Plots.GRBackend}) at C:\\Users\\Albert Huang\\.julia\\packages\\IJulia\\yLI42\\src\\inline.jl:95",
      " [15] display(::Any) at .\\multimedia.jl:323",
      " [16] #plt#726 at C:\\Users\\Albert Huang\\Desktop\\btg\\BayesTransformedGaussian\\src\\tools\\plotting.jl:23 [inlined]",
      " [17] (::var\"#kw##plt\")(::NamedTuple{(:label,),Tuple{String}}, ::typeof(plt), ::Function, ::Float64, ::Float64, ::Int64) at .\\none:0",
      " [18] top-level scope at In[44]:18"
     ]
    }
   ],
   "source": [
    "#ENV[\"GRDIR\"]=\"\"\n",
    "#Pkg.build(\"GR\")\n",
    "#using Plots\n",
    "# Plot to see the shape of pdf and cdf\n",
    "using PyPlot\n",
    "\n",
    "function plot_func_data(f, a, b, num, label)\n",
    "    r = range(a, b; length = num)\n",
    "    x = collect(r)\n",
    "    y = f.(r)\n",
    "    return (x, y)\n",
    "end\n",
    "\n",
    "dpdf_fixed1 = y0 -> dpdf1(x0, Fx0, y0) \n",
    "pdf_fixed1 = y0 -> pdf1(x0, Fx0, y0)\n",
    "cdf_fixed1 = y0 -> cdf1(x0, Fx0, y0)\n",
    "dpdf_fixed2 = y0 -> dpdf2(x0, Fx0, y0) \n",
    "pdf_fixed2 = y0 -> pdf2(x0, Fx0, y0)\n",
    "cdf_fixed2 = y0 -> cdf2(x0, Fx0, y0)\n",
    "dpdf_fixed3 = y0 -> dpdf3(x0, Fx0, y0) \n",
    "pdf_fixed3 = y0 -> pdf3(x0, Fx0, y0)\n",
    "cdf_fixed3 = y0 -> cdf3(x0, Fx0, y0)\n",
    "dpdf_fixed4 = y0 -> dpdf4(x0, Fx0, y0) \n",
    "pdf_fixed4 = y0 -> pdf4(x0, Fx0, y0)\n",
    "cdf_fixed4 = y0 -> cdf4(x0, Fx0, y0)\n",
    "a = 1e-3; b = 1\n",
    "\n",
    "(x, y) = plot_func_data(cdf_fixed1, a, b, 200, )\n",
    "\n",
    "\n",
    "plt(cdf_fixed1, a, b, 200, label = \"MC\")\n",
    "plt!(cdf_fixed2, a, b, 200, label = \"Gaussian\")\n",
    "plt!(cdf_fixed3, a, b, 200, label = \"MC+Gaussian\")\n",
    "#plt!(cdf_fixed4, a, b, 200, label = \"Sparse+Gaussian\")"
   ]
  },
  {
   "cell_type": "code",
   "execution_count": 45,
   "metadata": {
    "scrolled": false
   },
   "outputs": [
    {
     "ename": "SystemError",
     "evalue": "SystemError: opening file \"C:\\\\Users\\\\ALBERT~1\\\\AppData\\\\Local\\\\Temp\\\\jl_C986.tmp.svg\": No such file or directory",
     "output_type": "error",
     "traceback": [
      "SystemError: opening file \"C:\\\\Users\\\\ALBERT~1\\\\AppData\\\\Local\\\\Temp\\\\jl_C986.tmp.svg\": No such file or directory",
      "",
      "Stacktrace:",
      " [1] #systemerror#44(::Nothing, ::typeof(systemerror), ::String, ::Bool) at .\\error.jl:134",
      " [2] systemerror at .\\error.jl:134 [inlined]",
      " [3] #open#512(::Nothing, ::Nothing, ::Nothing, ::Nothing, ::Nothing, ::typeof(open), ::String) at .\\iostream.jl:254",
      " [4] open at .\\iostream.jl:246 [inlined]",
      " [5] #open#271(::Base.Iterators.Pairs{Union{},Union{},Tuple{},NamedTuple{(),Tuple{}}}, ::typeof(open), ::Base.var\"#280#281\"{String}, ::String) at .\\io.jl:296",
      " [6] open at .\\io.jl:296 [inlined]",
      " [7] read at .\\io.jl:381 [inlined]",
      " [8] _show(::Base.GenericIOBuffer{Array{UInt8,1}}, ::MIME{Symbol(\"image/svg+xml\")}, ::Plots.Plot{Plots.GRBackend}) at C:\\Users\\Albert Huang\\.julia\\packages\\Plots\\vTdnV\\src\\backends\\gr.jl:1924",
      " [9] show(::Base.GenericIOBuffer{Array{UInt8,1}}, ::MIME{Symbol(\"image/svg+xml\")}, ::Plots.Plot{Plots.GRBackend}) at C:\\Users\\Albert Huang\\.julia\\packages\\Plots\\vTdnV\\src\\output.jl:207",
      " [10] #sprint#339(::Nothing, ::Int64, ::typeof(sprint), ::Function, ::MIME{Symbol(\"image/svg+xml\")}, ::Vararg{Any,N} where N) at .\\strings\\io.jl:105",
      " [11] sprint(::Function, ::MIME{Symbol(\"image/svg+xml\")}, ::Vararg{Any,N} where N) at .\\strings\\io.jl:101",
      " [12] _ijulia_display_dict(::Plots.Plot{Plots.GRBackend}) at C:\\Users\\Albert Huang\\.julia\\packages\\Plots\\vTdnV\\src\\ijulia.jl:53",
      " [13] display_dict at C:\\Users\\Albert Huang\\.julia\\packages\\Plots\\vTdnV\\src\\init.jl:83 [inlined]",
      " [14] display(::IJulia.InlineDisplay, ::Plots.Plot{Plots.GRBackend}) at C:\\Users\\Albert Huang\\.julia\\packages\\IJulia\\yLI42\\src\\inline.jl:95",
      " [15] display(::Any) at .\\multimedia.jl:323",
      " [16] #plt#726 at C:\\Users\\Albert Huang\\Desktop\\btg\\BayesTransformedGaussian\\src\\tools\\plotting.jl:23 [inlined]",
      " [17] (::var\"#kw##plt\")(::NamedTuple{(:label,),Tuple{String}}, ::typeof(plt), ::Function, ::Float64, ::Float64, ::Int64) at .\\none:0",
      " [18] top-level scope at In[45]:1"
     ]
    }
   ],
   "source": [
    "plt(pdf_fixed1, a, b, 200, label = \"MC\")\n",
    "plt!(pdf_fixed2, a, b, 200, label = \"Gaussian\")\n",
    "plt!(pdf_fixed3, a, b, 200, label = \"MC+Gaussian\")\n",
    "#plt!(pdf_fixed4, a, b, 200, label = \"Sparse+Gaussian\")"
   ]
  },
  {
   "cell_type": "markdown",
   "metadata": {},
   "source": [
    "# Quantile computation"
   ]
  },
  {
   "cell_type": "code",
   "execution_count": 46,
   "metadata": {
    "scrolled": true
   },
   "outputs": [
    {
     "data": {
      "text/plain": [
       "credible_interval (generic function with 3 methods)"
      ]
     },
     "execution_count": 46,
     "metadata": {},
     "output_type": "execute_result"
    }
   ],
   "source": [
    "#include(\"test_quantile.jl\")\n",
    "include(\"../statistics.jl\")"
   ]
  },
  {
   "cell_type": "code",
   "execution_count": 47,
   "metadata": {
    "scrolled": true
   },
   "outputs": [
    {
     "name": "stdout",
     "output_type": "stream",
     "text": [
      "Estimated support of pdf: support\n",
      "MC: support\n",
      "Gaussian: [0.001, 5.0]\n",
      "MonteCarlo + Gaussian: [0.001, 6.0]\n",
      "SparseGrid + Gaussian: [0.001, 5.0]\n"
     ]
    }
   ],
   "source": [
    "# preprocess output from solve(btg)\n",
    "pdf_fixed1, cdf_fixed1, dpdf_fixed1, quant01, support1 = pre_process(x0, Fx0, pdf1, cdf1, dpdf1, quantInfo1[1]);\n",
    "pdf_fixed2, cdf_fixed2, dpdf_fixed2, quant02, support2 = pre_process(x0, Fx0, pdf2, cdf2, dpdf2, quantInfo2[1]);\n",
    "pdf_fixed3, cdf_fixed3, dpdf_fixed3, quant03, support3 = pre_process(x0, Fx0, pdf3, cdf3, dpdf3, quantInfo3[1]);\n",
    "pdf_fixed4, cdf_fixed4, dpdf_fixed4, quant04, support4 = pre_process(x0, Fx0, pdf4, cdf4, dpdf4, quantInfo4[1]);\n",
    "\n",
    "println(\"Estimated support of pdf: $support\")\n",
    "println(\"MC: $support\")\n",
    "println(\"Gaussian: $support2\")\n",
    "println(\"MonteCarlo + Gaussian: $support3\")\n",
    "println(\"SparseGrid + Gaussian: $support4\")"
   ]
  },
  {
   "cell_type": "code",
   "execution_count": 48,
   "metadata": {
    "scrolled": false
   },
   "outputs": [
    {
     "data": {
      "text/plain": [
       "(quantile = (level = 0.8, value = 0.7547756541277668, error = 8.326672684688674e-16), median = (value = 0.7515673123303459, error = 2.531308496145357e-14), mode = 0.7517050874088361, CIequal = (equal = [0.5706489563216154, 1.0178081270532913], error = 0.0), CInarrow = nothing)"
      ]
     },
     "execution_count": 48,
     "metadata": {},
     "output_type": "execute_result"
    }
   ],
   "source": [
    "DistributionInfo1 = summary_comp(pdf_fixed1, cdf_fixed1, dpdf_fixed1, quant01, support1; px = .8)"
   ]
  },
  {
   "cell_type": "code",
   "execution_count": 49,
   "metadata": {
    "scrolled": true
   },
   "outputs": [
    {
     "data": {
      "text/plain": [
       "(quantile = (level = 0.8, value = 0.7662508524858124, error = 1.3877787807814457e-16), median = (value = 0.7520702510511227, error = 9.769962616701378e-15), mode = 0.7516625543907569, CIequal = (equal = [0.4597959620802886, 1.0499030392881572], error = 1.1686558153949016e-16), CInarrow = nothing)"
      ]
     },
     "execution_count": 49,
     "metadata": {},
     "output_type": "execute_result"
    }
   ],
   "source": [
    "DistributionInfo2 = summary_comp(pdf_fixed2, cdf_fixed2, dpdf_fixed2, quant02, support2; px = .8)"
   ]
  },
  {
   "cell_type": "code",
   "execution_count": 50,
   "metadata": {
    "scrolled": true
   },
   "outputs": [
    {
     "ename": "ArgumentError",
     "evalue": "ArgumentError: The interval [a,b] is not a bracketing interval.\nYou need f(a) and f(b) to have different signs (f(a) * f(b) < 0).\nConsider a different bracket or try fzero(f, c) with an initial guess c.\n\n",
     "output_type": "error",
     "traceback": [
      "ArgumentError: The interval [a,b] is not a bracketing interval.\nYou need f(a) and f(b) to have different signs (f(a) * f(b) < 0).\nConsider a different bracket or try fzero(f, c) with an initial guess c.\n\n",
      "",
      "Stacktrace:",
      " [1] init_state(::Bisection, ::Roots.DerivativeFree{Roots.FnWrapper}, ::Tuple{Float64,Float64}) at C:\\Users\\Albert Huang\\.julia\\packages\\Roots\\J9LJJ\\src\\bracketing.jl:81",
      " [2] #find_zero#8(::Roots.NullTracks, ::Bool, ::Base.Iterators.Pairs{Union{},Union{},Tuple{},NamedTuple{(),Tuple{}}}, ::typeof(find_zero), ::Roots.FnWrapper, ::Tuple{Float64,Float64}, ::Bisection) at C:\\Users\\Albert Huang\\.julia\\packages\\Roots\\J9LJJ\\src\\bracketing.jl:319",
      " [3] #fzero#49 at C:\\Users\\Albert Huang\\.julia\\packages\\Roots\\J9LJJ\\src\\bracketing.jl:316 [inlined]",
      " [4] fzero at C:\\Users\\Albert Huang\\.julia\\packages\\Roots\\J9LJJ\\src\\fzero.jl:77 [inlined]",
      " [5] #fzero#50 at C:\\Users\\Albert Huang\\.julia\\packages\\Roots\\J9LJJ\\src\\fzero.jl:85 [inlined]",
      " [6] fzero at C:\\Users\\Albert Huang\\.julia\\packages\\Roots\\J9LJJ\\src\\fzero.jl:85 [inlined]",
      " [7] #quantile#858(::Nothing, ::Float64, ::typeof(quantile), ::Function, ::var\"#cdf_fixed#853\"{Array{Float64,2},Array{Float64,2},var\"#702#719\"{btg,Array{Float64,2},Array{Float64,2},var\"#evalgrid_cdf!#712\"{Array{Function,2},SubArray{Float64,2,Array{Float64,2},Tuple{Base.Slice{Base.OneTo{Int64}},Base.Slice{Base.OneTo{Int64}}},true},var\"#evalgrid!#709\"{CartesianIndices{2,Tuple{Base.OneTo{Int64},Base.OneTo{Int64}}}}},var\"#checkInput#716\"}}, ::var\"#quant0_estimate#851\"{Array{Float64,2},Array{Float64,2},var\"#708#725\"{var\"#703#720\"{Array{Float64,2},Array{Float64,2},var\"#evalgrid_m!#713\"{Array{Function,2},SubArray{Float64,2,Array{Float64,2},Tuple{Base.Slice{Base.OneTo{Int64}},Base.Slice{Base.OneTo{Int64}}},true},var\"#evalgrid!#709\"{CartesianIndices{2,Tuple{Base.OneTo{Int64},Base.OneTo{Int64}}}}}},Int64,var\"#707#724\"{var\"#706#723\"{var\"#703#720\"{Array{Float64,2},Array{Float64,2},var\"#evalgrid_m!#713\"{Array{Function,2},SubArray{Float64,2,Array{Float64,2},Tuple{Base.Slice{Base.OneTo{Int64}},Base.Slice{Base.OneTo{Int64}}},true},var\"#evalgrid!#709\"{CartesianIndices{2,Tuple{Base.OneTo{Int64},Base.OneTo{Int64}}}}}},var\"#704#721\"{Array{Float64,2},Array{Float64,2},var\"#evalgrid_sigma_m!#714\"{Array{Function,2},SubArray{Float64,2,Array{Float64,2},Tuple{Base.Slice{Base.OneTo{Int64}},Base.Slice{Base.OneTo{Int64}}},true},var\"#evalgrid!#709\"{CartesianIndices{2,Tuple{Base.OneTo{Int64},Base.OneTo{Int64}}}}}}},Int64}}}, ::Array{Float64,1}) at C:\\Users\\Albert Huang\\Desktop\\btg\\BayesTransformedGaussian\\src\\statistics.jl:70",
      " [8] (::var\"#kw##quantile\")(::NamedTuple{(:p,),Tuple{Float64}}, ::typeof(quantile), ::Function, ::Function, ::Function, ::Array{Float64,1}) at .\\none:0",
      " [9] #credible_interval#865(::Nothing, ::Float64, ::typeof(credible_interval), ::Function, ::var\"#cdf_fixed#853\"{Array{Float64,2},Array{Float64,2},var\"#702#719\"{btg,Array{Float64,2},Array{Float64,2},var\"#evalgrid_cdf!#712\"{Array{Function,2},SubArray{Float64,2,Array{Float64,2},Tuple{Base.Slice{Base.OneTo{Int64}},Base.Slice{Base.OneTo{Int64}}},true},var\"#evalgrid!#709\"{CartesianIndices{2,Tuple{Base.OneTo{Int64},Base.OneTo{Int64}}}}},var\"#checkInput#716\"}}, ::Function, ::Array{Float64,1}, ::Val{:equal}) at C:\\Users\\Albert Huang\\Desktop\\btg\\BayesTransformedGaussian\\src\\statistics.jl:92",
      " [10] (::var\"#kw##credible_interval\")(::NamedTuple{(:pdf_deriv, :wp),Tuple{Nothing,Float64}}, ::typeof(credible_interval), ::Function, ::Function, ::Function, ::Array{Float64,1}, ::Val{:equal}) at .\\none:0",
      " [11] #credible_interval#864(::Nothing, ::Float64, ::Symbol, ::typeof(credible_interval), ::Function, ::Function, ::Function, ::Array{Float64,1}) at C:\\Users\\Albert Huang\\Desktop\\btg\\BayesTransformedGaussian\\src\\statistics.jl:85",
      " [12] #credible_interval at .\\none:0 [inlined]",
      " [13] #summary_comp#856(::Float64, ::Float64, ::typeof(summary_comp), ::Function, ::Function, ::Function, ::Function, ::Array{Float64,1}) at C:\\Users\\Albert Huang\\Desktop\\btg\\BayesTransformedGaussian\\src\\statistics.jl:43",
      " [14] (::var\"#kw##summary_comp\")(::NamedTuple{(:px,),Tuple{Float64}}, ::typeof(summary_comp), ::Function, ::Function, ::Function, ::Function, ::Array{Float64,1}) at .\\none:0",
      " [15] top-level scope at In[50]:1"
     ]
    }
   ],
   "source": [
    "DistributionInfo3 = summary_comp(pdf_fixed3, cdf_fixed3, dpdf_fixed3, quant03, support3; px = .8)"
   ]
  },
  {
   "cell_type": "code",
   "execution_count": 51,
   "metadata": {},
   "outputs": [
    {
     "data": {
      "text/plain": [
       "(quantile = (level = 0.8, value = 0.8061367393503874, error = 1.3877787807814457e-16), median = (value = 0.7523111349684419, error = 8.881784197001252e-16), mode = 0.7503309997185637, CIequal = (equal = [0.2967888423187095, 1.071796808792855], error = 0.0), CInarrow = nothing)"
      ]
     },
     "execution_count": 51,
     "metadata": {},
     "output_type": "execute_result"
    }
   ],
   "source": [
    "DistributionInfo4 = summary_comp(pdf_fixed4, cdf_fixed4, dpdf_fixed4, quant04, support4; px = .8)"
   ]
  },
  {
   "cell_type": "code",
   "execution_count": null,
   "metadata": {
    "collapsed": true
   },
   "outputs": [],
   "source": []
  }
 ],
 "metadata": {
  "kernelspec": {
   "display_name": "Julia 1.3.1",
   "language": "julia",
   "name": "julia-1.3"
  },
  "language_info": {
   "file_extension": ".jl",
   "mimetype": "application/julia",
   "name": "julia",
   "version": "1.3.1"
  }
 },
 "nbformat": 4,
 "nbformat_minor": 2
}
