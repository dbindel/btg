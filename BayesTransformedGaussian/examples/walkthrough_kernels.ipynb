{
 "cells": [
  {
   "cell_type": "code",
   "execution_count": 111,
   "metadata": {},
   "outputs": [],
   "source": [
    "include(\"../src/kernels/kernel.jl\")"
   ]
  },
  {
   "cell_type": "code",
   "execution_count": 112,
   "metadata": {},
   "outputs": [
    {
     "name": "stdout",
     "output_type": "stream",
     "text": [
      "[0.0 24.0; 24.0 0.0]\n"
     ]
    }
   ],
   "source": [
    "println(distancematrix(Gaussian(), [1, 2, 3] ,[3 4 5; 1 2 3]))"
   ]
  },
  {
   "cell_type": "markdown",
   "metadata": {},
   "source": [
    "The following code throws an error, because the array-type input for the length scale variable (second input) indicates that multiple length scales should be used. However, only one number is supplied."
   ]
  },
  {
   "cell_type": "code",
   "execution_count": 113,
   "metadata": {},
   "outputs": [
    {
     "ename": "AssertionError",
     "evalue": "AssertionError: max(size(θ, 1), size(θ, 2)) == size(x, 2) == size(y, 2)",
     "output_type": "error",
     "traceback": [
      "AssertionError: max(size(θ, 1), size(θ, 2)) == size(x, 2) == size(y, 2)",
      "",
      "Stacktrace:",
      " [1] #computeDists!#161(::Int64, ::typeof(computeDists!), ::Array{Float64,2}, ::Gaussian, ::Array{Int64,1}, ::Array{Int64,2}, ::Array{Int64,2}) at C:\\Users\\Albert Huang\\Desktop\\btg\\BayesTransformedGaussian\\src\\kernels\\kernel.jl:42",
      " [2] #computeDists! at .\\none:0 [inlined]",
      " [3] #distancematrix#160 at C:\\Users\\Albert Huang\\Desktop\\btg\\BayesTransformedGaussian\\src\\kernels\\kernel.jl:32 [inlined]",
      " [4] distancematrix at C:\\Users\\Albert Huang\\Desktop\\btg\\BayesTransformedGaussian\\src\\kernels\\kernel.jl:31 [inlined] (repeats 2 times)",
      " [5] top-level scope at In[113]:1"
     ]
    }
   ],
   "source": [
    "distancematrix(Gaussian(), [2], [3 4 5; 1 2 3])\n"
   ]
  },
  {
   "cell_type": "markdown",
   "metadata": {},
   "source": [
    "Instead, we should input [2] as a scalar 2, so that it's interpreted as a single length scale"
   ]
  },
  {
   "cell_type": "code",
   "execution_count": 114,
   "metadata": {},
   "outputs": [
    {
     "data": {
      "text/plain": [
       "2×2 Array{Float64,2}:\n",
       "  0.0  12.0\n",
       " 12.0   0.0"
      ]
     },
     "execution_count": 114,
     "metadata": {},
     "output_type": "execute_result"
    }
   ],
   "source": [
    "distancematrix(Gaussian(), 2, [3 4 5; 1 2 3])"
   ]
  },
  {
   "cell_type": "code",
   "execution_count": 115,
   "metadata": {},
   "outputs": [
    {
     "data": {
      "text/plain": [
       "1×1 Array{Float64,2}:\n",
       " 0.049787068367863944"
      ]
     },
     "execution_count": 115,
     "metadata": {},
     "output_type": "execute_result"
    }
   ],
   "source": [
    "cross_correlation(Gaussian(), 2, [1 2 3], [2 3 4])"
   ]
  },
  {
   "cell_type": "code",
   "execution_count": 116,
   "metadata": {},
   "outputs": [
    {
     "data": {
      "text/plain": [
       "3×3 Array{Float64,2}:\n",
       " 0.367879  0.0183156  0.00012341\n",
       " 1.0       0.367879   0.0183156 \n",
       " 0.367879  1.0        0.367879  "
      ]
     },
     "execution_count": 116,
     "metadata": {},
     "output_type": "execute_result"
    }
   ],
   "source": [
    "cross_correlation(Gaussian(), 2, [1; 2; 3], [2; 3; 4])"
   ]
  },
  {
   "cell_type": "code",
   "execution_count": 117,
   "metadata": {},
   "outputs": [
    {
     "data": {
      "text/plain": [
       "3×3 Array{Float64,2}:\n",
       " 0.606531  0.135335  0.011109\n",
       " 1.0       0.606531  0.135335\n",
       " 0.606531  1.0       0.606531"
      ]
     },
     "execution_count": 117,
     "metadata": {},
     "output_type": "execute_result"
    }
   ],
   "source": [
    "cross_correlation(Gaussian(), [1], [1; 2; 3], [2; 3; 4])"
   ]
  },
  {
   "cell_type": "code",
   "execution_count": 118,
   "metadata": {},
   "outputs": [
    {
     "data": {
      "text/plain": [
       "3×3 Array{Float64,2}:\n",
       " 0.0497871  6.14421e-6  1.87953e-12\n",
       " 1.0        0.0497871   6.14421e-6 \n",
       " 0.0497871  1.0         0.0497871  "
      ]
     },
     "execution_count": 118,
     "metadata": {},
     "output_type": "execute_result"
    }
   ],
   "source": [
    "cross_correlation(Gaussian(), [1, 2 ,3], [1 1.1 1.2; 2 2.1 2.2; 3 3.1 3.2], [2 2.1 2.2; 3 3.1 3.2; 4 4.1 4.2])"
   ]
  },
  {
   "cell_type": "code",
   "execution_count": 119,
   "metadata": {},
   "outputs": [
    {
     "data": {
      "text/plain": [
       "3×3 Array{Float64,2}:\n",
       " 1.0        0.367879  0.0183156\n",
       " 0.367879   1.0       0.367879 \n",
       " 0.0183156  0.367879  1.0      "
      ]
     },
     "execution_count": 119,
     "metadata": {},
     "output_type": "execute_result"
    }
   ],
   "source": [
    "correlation(Gaussian(), 2, [1; 2; 3])"
   ]
  },
  {
   "cell_type": "code",
   "execution_count": null,
   "metadata": {
    "collapsed": true
   },
   "outputs": [],
   "source": [
    "cross_correlation(Gaussian(), 2, [1; 2; 3], [2;3;4])"
   ]
  },
  {
   "cell_type": "code",
   "execution_count": null,
   "metadata": {
    "collapsed": true
   },
   "outputs": [],
   "source": []
  },
  {
   "cell_type": "code",
   "execution_count": null,
   "metadata": {
    "collapsed": true
   },
   "outputs": [],
   "source": []
  },
  {
   "cell_type": "code",
   "execution_count": null,
   "metadata": {
    "collapsed": true
   },
   "outputs": [],
   "source": []
  }
 ],
 "metadata": {
  "kernelspec": {
   "display_name": "Julia 1.3.1",
   "language": "julia",
   "name": "julia-1.3"
  },
  "language_info": {
   "file_extension": ".jl",
   "mimetype": "application/julia",
   "name": "julia",
   "version": "1.3.1"
  }
 },
 "nbformat": 4,
 "nbformat_minor": 2
}
