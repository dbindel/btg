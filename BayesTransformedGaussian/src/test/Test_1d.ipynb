{
 "cells": [
  {
   "cell_type": "code",
   "execution_count": 34,
   "metadata": {
    "scrolled": false
   },
   "outputs": [
    {
     "name": "stdout",
     "output_type": "stream",
     "text": [
      "\u001b[32m\u001b[1m  Updating\u001b[22m\u001b[39m registry at `C:\\Users\\Albert Huang\\.julia\\registries\\General`\n",
      "\u001b[32m\u001b[1m  Updating\u001b[22m\u001b[39m git-repo `https://github.com/JuliaRegistries/General.git`\n",
      "\u001b[?25l\u001b[2K\u001b[?25h\u001b[32m\u001b[1m Resolving\u001b[22m\u001b[39m package versions...\n",
      "\u001b[32m\u001b[1m Installed\u001b[22m\u001b[39m OpenSSL_jll ─── v1.1.1+2\n",
      "\u001b[32m\u001b[1m Installed\u001b[22m\u001b[39m libass_jll ──── v0.14.0+1\n",
      "\u001b[32m\u001b[1m Installed\u001b[22m\u001b[39m GeometryTypes ─ v0.8.2\n",
      "\u001b[32m\u001b[1m  Updating\u001b[22m\u001b[39m `C:\\Users\\Albert Huang\\Desktop\\btg\\BayesTransformedGaussian\\Project.toml`\n",
      " \u001b[90m [ed01d8cd]\u001b[39m\u001b[92m + Sobol v1.3.0\u001b[39m\n",
      "\u001b[32m\u001b[1m  Updating\u001b[22m\u001b[39m `C:\\Users\\Albert Huang\\Desktop\\btg\\BayesTransformedGaussian\\Manifest.toml`\n",
      " \u001b[90m [68821587]\u001b[39m\u001b[93m ↑ Arpack_jll v3.5.0+2 ⇒ v3.5.0+3\u001b[39m\n",
      " \u001b[90m [4fba245c]\u001b[39m\u001b[93m ↑ ArrayInterface v2.6.1 ⇒ v2.8.3\u001b[39m\n",
      " \u001b[90m [6e34b625]\u001b[39m\u001b[93m ↑ Bzip2_jll v1.0.6+1 ⇒ v1.0.6+2\u001b[39m\n",
      " \u001b[90m [e66e0078]\u001b[39m\u001b[93m ↑ CompilerSupportLibraries_jll v0.3.1+0 ⇒ v0.3.3+0\u001b[39m\n",
      " \u001b[90m [864edb3b]\u001b[39m\u001b[93m ↑ DataStructures v0.17.10 ⇒ v0.17.11\u001b[39m\n",
      " \u001b[90m [f5851436]\u001b[39m\u001b[93m ↑ FFTW_jll v3.3.9+4 ⇒ v3.3.9+5\u001b[39m\n",
      " \u001b[90m [1a297f60]\u001b[39m\u001b[93m ↑ FillArrays v0.8.5 ⇒ v0.8.7\u001b[39m\n",
      " \u001b[90m [f6369f11]\u001b[39m\u001b[93m ↑ ForwardDiff v0.10.9 ⇒ v0.10.10\u001b[39m\n",
      " \u001b[90m [d7e528f0]\u001b[39m\u001b[93m ↑ FreeType2_jll v2.10.1+1 ⇒ v2.10.1+2\u001b[39m\n",
      " \u001b[90m [4d00f742]\u001b[39m\u001b[93m ↑ GeometryTypes v0.7.6 ⇒ v0.8.2\u001b[39m\n",
      " \u001b[90m [c8e1da08]\u001b[39m\u001b[91m - IterTools v1.3.0\u001b[39m\n",
      " \u001b[90m [4536629a]\u001b[39m\u001b[93m ↑ OpenBLAS_jll v0.3.7+8 ⇒ v0.3.9+2\u001b[39m\n",
      " \u001b[90m [458c3c95]\u001b[39m\u001b[93m ↑ OpenSSL_jll v1.1.1+1 ⇒ v1.1.1+2\u001b[39m\n",
      " \u001b[90m [ccf2f8ad]\u001b[39m\u001b[93m ↑ PlotThemes v1.0.1 ⇒ v1.0.3\u001b[39m\n",
      " \u001b[90m [995b91a9]\u001b[39m\u001b[93m ↑ PlotUtils v0.6.4 ⇒ v0.6.5\u001b[39m\n",
      " \u001b[90m [ed01d8cd]\u001b[39m\u001b[92m + Sobol v1.3.0\u001b[39m\n",
      " \u001b[90m [83775a58]\u001b[39m\u001b[93m ↑ Zlib_jll v1.2.11+8 ⇒ v1.2.11+9\u001b[39m\n",
      " \u001b[90m [0ac62f75]\u001b[39m\u001b[93m ↑ libass_jll v0.14.0+0 ⇒ v0.14.0+1\u001b[39m\n"
     ]
    },
    {
     "data": {
      "text/plain": [
       "compute_BO_derivs"
      ]
     },
     "execution_count": 34,
     "metadata": {},
     "output_type": "execute_result"
    }
   ],
   "source": [
    "using LinearAlgebra                                                             \n",
    "using Test                                                                                       \n",
    "using Distributions                                                             \n",
    "using DataFrames                                                                          \n",
    "using CSV                                                                              \n",
    "using Polynomials  \n",
    "using Roots\n",
    "using Plots\n",
    "using StatsFuns\n",
    "using Pkg\n",
    "Pkg.add(\"Sobol\")\n",
    "\n",
    "                                                                                 \n",
    "include(\"../computation/finitedifference.jl\")                                                   \n",
    "include(\"../quadrature/quadrature.jl\")                                             \n",
    "include(\"../transforms/transforms.jl\")                                             \n",
    "include(\"../priors/priors.jl\")                                                     \n",
    "include(\"../bayesopt/incremental.jl\")                                              \n",
    "include(\"../kernels/kernel.jl\")                                                    \n",
    "include(\"../datastructs.jl\")                                                       \n",
    "include(\"../computation/buffers0.jl\") #datastruct, kernel, incremental, quadrature \n",
    "include(\"../model0.jl\") #buffers, datastructs, several auxiliary  \n",
    "# include(\"../model_MC.jl\") #buffers, datastructs, several auxiliary                   \n",
    "include(\"../computation/tdist.jl\") #model0 and buffer0  \n"
   ]
  },
  {
   "cell_type": "code",
   "execution_count": 35,
   "metadata": {},
   "outputs": [
    {
     "data": {
      "text/plain": [
       "covariate_fun (generic function with 1 method)"
      ]
     },
     "execution_count": 35,
     "metadata": {},
     "output_type": "execute_result"
    }
   ],
   "source": [
    "function covariate_fun(x, p)\n",
    "    n = size(x, 1)\n",
    "    d = size(x, 2)\n",
    "    if p == 1\n",
    "        return ones(n, 1)\n",
    "    elseif p == 1 + d\n",
    "        return hcat(ones(n), x)\n",
    "    else\n",
    "         throw(ArgumentError(\"Only support constant or linear convariate.\"))\n",
    "    end\n",
    "end"
   ]
  },
  {
   "cell_type": "code",
   "execution_count": 36,
   "metadata": {},
   "outputs": [
    {
     "data": {
      "text/plain": [
       "test_fun3 (generic function with 1 method)"
      ]
     },
     "execution_count": 36,
     "metadata": {},
     "output_type": "execute_result"
    }
   ],
   "source": [
    "# Data and setup for different tests\n",
    "\n",
    "# choice of covariate functions\n",
    "p = 1\n",
    "p = 2\n",
    "\n",
    "# training\n",
    "x1 = [0., .5, .8, 1., 1.6, 2.]\n",
    "x2 = [0., .5, .8, 1., 2.]\n",
    "x3 = [0., .8, 1., 1.6, 2.]\n",
    "x4 = [0., 1., 1.6, 2.]\n",
    "\n",
    "# testing\n",
    "x01 = .25\n",
    "x02 = 1.2\n",
    "x03 = .5\n",
    "x04 = .6\n",
    "\n",
    "# underlying 1d function\n",
    "test_fun1(x) = sin(x) + 1.1\n",
    "test_fun2(x) = sin(15*x) + (x^2+1) \n",
    "test_fun3(x) = log(x^2+1) + (x^3+x+1)/(exp(x)) "
   ]
  },
  {
   "cell_type": "markdown",
   "metadata": {},
   "source": [
    "# Summary\n",
    "**Settings parameters**: \\\n",
    "p: choices of covariates, p = 1 if constant and p = 2 if linear \\\n",
    "x: training data \\\n",
    "x0: testing data\n",
    "test_fun: underlying function\n",
    "\n",
    "**Tests**:\n",
    "1. p=1 or p=2, x=x1, x0=x01, test_fun=test_fun1 \\\n",
    "    narrow pdf, some quantile comp hard ==> bracketing interval $[0,5]$ works well!\n",
    "2. p=1, x2, x02, test_fun2 \\\n",
    "    pdf very large near 0, so 2.5% quantile estimation gives negative estimate, which is not a good guess and also indicates that 2.5% quantile is extremely small. \n",
    "3. p=1, x3, x03, test_fun3 \\\n",
    "    narrow pdf, median hard ==> bracketing interval $[0,5]$ works well! \\\n",
    "    cdf(0) = 0.02898, 2.5% quantile doesn't exist\n",
    "4. p=1, x4, x04, test_fun1 \\\n",
    "    two-peak pdf, can do mode, some quantile, but two-peak makes computation of CI (equal and narrow) super hard.\n",
    "    \n",
    "**Conclusion**:\n",
    "1. Narrow pdf is the hardest case. Even if quant0 provides relatively good initial guess, find_zero easily goes to negative region, where CDF is not defined. \\\n",
    "Solution: bracketing interval works better than initial guess in root-finding\n",
    "2. cdf(0) > 2.5% makes 2.5% quantile doesn't exist          \n",
    "3. Weird shape: large pdf near 0 and two-peak pdf should be carefully treated. \n",
    " "
   ]
  },
  {
   "cell_type": "code",
   "execution_count": 37,
   "metadata": {
    "scrolled": false
   },
   "outputs": [
    {
     "name": "stdout",
     "output_type": "stream",
     "text": [
      "Prediction at x0 = [0.5]\n",
      "Covariates at x0: [1.0]\n",
      "Should expect peak near [0.752260142876725]\n"
     ]
    }
   ],
   "source": [
    "p = 1 # choose covariate basis function, only support 1 or 1+dim(x)\n",
    "x = x3 # choose training data \n",
    "x0 = x03 # choose testing data\n",
    "test_fun = test_fun1 # choose underlying function\n",
    "\n",
    "x = reshape(x, size(x, 1), 1)\n",
    "x0 = reshape([x0], 1, 1) \n",
    "Fx = covariate_fun(x, p)\n",
    "y = reshape(test_fun.(x), size(x, 1))\n",
    "ymax = maximum(y)\n",
    "y /= ymax\n",
    "trainingData1 = trainingData(x, Fx, y) \n",
    "\n",
    "Fx0 = covariate_fun(x0, p)\n",
    "y0_true = reshape(test_fun.(x0), 1)./ymax\n",
    "println(\"Prediction at x0 = $x0\")\n",
    "println(\"Covariates at x0: $Fx0\")\n",
    "println(\"Should expect peak near $y0_true\")"
   ]
  },
  {
   "cell_type": "code",
   "execution_count": 39,
   "metadata": {
    "scrolled": false
   },
   "outputs": [],
   "source": [
    "d = getDimension(trainingData1)\n",
    "n = getNumPts(trainingData1)\n",
    "p = getCovDimension(trainingData1)\n",
    "rangeθ = [0.25 100]\n",
    "rangeλ = [0.5 5]\n",
    "\n",
    "btg1 = btg(trainingData1, rangeθ, rangeλ; quadtype = [\"MonteCarlo\", \"MonteCarlo\"])\n",
    "weightTensorGrid = weight_comp(btg1)\n",
    "pdf1, cdf1, dpdf1, quantInfo = solve(btg1);"
   ]
  },
  {
   "cell_type": "code",
   "execution_count": 40,
   "metadata": {},
   "outputs": [],
   "source": [
    "btg2 = btg(trainingData1, rangeθ, rangeλ)\n",
    "weightTensorGrid2 = weight_comp(btg2)\n",
    "pdf2, cdf2, dpdf2, quantInfo2 = solve(btg2);"
   ]
  },
  {
   "cell_type": "code",
   "execution_count": 41,
   "metadata": {},
   "outputs": [],
   "source": [
    "btg3 = btg(trainingData1, rangeθ, rangeλ; quadtype = [\"MonteCarlo\", \"Gaussian\"])\n",
    "weightTensorGrid3 = weight_comp(btg3)\n",
    "pdf3, cdf3, dpdf3, quantInfo3 = solve(btg3);"
   ]
  },
  {
   "cell_type": "code",
   "execution_count": 53,
   "metadata": {
    "scrolled": true
   },
   "outputs": [
    {
     "name": "stdout",
     "output_type": "stream",
     "text": [
      "\u001b[32m\u001b[1m  Building\u001b[22m\u001b[39m GR → `C:\\Users\\Albert Huang\\.julia\\packages\\GR\\yMV3y\\deps\\build.log`\n"
     ]
    },
    {
     "name": "stderr",
     "output_type": "stream",
     "text": [
      "GKS: svgplugin.dll: can't load library, error 126 (0x7e)\n"
     ]
    },
    {
     "ename": "SystemError",
     "evalue": "SystemError: opening file \"C:\\\\Users\\\\ALBERT~1\\\\AppData\\\\Local\\\\Temp\\\\jl_91E7.tmp.svg\": No such file or directory",
     "output_type": "error",
     "traceback": [
      "SystemError: opening file \"C:\\\\Users\\\\ALBERT~1\\\\AppData\\\\Local\\\\Temp\\\\jl_91E7.tmp.svg\": No such file or directory",
      "",
      "Stacktrace:",
      " [1] #systemerror#44(::Nothing, ::typeof(systemerror), ::String, ::Bool) at .\\error.jl:134",
      " [2] systemerror at .\\error.jl:134 [inlined]",
      " [3] #open#512(::Nothing, ::Nothing, ::Nothing, ::Nothing, ::Nothing, ::typeof(open), ::String) at .\\iostream.jl:254",
      " [4] open at .\\iostream.jl:246 [inlined]",
      " [5] #open#271(::Base.Iterators.Pairs{Union{},Union{},Tuple{},NamedTuple{(),Tuple{}}}, ::typeof(open), ::Base.var\"#280#281\"{String}, ::String) at .\\io.jl:296",
      " [6] open at .\\io.jl:296 [inlined]",
      " [7] read at .\\io.jl:381 [inlined]",
      " [8] _show(::Base.GenericIOBuffer{Array{UInt8,1}}, ::MIME{Symbol(\"image/svg+xml\")}, ::Plots.Plot{Plots.GRBackend}) at C:\\Users\\Albert Huang\\.julia\\packages\\Plots\\vTdnV\\src\\backends\\gr.jl:1924",
      " [9] show(::Base.GenericIOBuffer{Array{UInt8,1}}, ::MIME{Symbol(\"image/svg+xml\")}, ::Plots.Plot{Plots.GRBackend}) at C:\\Users\\Albert Huang\\.julia\\packages\\Plots\\vTdnV\\src\\output.jl:207",
      " [10] #sprint#339(::Nothing, ::Int64, ::typeof(sprint), ::Function, ::MIME{Symbol(\"image/svg+xml\")}, ::Vararg{Any,N} where N) at .\\strings\\io.jl:105",
      " [11] sprint(::Function, ::MIME{Symbol(\"image/svg+xml\")}, ::Vararg{Any,N} where N) at .\\strings\\io.jl:101",
      " [12] _ijulia_display_dict(::Plots.Plot{Plots.GRBackend}) at C:\\Users\\Albert Huang\\.julia\\packages\\Plots\\vTdnV\\src\\ijulia.jl:53",
      " [13] display_dict at C:\\Users\\Albert Huang\\.julia\\packages\\Plots\\vTdnV\\src\\init.jl:83 [inlined]",
      " [14] display(::IJulia.InlineDisplay, ::Plots.Plot{Plots.GRBackend}) at C:\\Users\\Albert Huang\\.julia\\packages\\IJulia\\yLI42\\src\\inline.jl:95",
      " [15] display(::Any) at .\\multimedia.jl:323",
      " [16] #plt#67 at C:\\Users\\Albert Huang\\Desktop\\btg\\BayesTransformedGaussian\\src\\tools\\plotting.jl:23 [inlined]",
      " [17] (::var\"#kw##plt\")(::NamedTuple{(:label,),Tuple{String}}, ::typeof(plt), ::Function, ::Float64, ::Float64, ::Int64) at .\\none:0",
      " [18] top-level scope at In[53]:15"
     ]
    }
   ],
   "source": [
    "ENV[\"GRDIR\"]=\"\"\n",
    "Pkg.build(\"GR\")\n",
    "using Plots\n",
    "# Plot to see the shape of pdf and cdf\n",
    "dpdf_fixed = y0 -> dpdf1(x0, Fx0, y0) \n",
    "pdf_fixed = y0 -> pdf1(x0, Fx0, y0)\n",
    "cdf_fixed = y0 -> cdf1(x0, Fx0, y0)\n",
    "dpdf_fixed2 = y0 -> dpdf2(x0, Fx0, y0) \n",
    "pdf_fixed2 = y0 -> pdf2(x0, Fx0, y0)\n",
    "cdf_fixed2 = y0 -> cdf2(x0, Fx0, y0)\n",
    "dpdf_fixed3 = y0 -> dpdf3(x0, Fx0, y0) \n",
    "pdf_fixed3 = y0 -> pdf3(x0, Fx0, y0)\n",
    "cdf_fixed3 = y0 -> cdf3(x0, Fx0, y0)\n",
    "a = 1e-3; b = 1.\n",
    "plt(cdf_fixed, a, b, 200, label = \"MC\")\n",
    "plt!(cdf_fixed2, a, b, 200, label = \"Gaussian\")\n",
    "plt!(cdf_fixed3, a, b, 200, label = \"MC+Gaussian\")"
   ]
  },
  {
   "cell_type": "code",
   "execution_count": 29,
   "metadata": {
    "scrolled": false
   },
   "outputs": [
    {
     "ename": "UndefVarError",
     "evalue": "UndefVarError: Fx0 not defined",
     "output_type": "error",
     "traceback": [
      "UndefVarError: Fx0 not defined",
      "",
      "Stacktrace:",
      " [1] (::var\"#9#10\")(::Float64) at .\\In[9]:3",
      " [2] iterate at .\\generator.jl:47 [inlined]",
      " [3] _collect at .\\array.jl:635 [inlined]",
      " [4] collect_similar(::Array{Float64,1}, ::Base.Generator{Array{Float64,1},var\"#9#10\"}) at .\\array.jl:564",
      " [5] map(::Function, ::Array{Float64,1}) at .\\abstractarray.jl:2073",
      " [6] #plt#5 at C:\\Users\\Albert Huang\\Desktop\\btg\\BayesTransformedGaussian\\src\\tools\\plotting.jl:22 [inlined]",
      " [7] (::var\"#kw##plt\")(::NamedTuple{(:label,),Tuple{String}}, ::typeof(plt), ::Function, ::Float64, ::Float64, ::Int64) at .\\none:0",
      " [8] top-level scope at In[29]:1"
     ]
    }
   ],
   "source": [
    "plt(pdf_fixed, a, b, 200, label = \"MC\")\n",
    "plt!(pdf_fixed2, a, b, 200, label = \"Gaussian\")\n",
    "plt!(pdf_fixed3, a, b, 200, label = \"MC+Gaussian\")"
   ]
  },
  {
   "cell_type": "markdown",
   "metadata": {},
   "source": [
    "# Quantile computation"
   ]
  },
  {
   "cell_type": "code",
   "execution_count": 11,
   "metadata": {
    "scrolled": true
   },
   "outputs": [
    {
     "ename": "ErrorException",
     "evalue": "could not open file C:\\Users\\Albert Huang\\Desktop\\btg\\BayesTransformedGaussian\\src\\test\\test_quantile.jl",
     "output_type": "error",
     "traceback": [
      "could not open file C:\\Users\\Albert Huang\\Desktop\\btg\\BayesTransformedGaussian\\src\\test\\test_quantile.jl",
      "",
      "Stacktrace:",
      " [1] include at .\\boot.jl:328 [inlined]",
      " [2] include_relative(::Module, ::String) at .\\loading.jl:1105",
      " [3] include(::Module, ::String) at .\\Base.jl:31",
      " [4] include(::String) at .\\client.jl:424",
      " [5] top-level scope at In[11]:1"
     ]
    }
   ],
   "source": [
    "include(\"test_quantile.jl\")\n",
    "include(\"../statistics.jl\")"
   ]
  },
  {
   "cell_type": "code",
   "execution_count": 12,
   "metadata": {
    "scrolled": true
   },
   "outputs": [
    {
     "ename": "UndefVarError",
     "evalue": "UndefVarError: quantInfo not defined",
     "output_type": "error",
     "traceback": [
      "UndefVarError: quantInfo not defined",
      "",
      "Stacktrace:",
      " [1] top-level scope at In[12]:1"
     ]
    }
   ],
   "source": [
    "# preprocess output from solve(btg)\n",
    "pdf_fixed, cdf_fixed, dpdf_fixed, quant0, support = pre_process(x0, Fx0, pdf, cdf, dpdf, quantInfo[1]);\n",
    "println(\"MC: Estimated support of pdf: $support\")\n",
    "pdf_fixed2, cdf_fixed2, dpdf_fixed2, quant02, support2 = pre_process(x0, Fx0, pdf2, cdf2, dpdf2, quantInfo2[1]);\n",
    "println(\"Gaussian: Estimated support of pdf: $support2\")\n",
    "pdf_fixed3, cdf_fixed3, dpdf_fixed3, quant03, support3 = pre_process(x0, Fx0, pdf3, cdf3, dpdf3, quantInfo3[1]);\n",
    "println(\"MonteCarlo + Gaussian: Estimated support of pdf: $support3\")"
   ]
  },
  {
   "cell_type": "code",
   "execution_count": 13,
   "metadata": {
    "scrolled": false
   },
   "outputs": [
    {
     "ename": "UndefVarError",
     "evalue": "UndefVarError: summary_comp not defined",
     "output_type": "error",
     "traceback": [
      "UndefVarError: summary_comp not defined",
      "",
      "Stacktrace:",
      " [1] top-level scope at In[13]:1"
     ]
    }
   ],
   "source": [
    "DistributionInfo = summary_comp(pdf_fixed, cdf_fixed, dpdf_fixed, quant0, support; px = .8)"
   ]
  },
  {
   "cell_type": "code",
   "execution_count": 14,
   "metadata": {
    "scrolled": false
   },
   "outputs": [
    {
     "ename": "UndefVarError",
     "evalue": "UndefVarError: summary_comp not defined",
     "output_type": "error",
     "traceback": [
      "UndefVarError: summary_comp not defined",
      "",
      "Stacktrace:",
      " [1] top-level scope at In[14]:1"
     ]
    }
   ],
   "source": [
    "DistributionInfo2 = summary_comp(pdf_fixed2, cdf_fixed2, dpdf_fixed2, quant02, support2; px = .8)"
   ]
  },
  {
   "cell_type": "code",
   "execution_count": 15,
   "metadata": {
    "scrolled": false
   },
   "outputs": [
    {
     "ename": "UndefVarError",
     "evalue": "UndefVarError: summary_comp not defined",
     "output_type": "error",
     "traceback": [
      "UndefVarError: summary_comp not defined",
      "",
      "Stacktrace:",
      " [1] top-level scope at In[15]:1"
     ]
    }
   ],
   "source": [
    "DistributionInfo3 = summary_comp(pdf_fixed3, cdf_fixed3, dpdf_fixed3, quant03, support3; px = .8)"
   ]
  },
  {
   "cell_type": "code",
   "execution_count": null,
   "metadata": {
    "collapsed": true
   },
   "outputs": [],
   "source": []
  },
  {
   "cell_type": "code",
   "execution_count": null,
   "metadata": {
    "collapsed": true
   },
   "outputs": [],
   "source": []
  }
 ],
 "metadata": {
  "kernelspec": {
   "display_name": "Julia 1.3.1",
   "language": "julia",
   "name": "julia-1.3"
  },
  "language_info": {
   "file_extension": ".jl",
   "mimetype": "application/julia",
   "name": "julia",
   "version": "1.3.1"
  }
 },
 "nbformat": 4,
 "nbformat_minor": 2
}
