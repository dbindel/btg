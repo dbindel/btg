{
 "cells": [
  {
   "cell_type": "code",
   "execution_count": 105,
   "metadata": {
    "scrolled": true
   },
   "outputs": [
    {
     "data": {
      "text/plain": [
       "compute_higher_derivs"
      ]
     },
     "execution_count": 105,
     "metadata": {},
     "output_type": "execute_result"
    }
   ],
   "source": [
    "using LinearAlgebra                                                             \n",
    "using Test                                                                                       \n",
    "using Distributions                                                             \n",
    "using DataFrames                                                                          \n",
    "using CSV                                                                              \n",
    "using Polynomials  \n",
    "using Sobol\n",
    "                                                                                 \n",
    "include(\"../computation/finitedifference.jl\")                                                   \n",
    "include(\"../quadrature/quadrature.jl\")                                             \n",
    "include(\"../transforms/transforms.jl\")                                             \n",
    "include(\"../priors/priors.jl\")                                                     \n",
    "include(\"../bayesopt/incremental.jl\")                                              \n",
    "include(\"../kernels/kernel.jl\")                                                    \n",
    "include(\"../datastructs.jl\")                                                       \n",
    "include(\"../computation/buffers0.jl\") #datastruct, kernel, incremental, quadrature \n",
    "include(\"../model0.jl\") #buffers, datastructs, several auxiliary                   \n",
    "include(\"../computation/tdist.jl\") #model0 and buffer0  "
   ]
  },
  {
   "cell_type": "code",
   "execution_count": 6,
   "metadata": {},
   "outputs": [
    {
     "data": {
      "text/plain": [
       "covariate_fun (generic function with 1 method)"
      ]
     },
     "execution_count": 6,
     "metadata": {},
     "output_type": "execute_result"
    }
   ],
   "source": [
    "function covariate_fun(x, p)\n",
    "    n = size(x, 1)\n",
    "    d = size(x, 2)\n",
    "    if p == 1\n",
    "        return ones(n, 1)\n",
    "    elseif p == 1 + d\n",
    "        return hcat(ones(n), x)\n",
    "    else\n",
    "         throw(ArgumentError(\"Only support constant or linear convariate.\"))\n",
    "    end\n",
    "end"
   ]
  },
  {
   "cell_type": "markdown",
   "metadata": {},
   "source": [
    "# Summary\n",
    "Settings parameters: \\\n",
    "p: choices of covariates, p = 1 if constant and p = 2 if linear \\\n",
    "x: training data \\\n",
    "x0: testing data\n",
    "\n",
    "Tests:\n",
    "1. p=3 or p=1, x=x2, x0=x02, test_fun1 \\\n",
    "   pdf blows up near 0, numerical issue (g'(y0) blows up when y0~=0?)\n",
    "2. p=1, x=x3, x0=x03, test_fun1 \\\n",
    "    pdf weird shape (no peak, uniformish)\n",
    "3. p=3, x=x3, x0=x03, test_fun1 \\\n",
    "    pdf blows up near 0, and pdf support ~= $[0,5]$\n",
    "4. p=1, x=2, x0=x04, test_fun2 \\\n",
    "    pdf heavy near 0"
   ]
  },
  {
   "cell_type": "code",
   "execution_count": 7,
   "metadata": {},
   "outputs": [
    {
     "data": {
      "text/plain": [
       "test_fun2 (generic function with 1 method)"
      ]
     },
     "execution_count": 7,
     "metadata": {},
     "output_type": "execute_result"
    }
   ],
   "source": [
    "# Data and setup for different tests\n",
    "\n",
    "# choice of covariate functions\n",
    "p = 1\n",
    "# p = 3\n",
    "\n",
    "# training\n",
    "nx = 20\n",
    "x1 = 4 .* rand(nx, 2) .- 2 \n",
    "x2 = [-0.28340   0.62098;\n",
    "     -1.59902   1.86275;\n",
    "      0.49347  -1.46311;\n",
    "      1.50624  -1.42874; \n",
    "      1.57966  -1.4987;  \n",
    "     -1.35577   0.33419;\n",
    "      1.57967   0.4927;  \n",
    "      1.30226   1.30865; \n",
    "      1.84554  -1.71706; \n",
    "      1.45705   0.264961]\n",
    "x3 = [-0.801151   -0.543169;   \n",
    "      -0.94552     1.09677;    \n",
    "       0.947512   -0.827147;   \n",
    "      -1.42516     0.916257;   \n",
    "      -1.35157     0.449443;   \n",
    "       0.266677    1.31536;    \n",
    "      -0.555493    0.841922;   \n",
    "      -0.0235545   0.000649033;\n",
    "      -0.339027    0.843967;   \n",
    "      -1.7816      1.52251; ]\n",
    "\n",
    "# testing\n",
    "x01 = 4 .*rand(1, 2) .- 2\n",
    "x02 = [-1.0097 0.3929]\n",
    "x03 = [-0.936599  -1.94613]\n",
    "x04 = [0.6368579322807415 0.5764428247722932]\n",
    "\n",
    "# underlying 2d function \n",
    "test_fun1(x, y) = x^2 * exp(- x^2 - y^2) \n",
    "test_fun2(x, y) = sin(x^2 + y^2) + 1.1"
   ]
  },
  {
   "cell_type": "code",
   "execution_count": 8,
   "metadata": {
    "scrolled": true
   },
   "outputs": [
    {
     "name": "stdout",
     "output_type": "stream",
     "text": [
      "Prediction at x0 = [-1.1767590454595496 0.7178765869217711]\n",
      "Covariates at x0: [1.0]\n",
      "Should expect peak near 1.0084914571101637\n"
     ]
    }
   ],
   "source": [
    "# parameter setting: change for different tests\n",
    "\n",
    "p = 1 # choose covariate basis function, only support 1 or 1+dim(x)\n",
    "x = x2 # choose training data \n",
    "x0 = x01 # choose testing data\n",
    "test_fun = test_fun2 # choose underlying function\n",
    "\n",
    "#####################################\n",
    "\n",
    "# setup values and covariates (no changes needed)\n",
    "Fx = covariate_fun(x, p)\n",
    "y = [test_fun(_x[1], _x[2]) for _x in zip(x[:,1], x[:,2])]\n",
    "ymax = maximum(y)\n",
    "y /= ymax\n",
    "trainingData1 = trainingData(x, Fx, y) \n",
    "\n",
    "Fx0 = covariate_fun(x0, p)\n",
    "y0_true = test_fun(x0[1], x0[2])/ymax\n",
    "println(\"Prediction at x0 = $x0\")\n",
    "println(\"Covariates at x0: $Fx0\")\n",
    "println(\"Should expect peak near $y0_true\")\n"
   ]
  },
  {
   "cell_type": "code",
   "execution_count": 9,
   "metadata": {
    "scrolled": true
   },
   "outputs": [
    {
     "data": {
      "text/plain": [
       "1×2 Array{Float64,2}:\n",
       " 0.2  3.0"
      ]
     },
     "execution_count": 9,
     "metadata": {},
     "output_type": "execute_result"
    }
   ],
   "source": [
    "d = getDimension(trainingData1)\n",
    "n = getNumPts(trainingData1)\n",
    "p = getCovDimension(trainingData1)\n",
    "rangeθ = [0.25 150]\n",
    "rangeθ2 = [0.25 150; 0.25 150]\n",
    "rangeλ = [0.2 3.]"
   ]
  },
  {
   "cell_type": "code",
   "execution_count": 106,
   "metadata": {
    "scrolled": true
   },
   "outputs": [
    {
     "data": {
      "text/plain": [
       "#1702 (generic function with 1 method)"
      ]
     },
     "execution_count": 106,
     "metadata": {},
     "output_type": "execute_result"
    }
   ],
   "source": [
    "btg1 = btg(trainingData1, rangeθ, rangeλ, quadtype = [\"Gaussian\", \"Gaussian\"]);\n",
    "(pdf1, cdf1, dpdf1, quantInfo1) = solve(btg1);\n",
    "pdf_fixed = y0 -> pdf(x0, Fx0, y0)\n",
    "cdf_fixed = y0 -> cdf(x0, Fx0, y0)\n",
    "dpdf_fixed = y0 -> dpdf(x0, Fx0, y0) "
   ]
  },
  {
   "cell_type": "code",
   "execution_count": 35,
   "metadata": {},
   "outputs": [
    {
     "data": {
      "text/plain": [
       "#890 (generic function with 1 method)"
      ]
     },
     "execution_count": 35,
     "metadata": {},
     "output_type": "execute_result"
    }
   ],
   "source": [
    "btg2 = btg(trainingData1, rangeθ2, rangeλ, quadtype = [\"Gaussian\", \"Gaussian\"]);\n",
    "(pdf2, cdf2, dpdf2, quantInfo2) = solve(btg2);\n",
    "pdf_fixed2 = y0 -> pdf2(x0, Fx0, y0)\n",
    "cdf_fixed2 = y0 -> cdf2(x0, Fx0, y0)\n",
    "dpdf_fixed2 = y0 -> dpdf2(x0, Fx0, y0) "
   ]
  },
  {
   "cell_type": "code",
   "execution_count": 36,
   "metadata": {},
   "outputs": [
    {
     "data": {
      "text/plain": [
       "#896 (generic function with 1 method)"
      ]
     },
     "execution_count": 36,
     "metadata": {},
     "output_type": "execute_result"
    }
   ],
   "source": [
    "btg3 = btg(trainingData1, rangeθ2, rangeλ; quadtype = [\"MonteCarlo\", \"MonteCarlo\"]);\n",
    "(pdf3, cdf3, dpdf3, quantInfo3) = solve(btg3);\n",
    "pdf_fixed3 = y0 -> pdf3(x0, Fx0, y0)\n",
    "cdf_fixed3 = y0 -> cdf3(x0, Fx0, y0)\n",
    "dpdf_fixed3 = y0 -> dpdf3(x0, Fx0, y0) "
   ]
  },
  {
   "cell_type": "code",
   "execution_count": 37,
   "metadata": {},
   "outputs": [
    {
     "data": {
      "text/plain": [
       "#902 (generic function with 1 method)"
      ]
     },
     "execution_count": 37,
     "metadata": {},
     "output_type": "execute_result"
    }
   ],
   "source": [
    "btg4 = btg(trainingData1, rangeθ2, rangeλ; quadtype = [\"MonteCarlo\", \"Gaussian\"]);\n",
    "(pdf4, cdf4, dpdf4, quantInfo4) = solve(btg4);\n",
    "pdf_fixed4 = y0 -> pdf4(x0, Fx0, y0)\n",
    "cdf_fixed4 = y0 -> cdf4(x0, Fx0, y0)\n",
    "dpdf_fixed4 = y0 -> dpdf4(x0, Fx0, y0) "
   ]
  },
  {
   "cell_type": "code",
   "execution_count": 38,
   "metadata": {},
   "outputs": [
    {
     "data": {
      "text/plain": [
       "#908 (generic function with 1 method)"
      ]
     },
     "execution_count": 38,
     "metadata": {},
     "output_type": "execute_result"
    }
   ],
   "source": [
    "btg5 = btg(trainingData1, rangeθ2, rangeλ; quadtype = [\"QuasiMonteCarlo\", \"QuasiMonteCarlo\"]);\n",
    "(pdf5, cdf5, dpdf5, quantInfo5) = solve(btg5);\n",
    "pdf_fixed5 = y0 -> pdf5(x0, Fx0, y0)\n",
    "cdf_fixed5 = y0 -> cdf5(x0, Fx0, y0)\n",
    "dpdf_fixed5 = y0 -> dpdf5(x0, Fx0, y0) "
   ]
  },
  {
   "cell_type": "code",
   "execution_count": 39,
   "metadata": {},
   "outputs": [
    {
     "data": {
      "text/plain": [
       "#914 (generic function with 1 method)"
      ]
     },
     "execution_count": 39,
     "metadata": {},
     "output_type": "execute_result"
    }
   ],
   "source": [
    "btg6 = btg(trainingData1, rangeθ2, rangeλ; quadtype = [\"QuasiMonteCarlo\", \"Gaussian\"]);\n",
    "(pdf6, cdf6, dpdf6, quantInfo6) = solve(btg6);\n",
    "pdf_fixed6 = y0 -> pdf6(x0, Fx0, y0)\n",
    "cdf_fixed6 = y0 -> cdf6(x0, Fx0, y0)\n",
    "dpdf_fixed6 = y0 -> dpdf6(x0, Fx0, y0) "
   ]
  },
  {
   "cell_type": "markdown",
   "metadata": {},
   "source": [
    "# Statistics"
   ]
  },
  {
   "cell_type": "code",
   "execution_count": 107,
   "metadata": {
    "scrolled": false
   },
   "outputs": [
    {
     "data": {
      "text/plain": [
       "credible_interval (generic function with 3 methods)"
      ]
     },
     "execution_count": 107,
     "metadata": {},
     "output_type": "execute_result"
    }
   ],
   "source": [
    "include(\"test_quantile.jl\")\n",
    "include(\"../statistics.jl\")"
   ]
  },
  {
   "cell_type": "code",
   "execution_count": 108,
   "metadata": {
    "scrolled": true
   },
   "outputs": [
    {
     "name": "stdout",
     "output_type": "stream",
     "text": [
      "[\"Gaussian\", \"Gaussian\"] Estimated support of pdf: [0.01, 14.929919999999996]\n"
     ]
    }
   ],
   "source": [
    "# preprocess output from solve(btg)\n",
    "pdf_fixed1, cdf_fixed1, dpdf_fixed1, quant01, support1 = pre_process(x0, Fx0, pdf1, cdf1, dpdf1, quantInfo1[1]);\n",
    "println(btg1.quadType, \" Estimated support of pdf: $support1\")\n",
    "\n",
    "# pdf_fixed2, cdf_fixed2, dpdf_fixed2, quant02, support2 = pre_process(x0, Fx0, pdf2, cdf2, dpdf2, quantInfo2[1]);\n",
    "# println(btg2.quadType, \" Estimated support of pdf: $support2\")\n",
    "\n",
    "# pdf_fixed3, cdf_fixed3, dpdf_fixed3, quant03, support3 = pre_process(x0, Fx0, pdf3, cdf3, dpdf3, quantInfo3[1]);\n",
    "# println(btg3.quadType, \" Estimated support of pdf: $support3\")\n",
    "\n",
    "# pdf_fixed4, cdf_fixed4, dpdf_fixed4, quant04, support4 = pre_process(x0, Fx0, pdf4, cdf4, dpdf4, quantInfo4[1]);\n",
    "# println(btg4.quadType, \" Estimated support of pdf: $support4\")\n",
    "\n",
    "# pdf_fixed5, cdf_fixed5, dpdf_fixed5, quant05, support5 = pre_process(x0, Fx0, pdf5, cdf5, dpdf5, quantInfo5[1]);\n",
    "# println(btg5.quadType, \" Estimated support of pdf: $support5\")\n",
    "\n",
    "# pdf_fixed6, cdf_fixed6, dpdf_fixed6, quant06, support6 = pre_process(x0, Fx0, pdf6, cdf6, dpdf6, quantInfo6[1]);\n",
    "# println(btg6.quadType, \" Estimated support of pdf: $support6\")"
   ]
  },
  {
   "cell_type": "code",
   "execution_count": 25,
   "metadata": {
    "scrolled": true
   },
   "outputs": [
    {
     "data": {
      "image/svg+xml": [
       "<?xml version=\"1.0\" encoding=\"utf-8\"?>\n",
       "<svg xmlns=\"http://www.w3.org/2000/svg\" xmlns:xlink=\"http://www.w3.org/1999/xlink\" width=\"600\" height=\"400\" viewBox=\"0 0 2400 1600\">\n",
       "<defs>\n",
       "  <clipPath id=\"clip5300\">\n",
       "    <rect x=\"0\" y=\"0\" width=\"2400\" height=\"1600\"/>\n",
       "  </clipPath>\n",
       "</defs>\n",
       "<path clip-path=\"url(#clip5300)\" d=\"\n",
       "M0 1600 L2400 1600 L2400 0 L0 0  Z\n",
       "  \" fill=\"#ffffff\" fill-rule=\"evenodd\" fill-opacity=\"1\"/>\n",
       "<defs>\n",
       "  <clipPath id=\"clip5301\">\n",
       "    <rect x=\"480\" y=\"0\" width=\"1681\" height=\"1600\"/>\n",
       "  </clipPath>\n",
       "</defs>\n",
       "<path clip-path=\"url(#clip5300)\" d=\"\n",
       "M180.66 1487.47 L2352.76 1487.47 L2352.76 121.675 L180.66 121.675  Z\n",
       "  \" fill=\"#ffffff\" fill-rule=\"evenodd\" fill-opacity=\"1\"/>\n",
       "<defs>\n",
       "  <clipPath id=\"clip5302\">\n",
       "    <rect x=\"180\" y=\"121\" width=\"2173\" height=\"1367\"/>\n",
       "  </clipPath>\n",
       "</defs>\n",
       "<polyline clip-path=\"url(#clip5302)\" style=\"stroke:#000000; stroke-width:2; stroke-opacity:0.1; fill:none\" points=\"\n",
       "  673.534,1487.47 673.534,121.675 \n",
       "  \"/>\n",
       "<polyline clip-path=\"url(#clip5302)\" style=\"stroke:#000000; stroke-width:2; stroke-opacity:0.1; fill:none\" points=\"\n",
       "  1212.78,1487.47 1212.78,121.675 \n",
       "  \"/>\n",
       "<polyline clip-path=\"url(#clip5302)\" style=\"stroke:#000000; stroke-width:2; stroke-opacity:0.1; fill:none\" points=\"\n",
       "  1752.03,1487.47 1752.03,121.675 \n",
       "  \"/>\n",
       "<polyline clip-path=\"url(#clip5302)\" style=\"stroke:#000000; stroke-width:2; stroke-opacity:0.1; fill:none\" points=\"\n",
       "  2291.28,1487.47 2291.28,121.675 \n",
       "  \"/>\n",
       "<polyline clip-path=\"url(#clip5302)\" style=\"stroke:#000000; stroke-width:2; stroke-opacity:0.1; fill:none\" points=\"\n",
       "  180.66,1462.6 2352.76,1462.6 \n",
       "  \"/>\n",
       "<polyline clip-path=\"url(#clip5302)\" style=\"stroke:#000000; stroke-width:2; stroke-opacity:0.1; fill:none\" points=\"\n",
       "  180.66,1186.29 2352.76,1186.29 \n",
       "  \"/>\n",
       "<polyline clip-path=\"url(#clip5302)\" style=\"stroke:#000000; stroke-width:2; stroke-opacity:0.1; fill:none\" points=\"\n",
       "  180.66,909.979 2352.76,909.979 \n",
       "  \"/>\n",
       "<polyline clip-path=\"url(#clip5302)\" style=\"stroke:#000000; stroke-width:2; stroke-opacity:0.1; fill:none\" points=\"\n",
       "  180.66,633.666 2352.76,633.666 \n",
       "  \"/>\n",
       "<polyline clip-path=\"url(#clip5302)\" style=\"stroke:#000000; stroke-width:2; stroke-opacity:0.1; fill:none\" points=\"\n",
       "  180.66,357.353 2352.76,357.353 \n",
       "  \"/>\n",
       "<polyline clip-path=\"url(#clip5300)\" style=\"stroke:#000000; stroke-width:4; stroke-opacity:1; fill:none\" points=\"\n",
       "  180.66,1487.47 2352.76,1487.47 \n",
       "  \"/>\n",
       "<polyline clip-path=\"url(#clip5300)\" style=\"stroke:#000000; stroke-width:4; stroke-opacity:1; fill:none\" points=\"\n",
       "  180.66,1487.47 180.66,121.675 \n",
       "  \"/>\n",
       "<polyline clip-path=\"url(#clip5300)\" style=\"stroke:#000000; stroke-width:4; stroke-opacity:1; fill:none\" points=\"\n",
       "  673.534,1487.47 673.534,1471.09 \n",
       "  \"/>\n",
       "<polyline clip-path=\"url(#clip5300)\" style=\"stroke:#000000; stroke-width:4; stroke-opacity:1; fill:none\" points=\"\n",
       "  1212.78,1487.47 1212.78,1471.09 \n",
       "  \"/>\n",
       "<polyline clip-path=\"url(#clip5300)\" style=\"stroke:#000000; stroke-width:4; stroke-opacity:1; fill:none\" points=\"\n",
       "  1752.03,1487.47 1752.03,1471.09 \n",
       "  \"/>\n",
       "<polyline clip-path=\"url(#clip5300)\" style=\"stroke:#000000; stroke-width:4; stroke-opacity:1; fill:none\" points=\"\n",
       "  2291.28,1487.47 2291.28,1471.09 \n",
       "  \"/>\n",
       "<polyline clip-path=\"url(#clip5300)\" style=\"stroke:#000000; stroke-width:4; stroke-opacity:1; fill:none\" points=\"\n",
       "  180.66,1462.6 206.725,1462.6 \n",
       "  \"/>\n",
       "<polyline clip-path=\"url(#clip5300)\" style=\"stroke:#000000; stroke-width:4; stroke-opacity:1; fill:none\" points=\"\n",
       "  180.66,1186.29 206.725,1186.29 \n",
       "  \"/>\n",
       "<polyline clip-path=\"url(#clip5300)\" style=\"stroke:#000000; stroke-width:4; stroke-opacity:1; fill:none\" points=\"\n",
       "  180.66,909.979 206.725,909.979 \n",
       "  \"/>\n",
       "<polyline clip-path=\"url(#clip5300)\" style=\"stroke:#000000; stroke-width:4; stroke-opacity:1; fill:none\" points=\"\n",
       "  180.66,633.666 206.725,633.666 \n",
       "  \"/>\n",
       "<polyline clip-path=\"url(#clip5300)\" style=\"stroke:#000000; stroke-width:4; stroke-opacity:1; fill:none\" points=\"\n",
       "  180.66,357.353 206.725,357.353 \n",
       "  \"/>\n",
       "<g clip-path=\"url(#clip5300)\">\n",
       "<text style=\"fill:#000000; fill-opacity:1; font-family:Arial,Helvetica Neue,Helvetica,sans-serif; font-size:48px; text-anchor:middle;\" transform=\"rotate(0, 673.534, 1541.47)\" x=\"673.534\" y=\"1541.47\">0.5</text>\n",
       "</g>\n",
       "<g clip-path=\"url(#clip5300)\">\n",
       "<text style=\"fill:#000000; fill-opacity:1; font-family:Arial,Helvetica Neue,Helvetica,sans-serif; font-size:48px; text-anchor:middle;\" transform=\"rotate(0, 1212.78, 1541.47)\" x=\"1212.78\" y=\"1541.47\">1.0</text>\n",
       "</g>\n",
       "<g clip-path=\"url(#clip5300)\">\n",
       "<text style=\"fill:#000000; fill-opacity:1; font-family:Arial,Helvetica Neue,Helvetica,sans-serif; font-size:48px; text-anchor:middle;\" transform=\"rotate(0, 1752.03, 1541.47)\" x=\"1752.03\" y=\"1541.47\">1.5</text>\n",
       "</g>\n",
       "<g clip-path=\"url(#clip5300)\">\n",
       "<text style=\"fill:#000000; fill-opacity:1; font-family:Arial,Helvetica Neue,Helvetica,sans-serif; font-size:48px; text-anchor:middle;\" transform=\"rotate(0, 2291.28, 1541.47)\" x=\"2291.28\" y=\"1541.47\">2.0</text>\n",
       "</g>\n",
       "<g clip-path=\"url(#clip5300)\">\n",
       "<text style=\"fill:#000000; fill-opacity:1; font-family:Arial,Helvetica Neue,Helvetica,sans-serif; font-size:48px; text-anchor:end;\" transform=\"rotate(0, 156.66, 1480.1)\" x=\"156.66\" y=\"1480.1\">0.00</text>\n",
       "</g>\n",
       "<g clip-path=\"url(#clip5300)\">\n",
       "<text style=\"fill:#000000; fill-opacity:1; font-family:Arial,Helvetica Neue,Helvetica,sans-serif; font-size:48px; text-anchor:end;\" transform=\"rotate(0, 156.66, 1203.79)\" x=\"156.66\" y=\"1203.79\">0.25</text>\n",
       "</g>\n",
       "<g clip-path=\"url(#clip5300)\">\n",
       "<text style=\"fill:#000000; fill-opacity:1; font-family:Arial,Helvetica Neue,Helvetica,sans-serif; font-size:48px; text-anchor:end;\" transform=\"rotate(0, 156.66, 927.479)\" x=\"156.66\" y=\"927.479\">0.50</text>\n",
       "</g>\n",
       "<g clip-path=\"url(#clip5300)\">\n",
       "<text style=\"fill:#000000; fill-opacity:1; font-family:Arial,Helvetica Neue,Helvetica,sans-serif; font-size:48px; text-anchor:end;\" transform=\"rotate(0, 156.66, 651.166)\" x=\"156.66\" y=\"651.166\">0.75</text>\n",
       "</g>\n",
       "<g clip-path=\"url(#clip5300)\">\n",
       "<text style=\"fill:#000000; fill-opacity:1; font-family:Arial,Helvetica Neue,Helvetica,sans-serif; font-size:48px; text-anchor:end;\" transform=\"rotate(0, 156.66, 374.853)\" x=\"156.66\" y=\"374.853\">1.00</text>\n",
       "</g>\n",
       "<g clip-path=\"url(#clip5300)\">\n",
       "<text style=\"fill:#000000; fill-opacity:1; font-family:Arial,Helvetica Neue,Helvetica,sans-serif; font-size:84px; text-anchor:middle;\" transform=\"rotate(0, 1266.71, 73.2)\" x=\"1266.71\" y=\"73.2\">2D Test: PDF Comparison</text>\n",
       "</g>\n",
       "<polyline clip-path=\"url(#clip5302)\" style=\"stroke:#009af9; stroke-width:4; stroke-opacity:1; fill:none\" points=\"\n",
       "  242.135,1128.9 262.833,1096.77 283.532,1063.45 304.23,1029.02 324.929,993.579 345.627,957.189 366.325,919.933 387.024,881.898 407.722,843.178 428.421,803.877 \n",
       "  449.119,764.11 469.818,724.002 490.516,683.694 511.215,643.339 531.913,603.104 552.612,563.173 573.31,523.744 594.008,485.033 614.707,447.269 635.405,410.699 \n",
       "  656.104,375.581 676.802,342.19 697.501,310.808 718.199,281.73 738.898,255.253 759.596,231.678 780.294,211.304 800.993,194.422 821.691,181.309 842.39,172.224 \n",
       "  863.088,167.398 883.787,167.03 904.485,171.277 925.184,180.247 945.882,193.993 966.581,212.507 987.279,235.713 1007.98,263.465 1028.68,295.542 1049.37,331.655 \n",
       "  1070.07,371.441 1090.77,414.475 1111.47,460.271 1132.17,508.301 1152.87,557.996 1173.57,608.771 1194.26,660.033 1214.96,711.203 1235.66,761.732 1256.36,811.119 \n",
       "  1277.06,858.927 1297.76,904.792 1318.45,948.428 1339.15,989.635 1359.85,1028.29 1380.55,1064.33 1401.25,1097.76 1421.95,1128.65 1442.64,1157.07 1463.34,1183.14 \n",
       "  1484.04,1207 1504.74,1228.8 1525.44,1248.67 1546.14,1266.77 1566.84,1283.24 1587.53,1298.22 1608.23,1311.84 1628.93,1324.23 1649.63,1335.49 1670.33,1345.73 \n",
       "  1691.03,1355.05 1711.72,1363.53 1732.42,1371.25 1753.12,1378.29 1773.82,1384.71 1794.52,1390.58 1815.22,1395.93 1835.92,1400.82 1856.61,1405.3 1877.31,1409.41 \n",
       "  1898.01,1413.17 1918.71,1416.62 1939.41,1419.79 1960.11,1422.7 1980.8,1425.38 2001.5,1427.85 2022.2,1430.13 2042.9,1432.23 2063.6,1434.18 2084.3,1435.97 \n",
       "  2105,1437.63 2125.69,1439.17 2146.39,1440.6 2167.09,1441.92 2187.79,1443.15 2208.49,1444.29 2229.19,1445.35 2249.88,1446.34 2270.58,1447.26 2291.28,1448.12 \n",
       "  \n",
       "  \"/>\n",
       "<polyline clip-path=\"url(#clip5302)\" style=\"stroke:#e26f46; stroke-width:4; stroke-opacity:1; fill:none\" points=\"\n",
       "  242.135,1104 262.833,1069.48 283.532,1033.76 304.23,996.948 324.929,959.159 345.627,920.491 366.325,881.049 387.024,840.947 407.722,800.304 428.421,759.249 \n",
       "  449.119,717.926 469.818,676.487 490.516,635.1 511.215,593.946 531.913,553.22 552.612,513.133 573.31,473.909 594.008,435.79 614.707,399.028 635.405,363.89 \n",
       "  656.104,330.655 676.802,299.611 697.501,271.052 718.199,245.276 738.898,222.581 759.596,203.26 780.294,187.595 800.993,175.851 821.691,168.273 842.39,165.071 \n",
       "  863.088,166.421 883.787,172.453 904.485,183.242 925.184,198.807 945.882,219.097 966.581,243.995 987.279,273.306 1007.98,306.765 1028.68,344.032 1049.37,384.7 \n",
       "  1070.07,428.305 1090.77,474.331 1111.47,522.23 1132.17,571.432 1152.87,621.367 1173.57,671.476 1194.26,721.232 1214.96,770.153 1235.66,817.811 1256.36,863.845 \n",
       "  1277.06,907.962 1297.76,949.938 1318.45,989.617 1339.15,1026.91 1359.85,1061.77 1380.55,1094.22 1401.25,1124.29 1421.95,1152.08 1442.64,1177.67 1463.34,1201.19 \n",
       "  1484.04,1222.77 1504.74,1242.52 1525.44,1260.59 1546.14,1277.09 1566.84,1292.16 1587.53,1305.92 1608.23,1318.46 1628.93,1329.91 1649.63,1340.36 1670.33,1349.89 \n",
       "  1691.03,1358.59 1711.72,1366.54 1732.42,1373.81 1753.12,1380.45 1773.82,1386.52 1794.52,1392.09 1815.22,1397.18 1835.92,1401.86 1856.61,1406.14 1877.31,1410.08 \n",
       "  1898.01,1413.7 1918.71,1417.03 1939.41,1420.1 1960.11,1422.93 1980.8,1425.53 2001.5,1427.94 2022.2,1430.16 2042.9,1432.22 2063.6,1434.12 2084.3,1435.88 \n",
       "  2105,1437.52 2125.69,1439.03 2146.39,1440.44 2167.09,1441.75 2187.79,1442.97 2208.49,1444.1 2229.19,1445.16 2249.88,1446.14 2270.58,1447.06 2291.28,1447.92 \n",
       "  \n",
       "  \"/>\n",
       "<polyline clip-path=\"url(#clip5302)\" style=\"stroke:#3da44d; stroke-width:4; stroke-opacity:1; fill:none\" points=\"\n",
       "  242.135,1103.16 262.833,1069.1 283.532,1033.75 304.23,997.247 324.929,959.704 345.627,921.238 366.325,881.967 387.024,842.015 407.722,801.515 428.421,760.608 \n",
       "  449.119,719.449 469.818,678.199 490.516,637.036 511.215,596.146 531.913,555.729 552.612,515.997 573.31,477.173 594.008,439.493 614.707,403.202 635.405,368.556 \n",
       "  656.104,335.818 676.802,305.259 697.501,277.152 718.199,251.775 738.898,229.4 759.596,210.298 780.294,194.725 800.993,182.927 821.691,175.127 842.39,171.521 \n",
       "  863.088,172.274 883.787,177.512 904.485,187.314 925.184,201.708 945.882,220.665 966.581,244.092 987.279,271.83 1007.98,303.654 1028.68,339.269 1049.37,378.318 \n",
       "  1070.07,420.382 1090.77,464.992 1111.47,511.639 1132.17,559.787 1152.87,608.889 1173.57,658.402 1194.26,707.802 1214.96,756.603 1235.66,804.362 1256.36,850.698 \n",
       "  1277.06,895.291 1297.76,937.887 1318.45,978.3 1339.15,1016.4 1359.85,1052.13 1380.55,1085.47 1401.25,1116.43 1421.95,1145.09 1442.64,1171.52 1463.34,1195.83 \n",
       "  1484.04,1218.14 1504.74,1238.58 1525.44,1257.26 1546.14,1274.33 1566.84,1289.9 1587.53,1304.1 1608.23,1317.05 1628.93,1328.85 1649.63,1339.6 1670.33,1349.41 \n",
       "  1691.03,1358.35 1711.72,1366.5 1732.42,1373.94 1753.12,1380.74 1773.82,1386.95 1794.52,1392.62 1815.22,1397.82 1835.92,1402.57 1856.61,1406.93 1877.31,1410.92 \n",
       "  1898.01,1414.59 1918.71,1417.96 1939.41,1421.06 1960.11,1423.91 1980.8,1426.53 2001.5,1428.95 2022.2,1431.18 2042.9,1433.24 2063.6,1435.15 2084.3,1436.91 \n",
       "  2105,1438.54 2125.69,1440.05 2146.39,1441.45 2167.09,1442.74 2187.79,1443.95 2208.49,1445.07 2229.19,1446.11 2249.88,1447.08 2270.58,1447.98 2291.28,1448.82 \n",
       "  \n",
       "  \"/>\n",
       "<polyline clip-path=\"url(#clip5302)\" style=\"stroke:#c271d2; stroke-width:4; stroke-opacity:1; fill:none\" points=\"\n",
       "  242.135,1104.47 262.833,1069.98 283.532,1034.28 304.23,997.499 324.929,959.726 345.627,921.066 366.325,881.626 387.024,841.515 407.722,800.854 428.421,759.773 \n",
       "  449.119,718.413 469.818,676.929 490.516,635.487 511.215,594.269 531.913,553.472 552.612,513.307 573.31,473.999 594.008,435.79 614.707,398.936 635.405,363.705 \n",
       "  656.104,330.376 676.802,299.24 697.501,270.594 718.199,244.737 738.898,221.97 759.596,202.587 780.294,186.872 800.993,175.093 821.691,167.493 842.39,164.285 \n",
       "  863.088,165.645 883.787,171.701 904.485,182.529 925.184,198.144 945.882,218.495 966.581,243.46 987.279,272.842 1007.98,306.372 1028.68,343.708 1049.37,384.44 \n",
       "  1070.07,428.101 1090.77,474.176 1111.47,522.116 1132.17,571.352 1152.87,621.315 1173.57,671.449 1194.26,721.228 1214.96,770.171 1235.66,817.852 1256.36,863.909 \n",
       "  1277.06,908.048 1297.76,950.045 1318.45,989.745 1339.15,1027.05 1359.85,1061.93 1380.55,1094.38 1401.25,1124.47 1421.95,1152.26 1442.64,1177.85 1463.34,1201.37 \n",
       "  1484.04,1222.94 1504.74,1242.68 1525.44,1260.74 1546.14,1277.23 1566.84,1292.29 1587.53,1306.04 1608.23,1318.58 1628.93,1330.02 1649.63,1340.45 1670.33,1349.98 \n",
       "  1691.03,1358.67 1711.72,1366.61 1732.42,1373.87 1753.12,1380.5 1773.82,1386.57 1794.52,1392.13 1815.22,1397.22 1835.92,1401.89 1856.61,1406.18 1877.31,1410.11 \n",
       "  1898.01,1413.73 1918.71,1417.06 1939.41,1420.12 1960.11,1422.94 1980.8,1425.55 2001.5,1427.95 2022.2,1430.17 2042.9,1432.23 2063.6,1434.13 2084.3,1435.89 \n",
       "  2105,1437.52 2125.69,1439.04 2146.39,1440.45 2167.09,1441.75 2187.79,1442.97 2208.49,1444.1 2229.19,1445.16 2249.88,1446.14 2270.58,1447.06 2291.28,1447.92 \n",
       "  \n",
       "  \"/>\n",
       "<polyline clip-path=\"url(#clip5302)\" style=\"stroke:#ac8d18; stroke-width:4; stroke-opacity:1; fill:none\" points=\"\n",
       "  242.135,1117.12 262.833,1083.38 283.532,1048.16 304.23,1011.57 324.929,973.729 345.627,934.747 366.325,894.741 387.024,853.838 407.722,812.18 428.421,769.919 \n",
       "  449.119,727.224 469.818,684.278 490.516,641.281 511.215,598.449 531.913,556.013 552.612,514.22 573.31,473.334 594.008,433.634 614.707,395.409 635.405,358.963 \n",
       "  656.104,324.607 676.802,292.658 697.501,263.437 718.199,237.26 738.898,214.44 759.596,195.275 780.294,180.044 800.993,169.001 821.691,162.369 842.39,160.33 \n",
       "  863.088,163.018 883.787,170.516 904.485,182.846 925.184,199.962 945.882,221.754 966.581,248.037 987.279,278.557 1007.98,312.991 1028.68,350.951 1049.37,391.995 \n",
       "  1070.07,435.635 1090.77,481.352 1111.47,528.604 1132.17,576.848 1152.87,625.554 1173.57,674.216 1194.26,722.366 1214.96,769.586 1235.66,815.516 1256.36,859.852 \n",
       "  1277.06,902.357 1297.76,942.851 1318.45,981.211 1339.15,1017.37 1359.85,1051.29 1380.55,1082.99 1401.25,1112.52 1421.95,1139.93 1442.64,1165.32 1463.34,1188.78 \n",
       "  1484.04,1210.41 1504.74,1230.33 1525.44,1248.65 1546.14,1265.47 1566.84,1280.92 1587.53,1295.09 1608.23,1308.08 1628.93,1319.99 1649.63,1330.91 1670.33,1340.92 \n",
       "  1691.03,1350.09 1711.72,1358.51 1732.42,1366.22 1753.12,1373.3 1773.82,1379.79 1794.52,1385.76 1815.22,1391.24 1835.92,1396.28 1856.61,1400.92 1877.31,1405.18 \n",
       "  1898.01,1409.11 1918.71,1412.73 1939.41,1416.07 1960.11,1419.16 1980.8,1422.01 2001.5,1424.64 2022.2,1427.07 2042.9,1429.33 2063.6,1431.41 2084.3,1433.35 \n",
       "  2105,1435.15 2125.69,1436.81 2146.39,1438.36 2167.09,1439.8 2187.79,1441.14 2208.49,1442.39 2229.19,1443.55 2249.88,1444.64 2270.58,1445.65 2291.28,1446.59 \n",
       "  \n",
       "  \"/>\n",
       "<polyline clip-path=\"url(#clip5302)\" style=\"stroke:#00a9ad; stroke-width:4; stroke-opacity:1; fill:none\" points=\"\n",
       "  242.135,1105.4 262.833,1070.98 283.532,1035.36 304.23,998.641 324.929,960.939 345.627,922.352 366.325,882.984 387.024,842.945 407.722,802.355 428.421,761.342 \n",
       "  449.119,720.047 469.818,678.623 490.516,637.236 511.215,596.065 531.913,555.306 552.612,515.166 573.31,475.872 594.008,437.661 614.707,400.787 635.405,365.516 \n",
       "  656.104,332.126 676.802,300.906 697.501,272.149 718.199,246.156 738.898,223.226 759.596,203.652 780.294,187.719 800.993,175.696 821.691,167.831 842.39,164.338 \n",
       "  863.088,165.398 883.787,171.146 904.485,181.664 925.184,196.975 945.882,217.035 966.581,241.731 987.279,270.876 1007.98,304.205 1028.68,341.384 1049.37,382.006 \n",
       "  1070.07,425.606 1090.77,471.667 1111.47,519.635 1132.17,568.938 1152.87,618.997 1173.57,669.247 1194.26,719.155 1214.96,768.233 1235.66,816.048 1256.36,862.235 \n",
       "  1277.06,906.499 1297.76,948.614 1318.45,988.424 1339.15,1025.84 1359.85,1060.81 1380.55,1093.36 1401.25,1123.53 1421.95,1151.41 1442.64,1177.08 1463.34,1200.68 \n",
       "  1484.04,1222.31 1504.74,1242.13 1525.44,1260.24 1546.14,1276.8 1566.84,1291.91 1587.53,1305.7 1608.23,1318.28 1628.93,1329.76 1649.63,1340.23 1670.33,1349.79 \n",
       "  1691.03,1358.51 1711.72,1366.47 1732.42,1373.75 1753.12,1380.4 1773.82,1386.49 1794.52,1392.06 1815.22,1397.17 1835.92,1401.85 1856.61,1406.14 1877.31,1410.08 \n",
       "  1898.01,1413.71 1918.71,1417.04 1939.41,1420.11 1960.11,1422.94 1980.8,1425.55 2001.5,1427.96 2022.2,1430.18 2042.9,1432.24 2063.6,1434.14 2084.3,1435.9 \n",
       "  2105,1437.54 2125.69,1439.06 2146.39,1440.46 2167.09,1441.77 2187.79,1442.99 2208.49,1444.12 2229.19,1445.18 2249.88,1446.16 2270.58,1447.08 2291.28,1447.94 \n",
       "  \n",
       "  \"/>\n",
       "<path clip-path=\"url(#clip5300)\" d=\"\n",
       "M1424.07 628.555 L2280.76 628.555 L2280.76 205.195 L1424.07 205.195  Z\n",
       "  \" fill=\"#ffffff\" fill-rule=\"evenodd\" fill-opacity=\"1\"/>\n",
       "<polyline clip-path=\"url(#clip5300)\" style=\"stroke:#000000; stroke-width:4; stroke-opacity:1; fill:none\" points=\"\n",
       "  1424.07,628.555 2280.76,628.555 2280.76,205.195 1424.07,205.195 1424.07,628.555 \n",
       "  \"/>\n",
       "<polyline clip-path=\"url(#clip5300)\" style=\"stroke:#009af9; stroke-width:4; stroke-opacity:1; fill:none\" points=\"\n",
       "  1448.07,265.675 1592.07,265.675 \n",
       "  \"/>\n",
       "<g clip-path=\"url(#clip5300)\">\n",
       "<text style=\"fill:#000000; fill-opacity:1; font-family:Arial,Helvetica Neue,Helvetica,sans-serif; font-size:48px; text-anchor:start;\" transform=\"rotate(0, 1616.07, 283.175)\" x=\"1616.07\" y=\"283.175\">Gauss+Gauss, 1 lengthscale</text>\n",
       "</g>\n",
       "<polyline clip-path=\"url(#clip5300)\" style=\"stroke:#e26f46; stroke-width:4; stroke-opacity:1; fill:none\" points=\"\n",
       "  1448.07,326.155 1592.07,326.155 \n",
       "  \"/>\n",
       "<g clip-path=\"url(#clip5300)\">\n",
       "<text style=\"fill:#000000; fill-opacity:1; font-family:Arial,Helvetica Neue,Helvetica,sans-serif; font-size:48px; text-anchor:start;\" transform=\"rotate(0, 1616.07, 343.655)\" x=\"1616.07\" y=\"343.655\">Gauss+Gauss</text>\n",
       "</g>\n",
       "<polyline clip-path=\"url(#clip5300)\" style=\"stroke:#3da44d; stroke-width:4; stroke-opacity:1; fill:none\" points=\"\n",
       "  1448.07,386.635 1592.07,386.635 \n",
       "  \"/>\n",
       "<g clip-path=\"url(#clip5300)\">\n",
       "<text style=\"fill:#000000; fill-opacity:1; font-family:Arial,Helvetica Neue,Helvetica,sans-serif; font-size:48px; text-anchor:start;\" transform=\"rotate(0, 1616.07, 404.135)\" x=\"1616.07\" y=\"404.135\">MC+MC</text>\n",
       "</g>\n",
       "<polyline clip-path=\"url(#clip5300)\" style=\"stroke:#c271d2; stroke-width:4; stroke-opacity:1; fill:none\" points=\"\n",
       "  1448.07,447.115 1592.07,447.115 \n",
       "  \"/>\n",
       "<g clip-path=\"url(#clip5300)\">\n",
       "<text style=\"fill:#000000; fill-opacity:1; font-family:Arial,Helvetica Neue,Helvetica,sans-serif; font-size:48px; text-anchor:start;\" transform=\"rotate(0, 1616.07, 464.615)\" x=\"1616.07\" y=\"464.615\">MC+Gaussian</text>\n",
       "</g>\n",
       "<polyline clip-path=\"url(#clip5300)\" style=\"stroke:#ac8d18; stroke-width:4; stroke-opacity:1; fill:none\" points=\"\n",
       "  1448.07,507.595 1592.07,507.595 \n",
       "  \"/>\n",
       "<g clip-path=\"url(#clip5300)\">\n",
       "<text style=\"fill:#000000; fill-opacity:1; font-family:Arial,Helvetica Neue,Helvetica,sans-serif; font-size:48px; text-anchor:start;\" transform=\"rotate(0, 1616.07, 525.095)\" x=\"1616.07\" y=\"525.095\">QMC+QMC</text>\n",
       "</g>\n",
       "<polyline clip-path=\"url(#clip5300)\" style=\"stroke:#00a9ad; stroke-width:4; stroke-opacity:1; fill:none\" points=\"\n",
       "  1448.07,568.075 1592.07,568.075 \n",
       "  \"/>\n",
       "<g clip-path=\"url(#clip5300)\">\n",
       "<text style=\"fill:#000000; fill-opacity:1; font-family:Arial,Helvetica Neue,Helvetica,sans-serif; font-size:48px; text-anchor:start;\" transform=\"rotate(0, 1616.07, 585.575)\" x=\"1616.07\" y=\"585.575\">QMC+Gaussian</text>\n",
       "</g>\n",
       "</svg>\n"
      ]
     },
     "execution_count": 25,
     "metadata": {},
     "output_type": "execute_result"
    }
   ],
   "source": [
    "a = 0.1; b = 2\n",
    "ygrid = range(a, b, length = 100)\n",
    "pdf_plot = plot(ygrid, pdf_fixed1.(ygrid), label = \"Gauss+Gauss, 1 lengthscale\")\n",
    "plot!(ygrid, pdf_fixed2.(ygrid), label = \"Gauss+Gauss\")\n",
    "plot!(ygrid, pdf_fixed3.(ygrid), label = \"MC+MC\")\n",
    "plot!(ygrid, pdf_fixed4.(ygrid), label = \"MC+Gaussian\")\n",
    "plot!(ygrid, pdf_fixed5.(ygrid), label = \"QMC+QMC\")\n",
    "plot!(ygrid, pdf_fixed6.(ygrid), label = \"QMC+Gaussian\", title = \"2D Test: PDF Comparison\")"
   ]
  },
  {
   "cell_type": "code",
   "execution_count": 111,
   "metadata": {
    "scrolled": false
   },
   "outputs": [
    {
     "data": {
      "image/svg+xml": [
       "<?xml version=\"1.0\" encoding=\"utf-8\"?>\n",
       "<svg xmlns=\"http://www.w3.org/2000/svg\" xmlns:xlink=\"http://www.w3.org/1999/xlink\" width=\"600\" height=\"400\" viewBox=\"0 0 2400 1600\">\n",
       "<defs>\n",
       "  <clipPath id=\"clip3500\">\n",
       "    <rect x=\"0\" y=\"0\" width=\"2400\" height=\"1600\"/>\n",
       "  </clipPath>\n",
       "</defs>\n",
       "<path clip-path=\"url(#clip3500)\" d=\"\n",
       "M0 1600 L2400 1600 L2400 0 L0 0  Z\n",
       "  \" fill=\"#ffffff\" fill-rule=\"evenodd\" fill-opacity=\"1\"/>\n",
       "<defs>\n",
       "  <clipPath id=\"clip3501\">\n",
       "    <rect x=\"480\" y=\"0\" width=\"1681\" height=\"1600\"/>\n",
       "  </clipPath>\n",
       "</defs>\n",
       "<path clip-path=\"url(#clip3500)\" d=\"\n",
       "M153.898 1487.47 L2352.76 1487.47 L2352.76 121.675 L153.898 121.675  Z\n",
       "  \" fill=\"#ffffff\" fill-rule=\"evenodd\" fill-opacity=\"1\"/>\n",
       "<defs>\n",
       "  <clipPath id=\"clip3502\">\n",
       "    <rect x=\"153\" y=\"121\" width=\"2200\" height=\"1367\"/>\n",
       "  </clipPath>\n",
       "</defs>\n",
       "<polyline clip-path=\"url(#clip3502)\" style=\"stroke:#000000; stroke-width:2; stroke-opacity:0.1; fill:none\" points=\"\n",
       "  652.844,1487.47 652.844,121.675 \n",
       "  \"/>\n",
       "<polyline clip-path=\"url(#clip3502)\" style=\"stroke:#000000; stroke-width:2; stroke-opacity:0.1; fill:none\" points=\"\n",
       "  1198.74,1487.47 1198.74,121.675 \n",
       "  \"/>\n",
       "<polyline clip-path=\"url(#clip3502)\" style=\"stroke:#000000; stroke-width:2; stroke-opacity:0.1; fill:none\" points=\"\n",
       "  1744.63,1487.47 1744.63,121.675 \n",
       "  \"/>\n",
       "<polyline clip-path=\"url(#clip3502)\" style=\"stroke:#000000; stroke-width:2; stroke-opacity:0.1; fill:none\" points=\"\n",
       "  2290.52,1487.47 2290.52,121.675 \n",
       "  \"/>\n",
       "<polyline clip-path=\"url(#clip3502)\" style=\"stroke:#000000; stroke-width:2; stroke-opacity:0.1; fill:none\" points=\"\n",
       "  153.898,1260.78 2352.76,1260.78 \n",
       "  \"/>\n",
       "<polyline clip-path=\"url(#clip3502)\" style=\"stroke:#000000; stroke-width:2; stroke-opacity:0.1; fill:none\" points=\"\n",
       "  153.898,983.789 2352.76,983.789 \n",
       "  \"/>\n",
       "<polyline clip-path=\"url(#clip3502)\" style=\"stroke:#000000; stroke-width:2; stroke-opacity:0.1; fill:none\" points=\"\n",
       "  153.898,706.795 2352.76,706.795 \n",
       "  \"/>\n",
       "<polyline clip-path=\"url(#clip3502)\" style=\"stroke:#000000; stroke-width:2; stroke-opacity:0.1; fill:none\" points=\"\n",
       "  153.898,429.8 2352.76,429.8 \n",
       "  \"/>\n",
       "<polyline clip-path=\"url(#clip3502)\" style=\"stroke:#000000; stroke-width:2; stroke-opacity:0.1; fill:none\" points=\"\n",
       "  153.898,152.805 2352.76,152.805 \n",
       "  \"/>\n",
       "<polyline clip-path=\"url(#clip3500)\" style=\"stroke:#000000; stroke-width:4; stroke-opacity:1; fill:none\" points=\"\n",
       "  153.898,1487.47 2352.76,1487.47 \n",
       "  \"/>\n",
       "<polyline clip-path=\"url(#clip3500)\" style=\"stroke:#000000; stroke-width:4; stroke-opacity:1; fill:none\" points=\"\n",
       "  153.898,1487.47 153.898,121.675 \n",
       "  \"/>\n",
       "<polyline clip-path=\"url(#clip3500)\" style=\"stroke:#000000; stroke-width:4; stroke-opacity:1; fill:none\" points=\"\n",
       "  652.844,1487.47 652.844,1471.09 \n",
       "  \"/>\n",
       "<polyline clip-path=\"url(#clip3500)\" style=\"stroke:#000000; stroke-width:4; stroke-opacity:1; fill:none\" points=\"\n",
       "  1198.74,1487.47 1198.74,1471.09 \n",
       "  \"/>\n",
       "<polyline clip-path=\"url(#clip3500)\" style=\"stroke:#000000; stroke-width:4; stroke-opacity:1; fill:none\" points=\"\n",
       "  1744.63,1487.47 1744.63,1471.09 \n",
       "  \"/>\n",
       "<polyline clip-path=\"url(#clip3500)\" style=\"stroke:#000000; stroke-width:4; stroke-opacity:1; fill:none\" points=\"\n",
       "  2290.52,1487.47 2290.52,1471.09 \n",
       "  \"/>\n",
       "<polyline clip-path=\"url(#clip3500)\" style=\"stroke:#000000; stroke-width:4; stroke-opacity:1; fill:none\" points=\"\n",
       "  153.898,1260.78 180.284,1260.78 \n",
       "  \"/>\n",
       "<polyline clip-path=\"url(#clip3500)\" style=\"stroke:#000000; stroke-width:4; stroke-opacity:1; fill:none\" points=\"\n",
       "  153.898,983.789 180.284,983.789 \n",
       "  \"/>\n",
       "<polyline clip-path=\"url(#clip3500)\" style=\"stroke:#000000; stroke-width:4; stroke-opacity:1; fill:none\" points=\"\n",
       "  153.898,706.795 180.284,706.795 \n",
       "  \"/>\n",
       "<polyline clip-path=\"url(#clip3500)\" style=\"stroke:#000000; stroke-width:4; stroke-opacity:1; fill:none\" points=\"\n",
       "  153.898,429.8 180.284,429.8 \n",
       "  \"/>\n",
       "<polyline clip-path=\"url(#clip3500)\" style=\"stroke:#000000; stroke-width:4; stroke-opacity:1; fill:none\" points=\"\n",
       "  153.898,152.805 180.284,152.805 \n",
       "  \"/>\n",
       "<g clip-path=\"url(#clip3500)\">\n",
       "<text style=\"fill:#000000; fill-opacity:1; font-family:Arial,Helvetica Neue,Helvetica,sans-serif; font-size:48px; text-anchor:middle;\" transform=\"rotate(0, 652.844, 1541.47)\" x=\"652.844\" y=\"1541.47\">0.5</text>\n",
       "</g>\n",
       "<g clip-path=\"url(#clip3500)\">\n",
       "<text style=\"fill:#000000; fill-opacity:1; font-family:Arial,Helvetica Neue,Helvetica,sans-serif; font-size:48px; text-anchor:middle;\" transform=\"rotate(0, 1198.74, 1541.47)\" x=\"1198.74\" y=\"1541.47\">1.0</text>\n",
       "</g>\n",
       "<g clip-path=\"url(#clip3500)\">\n",
       "<text style=\"fill:#000000; fill-opacity:1; font-family:Arial,Helvetica Neue,Helvetica,sans-serif; font-size:48px; text-anchor:middle;\" transform=\"rotate(0, 1744.63, 1541.47)\" x=\"1744.63\" y=\"1541.47\">1.5</text>\n",
       "</g>\n",
       "<g clip-path=\"url(#clip3500)\">\n",
       "<text style=\"fill:#000000; fill-opacity:1; font-family:Arial,Helvetica Neue,Helvetica,sans-serif; font-size:48px; text-anchor:middle;\" transform=\"rotate(0, 2290.52, 1541.47)\" x=\"2290.52\" y=\"1541.47\">2.0</text>\n",
       "</g>\n",
       "<g clip-path=\"url(#clip3500)\">\n",
       "<text style=\"fill:#000000; fill-opacity:1; font-family:Arial,Helvetica Neue,Helvetica,sans-serif; font-size:48px; text-anchor:end;\" transform=\"rotate(0, 129.898, 1278.28)\" x=\"129.898\" y=\"1278.28\">0.2</text>\n",
       "</g>\n",
       "<g clip-path=\"url(#clip3500)\">\n",
       "<text style=\"fill:#000000; fill-opacity:1; font-family:Arial,Helvetica Neue,Helvetica,sans-serif; font-size:48px; text-anchor:end;\" transform=\"rotate(0, 129.898, 1001.29)\" x=\"129.898\" y=\"1001.29\">0.4</text>\n",
       "</g>\n",
       "<g clip-path=\"url(#clip3500)\">\n",
       "<text style=\"fill:#000000; fill-opacity:1; font-family:Arial,Helvetica Neue,Helvetica,sans-serif; font-size:48px; text-anchor:end;\" transform=\"rotate(0, 129.898, 724.295)\" x=\"129.898\" y=\"724.295\">0.6</text>\n",
       "</g>\n",
       "<g clip-path=\"url(#clip3500)\">\n",
       "<text style=\"fill:#000000; fill-opacity:1; font-family:Arial,Helvetica Neue,Helvetica,sans-serif; font-size:48px; text-anchor:end;\" transform=\"rotate(0, 129.898, 447.3)\" x=\"129.898\" y=\"447.3\">0.8</text>\n",
       "</g>\n",
       "<g clip-path=\"url(#clip3500)\">\n",
       "<text style=\"fill:#000000; fill-opacity:1; font-family:Arial,Helvetica Neue,Helvetica,sans-serif; font-size:48px; text-anchor:end;\" transform=\"rotate(0, 129.898, 170.305)\" x=\"129.898\" y=\"170.305\">1.0</text>\n",
       "</g>\n",
       "<g clip-path=\"url(#clip3500)\">\n",
       "<text style=\"fill:#000000; fill-opacity:1; font-family:Arial,Helvetica Neue,Helvetica,sans-serif; font-size:84px; text-anchor:middle;\" transform=\"rotate(0, 1253.33, 73.2)\" x=\"1253.33\" y=\"73.2\">2D Test: CDF Comparison</text>\n",
       "</g>\n",
       "<polyline clip-path=\"url(#clip3502)\" style=\"stroke:#009af9; stroke-width:4; stroke-opacity:1; fill:none\" points=\"\n",
       "  216.13,1447.85 237.083,1438.45 258.037,1428.19 278.99,1417.05 299.944,1405.01 320.897,1392.04 341.851,1378.14 362.804,1363.27 383.758,1347.42 404.711,1330.59 \n",
       "  425.665,1312.77 446.618,1293.95 467.572,1274.14 488.525,1253.33 509.478,1231.54 530.432,1208.78 551.385,1185.07 572.339,1160.44 593.292,1134.92 614.246,1108.55 \n",
       "  635.199,1081.36 656.153,1053.43 677.106,1024.8 698.06,995.551 719.013,965.748 739.967,935.477 760.92,904.827 781.874,873.894 802.827,842.781 823.781,811.594 \n",
       "  844.734,780.444 865.688,749.446 886.641,718.717 907.595,688.372 928.548,658.526 949.502,629.291 970.455,600.773 991.408,573.072 1012.36,546.28 1033.32,520.476 \n",
       "  1054.27,495.73 1075.22,472.098 1096.18,449.623 1117.13,428.334 1138.08,408.247 1159.04,389.363 1179.99,371.673 1200.94,355.153 1221.9,339.773 1242.85,325.492 \n",
       "  1263.8,312.264 1284.76,300.037 1305.71,288.756 1326.66,278.364 1347.62,268.803 1368.57,260.017 1389.52,251.947 1410.48,244.541 1431.43,237.746 1452.38,231.512 \n",
       "  1473.34,225.794 1494.29,220.548 1515.25,215.734 1536.2,211.315 1557.15,207.256 1578.11,203.526 1599.06,200.096 1620.01,196.94 1640.97,194.034 1661.92,191.356 \n",
       "  1682.87,188.886 1703.83,186.606 1724.78,184.5 1745.73,182.552 1766.69,180.749 1787.64,179.079 1808.59,177.53 1829.55,176.093 1850.5,174.759 1871.45,173.518 \n",
       "  1892.41,172.363 1913.36,171.287 1934.31,170.284 1955.27,169.349 1976.22,168.475 1997.18,167.658 2018.13,166.895 2039.08,166.18 2060.04,165.51 2080.99,164.881 \n",
       "  2101.94,164.292 2122.9,163.738 2143.85,163.218 2164.8,162.728 2185.76,162.267 2206.71,161.833 2227.66,161.424 2248.62,161.038 2269.57,160.674 2290.52,160.33 \n",
       "  \n",
       "  \"/>\n",
       "<polyline clip-path=\"url(#clip3502)\" style=\"stroke:#e26f46; stroke-width:4; stroke-opacity:1; fill:none\" points=\"\n",
       "  216.13,1448.82 237.083,1439.02 258.037,1428.33 278.99,1416.72 299.944,1404.18 320.897,1390.67 341.851,1376.2 362.804,1360.73 383.758,1344.27 404.711,1326.81 \n",
       "  425.665,1308.33 446.618,1288.85 467.572,1268.37 488.525,1246.89 509.478,1224.44 530.432,1201.04 551.385,1176.7 572.339,1151.46 593.292,1125.36 614.246,1098.45 \n",
       "  635.199,1070.77 656.153,1042.38 677.106,1013.36 698.06,983.764 719.013,953.68 739.967,923.192 760.92,892.392 781.874,861.379 802.827,830.254 823.781,799.126 \n",
       "  844.734,768.105 865.688,737.302 886.641,706.833 907.595,676.807 928.548,647.337 949.502,618.528 970.455,590.48 991.408,563.285 1012.36,537.028 1033.32,511.782 \n",
       "  1054.27,487.608 1075.22,464.556 1096.18,442.661 1117.13,421.945 1138.08,402.418 1159.04,384.076 1179.99,366.905 1200.94,350.879 1221.9,335.964 1242.85,322.118 \n",
       "  1263.8,309.293 1284.76,297.437 1305.71,286.495 1326.66,276.412 1347.62,267.13 1368.57,258.594 1389.52,250.749 1410.48,243.542 1431.43,236.923 1452.38,230.845 \n",
       "  1473.34,225.264 1494.29,220.138 1515.25,215.428 1536.2,211.099 1557.15,207.118 1578.11,203.456 1599.06,200.083 1620.01,196.976 1640.97,194.112 1661.92,191.468 \n",
       "  1682.87,189.027 1703.83,186.771 1724.78,184.685 1745.73,182.752 1766.69,180.962 1787.64,179.302 1808.59,177.76 1829.55,176.328 1850.5,174.997 1871.45,173.757 \n",
       "  1892.41,172.603 1913.36,171.526 1934.31,170.522 1955.27,169.584 1976.22,168.707 1997.18,167.887 2018.13,167.119 2039.08,166.4 2060.04,165.725 2080.99,165.092 \n",
       "  2101.94,164.497 2122.9,163.938 2143.85,163.412 2164.8,162.917 2185.76,162.451 2206.71,162.012 2227.66,161.598 2248.62,161.207 2269.57,160.837 2290.52,160.488 \n",
       "  \n",
       "  \"/>\n",
       "<path clip-path=\"url(#clip3500)\" d=\"\n",
       "M1424.07 1343.47 L2280.76 1343.47 L2280.76 1162.03 L1424.07 1162.03  Z\n",
       "  \" fill=\"#ffffff\" fill-rule=\"evenodd\" fill-opacity=\"1\"/>\n",
       "<polyline clip-path=\"url(#clip3500)\" style=\"stroke:#000000; stroke-width:4; stroke-opacity:1; fill:none\" points=\"\n",
       "  1424.07,1343.47 2280.76,1343.47 2280.76,1162.03 1424.07,1162.03 1424.07,1343.47 \n",
       "  \"/>\n",
       "<polyline clip-path=\"url(#clip3500)\" style=\"stroke:#009af9; stroke-width:4; stroke-opacity:1; fill:none\" points=\"\n",
       "  1448.07,1222.51 1592.07,1222.51 \n",
       "  \"/>\n",
       "<g clip-path=\"url(#clip3500)\">\n",
       "<text style=\"fill:#000000; fill-opacity:1; font-family:Arial,Helvetica Neue,Helvetica,sans-serif; font-size:48px; text-anchor:start;\" transform=\"rotate(0, 1616.07, 1240.01)\" x=\"1616.07\" y=\"1240.01\">Gauss+Gauss, 1 lengthscale</text>\n",
       "</g>\n",
       "<polyline clip-path=\"url(#clip3500)\" style=\"stroke:#e26f46; stroke-width:4; stroke-opacity:1; fill:none\" points=\"\n",
       "  1448.07,1282.99 1592.07,1282.99 \n",
       "  \"/>\n",
       "<g clip-path=\"url(#clip3500)\">\n",
       "<text style=\"fill:#000000; fill-opacity:1; font-family:Arial,Helvetica Neue,Helvetica,sans-serif; font-size:48px; text-anchor:start;\" transform=\"rotate(0, 1616.07, 1300.49)\" x=\"1616.07\" y=\"1300.49\">QMC+Gaussian</text>\n",
       "</g>\n",
       "</svg>\n"
      ]
     },
     "execution_count": 111,
     "metadata": {},
     "output_type": "execute_result"
    }
   ],
   "source": [
    "cdf_plot = plot(ygrid, cdf_fixed.(ygrid), label = \"Gauss+Gauss, 1 lengthscale\", legend=:bottomright)\n",
    "plot!(ygrid, cdf_fixed2.(ygrid), label = \"Gauss+Gauss\")\n",
    "plot!(ygrid, cdf_fixed3.(ygrid), label = \"MC+MC\")\n",
    "plot!(ygrid, cdf_fixed4.(ygrid), label = \"MC+Gaussian\")\n",
    "plot!(ygrid, cdf_fixed5.(ygrid), label = \"QMC+QMC\")\n",
    "plot!(ygrid, cdf_fixed6.(ygrid), label = \"QMC+Gaussian\", title = \"2D Test: CDF Comparison\")"
   ]
  },
  {
   "cell_type": "code",
   "execution_count": 109,
   "metadata": {
    "scrolled": false
   },
   "outputs": [
    {
     "data": {
      "text/plain": [
       "range1 (generic function with 1 method)"
      ]
     },
     "execution_count": 109,
     "metadata": {},
     "output_type": "execute_result"
    }
   ],
   "source": [
    "range1(q) = quantInfo1[5](x0, Fx0, q)\n",
    "# range2(q) = quantInfo2[5](x0, Fx0, q)\n",
    "# range3(q) = quantInfo3[5](x0, Fx0, q)\n",
    "# range4(q) = quantInfo4[5](x0, Fx0, q)\n",
    "# range5(q) = quantInfo5[5](x0, Fx0, q)\n",
    "# range6(q) = quantInfo6[5](x0, Fx0, q)"
   ]
  },
  {
   "cell_type": "code",
   "execution_count": 117,
   "metadata": {
    "scrolled": true
   },
   "outputs": [
    {
     "data": {
      "text/plain": [
       "(0.6675501402423699, 0.0)"
      ]
     },
     "execution_count": 117,
     "metadata": {},
     "output_type": "execute_result"
    }
   ],
   "source": [
    "px = 0.5\n",
    "quant_p1, error_quant1 = quantile(pdf_fixed1, cdf_fixed1, quant01, support1; p=px)"
   ]
  },
  {
   "cell_type": "code",
   "execution_count": null,
   "metadata": {},
   "outputs": [],
   "source": []
  },
  {
   "cell_type": "code",
   "execution_count": null,
   "metadata": {},
   "outputs": [],
   "source": []
  },
  {
   "cell_type": "code",
   "execution_count": null,
   "metadata": {},
   "outputs": [],
   "source": []
  },
  {
   "cell_type": "code",
   "execution_count": 118,
   "metadata": {
    "scrolled": true
   },
   "outputs": [
    {
     "data": {
      "text/plain": [
       "12×12 Array{Float64,2}:\n",
       " -0.205935  -0.191755  -0.171794  …  -0.0850367  -0.0816627  -0.0798353\n",
       " -0.154293  -0.157975  -0.159004     -0.100033   -0.0962189  -0.0941384\n",
       " -0.390068  -0.370147  -0.339306     -0.168805   -0.161663   -0.157809 \n",
       " -0.513869  -0.479801  -0.430362     -0.201916   -0.193222   -0.188543 \n",
       " -0.558759  -0.518964  -0.46211      -0.212528   -0.203338   -0.198396 \n",
       " -0.573336  -0.531388  -0.471774  …  -0.215069   -0.205752   -0.200745 \n",
       " -0.580297  -0.537226  -0.476155     -0.215758   -0.206393   -0.201361 \n",
       " -0.585932  -0.541981  -0.479751     -0.21622    -0.206809   -0.201755 \n",
       " -0.591085  -0.546365  -0.483112     -0.216684   -0.207227   -0.202148 \n",
       " -0.595453  -0.550098  -0.485995     -0.217107   -0.207608   -0.202509 \n",
       " -0.59868   -0.552861  -0.488138  …  -0.217432   -0.207902   -0.202786 \n",
       " -0.600539  -0.554454  -0.489375     -0.217623   -0.208074   -0.202949 "
      ]
     },
     "execution_count": 118,
     "metadata": {},
     "output_type": "execute_result"
    }
   ],
   "source": [
    "range1(px)"
   ]
  },
  {
   "cell_type": "code",
   "execution_count": 99,
   "metadata": {},
   "outputs": [
    {
     "data": {
      "text/plain": [
       "LocationScale{Float64,TDist{Float64}}(\n",
       "μ: 0.3\n",
       "σ: 1.2\n",
       "ρ: TDist{Float64}(ν=5.0)\n",
       ")\n"
      ]
     },
     "execution_count": 99,
     "metadata": {},
     "output_type": "execute_result"
    }
   ],
   "source": [
    "t = LocationScale(0.3, 1.2, TDist(5))"
   ]
  },
  {
   "cell_type": "code",
   "execution_count": 100,
   "metadata": {},
   "outputs": [
    {
     "data": {
      "text/plain": [
       "1.4034525362889914"
      ]
     },
     "execution_count": 100,
     "metadata": {},
     "output_type": "execute_result"
    }
   ],
   "source": [
    "pp = Distributions.quantile(t, px)"
   ]
  },
  {
   "cell_type": "code",
   "execution_count": 112,
   "metadata": {
    "scrolled": true
   },
   "outputs": [
    {
     "data": {
      "text/plain": [
       "1.630647510776896"
      ]
     },
     "execution_count": 112,
     "metadata": {},
     "output_type": "execute_result"
    }
   ],
   "source": [
    "θ = Array{Float64, 1}(undef, 1)\n",
    "θ[1] = btg1.nodesWeightsθ.nodes[1]"
   ]
  },
  {
   "cell_type": "code",
   "execution_count": null,
   "metadata": {},
   "outputs": [],
   "source": []
  },
  {
   "cell_type": "code",
   "execution_count": 113,
   "metadata": {},
   "outputs": [
    {
     "data": {
      "text/plain": [
       "0.22581511205459326"
      ]
     },
     "execution_count": 113,
     "metadata": {},
     "output_type": "execute_result"
    }
   ],
   "source": [
    "λ = Array{Float64, 1}(undef, 1)\n",
    "λ[1] = btg1.nodesWeightsλ.nodes[1]"
   ]
  },
  {
   "cell_type": "code",
   "execution_count": null,
   "metadata": {},
   "outputs": [],
   "source": []
  },
  {
   "cell_type": "code",
   "execution_count": null,
   "metadata": {},
   "outputs": [],
   "source": []
  },
  {
   "cell_type": "code",
   "execution_count": 93,
   "metadata": {
    "scrolled": true
   },
   "outputs": [
    {
     "ename": "ArgumentError",
     "evalue": "ArgumentError: The interval [a,b] is not a bracketing interval.\nYou need f(a) and f(b) to have different signs (f(a) * f(b) < 0).\nConsider a different bracket or try fzero(f, c) with an initial guess c.\n\n",
     "output_type": "error",
     "traceback": [
      "ArgumentError: The interval [a,b] is not a bracketing interval.\nYou need f(a) and f(b) to have different signs (f(a) * f(b) < 0).\nConsider a different bracket or try fzero(f, c) with an initial guess c.\n\n",
      "",
      "Stacktrace:",
      " [1] init_state(::Bisection, ::Roots.DerivativeFree{Roots.FnWrapper}, ::Tuple{Float64,Float64}) at /Users/zhuxinran/.julia/packages/Roots/J9LJJ/src/bracketing.jl:81",
      " [2] #find_zero#8(::Roots.NullTracks, ::Bool, ::Base.Iterators.Pairs{Union{},Union{},Tuple{},NamedTuple{(),Tuple{}}}, ::typeof(find_zero), ::Roots.FnWrapper, ::Tuple{Float64,Float64}, ::Bisection) at /Users/zhuxinran/.julia/packages/Roots/J9LJJ/src/bracketing.jl:319",
      " [3] #fzero#49 at /Users/zhuxinran/.julia/packages/Roots/J9LJJ/src/bracketing.jl:316 [inlined]",
      " [4] fzero at /Users/zhuxinran/.julia/packages/Roots/J9LJJ/src/fzero.jl:77 [inlined]",
      " [5] #fzero#50 at /Users/zhuxinran/.julia/packages/Roots/J9LJJ/src/fzero.jl:85 [inlined]",
      " [6] fzero at /Users/zhuxinran/.julia/packages/Roots/J9LJJ/src/fzero.jl:85 [inlined]",
      " [7] #quantile#1554(::Nothing, ::Float64, ::typeof(quantile), ::Function, ::var\"#cdf_fixed#1549\"{Array{Float64,2},Array{Float64,2},var\"#1469#1488\"{Array{Float64,2},Array{Float64,2},var\"#evalgrid_cdf!#1482\"{SubArray{Float64,2,Array{Float64,2},Tuple{UnitRange{Int64},UnitRange{Int64}},false},var\"#evalgrid!#1479\"{CartesianIndices{2,Tuple{Base.OneTo{Int64},Base.OneTo{Int64}}}}}}}, ::var\"#quant0_estimate#1547\"{Array{Float64,2},Array{Float64,2},var\"#1475#1494\"{var\"#1470#1489\"{Array{Float64,2},Array{Float64,2},var\"#evalgrid_m!#1483\"{SubArray{Float64,2,Array{Float64,2},Tuple{UnitRange{Int64},UnitRange{Int64}},false},var\"#evalgrid!#1479\"{CartesianIndices{2,Tuple{Base.OneTo{Int64},Base.OneTo{Int64}}}}}},Int64,var\"#1474#1493\"{var\"#1473#1492\"{var\"#1470#1489\"{Array{Float64,2},Array{Float64,2},var\"#evalgrid_m!#1483\"{SubArray{Float64,2,Array{Float64,2},Tuple{UnitRange{Int64},UnitRange{Int64}},false},var\"#evalgrid!#1479\"{CartesianIndices{2,Tuple{Base.OneTo{Int64},Base.OneTo{Int64}}}}}},var\"#1471#1490\"{Array{Float64,2},Array{Float64,2},var\"#evalgrid_sigma_m!#1484\"{SubArray{Float64,2,Array{Float64,2},Tuple{UnitRange{Int64},UnitRange{Int64}},false},var\"#evalgrid!#1479\"{CartesianIndices{2,Tuple{Base.OneTo{Int64},Base.OneTo{Int64}}}}}}},Int64}}}, ::Array{Float64,1}) at /Users/zhuxinran/projects/BTG/btg/BayesTransformedGaussian/src/statistics.jl:70",
      " [8] (::var\"#kw##quantile\")(::NamedTuple{(:p,),Tuple{Float64}}, ::typeof(quantile), ::Function, ::Function, ::Function, ::Array{Float64,1}) at ./none:0",
      " [9] #credible_interval#1561(::Nothing, ::Float64, ::typeof(credible_interval), ::Function, ::var\"#cdf_fixed#1549\"{Array{Float64,2},Array{Float64,2},var\"#1469#1488\"{Array{Float64,2},Array{Float64,2},var\"#evalgrid_cdf!#1482\"{SubArray{Float64,2,Array{Float64,2},Tuple{UnitRange{Int64},UnitRange{Int64}},false},var\"#evalgrid!#1479\"{CartesianIndices{2,Tuple{Base.OneTo{Int64},Base.OneTo{Int64}}}}}}}, ::Function, ::Array{Float64,1}, ::Val{:equal}) at /Users/zhuxinran/projects/BTG/btg/BayesTransformedGaussian/src/statistics.jl:92",
      " [10] (::var\"#kw##credible_interval\")(::NamedTuple{(:pdf_deriv, :wp),Tuple{Nothing,Float64}}, ::typeof(credible_interval), ::Function, ::Function, ::Function, ::Array{Float64,1}, ::Val{:equal}) at ./none:0",
      " [11] #credible_interval#1560(::Nothing, ::Float64, ::Symbol, ::typeof(credible_interval), ::Function, ::Function, ::Function, ::Array{Float64,1}) at /Users/zhuxinran/projects/BTG/btg/BayesTransformedGaussian/src/statistics.jl:85",
      " [12] #credible_interval at ./none:0 [inlined]",
      " [13] #summary_comp#1552(::Float64, ::Float64, ::typeof(summary_comp), ::Function, ::Function, ::Function, ::Function, ::Array{Float64,1}) at /Users/zhuxinran/projects/BTG/btg/BayesTransformedGaussian/src/statistics.jl:43",
      " [14] (::var\"#kw##summary_comp\")(::NamedTuple{(:px,),Tuple{Float64}}, ::typeof(summary_comp), ::Function, ::Function, ::Function, ::Function, ::Array{Float64,1}) at ./none:0",
      " [15] top-level scope at In[93]:1"
     ]
    }
   ],
   "source": [
    "DistributionInfo = summary_comp(pdf_fixed1, cdf_fixed1, dpdf_fixed1, quant01, support1; px = .8);"
   ]
  },
  {
   "cell_type": "code",
   "execution_count": null,
   "metadata": {},
   "outputs": [],
   "source": []
  }
 ],
 "metadata": {
  "kernelspec": {
   "display_name": "Julia 1.3.1",
   "language": "julia",
   "name": "julia-1.3"
  },
  "language_info": {
   "file_extension": ".jl",
   "mimetype": "application/julia",
   "name": "julia",
   "version": "1.3.1"
  }
 },
 "nbformat": 4,
 "nbformat_minor": 2
}
