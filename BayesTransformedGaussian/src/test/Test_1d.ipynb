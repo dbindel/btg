{
 "cells": [
  {
   "cell_type": "code",
   "execution_count": null,
   "metadata": {},
   "outputs": [],
   "source": [
    "using LinearAlgebra                                                             \n",
    "using Test                                                                                       \n",
    "using Distributions                                                             \n",
    "using DataFrames                                                                          \n",
    "using CSV                                                                              \n",
    "using Polynomials                                                               \n",
    "                                                                                 \n",
    "include(\"../computation/finitedifference.jl\")                                                   \n",
    "include(\"../quadrature/quadrature.jl\")                                             \n",
    "include(\"../transforms/transforms.jl\")                                             \n",
    "include(\"../priors/priors.jl\")                                                     \n",
    "include(\"../bayesopt/incremental.jl\")                                              \n",
    "include(\"../kernels/kernel.jl\")                                                    \n",
    "include(\"../datastructs.jl\")                                                       \n",
    "include(\"../computation/buffers0.jl\") #datastruct, kernel, incremental, quadrature \n",
    "include(\"../model0.jl\") #buffers, datastructs, several auxiliary                   \n",
    "include(\"../computation/tdist.jl\") #model0 and buffer0  "
   ]
  },
  {
   "cell_type": "code",
   "execution_count": 16,
   "metadata": {
    "scrolled": false
   },
   "outputs": [
    {
     "data": {
      "text/plain": [
       "trainingData([0.0; 0.3; … ; 1.6; 2.0], [1.0; 1.0; … ; 1.0; 1.0], [1.1, 1.3955202066613397, 1.579425538604203, 1.8173560908995228, 1.9414709848078966, 2.063558185417193, 2.099573603041505, 2.0092974268256816], 1, 1, 8)"
      ]
     },
     "execution_count": 16,
     "metadata": {},
     "output_type": "execute_result"
    }
   ],
   "source": [
    "test_fun1(x) = sin(x) + 1.1\n",
    "x = reshape([0, 0.3, 0.5, 0.8, 1, 1.3, 1.6, 2], 8, 1)\n",
    "Fx = ones(10, 1)\n",
    "y = reshape(test_fun1.(x), 8)\n",
    "trainingData1 = trainingData(x, Fx, y) #training data used for testing various functions"
   ]
  },
  {
   "cell_type": "code",
   "execution_count": 17,
   "metadata": {},
   "outputs": [
    {
     "data": {
      "text/plain": [
       "1×2 Array{Float64,2}:\n",
       " 0.5  5.0"
      ]
     },
     "execution_count": 17,
     "metadata": {},
     "output_type": "execute_result"
    }
   ],
   "source": [
    "d = getDimension(trainingData1)\n",
    "n = getNumPts(trainingData1)\n",
    "p = getCovDimension(trainingData1)\n",
    "rangeθ = [0.25 100]\n",
    "rangeθ = repeat(rangeθ, d, 1)\n",
    "rangeλ = [0.5 5]"
   ]
  },
  {
   "cell_type": "code",
   "execution_count": 18,
   "metadata": {
    "scrolled": true
   },
   "outputs": [
    {
     "name": "stdout",
     "output_type": "stream",
     "text": [
      "Iterating over nodeset to build train_buffer_dict...\n"
     ]
    },
    {
     "ename": "DimensionMismatch",
     "evalue": "DimensionMismatch(\"first dimension of B, 10, and size of A, (8,8), must match!\")",
     "output_type": "error",
     "traceback": [
      "DimensionMismatch(\"first dimension of B, 10, and size of A, (8,8), must match!\")",
      "",
      "Stacktrace:",
      " [1] potrs!(::Char, ::SubArray{Float64,2,Array{Float64,2},Tuple{UnitRange{Int64},UnitRange{Int64}},false}, ::Array{Float64,2}) at /Users/julia/buildbot/worker/package_macos64/build/usr/share/julia/stdlib/v1.3/LinearAlgebra/src/lapack.jl:3119",
      " [2] ldiv! at /Users/julia/buildbot/worker/package_macos64/build/usr/share/julia/stdlib/v1.3/LinearAlgebra/src/cholesky.jl:471 [inlined]",
      " [3] \\(::IncrementalCholesky{Float64}, ::Array{Float64,2}) at /Users/julia/buildbot/worker/package_macos64/build/usr/share/julia/stdlib/v1.3/LinearAlgebra/src/factorization.jl:99",
      " [4] train_buffer(::Array{Float64,1}, ::trainingData, ::Gaussian) at /Users/zhuxinran/projects/BTG/btg/BayesTransformedGaussian/src/computation/buffers0.jl:34",
      " [5] init_train_buffer_dict(::nodesWeights, ::trainingData, ::Gaussian) at /Users/zhuxinran/projects/BTG/btg/BayesTransformedGaussian/src/computation/buffers0.jl:79",
      " [6] (::var\"#btg#39#41\")(::Gaussian, ::Uniform, ::Uniform, ::String, ::BoxCox, ::Type{btg}, ::trainingData, ::Array{Float64,2}, ::Array{Float64,2}) at /Users/zhuxinran/projects/BTG/btg/BayesTransformedGaussian/src/model0.jl:50",
      " [7] btg(::trainingData, ::Array{Float64,2}, ::Array{Float64,2}) at /Users/zhuxinran/projects/BTG/btg/BayesTransformedGaussian/src/model0.jl:40",
      " [8] top-level scope at In[18]:1"
     ]
    }
   ],
   "source": [
    "btg1 = btg(trainingData1, rangeθ, rangeλ);"
   ]
  },
  {
   "cell_type": "code",
   "execution_count": null,
   "metadata": {},
   "outputs": [],
   "source": [
    "(dpdf, pdf, cdf) = solve(btg1);"
   ]
  },
  {
   "cell_type": "code",
   "execution_count": null,
   "metadata": {},
   "outputs": [],
   "source": []
  },
  {
   "cell_type": "code",
   "execution_count": null,
   "metadata": {},
   "outputs": [],
   "source": []
  },
  {
   "cell_type": "code",
   "execution_count": null,
   "metadata": {},
   "outputs": [],
   "source": []
  }
 ],
 "metadata": {
  "kernelspec": {
   "display_name": "Julia 1.3.1",
   "language": "julia",
   "name": "julia-1.3"
  },
  "language_info": {
   "file_extension": ".jl",
   "mimetype": "application/julia",
   "name": "julia",
   "version": "1.3.1"
  }
 },
 "nbformat": 4,
 "nbformat_minor": 2
}
