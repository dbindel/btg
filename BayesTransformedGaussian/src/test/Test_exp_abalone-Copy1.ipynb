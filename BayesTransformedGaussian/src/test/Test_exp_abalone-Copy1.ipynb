{
 "cells": [
  {
   "cell_type": "code",
   "execution_count": 30,
   "metadata": {},
   "outputs": [],
   "source": [
    "using Dates\n",
    "using ArgParse\n",
    "using Printf\n",
    "using Random\n",
    "\n",
    "include(\"../btg.jl\")\n",
    "include(\"../datasets/load_abalone.jl\");"
   ]
  },
  {
   "cell_type": "code",
   "execution_count": 31,
   "metadata": {
    "scrolled": true
   },
   "outputs": [
    {
     "data": {
      "text/plain": [
       "3"
      ]
     },
     "execution_count": 31,
     "metadata": {},
     "output_type": "execute_result"
    }
   ],
   "source": [
    "# shuffle data\n",
    "ind_shuffle = randperm(MersenneTwister(1234), size(data, 1)) \n",
    "data = data[ind_shuffle, :]\n",
    "target = target[ind_shuffle]\n",
    "id_train = 1:100; posx = 1:7; posc = 1:3\n",
    "x = data[id_train, posx] \n",
    "Fx = data[id_train, posc] \n",
    "y = float(target[id_train])\n",
    "trainingData1 = trainingData(x, Fx, y) #training data used for testing various functions\n",
    "d = getDimension(trainingData1); n = getNumPts(trainingData1); p = getCovDimension(trainingData1)"
   ]
  },
  {
   "cell_type": "code",
   "execution_count": 32,
   "metadata": {},
   "outputs": [],
   "source": [
    "#parameter setting\n",
    "rangeθ = [10.0 1000]\n",
    "rangeθm = repeat(rangeθ, d, 1)\n",
    "rangeλ = [-1. 1.] #we will always used 1 range scale for lambda\n",
    "myquadtype = [\"SparseGrid\", \"Gaussian\"]\n",
    "btg1 = btg(trainingData1, rangeθm, rangeλ; quadtype = myquadtype)\n",
    "(pdf, cdf, dpdf, quantInfo) = solve(btg1); "
   ]
  },
  {
   "cell_type": "code",
   "execution_count": 33,
   "metadata": {},
   "outputs": [
    {
     "data": {
      "text/plain": [
       "0.0"
      ]
     },
     "execution_count": 33,
     "metadata": {},
     "output_type": "execute_result"
    }
   ],
   "source": [
    "id_test = 1001:1002\n",
    "n_test = length(id_test)\n",
    "Fx0 = reshape(data[id_test, posc], n_test, length(posc))\n",
    "x0 = reshape(data[id_test, posx], n_test, length(posx)) \n",
    "count_test = 0\n",
    "error_abs = 0.\n",
    "error_sq = 0.\n",
    "nlpd = 0."
   ]
  },
  {
   "cell_type": "code",
   "execution_count": 42,
   "metadata": {},
   "outputs": [
    {
     "name": "stderr",
     "output_type": "stream",
     "text": [
      "┌ Info: Current info \n",
      "│   (i, y_i_true, median_i, CI_i) = (1, 0.27586206896551724, 0.23442142569475435, [0.17424248579279777, 0.3227448459374674])\n",
      "└ @ Main In[42]:12\n",
      "┌ Info: Current info \n",
      "│   (i, y_i_true, median_i, CI_i) = (2, 0.3448275862068966, 0.25659293473895267, [0.10485234232103113, 0.6555299410868783])\n",
      "└ @ Main In[42]:12\n"
     ]
    }
   ],
   "source": [
    "for i in 1:n_test\n",
    "    x0_i = reshape(x0[i, :], 1, length(posx))\n",
    "    Fx0_i = reshape(Fx0[i, :], 1, length(posc))\n",
    "    pdf_i, cdf_i, dpdf_i, quantbound_i, support_i = pre_process(x0_i, Fx0_i, pdf, cdf, dpdf, quantInfo)\n",
    "    median_i = quantile(cdf_i, quantbound_i, support_i)[1]\n",
    "    CI_i = credible_interval(cdf_i, quantbound_i, support_i; mode=:equal, wp=.95)[1]\n",
    "    y_i_true = getLabel(btg1.trainingData)[i]\n",
    "    count_test += (y_i_true >= CI_i[1])&&(y_i_true <= CI_i[2]) ? 1 : 0\n",
    "    error_abs += abs(y_i_true - median_i)\n",
    "    error_sq += (y_i_true - median_i)^2\n",
    "    nlpd += log(pdf_i(y_i_true)) \n",
    "    @info \"Current info \" i, y_i_true, median_i, CI_i\n",
    "end"
   ]
  },
  {
   "cell_type": "code",
   "execution_count": null,
   "metadata": {},
   "outputs": [],
   "source": []
  }
 ],
 "metadata": {
  "kernelspec": {
   "display_name": "Julia 1.4.1",
   "language": "julia",
   "name": "julia-1.4"
  },
  "language_info": {
   "file_extension": ".jl",
   "mimetype": "application/julia",
   "name": "julia",
   "version": "1.4.1"
  }
 },
 "nbformat": 4,
 "nbformat_minor": 4
}
