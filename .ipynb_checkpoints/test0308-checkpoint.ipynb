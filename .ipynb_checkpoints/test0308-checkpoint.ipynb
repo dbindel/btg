{
 "cells": [
  {
   "cell_type": "code",
   "execution_count": 15,
   "metadata": {},
   "outputs": [],
   "source": [
    "using LinearAlgebra\n",
    "using Optim\n",
    "using Plots"
   ]
  },
  {
   "cell_type": "code",
   "execution_count": 197,
   "metadata": {
    "scrolled": true
   },
   "outputs": [
    {
     "data": {
      "text/plain": [
       "model (generic function with 2 methods)"
      ]
     },
     "execution_count": 197,
     "metadata": {},
     "output_type": "execute_result"
    }
   ],
   "source": [
    "# build a pdf for testing\n",
    "include(\"BTG_xinran/src/model.jl\")"
   ]
  },
  {
   "cell_type": "code",
   "execution_count": 6,
   "metadata": {
    "scrolled": true
   },
   "outputs": [
    {
     "data": {
      "text/plain": [
       "BoxCox (generic function with 2 methods)"
      ]
     },
     "execution_count": 6,
     "metadata": {},
     "output_type": "execute_result"
    }
   ],
   "source": [
    "function test_fun_1d(x)\n",
    "    return sin(x) + 1.1\n",
    "end\n",
    "\n",
    "# training points\n",
    "x_train = [-4, -3, -2, 0, 1, 2, 3, 4]\n",
    "y_train = test_fun_1d.(x_train) \n",
    "n_train = size(x_train,1)\n",
    "training_data = [x_train, y_train]\n",
    "\n",
    "# Test data\n",
    "x_test = range(-5, stop = 5, step = 0.23)\n",
    "y_test = test_fun_1d.(x_test) \n",
    "testing_data = [x_test, y_test];\n",
    "\n",
    "# model setting\n",
    "kernel = kernel_BTG\n",
    "nonlinfun = BoxCox"
   ]
  },
  {
   "cell_type": "code",
   "execution_count": 112,
   "metadata": {
    "scrolled": true
   },
   "outputs": [
    {
     "data": {
      "text/plain": [
       "1.1599640064794448"
      ]
     },
     "execution_count": 112,
     "metadata": {},
     "output_type": "execute_result"
    }
   ],
   "source": [
    "i = 23\n",
    "x_test_temp = x_test[i, :]\n",
    "y_true = y_test[i]"
   ]
  },
  {
   "cell_type": "code",
   "execution_count": 113,
   "metadata": {
    "scrolled": true
   },
   "outputs": [],
   "source": [
    "distribution_temp, alpha = model(x_test_temp, training_data, kernel, nonlinfun);"
   ]
  },
  {
   "cell_type": "code",
   "execution_count": 114,
   "metadata": {},
   "outputs": [
    {
     "data": {
      "text/plain": [
       "1.210031585017184"
      ]
     },
     "execution_count": 114,
     "metadata": {},
     "output_type": "execute_result"
    }
   ],
   "source": [
    "pdf_temp = distribution_temp.pdf\n",
    "mean_temp = distribution_temp.mean"
   ]
  },
  {
   "cell_type": "code",
   "execution_count": 115,
   "metadata": {
    "scrolled": false
   },
   "outputs": [
    {
     "data": {
      "image/svg+xml": [
       "<?xml version=\"1.0\" encoding=\"utf-8\"?>\n",
       "<svg xmlns=\"http://www.w3.org/2000/svg\" xmlns:xlink=\"http://www.w3.org/1999/xlink\" width=\"600\" height=\"400\" viewBox=\"0 0 2400 1600\">\n",
       "<defs>\n",
       "  <clipPath id=\"clip3400\">\n",
       "    <rect x=\"0\" y=\"0\" width=\"2400\" height=\"1600\"/>\n",
       "  </clipPath>\n",
       "</defs>\n",
       "<path clip-path=\"url(#clip3400)\" d=\"\n",
       "M0 1600 L2400 1600 L2400 0 L0 0  Z\n",
       "  \" fill=\"#ffffff\" fill-rule=\"evenodd\" fill-opacity=\"1\"/>\n",
       "<defs>\n",
       "  <clipPath id=\"clip3401\">\n",
       "    <rect x=\"480\" y=\"0\" width=\"1681\" height=\"1600\"/>\n",
       "  </clipPath>\n",
       "</defs>\n",
       "<path clip-path=\"url(#clip3400)\" d=\"\n",
       "M113.754 1487.47 L2352.76 1487.47 L2352.76 47.2441 L113.754 47.2441  Z\n",
       "  \" fill=\"#ffffff\" fill-rule=\"evenodd\" fill-opacity=\"1\"/>\n",
       "<defs>\n",
       "  <clipPath id=\"clip3402\">\n",
       "    <rect x=\"113\" y=\"47\" width=\"2240\" height=\"1441\"/>\n",
       "  </clipPath>\n",
       "</defs>\n",
       "<polyline clip-path=\"url(#clip3402)\" style=\"stroke:#000000; stroke-width:2; stroke-opacity:0.1; fill:none\" points=\"\n",
       "  177.122,1487.47 177.122,47.2441 \n",
       "  \"/>\n",
       "<polyline clip-path=\"url(#clip3402)\" style=\"stroke:#000000; stroke-width:2; stroke-opacity:0.1; fill:none\" points=\"\n",
       "  599.576,1487.47 599.576,47.2441 \n",
       "  \"/>\n",
       "<polyline clip-path=\"url(#clip3402)\" style=\"stroke:#000000; stroke-width:2; stroke-opacity:0.1; fill:none\" points=\"\n",
       "  1022.03,1487.47 1022.03,47.2441 \n",
       "  \"/>\n",
       "<polyline clip-path=\"url(#clip3402)\" style=\"stroke:#000000; stroke-width:2; stroke-opacity:0.1; fill:none\" points=\"\n",
       "  1444.48,1487.47 1444.48,47.2441 \n",
       "  \"/>\n",
       "<polyline clip-path=\"url(#clip3402)\" style=\"stroke:#000000; stroke-width:2; stroke-opacity:0.1; fill:none\" points=\"\n",
       "  1866.93,1487.47 1866.93,47.2441 \n",
       "  \"/>\n",
       "<polyline clip-path=\"url(#clip3402)\" style=\"stroke:#000000; stroke-width:2; stroke-opacity:0.1; fill:none\" points=\"\n",
       "  2289.39,1487.47 2289.39,47.2441 \n",
       "  \"/>\n",
       "<polyline clip-path=\"url(#clip3402)\" style=\"stroke:#000000; stroke-width:2; stroke-opacity:0.1; fill:none\" points=\"\n",
       "  113.754,1446.82 2352.76,1446.82 \n",
       "  \"/>\n",
       "<polyline clip-path=\"url(#clip3402)\" style=\"stroke:#000000; stroke-width:2; stroke-opacity:0.1; fill:none\" points=\"\n",
       "  113.754,1200.51 2352.76,1200.51 \n",
       "  \"/>\n",
       "<polyline clip-path=\"url(#clip3402)\" style=\"stroke:#000000; stroke-width:2; stroke-opacity:0.1; fill:none\" points=\"\n",
       "  113.754,954.191 2352.76,954.191 \n",
       "  \"/>\n",
       "<polyline clip-path=\"url(#clip3402)\" style=\"stroke:#000000; stroke-width:2; stroke-opacity:0.1; fill:none\" points=\"\n",
       "  113.754,707.874 2352.76,707.874 \n",
       "  \"/>\n",
       "<polyline clip-path=\"url(#clip3402)\" style=\"stroke:#000000; stroke-width:2; stroke-opacity:0.1; fill:none\" points=\"\n",
       "  113.754,461.557 2352.76,461.557 \n",
       "  \"/>\n",
       "<polyline clip-path=\"url(#clip3402)\" style=\"stroke:#000000; stroke-width:2; stroke-opacity:0.1; fill:none\" points=\"\n",
       "  113.754,215.24 2352.76,215.24 \n",
       "  \"/>\n",
       "<polyline clip-path=\"url(#clip3400)\" style=\"stroke:#000000; stroke-width:4; stroke-opacity:1; fill:none\" points=\"\n",
       "  113.754,1487.47 2352.76,1487.47 \n",
       "  \"/>\n",
       "<polyline clip-path=\"url(#clip3400)\" style=\"stroke:#000000; stroke-width:4; stroke-opacity:1; fill:none\" points=\"\n",
       "  113.754,1487.47 113.754,47.2441 \n",
       "  \"/>\n",
       "<polyline clip-path=\"url(#clip3400)\" style=\"stroke:#000000; stroke-width:4; stroke-opacity:1; fill:none\" points=\"\n",
       "  177.122,1487.47 177.122,1470.19 \n",
       "  \"/>\n",
       "<polyline clip-path=\"url(#clip3400)\" style=\"stroke:#000000; stroke-width:4; stroke-opacity:1; fill:none\" points=\"\n",
       "  599.576,1487.47 599.576,1470.19 \n",
       "  \"/>\n",
       "<polyline clip-path=\"url(#clip3400)\" style=\"stroke:#000000; stroke-width:4; stroke-opacity:1; fill:none\" points=\"\n",
       "  1022.03,1487.47 1022.03,1470.19 \n",
       "  \"/>\n",
       "<polyline clip-path=\"url(#clip3400)\" style=\"stroke:#000000; stroke-width:4; stroke-opacity:1; fill:none\" points=\"\n",
       "  1444.48,1487.47 1444.48,1470.19 \n",
       "  \"/>\n",
       "<polyline clip-path=\"url(#clip3400)\" style=\"stroke:#000000; stroke-width:4; stroke-opacity:1; fill:none\" points=\"\n",
       "  1866.93,1487.47 1866.93,1470.19 \n",
       "  \"/>\n",
       "<polyline clip-path=\"url(#clip3400)\" style=\"stroke:#000000; stroke-width:4; stroke-opacity:1; fill:none\" points=\"\n",
       "  2289.39,1487.47 2289.39,1470.19 \n",
       "  \"/>\n",
       "<polyline clip-path=\"url(#clip3400)\" style=\"stroke:#000000; stroke-width:4; stroke-opacity:1; fill:none\" points=\"\n",
       "  113.754,1446.82 140.622,1446.82 \n",
       "  \"/>\n",
       "<polyline clip-path=\"url(#clip3400)\" style=\"stroke:#000000; stroke-width:4; stroke-opacity:1; fill:none\" points=\"\n",
       "  113.754,1200.51 140.622,1200.51 \n",
       "  \"/>\n",
       "<polyline clip-path=\"url(#clip3400)\" style=\"stroke:#000000; stroke-width:4; stroke-opacity:1; fill:none\" points=\"\n",
       "  113.754,954.191 140.622,954.191 \n",
       "  \"/>\n",
       "<polyline clip-path=\"url(#clip3400)\" style=\"stroke:#000000; stroke-width:4; stroke-opacity:1; fill:none\" points=\"\n",
       "  113.754,707.874 140.622,707.874 \n",
       "  \"/>\n",
       "<polyline clip-path=\"url(#clip3400)\" style=\"stroke:#000000; stroke-width:4; stroke-opacity:1; fill:none\" points=\"\n",
       "  113.754,461.557 140.622,461.557 \n",
       "  \"/>\n",
       "<polyline clip-path=\"url(#clip3400)\" style=\"stroke:#000000; stroke-width:4; stroke-opacity:1; fill:none\" points=\"\n",
       "  113.754,215.24 140.622,215.24 \n",
       "  \"/>\n",
       "<g clip-path=\"url(#clip3400)\">\n",
       "<text style=\"fill:#000000; fill-opacity:1; font-family:Arial,Helvetica Neue,Helvetica,sans-serif; font-size:48px; text-anchor:middle;\" transform=\"rotate(0, 177.122, 1541.47)\" x=\"177.122\" y=\"1541.47\">0</text>\n",
       "</g>\n",
       "<g clip-path=\"url(#clip3400)\">\n",
       "<text style=\"fill:#000000; fill-opacity:1; font-family:Arial,Helvetica Neue,Helvetica,sans-serif; font-size:48px; text-anchor:middle;\" transform=\"rotate(0, 599.576, 1541.47)\" x=\"599.576\" y=\"1541.47\">1</text>\n",
       "</g>\n",
       "<g clip-path=\"url(#clip3400)\">\n",
       "<text style=\"fill:#000000; fill-opacity:1; font-family:Arial,Helvetica Neue,Helvetica,sans-serif; font-size:48px; text-anchor:middle;\" transform=\"rotate(0, 1022.03, 1541.47)\" x=\"1022.03\" y=\"1541.47\">2</text>\n",
       "</g>\n",
       "<g clip-path=\"url(#clip3400)\">\n",
       "<text style=\"fill:#000000; fill-opacity:1; font-family:Arial,Helvetica Neue,Helvetica,sans-serif; font-size:48px; text-anchor:middle;\" transform=\"rotate(0, 1444.48, 1541.47)\" x=\"1444.48\" y=\"1541.47\">3</text>\n",
       "</g>\n",
       "<g clip-path=\"url(#clip3400)\">\n",
       "<text style=\"fill:#000000; fill-opacity:1; font-family:Arial,Helvetica Neue,Helvetica,sans-serif; font-size:48px; text-anchor:middle;\" transform=\"rotate(0, 1866.93, 1541.47)\" x=\"1866.93\" y=\"1541.47\">4</text>\n",
       "</g>\n",
       "<g clip-path=\"url(#clip3400)\">\n",
       "<text style=\"fill:#000000; fill-opacity:1; font-family:Arial,Helvetica Neue,Helvetica,sans-serif; font-size:48px; text-anchor:middle;\" transform=\"rotate(0, 2289.39, 1541.47)\" x=\"2289.39\" y=\"1541.47\">5</text>\n",
       "</g>\n",
       "<g clip-path=\"url(#clip3400)\">\n",
       "<text style=\"fill:#000000; fill-opacity:1; font-family:Arial,Helvetica Neue,Helvetica,sans-serif; font-size:48px; text-anchor:end;\" transform=\"rotate(0, 89.7545, 1464.32)\" x=\"89.7545\" y=\"1464.32\">0</text>\n",
       "</g>\n",
       "<g clip-path=\"url(#clip3400)\">\n",
       "<text style=\"fill:#000000; fill-opacity:1; font-family:Arial,Helvetica Neue,Helvetica,sans-serif; font-size:48px; text-anchor:end;\" transform=\"rotate(0, 89.7545, 1218.01)\" x=\"89.7545\" y=\"1218.01\">1</text>\n",
       "</g>\n",
       "<g clip-path=\"url(#clip3400)\">\n",
       "<text style=\"fill:#000000; fill-opacity:1; font-family:Arial,Helvetica Neue,Helvetica,sans-serif; font-size:48px; text-anchor:end;\" transform=\"rotate(0, 89.7545, 971.691)\" x=\"89.7545\" y=\"971.691\">2</text>\n",
       "</g>\n",
       "<g clip-path=\"url(#clip3400)\">\n",
       "<text style=\"fill:#000000; fill-opacity:1; font-family:Arial,Helvetica Neue,Helvetica,sans-serif; font-size:48px; text-anchor:end;\" transform=\"rotate(0, 89.7545, 725.374)\" x=\"89.7545\" y=\"725.374\">3</text>\n",
       "</g>\n",
       "<g clip-path=\"url(#clip3400)\">\n",
       "<text style=\"fill:#000000; fill-opacity:1; font-family:Arial,Helvetica Neue,Helvetica,sans-serif; font-size:48px; text-anchor:end;\" transform=\"rotate(0, 89.7545, 479.057)\" x=\"89.7545\" y=\"479.057\">4</text>\n",
       "</g>\n",
       "<g clip-path=\"url(#clip3400)\">\n",
       "<text style=\"fill:#000000; fill-opacity:1; font-family:Arial,Helvetica Neue,Helvetica,sans-serif; font-size:48px; text-anchor:end;\" transform=\"rotate(0, 89.7545, 232.74)\" x=\"89.7545\" y=\"232.74\">5</text>\n",
       "</g>\n",
       "<polyline clip-path=\"url(#clip3402)\" style=\"stroke:#009af9; stroke-width:4; stroke-opacity:1; fill:none\" points=\"\n",
       "  187.436,1441.63 197.75,1441.63 293.118,1435.7 388.486,1425.06 417.142,1420.12 445.798,1413.69 474.454,1404.98 503.11,1392.59 527.339,1377.29 551.567,1354.28 \n",
       "  563.681,1338.06 575.795,1316.95 587.909,1288.73 600.024,1249.79 606.603,1222.12 613.183,1188.04 619.763,1145.4 626.342,1091.07 629.632,1058.2 632.922,1020.61 \n",
       "  636.212,977.427 639.502,927.605 642.792,869.727 646.081,801.696 647.726,762.886 649.371,720.128 651.016,672.693 652.661,619.762 654.306,560.546 655.951,494.569 \n",
       "  657.596,422.133 659.241,344.966 660.886,266.883 662.531,194.099 663.353,162.193 664.176,134.732 664.998,112.766 665.82,97.2211 666.643,88.8168 667.465,88.0053 \n",
       "  668.288,94.9292 669.11,109.409 669.933,130.96 670.755,158.838 671.578,192.105 672.4,229.702 674.045,313.503 675.69,402.048 677.335,488.938 678.98,570.087 \n",
       "  680.625,643.496 682.27,708.686 683.915,766.082 685.56,816.536 687.204,861.017 688.849,900.444 690.494,935.61 692.139,967.173 695.429,1021.51 698.719,1066.57 \n",
       "  702.009,1104.45 705.299,1136.6 711.364,1184.37 717.43,1221.12 723.496,1250.05 729.562,1273.28 741.694,1308.02 753.826,1332.53 765.957,1350.6 778.089,1364.4 \n",
       "  790.221,1375.24 802.353,1383.97 828.366,1397.88 854.379,1407.62 880.392,1414.81 906.405,1420.33 966.683,1429.18 1026.96,1434.76 1134.1,1440.42 1228.04,1442.98 \n",
       "  1330.47,1444.5 1433.51,1445.35 1547.43,1445.88 1655.82,1446.19 1768.52,1446.38 1863.4,1446.49 1979.22,1446.59 2088.11,1446.65 2262.54,1446.71 2289.39,1446.71 \n",
       "  \n",
       "  \"/>\n",
       "<polyline clip-path=\"url(#clip3402)\" style=\"stroke:#e26f46; stroke-width:4; stroke-opacity:1; fill:none\" points=\"\n",
       "  667.153,2927.71 667.153,-1392.99 \n",
       "  \"/>\n",
       "<polyline clip-path=\"url(#clip3402)\" style=\"stroke:#3da44d; stroke-width:4; stroke-opacity:1; fill:none\" points=\"\n",
       "  688.304,2927.71 688.304,-1392.99 \n",
       "  \"/>\n",
       "<path clip-path=\"url(#clip3400)\" d=\"\n",
       "M1596.67 372.684 L2280.76 372.684 L2280.76 130.764 L1596.67 130.764  Z\n",
       "  \" fill=\"#ffffff\" fill-rule=\"evenodd\" fill-opacity=\"1\"/>\n",
       "<polyline clip-path=\"url(#clip3400)\" style=\"stroke:#000000; stroke-width:4; stroke-opacity:1; fill:none\" points=\"\n",
       "  1596.67,372.684 2280.76,372.684 2280.76,130.764 1596.67,130.764 1596.67,372.684 \n",
       "  \"/>\n",
       "<polyline clip-path=\"url(#clip3400)\" style=\"stroke:#009af9; stroke-width:4; stroke-opacity:1; fill:none\" points=\"\n",
       "  1620.67,191.244 1764.67,191.244 \n",
       "  \"/>\n",
       "<g clip-path=\"url(#clip3400)\">\n",
       "<text style=\"fill:#000000; fill-opacity:1; font-family:Arial,Helvetica Neue,Helvetica,sans-serif; font-size:48px; text-anchor:start;\" transform=\"rotate(0, 1788.67, 208.744)\" x=\"1788.67\" y=\"208.744\">predicted distribution</text>\n",
       "</g>\n",
       "<polyline clip-path=\"url(#clip3400)\" style=\"stroke:#e26f46; stroke-width:4; stroke-opacity:1; fill:none\" points=\"\n",
       "  1620.67,251.724 1764.67,251.724 \n",
       "  \"/>\n",
       "<g clip-path=\"url(#clip3400)\">\n",
       "<text style=\"fill:#000000; fill-opacity:1; font-family:Arial,Helvetica Neue,Helvetica,sans-serif; font-size:48px; text-anchor:start;\" transform=\"rotate(0, 1788.67, 269.224)\" x=\"1788.67\" y=\"269.224\">true value</text>\n",
       "</g>\n",
       "<polyline clip-path=\"url(#clip3400)\" style=\"stroke:#3da44d; stroke-width:4; stroke-opacity:1; fill:none\" points=\"\n",
       "  1620.67,312.204 1764.67,312.204 \n",
       "  \"/>\n",
       "<g clip-path=\"url(#clip3400)\">\n",
       "<text style=\"fill:#000000; fill-opacity:1; font-family:Arial,Helvetica Neue,Helvetica,sans-serif; font-size:48px; text-anchor:start;\" transform=\"rotate(0, 1788.67, 329.704)\" x=\"1788.67\" y=\"329.704\">mean</text>\n",
       "</g>\n",
       "</svg>\n"
      ]
     },
     "execution_count": 115,
     "metadata": {},
     "output_type": "execute_result"
    }
   ],
   "source": [
    "plot(pdf_temp, label = \"predicted distribution\")\n",
    "vline!([y_true], label = \"true value\")\n",
    "vline!([mean_temp], label = \"mean\")"
   ]
  },
  {
   "cell_type": "markdown",
   "metadata": {},
   "source": [
    "# Test Narrowest CI"
   ]
  },
  {
   "cell_type": "code",
   "execution_count": 127,
   "metadata": {
    "scrolled": true
   },
   "outputs": [
    {
     "data": {
      "text/plain": [
       "(19353.705426740213, 59)"
      ]
     },
     "execution_count": 127,
     "metadata": {},
     "output_type": "execute_result"
    }
   ],
   "source": [
    "wp = 0.95\n",
    "l_fun(x) = pdf_temp(x)\n",
    "b0 = 30.0\n",
    "tol = 1e-10\n",
    "kmax = 50\n",
    "b, iters = zero_finding(l_fun, kmax, tol, b0)"
   ]
  },
  {
   "cell_type": "code",
   "execution_count": 233,
   "metadata": {
    "scrolled": true
   },
   "outputs": [
    {
     "name": "stdout",
     "output_type": "stream",
     "text": [
      "Initial tuple \n",
      " [0.9595276440929797, 1.3310347435189027, 0.586145247874744, 0.720396572721849]\n"
     ]
    }
   ],
   "source": [
    "# find an initial tuple to start\n",
    "beta =  1.1*mean_temp\n",
    "l_val = l_fun(beta)\n",
    "# find alpha such that p(alpha) = p(beta)\n",
    "routine0 = optimize(x -> abs(l_fun(x) - l_val), 1e-10, mean_temp) \n",
    "alpha = Optim.minimizer(routine0)\n",
    "\n",
    "int = hquadrature(l_fun, alpha, beta)[1]\n",
    "println(\"Initial tuple \\n [$alpha, $beta, $l_val, $int]\")\n"
   ]
  },
  {
   "cell_type": "code",
   "execution_count": 234,
   "metadata": {},
   "outputs": [
    {
     "name": "stdout",
     "output_type": "stream",
     "text": [
      "Current tuple [0.8738780589640717, 1.4130332285340774, 0.35168714872484635, 0.796340816490439]\n",
      "Current tuple [0.7610865502329046, 1.5260295478413273, 0.2110122892349078, 0.8577754983754472]\n",
      "Current tuple [0.6174124607721468, 1.6730155355022407, 0.12660737354094467, 0.9053591237554867]\n",
      "Current tuple [0.4487456865496481, 1.8477540901507048, 0.0759644241245668, 0.939237418767003]\n",
      "Current tuple [0.2774458015736519, 2.0396424951480987, 0.045578654474740084, 0.9608425307456935]\n"
     ]
    },
    {
     "data": {
      "text/plain": [
       "0.9608425307456935"
      ]
     },
     "execution_count": 234,
     "metadata": {},
     "output_type": "execute_result"
    }
   ],
   "source": [
    "if int < wp\n",
    "    while int < wp\n",
    "        l_up = l_val\n",
    "        alpha_up = alpha\n",
    "        beta_up = beta\n",
    "        int_up = int\n",
    "        \n",
    "        l_val *= 0.6\n",
    "        routine_alpha = optimize(x -> abs(l_fun(x) - l_val), 1e-10, alpha) \n",
    "        alpha = Optim.minimizer(routine_alpha)\n",
    "        routine_beta = optimize(x -> abs(l_fun(x) - l_val), beta, b)\n",
    "        beta = Optim.minimizer(routine_beta)\n",
    "        int = hquadrature(l_fun, alpha, beta)[1]\n",
    "        println(\"Current tuple [$alpha, $beta, $l_val, $int]\")\n",
    "    end\n",
    "    l_low = l_val\n",
    "    alpha_low = alpha\n",
    "    beta_low = beta\n",
    "    int_low = int\n",
    "else\n",
    "    while int > wp\n",
    "        l_low = l_val\n",
    "        alpha_low = alpha\n",
    "        beta_low = beta\n",
    "        int_low = int\n",
    "        \n",
    "        l_val *= 2\n",
    "        routine_alpha = optimize(x -> abs(l_fun(x) - l_val), alpha, mean_temp) \n",
    "        alpha = Optim.minimizer(routine_alpha)\n",
    "        routine_beta = optimize(x -> abs(l_fun(x) - l_val), mean_temp, beta)\n",
    "        beta = Optim.minimizer(routine_beta)\n",
    "        int = hquadrature(l_fun, alpha, beta)[1]\n",
    "        l_low = l_val\n",
    "        alpha_low = alpha\n",
    "        beta_low = beta\n",
    "        int_low = int\n",
    "        println(\"Current tuple \\n [$alpha, $beta, $l_val, $int]\")\n",
    "    end\n",
    "    l_up = l_val\n",
    "    alpha_up = alpha\n",
    "    beta_up = beta\n",
    "    int_up = int\n",
    "end"
   ]
  },
  {
   "cell_type": "code",
   "execution_count": 237,
   "metadata": {
    "scrolled": false
   },
   "outputs": [
    {
     "data": {
      "text/plain": [
       "(0.0759644241245668, 0.4487456865496481, 1.8477540901507048, 0.939237418767003)"
      ]
     },
     "execution_count": 237,
     "metadata": {},
     "output_type": "execute_result"
    }
   ],
   "source": [
    "l_up, alpha_up, beta_up, int_up"
   ]
  },
  {
   "cell_type": "code",
   "execution_count": 238,
   "metadata": {
    "scrolled": false
   },
   "outputs": [
    {
     "data": {
      "text/plain": [
       "(0.045578654474740084, 0.2774458015736519, 2.0396424951480987, 0.9608425307456935)"
      ]
     },
     "execution_count": 238,
     "metadata": {},
     "output_type": "execute_result"
    }
   ],
   "source": [
    "l_low, alpha_low, beta_low, int_low"
   ]
  },
  {
   "cell_type": "code",
   "execution_count": 243,
   "metadata": {},
   "outputs": [],
   "source": [
    "i = 0\n",
    "while !isapprox(1, 1) && i < 4\n",
    "    print(\"hi\")\n",
    "    i += 1\n",
    "end"
   ]
  },
  {
   "cell_type": "code",
   "execution_count": null,
   "metadata": {},
   "outputs": [],
   "source": []
  },
  {
   "cell_type": "code",
   "execution_count": 239,
   "metadata": {
    "scrolled": false
   },
   "outputs": [
    {
     "name": "stdout",
     "output_type": "stream",
     "text": [
      "N = 1\n",
      "[0.37227702420813774, 1.929946063378382]\n",
      "[0.9500372489725347, 0.06077153929965344]\n",
      "==========================\n",
      "N = 2\n",
      "[0.41255811465250647, 1.8862128503119269]\n",
      "[0.9446189484517221, 0.06836798171211012]\n",
      "==========================\n",
      "N = 3\n",
      "[0.39296142841947407, 1.9073434597315697]\n",
      "[0.9473252726850063, 0.06456976050588178]\n",
      "==========================\n",
      "N = 4\n",
      "[0.38275918993692326, 1.9184496008839018]\n",
      "[0.9486808125863638, 0.0626706499027676]\n",
      "==========================\n",
      "N = 5\n",
      "[0.3775535920916983, 1.9241475270694555]\n",
      "[0.9493589533649812, 0.06172109460121052]\n",
      "==========================\n",
      "N = 6\n",
      "[0.374924238138979, 1.9270340351843922]\n",
      "[0.9496980872983051, 0.06124631695043198]\n",
      "==========================\n",
      "N = 7\n",
      "[0.3736028742577933, 1.928486837849792]\n",
      "[0.9498676652866953, 0.06100892812504271]\n",
      "==========================\n",
      "N = 8\n",
      "[0.3729405096684103, 1.929215641295892]\n",
      "[0.9499524563679612, 0.06089023371234807]\n",
      "==========================\n",
      "N = 9\n",
      "[0.3726089071626602, 1.9295806553726598]\n",
      "[0.9499948528398201, 0.060830886506000756]\n",
      "==========================\n",
      "N = 10\n",
      "[0.3724430007142267, 1.9297632813974446]\n",
      "[0.9500160492079477, 0.0608012129028271]\n",
      "==========================\n",
      "N = 11\n",
      "[0.3725259673017672, 1.9296719674078766]\n",
      "[0.9500054514444144, 0.06081604970441393]\n",
      "==========================\n",
      "N = 12\n",
      "[0.37256743682164056, 1.9296263028865248]\n",
      "[0.9500001519730147, 0.06082346810520734]\n",
      "==========================\n",
      "N = 13\n",
      "[0.3725881730235496, 1.929603476996776]\n",
      "[0.9499975022947253, 0.06082717730560405]\n",
      "==========================\n",
      "N = 14\n",
      "[0.3725778050639498, 1.9296148927440473]\n",
      "[0.9499988273159262, 0.06082532270540569]\n",
      "==========================\n",
      "N = 15\n",
      "[0.3725726211834238, 1.92962059934766]\n",
      "[0.9499994897280855, 0.060824395405306514]\n",
      "==========================\n",
      "N = 16\n",
      "[0.37257002916857973, 1.9296234531023264]\n",
      "[0.9499998209624613, 0.060823931755256924]\n",
      "==========================\n",
      "N = 17\n",
      "[0.3725687331731882, 1.9296248798540632]\n",
      "[0.9499999865703332, 0.060823699930232136]\n",
      "==========================\n",
      "N = 18\n",
      "[0.3725680851689931, 1.9296255932671185]\n",
      "[0.9500000693766872, 0.06082358401771974]\n",
      "==========================\n",
      "N = 19\n",
      "[0.3725684090635513, 1.9296252354188124]\n",
      "[0.9500000279106244, 0.06082364197397594]\n",
      "==========================\n",
      "N = 20\n",
      "[0.37256857109671915, 1.9296250444213658]\n",
      "[0.9500000064380105, 0.06082367095210404]\n",
      "==========================\n",
      "N = 21\n",
      "[0.37256865208682854, 1.9296249815622497]\n",
      "[0.9499999976885707, 0.06082368544116809]\n",
      "==========================\n",
      "N = 22\n",
      "[0.37256861004794894, 1.9296250055722957]\n",
      "[0.9500000017059095, 0.06082367819663606]\n",
      "==========================\n",
      "N = 23\n",
      "[0.3725686360294054, 1.9296249907332712]\n",
      "[0.9499999992230594, 0.060823681818902076]\n",
      "==========================\n",
      "N = 24\n",
      "[0.3725686199719822, 1.9296249964012742]\n",
      "[0.9500000005444775, 0.06082368000776907]\n",
      "==========================\n",
      "N = 25\n",
      "[0.37256862610537206, 1.9296249928982556]\n",
      "[0.9499999999583582, 0.06082368091333557]\n",
      "==========================\n"
     ]
    },
    {
     "data": {
      "text/plain": [
       "4-element Array{Float64,1}:\n",
       " 0.06082368091333557\n",
       " 0.9499999999583582 \n",
       " 0.37256862610537206\n",
       " 1.9296249928982556 "
      ]
     },
     "execution_count": 239,
     "metadata": {},
     "output_type": "execute_result"
    }
   ],
   "source": [
    "l_mid = 0.\n",
    "alpha_mid = 0.\n",
    "beta_mid = 0.\n",
    "N = 0\n",
    "tol = 1e-10\n",
    "while (abs(int - wp) > tol) && N < 100\n",
    "    l_mid = (l_up + l_low)/2\n",
    "    alpha_mid = Optim.minimizer(optimize(x -> abs(l_fun(x) - l_mid), alpha_low, alpha_up))\n",
    "    beta_mid = Optim.minimizer(optimize(x -> abs(l_fun(x) - l_mid), beta_up, beta_low))\n",
    "    int = hquadrature(l_fun, alpha_mid, beta_mid)[1]\n",
    "    if int > wp\n",
    "        l_low = l_mid\n",
    "        alpha_low = alpha_mid\n",
    "        beta_low = beta_mid\n",
    "    else\n",
    "        l_up = l_mid\n",
    "        alpha_up = alpha_mid\n",
    "        beta_up = beta_mid\n",
    "    end\n",
    "    N += 1\n",
    "    println(\"N = $N\")\n",
    "    println(\"[$alpha_mid, $beta_mid]\")\n",
    "    println(\"[$int, $l_mid]\")\n",
    "    println(\"==========================\")\n",
    "\n",
    "end\n",
    "\n",
    "CI = [l_mid, int, alpha_mid, beta_mid]"
   ]
  },
  {
   "cell_type": "code",
   "execution_count": null,
   "metadata": {},
   "outputs": [],
   "source": []
  }
 ],
 "metadata": {
  "kernelspec": {
   "display_name": "Julia 1.3.1",
   "language": "julia",
   "name": "julia-1.3"
  },
  "language_info": {
   "file_extension": ".jl",
   "mimetype": "application/julia",
   "name": "julia",
   "version": "1.3.1"
  }
 },
 "nbformat": 4,
 "nbformat_minor": 2
}
