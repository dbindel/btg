{
 "cells": [
  {
   "cell_type": "code",
   "execution_count": 1,
   "metadata": {
    "scrolled": true
   },
   "outputs": [
    {
     "data": {
      "text/plain": [
       "comp_tdist"
      ]
     },
     "execution_count": 1,
     "metadata": {},
     "output_type": "execute_result"
    }
   ],
   "source": [
    "using LinearAlgebra                                                             \n",
    "using Test                                                                                       \n",
    "using Distributions                                                             \n",
    "using DataFrames                                                                          \n",
    "using CSV                                                                              \n",
    "using Polynomials  \n",
    "using Roots\n",
    "using Plots\n",
    "using StatsFuns\n",
    "                                                                                 \n",
    "include(\"../computation/finitedifference.jl\")                                                   \n",
    "include(\"../quadrature/quadrature.jl\")                                             \n",
    "include(\"../transforms/transforms.jl\")                                             \n",
    "include(\"../priors/priors.jl\")                                                     \n",
    "include(\"../bayesopt/incremental.jl\")                                              \n",
    "include(\"../kernels/kernel.jl\")                                                    \n",
    "include(\"../datastructs.jl\")                                                       \n",
    "include(\"../computation/buffers0.jl\") #datastruct, kernel, incremental, quadrature \n",
    "include(\"../model0.jl\") #buffers, datastructs, several auxiliary                   \n",
    "include(\"../computation/tdist.jl\") #model0 and buffer0  "
   ]
  },
  {
   "cell_type": "code",
   "execution_count": 2,
   "metadata": {},
   "outputs": [
    {
     "data": {
      "text/plain": [
       "covariate_fun (generic function with 1 method)"
      ]
     },
     "execution_count": 2,
     "metadata": {},
     "output_type": "execute_result"
    }
   ],
   "source": [
    "function covariate_fun(x, p)\n",
    "    n = size(x, 1)\n",
    "    d = size(x, 2)\n",
    "    if p == 1\n",
    "        return ones(n, 1)\n",
    "    elseif p == 1 + d\n",
    "        return hcat(ones(n), x)\n",
    "    else\n",
    "         throw(ArgumentError(\"Only support constant or linear convariate.\"))\n",
    "    end\n",
    "end"
   ]
  },
  {
   "cell_type": "code",
   "execution_count": 3,
   "metadata": {},
   "outputs": [
    {
     "data": {
      "text/plain": [
       "test_fun3 (generic function with 1 method)"
      ]
     },
     "execution_count": 3,
     "metadata": {},
     "output_type": "execute_result"
    }
   ],
   "source": [
    "# Data and setup for different tests\n",
    "\n",
    "# choice of covariate functions\n",
    "p = 1\n",
    "p = 2\n",
    "\n",
    "# training\n",
    "x1 = [0., .5, .8, 1., 1.6, 2.]\n",
    "x2 = [0., .5, .8, 1., 2.]\n",
    "x3 = [0., .8, 1., 1.6, 2.]\n",
    "x4 = [0., 1., 1.6, 2.]\n",
    "\n",
    "# testing\n",
    "x01 = .25\n",
    "x02 = 1.2\n",
    "x03 = .5\n",
    "x04 = .6\n",
    "\n",
    "# underlying 1d function\n",
    "test_fun1(x) = sin(x) + 1.1\n",
    "test_fun2(x) = sin(15*x) + (x^2+1) \n",
    "test_fun3(x) = log(x^2+1) + (x^3+x+1)/(exp(x)) "
   ]
  },
  {
   "cell_type": "markdown",
   "metadata": {},
   "source": [
    "# Summary\n",
    "**Settings parameters**: \\\n",
    "p: choices of covariates, p = 1 if constant and p = 2 if linear \\\n",
    "x: training data \\\n",
    "x0: testing data\n",
    "test_fun: underlying function\n",
    "\n",
    "**Tests**:\n",
    "1. p=1 or p=2, x=x1, x0=x01, test_fun=test_fun1 \\\n",
    "    narrow pdf, some quantile comp hard ==> bracketing interval $[0,5]$ works well!\n",
    "2. p=1, x2, x02, test_fun2 \\\n",
    "    pdf very large near 0, so 2.5% quantile estimation gives negative estimate, which is not a good guess and also indicates that 2.5% quantile is extremely small. \n",
    "3. p=1, x3, x03, test_fun3 \\\n",
    "    narrow pdf, median hard ==> bracketing interval $[0,5]$ works well! \\\n",
    "    cdf(0) = 0.02898, 2.5% quantile doesn't exist\n",
    "4. p=1, x4, x04, test_fun1 \\\n",
    "    two-peak pdf, can do mode, some quantile, but two-peak makes computation of CI (equal and narrow) super hard.\n",
    "    \n",
    "**Conclusion**:\n",
    "1. Narrow pdf is the hardest case. Even if quant0 provides relatively good initial guess, find_zero easily goes to negative region, where CDF is not defined. \\\n",
    "Solution: bracketing interval works better than initial guess in root-finding\n",
    "2. cdf(0) > 2.5% makes 2.5% quantile doesn't exist          \n",
    "3. Weird shape: large pdf near 0 and two-peak pdf should be carefully treated. \n",
    " "
   ]
  },
  {
   "cell_type": "code",
   "execution_count": 7,
   "metadata": {
    "scrolled": false
   },
   "outputs": [
    {
     "name": "stdout",
     "output_type": "stream",
     "text": [
      "Prediction at x0 = [0.5]\n",
      "Covariates at x0: [1.0]\n",
      "Should expect peak near [0.752260142876725]\n"
     ]
    }
   ],
   "source": [
    "p = 1 # choose covariate basis function, only support 1 or 1+dim(x)\n",
    "x = x3 # choose training data \n",
    "x0 = x03 # choose testing data\n",
    "test_fun = test_fun1 # choose underlying function\n",
    "\n",
    "x = reshape(x, size(x, 1), 1)\n",
    "x0 = reshape([x0], 1, 1) \n",
    "Fx = covariate_fun(x, p)\n",
    "y = reshape(test_fun.(x), size(x, 1))\n",
    "ymax = maximum(y)\n",
    "y /= ymax\n",
    "trainingData1 = trainingData(x, Fx, y) \n",
    "\n",
    "Fx0 = covariate_fun(x0, p)\n",
    "y0_true = reshape(test_fun.(x0), 1)./ymax\n",
    "println(\"Prediction at x0 = $x0\")\n",
    "println(\"Covariates at x0: $Fx0\")\n",
    "println(\"Should expect peak near $y0_true\")"
   ]
  },
  {
   "cell_type": "code",
   "execution_count": 8,
   "metadata": {
    "scrolled": true
   },
   "outputs": [],
   "source": [
    "d = getDimension(trainingData1)\n",
    "n = getNumPts(trainingData1)\n",
    "p = getCovDimension(trainingData1)\n",
    "rangeθ = [0.25 100]\n",
    "rangeλ = [0.5 5]\n",
    "\n",
    "btg1 = btg(trainingData1, rangeθ, rangeλ)\n",
    "pdf, cdf, dpdf, quantInfo = solve(btg1);"
   ]
  },
  {
   "cell_type": "code",
   "execution_count": 23,
   "metadata": {
    "scrolled": true
   },
   "outputs": [
    {
     "data": {
      "image/svg+xml": [
       "<?xml version=\"1.0\" encoding=\"utf-8\"?>\n",
       "<svg xmlns=\"http://www.w3.org/2000/svg\" xmlns:xlink=\"http://www.w3.org/1999/xlink\" width=\"600\" height=\"400\" viewBox=\"0 0 2400 1600\">\n",
       "<defs>\n",
       "  <clipPath id=\"clip8900\">\n",
       "    <rect x=\"0\" y=\"0\" width=\"2400\" height=\"1600\"/>\n",
       "  </clipPath>\n",
       "</defs>\n",
       "<path clip-path=\"url(#clip8900)\" d=\"\n",
       "M0 1600 L2400 1600 L2400 0 L0 0  Z\n",
       "  \" fill=\"#ffffff\" fill-rule=\"evenodd\" fill-opacity=\"1\"/>\n",
       "<defs>\n",
       "  <clipPath id=\"clip8901\">\n",
       "    <rect x=\"480\" y=\"0\" width=\"1681\" height=\"1600\"/>\n",
       "  </clipPath>\n",
       "</defs>\n",
       "<path clip-path=\"url(#clip8900)\" d=\"\n",
       "M504.696 1487.47 L2352.76 1487.47 L2352.76 47.2441 L504.696 47.2441  Z\n",
       "  \" fill=\"#ffffff\" fill-rule=\"evenodd\" fill-opacity=\"1\"/>\n",
       "<defs>\n",
       "  <clipPath id=\"clip8902\">\n",
       "    <rect x=\"504\" y=\"47\" width=\"1849\" height=\"1441\"/>\n",
       "  </clipPath>\n",
       "</defs>\n",
       "<polyline clip-path=\"url(#clip8902)\" style=\"stroke:#000000; stroke-width:2; stroke-opacity:0.1; fill:none\" points=\"\n",
       "  555.255,1487.47 555.255,47.2441 \n",
       "  \"/>\n",
       "<polyline clip-path=\"url(#clip8902)\" style=\"stroke:#000000; stroke-width:2; stroke-opacity:0.1; fill:none\" points=\"\n",
       "  991.554,1487.47 991.554,47.2441 \n",
       "  \"/>\n",
       "<polyline clip-path=\"url(#clip8902)\" style=\"stroke:#000000; stroke-width:2; stroke-opacity:0.1; fill:none\" points=\"\n",
       "  1427.85,1487.47 1427.85,47.2441 \n",
       "  \"/>\n",
       "<polyline clip-path=\"url(#clip8902)\" style=\"stroke:#000000; stroke-width:2; stroke-opacity:0.1; fill:none\" points=\"\n",
       "  1864.15,1487.47 1864.15,47.2441 \n",
       "  \"/>\n",
       "<polyline clip-path=\"url(#clip8902)\" style=\"stroke:#000000; stroke-width:2; stroke-opacity:0.1; fill:none\" points=\"\n",
       "  2300.45,1487.47 2300.45,47.2441 \n",
       "  \"/>\n",
       "<polyline clip-path=\"url(#clip8902)\" style=\"stroke:#000000; stroke-width:2; stroke-opacity:0.1; fill:none\" points=\"\n",
       "  504.696,1476.62 2352.76,1476.62 \n",
       "  \"/>\n",
       "<polyline clip-path=\"url(#clip8902)\" style=\"stroke:#000000; stroke-width:2; stroke-opacity:0.1; fill:none\" points=\"\n",
       "  504.696,1152.96 2352.76,1152.96 \n",
       "  \"/>\n",
       "<polyline clip-path=\"url(#clip8902)\" style=\"stroke:#000000; stroke-width:2; stroke-opacity:0.1; fill:none\" points=\"\n",
       "  504.696,829.297 2352.76,829.297 \n",
       "  \"/>\n",
       "<polyline clip-path=\"url(#clip8902)\" style=\"stroke:#000000; stroke-width:2; stroke-opacity:0.1; fill:none\" points=\"\n",
       "  504.696,505.635 2352.76,505.635 \n",
       "  \"/>\n",
       "<polyline clip-path=\"url(#clip8902)\" style=\"stroke:#000000; stroke-width:2; stroke-opacity:0.1; fill:none\" points=\"\n",
       "  504.696,181.974 2352.76,181.974 \n",
       "  \"/>\n",
       "<polyline clip-path=\"url(#clip8900)\" style=\"stroke:#000000; stroke-width:4; stroke-opacity:1; fill:none\" points=\"\n",
       "  504.696,1487.47 2352.76,1487.47 \n",
       "  \"/>\n",
       "<polyline clip-path=\"url(#clip8900)\" style=\"stroke:#000000; stroke-width:4; stroke-opacity:1; fill:none\" points=\"\n",
       "  504.696,1487.47 504.696,47.2441 \n",
       "  \"/>\n",
       "<polyline clip-path=\"url(#clip8900)\" style=\"stroke:#000000; stroke-width:4; stroke-opacity:1; fill:none\" points=\"\n",
       "  555.255,1487.47 555.255,1470.19 \n",
       "  \"/>\n",
       "<polyline clip-path=\"url(#clip8900)\" style=\"stroke:#000000; stroke-width:4; stroke-opacity:1; fill:none\" points=\"\n",
       "  991.554,1487.47 991.554,1470.19 \n",
       "  \"/>\n",
       "<polyline clip-path=\"url(#clip8900)\" style=\"stroke:#000000; stroke-width:4; stroke-opacity:1; fill:none\" points=\"\n",
       "  1427.85,1487.47 1427.85,1470.19 \n",
       "  \"/>\n",
       "<polyline clip-path=\"url(#clip8900)\" style=\"stroke:#000000; stroke-width:4; stroke-opacity:1; fill:none\" points=\"\n",
       "  1864.15,1487.47 1864.15,1470.19 \n",
       "  \"/>\n",
       "<polyline clip-path=\"url(#clip8900)\" style=\"stroke:#000000; stroke-width:4; stroke-opacity:1; fill:none\" points=\"\n",
       "  2300.45,1487.47 2300.45,1470.19 \n",
       "  \"/>\n",
       "<polyline clip-path=\"url(#clip8900)\" style=\"stroke:#000000; stroke-width:4; stroke-opacity:1; fill:none\" points=\"\n",
       "  504.696,1476.62 526.873,1476.62 \n",
       "  \"/>\n",
       "<polyline clip-path=\"url(#clip8900)\" style=\"stroke:#000000; stroke-width:4; stroke-opacity:1; fill:none\" points=\"\n",
       "  504.696,1152.96 526.873,1152.96 \n",
       "  \"/>\n",
       "<polyline clip-path=\"url(#clip8900)\" style=\"stroke:#000000; stroke-width:4; stroke-opacity:1; fill:none\" points=\"\n",
       "  504.696,829.297 526.873,829.297 \n",
       "  \"/>\n",
       "<polyline clip-path=\"url(#clip8900)\" style=\"stroke:#000000; stroke-width:4; stroke-opacity:1; fill:none\" points=\"\n",
       "  504.696,505.635 526.873,505.635 \n",
       "  \"/>\n",
       "<polyline clip-path=\"url(#clip8900)\" style=\"stroke:#000000; stroke-width:4; stroke-opacity:1; fill:none\" points=\"\n",
       "  504.696,181.974 526.873,181.974 \n",
       "  \"/>\n",
       "<g clip-path=\"url(#clip8900)\">\n",
       "<text style=\"fill:#000000; fill-opacity:1; font-family:Arial,Helvetica Neue,Helvetica,sans-serif; font-size:48px; text-anchor:middle;\" transform=\"rotate(0, 555.255, 1541.47)\" x=\"555.255\" y=\"1541.47\">0</text>\n",
       "</g>\n",
       "<g clip-path=\"url(#clip8900)\">\n",
       "<text style=\"fill:#000000; fill-opacity:1; font-family:Arial,Helvetica Neue,Helvetica,sans-serif; font-size:48px; text-anchor:start;\" transform=\"rotate(0, 894.992, 1562.48)\" x=\"894.992\" y=\"1562.48\">2.5×10</text>\n",
       "</g>\n",
       "<g clip-path=\"url(#clip8900)\">\n",
       "<text style=\"fill:#000000; fill-opacity:1; font-family:Arial,Helvetica Neue,Helvetica,sans-serif; font-size:38px; text-anchor:start;\" transform=\"rotate(0, 1043.53, 1535.07)\" x=\"1043.53\" y=\"1535.07\">-</text>\n",
       "</g>\n",
       "<g clip-path=\"url(#clip8900)\">\n",
       "<text style=\"fill:#000000; fill-opacity:1; font-family:Arial,Helvetica Neue,Helvetica,sans-serif; font-size:38px; text-anchor:start;\" transform=\"rotate(0, 1066.37, 1535.07)\" x=\"1066.37\" y=\"1535.07\">8</text>\n",
       "</g>\n",
       "<g clip-path=\"url(#clip8900)\">\n",
       "<text style=\"fill:#000000; fill-opacity:1; font-family:Arial,Helvetica Neue,Helvetica,sans-serif; font-size:48px; text-anchor:start;\" transform=\"rotate(0, 1331.29, 1562.48)\" x=\"1331.29\" y=\"1562.48\">5.0×10</text>\n",
       "</g>\n",
       "<g clip-path=\"url(#clip8900)\">\n",
       "<text style=\"fill:#000000; fill-opacity:1; font-family:Arial,Helvetica Neue,Helvetica,sans-serif; font-size:38px; text-anchor:start;\" transform=\"rotate(0, 1479.83, 1535.07)\" x=\"1479.83\" y=\"1535.07\">-</text>\n",
       "</g>\n",
       "<g clip-path=\"url(#clip8900)\">\n",
       "<text style=\"fill:#000000; fill-opacity:1; font-family:Arial,Helvetica Neue,Helvetica,sans-serif; font-size:38px; text-anchor:start;\" transform=\"rotate(0, 1502.67, 1535.07)\" x=\"1502.67\" y=\"1535.07\">8</text>\n",
       "</g>\n",
       "<g clip-path=\"url(#clip8900)\">\n",
       "<text style=\"fill:#000000; fill-opacity:1; font-family:Arial,Helvetica Neue,Helvetica,sans-serif; font-size:48px; text-anchor:start;\" transform=\"rotate(0, 1767.59, 1562.48)\" x=\"1767.59\" y=\"1562.48\">7.5×10</text>\n",
       "</g>\n",
       "<g clip-path=\"url(#clip8900)\">\n",
       "<text style=\"fill:#000000; fill-opacity:1; font-family:Arial,Helvetica Neue,Helvetica,sans-serif; font-size:38px; text-anchor:start;\" transform=\"rotate(0, 1916.13, 1535.07)\" x=\"1916.13\" y=\"1535.07\">-</text>\n",
       "</g>\n",
       "<g clip-path=\"url(#clip8900)\">\n",
       "<text style=\"fill:#000000; fill-opacity:1; font-family:Arial,Helvetica Neue,Helvetica,sans-serif; font-size:38px; text-anchor:start;\" transform=\"rotate(0, 1938.97, 1535.07)\" x=\"1938.97\" y=\"1535.07\">8</text>\n",
       "</g>\n",
       "<g clip-path=\"url(#clip8900)\">\n",
       "<text style=\"fill:#000000; fill-opacity:1; font-family:Arial,Helvetica Neue,Helvetica,sans-serif; font-size:48px; text-anchor:start;\" transform=\"rotate(0, 2203.89, 1562.48)\" x=\"2203.89\" y=\"1562.48\">1.0×10</text>\n",
       "</g>\n",
       "<g clip-path=\"url(#clip8900)\">\n",
       "<text style=\"fill:#000000; fill-opacity:1; font-family:Arial,Helvetica Neue,Helvetica,sans-serif; font-size:38px; text-anchor:start;\" transform=\"rotate(0, 2352.43, 1535.07)\" x=\"2352.43\" y=\"1535.07\">-</text>\n",
       "</g>\n",
       "<g clip-path=\"url(#clip8900)\">\n",
       "<text style=\"fill:#000000; fill-opacity:1; font-family:Arial,Helvetica Neue,Helvetica,sans-serif; font-size:38px; text-anchor:start;\" transform=\"rotate(0, 2375.27, 1535.07)\" x=\"2375.27\" y=\"1535.07\">7</text>\n",
       "</g>\n",
       "<g clip-path=\"url(#clip8900)\">\n",
       "<text style=\"fill:#000000; fill-opacity:1; font-family:Arial,Helvetica Neue,Helvetica,sans-serif; font-size:48px; text-anchor:start;\" transform=\"rotate(0, 126.998, 1500.35)\" x=\"126.998\" y=\"1500.35\">1.7520582×10</text>\n",
       "</g>\n",
       "<g clip-path=\"url(#clip8900)\">\n",
       "<text style=\"fill:#000000; fill-opacity:1; font-family:Arial,Helvetica Neue,Helvetica,sans-serif; font-size:38px; text-anchor:start;\" transform=\"rotate(0, 436.113, 1472.94)\" x=\"436.113\" y=\"1472.94\">-</text>\n",
       "</g>\n",
       "<g clip-path=\"url(#clip8900)\">\n",
       "<text style=\"fill:#000000; fill-opacity:1; font-family:Arial,Helvetica Neue,Helvetica,sans-serif; font-size:38px; text-anchor:start;\" transform=\"rotate(0, 458.952, 1472.94)\" x=\"458.952\" y=\"1472.94\">2</text>\n",
       "</g>\n",
       "<g clip-path=\"url(#clip8900)\">\n",
       "<text style=\"fill:#000000; fill-opacity:1; font-family:Arial,Helvetica Neue,Helvetica,sans-serif; font-size:48px; text-anchor:start;\" transform=\"rotate(0, 100.236, 1176.69)\" x=\"100.236\" y=\"1176.69\">1.75205825×10</text>\n",
       "</g>\n",
       "<g clip-path=\"url(#clip8900)\">\n",
       "<text style=\"fill:#000000; fill-opacity:1; font-family:Arial,Helvetica Neue,Helvetica,sans-serif; font-size:38px; text-anchor:start;\" transform=\"rotate(0, 436.113, 1149.28)\" x=\"436.113\" y=\"1149.28\">-</text>\n",
       "</g>\n",
       "<g clip-path=\"url(#clip8900)\">\n",
       "<text style=\"fill:#000000; fill-opacity:1; font-family:Arial,Helvetica Neue,Helvetica,sans-serif; font-size:38px; text-anchor:start;\" transform=\"rotate(0, 458.952, 1149.28)\" x=\"458.952\" y=\"1149.28\">2</text>\n",
       "</g>\n",
       "<g clip-path=\"url(#clip8900)\">\n",
       "<text style=\"fill:#000000; fill-opacity:1; font-family:Arial,Helvetica Neue,Helvetica,sans-serif; font-size:48px; text-anchor:start;\" transform=\"rotate(0, 126.998, 853.024)\" x=\"126.998\" y=\"853.024\">1.7520583×10</text>\n",
       "</g>\n",
       "<g clip-path=\"url(#clip8900)\">\n",
       "<text style=\"fill:#000000; fill-opacity:1; font-family:Arial,Helvetica Neue,Helvetica,sans-serif; font-size:38px; text-anchor:start;\" transform=\"rotate(0, 436.113, 825.614)\" x=\"436.113\" y=\"825.614\">-</text>\n",
       "</g>\n",
       "<g clip-path=\"url(#clip8900)\">\n",
       "<text style=\"fill:#000000; fill-opacity:1; font-family:Arial,Helvetica Neue,Helvetica,sans-serif; font-size:38px; text-anchor:start;\" transform=\"rotate(0, 458.952, 825.614)\" x=\"458.952\" y=\"825.614\">2</text>\n",
       "</g>\n",
       "<g clip-path=\"url(#clip8900)\">\n",
       "<text style=\"fill:#000000; fill-opacity:1; font-family:Arial,Helvetica Neue,Helvetica,sans-serif; font-size:48px; text-anchor:start;\" transform=\"rotate(0, 100.236, 529.363)\" x=\"100.236\" y=\"529.363\">1.75205835×10</text>\n",
       "</g>\n",
       "<g clip-path=\"url(#clip8900)\">\n",
       "<text style=\"fill:#000000; fill-opacity:1; font-family:Arial,Helvetica Neue,Helvetica,sans-serif; font-size:38px; text-anchor:start;\" transform=\"rotate(0, 436.113, 501.953)\" x=\"436.113\" y=\"501.953\">-</text>\n",
       "</g>\n",
       "<g clip-path=\"url(#clip8900)\">\n",
       "<text style=\"fill:#000000; fill-opacity:1; font-family:Arial,Helvetica Neue,Helvetica,sans-serif; font-size:38px; text-anchor:start;\" transform=\"rotate(0, 458.952, 501.953)\" x=\"458.952\" y=\"501.953\">2</text>\n",
       "</g>\n",
       "<g clip-path=\"url(#clip8900)\">\n",
       "<text style=\"fill:#000000; fill-opacity:1; font-family:Arial,Helvetica Neue,Helvetica,sans-serif; font-size:48px; text-anchor:start;\" transform=\"rotate(0, 126.998, 205.702)\" x=\"126.998\" y=\"205.702\">1.7520584×10</text>\n",
       "</g>\n",
       "<g clip-path=\"url(#clip8900)\">\n",
       "<text style=\"fill:#000000; fill-opacity:1; font-family:Arial,Helvetica Neue,Helvetica,sans-serif; font-size:38px; text-anchor:start;\" transform=\"rotate(0, 436.113, 178.291)\" x=\"436.113\" y=\"178.291\">-</text>\n",
       "</g>\n",
       "<g clip-path=\"url(#clip8900)\">\n",
       "<text style=\"fill:#000000; fill-opacity:1; font-family:Arial,Helvetica Neue,Helvetica,sans-serif; font-size:38px; text-anchor:start;\" transform=\"rotate(0, 458.952, 178.291)\" x=\"458.952\" y=\"178.291\">2</text>\n",
       "</g>\n",
       "<polyline clip-path=\"url(#clip8902)\" style=\"stroke:#009af9; stroke-width:4; stroke-opacity:1; fill:none\" points=\"\n",
       "  557,1446.71 565.761,1400.9 574.522,1371.35 583.283,1347.2 592.044,1326.1 600.805,1307.04 609.566,1289.47 618.327,1273.06 627.089,1257.57 635.85,1242.86 \n",
       "  644.611,1228.79 653.372,1215.29 662.133,1202.29 670.894,1189.72 679.655,1177.53 688.416,1165.7 697.177,1154.19 705.938,1142.96 714.699,1132 723.46,1121.29 \n",
       "  732.221,1110.81 740.982,1100.53 749.743,1090.46 758.505,1080.57 767.266,1070.85 776.027,1061.29 784.788,1051.89 793.549,1042.64 802.31,1033.52 811.071,1024.54 \n",
       "  819.832,1015.68 828.593,1006.94 837.354,998.308 846.115,989.789 854.876,981.374 863.637,973.059 872.398,964.84 881.159,956.712 889.921,948.673 898.682,940.719 \n",
       "  907.443,932.848 916.204,925.055 924.965,917.339 933.726,909.696 942.487,902.126 951.248,894.624 960.009,887.189 968.77,879.819 977.531,872.513 986.292,865.267 \n",
       "  995.053,858.081 1003.81,850.952 1012.58,843.88 1021.34,836.862 1030.1,829.897 1038.86,822.984 1047.62,816.121 1056.38,809.307 1065.14,802.542 1073.9,795.823 \n",
       "  1082.66,789.149 1091.43,782.52 1100.19,775.935 1108.95,769.392 1117.71,762.891 1126.47,756.43 1135.23,750.009 1143.99,743.627 1152.75,737.283 1161.51,730.977 \n",
       "  1170.27,724.707 1179.04,718.472 1187.8,712.273 1196.56,706.108 1205.32,699.977 1214.08,693.879 1222.84,687.813 1231.6,681.78 1240.36,675.777 1249.12,669.805 \n",
       "  1257.89,663.864 1266.65,657.952 1275.41,652.069 1284.17,646.214 1292.93,640.388 1301.69,634.589 1310.45,628.818 1319.21,623.073 1327.97,617.355 1336.73,611.662 \n",
       "  1345.5,605.995 1354.26,600.353 1363.02,594.735 1371.78,589.142 1380.54,583.573 1389.3,578.027 1398.06,572.505 1406.82,567.005 1415.58,561.528 1424.35,556.073 \n",
       "  1433.11,550.64 1441.87,545.229 1450.63,539.839 1459.39,534.469 1468.15,529.121 1476.91,523.793 1485.67,518.485 1494.43,513.197 1503.2,507.928 1511.96,502.679 \n",
       "  1520.72,497.449 1529.48,492.238 1538.24,487.045 1547,481.871 1555.76,476.715 1564.52,471.577 1573.28,466.457 1582.04,461.354 1590.81,456.268 1599.57,451.199 \n",
       "  1608.33,446.147 1617.09,441.112 1625.85,436.094 1634.61,431.091 1643.37,426.105 1652.13,421.135 1660.89,416.18 1669.66,411.241 1678.42,406.317 1687.18,401.408 \n",
       "  1695.94,396.515 1704.7,391.636 1713.46,386.772 1722.22,381.923 1730.98,377.088 1739.74,372.267 1748.51,367.461 1757.27,362.668 1766.03,357.889 1774.79,353.124 \n",
       "  1783.55,348.372 1792.31,343.634 1801.07,338.909 1809.83,334.197 1818.59,329.498 1827.35,324.812 1836.12,320.139 1844.88,315.478 1853.64,310.83 1862.4,306.194 \n",
       "  1871.16,301.57 1879.92,296.959 1888.68,292.36 1897.44,287.772 1906.2,283.196 1914.97,278.632 1923.73,274.08 1932.49,269.539 1941.25,265.01 1950.01,260.491 \n",
       "  1958.77,255.984 1967.53,251.488 1976.29,247.003 1985.05,242.529 1993.81,238.066 2002.58,233.613 2011.34,229.171 2020.1,224.74 2028.86,220.319 2037.62,215.908 \n",
       "  2046.38,211.508 2055.14,207.117 2063.9,202.737 2072.66,198.367 2081.43,194.007 2090.19,189.656 2098.95,185.315 2107.71,180.984 2116.47,176.663 2125.23,172.351 \n",
       "  2133.99,168.049 2142.75,163.756 2151.51,159.472 2160.28,155.197 2169.04,150.932 2177.8,146.676 2186.56,142.429 2195.32,138.19 2204.08,133.961 2212.84,129.74 \n",
       "  2221.6,125.528 2230.36,121.325 2239.12,117.131 2247.89,112.945 2256.65,108.767 2265.41,104.598 2274.17,100.438 2282.93,96.2853 2291.69,92.1412 2300.45,88.0053 \n",
       "  \n",
       "  \"/>\n",
       "<path clip-path=\"url(#clip8900)\" d=\"\n",
       "M2016.69 251.724 L2280.76 251.724 L2280.76 130.764 L2016.69 130.764  Z\n",
       "  \" fill=\"#ffffff\" fill-rule=\"evenodd\" fill-opacity=\"1\"/>\n",
       "<polyline clip-path=\"url(#clip8900)\" style=\"stroke:#000000; stroke-width:4; stroke-opacity:1; fill:none\" points=\"\n",
       "  2016.69,251.724 2280.76,251.724 2280.76,130.764 2016.69,130.764 2016.69,251.724 \n",
       "  \"/>\n",
       "<polyline clip-path=\"url(#clip8900)\" style=\"stroke:#009af9; stroke-width:4; stroke-opacity:1; fill:none\" points=\"\n",
       "  2040.69,191.244 2184.69,191.244 \n",
       "  \"/>\n",
       "<g clip-path=\"url(#clip8900)\">\n",
       "<text style=\"fill:#000000; fill-opacity:1; font-family:Arial,Helvetica Neue,Helvetica,sans-serif; font-size:48px; text-anchor:start;\" transform=\"rotate(0, 2208.69, 208.744)\" x=\"2208.69\" y=\"208.744\">y</text>\n",
       "</g>\n",
       "</svg>\n"
      ]
     },
     "metadata": {},
     "output_type": "display_data"
    },
    {
     "data": {
      "image/svg+xml": [
       "<?xml version=\"1.0\" encoding=\"utf-8\"?>\n",
       "<svg xmlns=\"http://www.w3.org/2000/svg\" xmlns:xlink=\"http://www.w3.org/1999/xlink\" width=\"600\" height=\"400\" viewBox=\"0 0 2400 1600\">\n",
       "<defs>\n",
       "  <clipPath id=\"clip9300\">\n",
       "    <rect x=\"0\" y=\"0\" width=\"2400\" height=\"1600\"/>\n",
       "  </clipPath>\n",
       "</defs>\n",
       "<path clip-path=\"url(#clip9300)\" d=\"\n",
       "M0 1600 L2400 1600 L2400 0 L0 0  Z\n",
       "  \" fill=\"#ffffff\" fill-rule=\"evenodd\" fill-opacity=\"1\"/>\n",
       "<defs>\n",
       "  <clipPath id=\"clip9301\">\n",
       "    <rect x=\"480\" y=\"0\" width=\"1681\" height=\"1600\"/>\n",
       "  </clipPath>\n",
       "</defs>\n",
       "<path clip-path=\"url(#clip9300)\" d=\"\n",
       "M180.66 1487.47 L2352.76 1487.47 L2352.76 121.675 L180.66 121.675  Z\n",
       "  \" fill=\"#ffffff\" fill-rule=\"evenodd\" fill-opacity=\"1\"/>\n",
       "<defs>\n",
       "  <clipPath id=\"clip9302\">\n",
       "    <rect x=\"180\" y=\"121\" width=\"2173\" height=\"1367\"/>\n",
       "  </clipPath>\n",
       "</defs>\n",
       "<polyline clip-path=\"url(#clip9302)\" style=\"stroke:#000000; stroke-width:2; stroke-opacity:0.1; fill:none\" points=\"\n",
       "  240.084,1487.47 240.084,121.675 \n",
       "  \"/>\n",
       "<polyline clip-path=\"url(#clip9302)\" style=\"stroke:#000000; stroke-width:2; stroke-opacity:0.1; fill:none\" points=\"\n",
       "  752.883,1487.47 752.883,121.675 \n",
       "  \"/>\n",
       "<polyline clip-path=\"url(#clip9302)\" style=\"stroke:#000000; stroke-width:2; stroke-opacity:0.1; fill:none\" points=\"\n",
       "  1265.68,1487.47 1265.68,121.675 \n",
       "  \"/>\n",
       "<polyline clip-path=\"url(#clip9302)\" style=\"stroke:#000000; stroke-width:2; stroke-opacity:0.1; fill:none\" points=\"\n",
       "  1778.48,1487.47 1778.48,121.675 \n",
       "  \"/>\n",
       "<polyline clip-path=\"url(#clip9302)\" style=\"stroke:#000000; stroke-width:2; stroke-opacity:0.1; fill:none\" points=\"\n",
       "  2291.28,1487.47 2291.28,121.675 \n",
       "  \"/>\n",
       "<polyline clip-path=\"url(#clip9302)\" style=\"stroke:#000000; stroke-width:2; stroke-opacity:0.1; fill:none\" points=\"\n",
       "  180.66,1224.61 2352.76,1224.61 \n",
       "  \"/>\n",
       "<polyline clip-path=\"url(#clip9302)\" style=\"stroke:#000000; stroke-width:2; stroke-opacity:0.1; fill:none\" points=\"\n",
       "  180.66,923.939 2352.76,923.939 \n",
       "  \"/>\n",
       "<polyline clip-path=\"url(#clip9302)\" style=\"stroke:#000000; stroke-width:2; stroke-opacity:0.1; fill:none\" points=\"\n",
       "  180.66,623.269 2352.76,623.269 \n",
       "  \"/>\n",
       "<polyline clip-path=\"url(#clip9302)\" style=\"stroke:#000000; stroke-width:2; stroke-opacity:0.1; fill:none\" points=\"\n",
       "  180.66,322.599 2352.76,322.599 \n",
       "  \"/>\n",
       "<polyline clip-path=\"url(#clip9300)\" style=\"stroke:#000000; stroke-width:4; stroke-opacity:1; fill:none\" points=\"\n",
       "  180.66,1487.47 2352.76,1487.47 \n",
       "  \"/>\n",
       "<polyline clip-path=\"url(#clip9300)\" style=\"stroke:#000000; stroke-width:4; stroke-opacity:1; fill:none\" points=\"\n",
       "  180.66,1487.47 180.66,121.675 \n",
       "  \"/>\n",
       "<polyline clip-path=\"url(#clip9300)\" style=\"stroke:#000000; stroke-width:4; stroke-opacity:1; fill:none\" points=\"\n",
       "  240.084,1487.47 240.084,1471.09 \n",
       "  \"/>\n",
       "<polyline clip-path=\"url(#clip9300)\" style=\"stroke:#000000; stroke-width:4; stroke-opacity:1; fill:none\" points=\"\n",
       "  752.883,1487.47 752.883,1471.09 \n",
       "  \"/>\n",
       "<polyline clip-path=\"url(#clip9300)\" style=\"stroke:#000000; stroke-width:4; stroke-opacity:1; fill:none\" points=\"\n",
       "  1265.68,1487.47 1265.68,1471.09 \n",
       "  \"/>\n",
       "<polyline clip-path=\"url(#clip9300)\" style=\"stroke:#000000; stroke-width:4; stroke-opacity:1; fill:none\" points=\"\n",
       "  1778.48,1487.47 1778.48,1471.09 \n",
       "  \"/>\n",
       "<polyline clip-path=\"url(#clip9300)\" style=\"stroke:#000000; stroke-width:4; stroke-opacity:1; fill:none\" points=\"\n",
       "  2291.28,1487.47 2291.28,1471.09 \n",
       "  \"/>\n",
       "<polyline clip-path=\"url(#clip9300)\" style=\"stroke:#000000; stroke-width:4; stroke-opacity:1; fill:none\" points=\"\n",
       "  180.66,1224.61 206.725,1224.61 \n",
       "  \"/>\n",
       "<polyline clip-path=\"url(#clip9300)\" style=\"stroke:#000000; stroke-width:4; stroke-opacity:1; fill:none\" points=\"\n",
       "  180.66,923.939 206.725,923.939 \n",
       "  \"/>\n",
       "<polyline clip-path=\"url(#clip9300)\" style=\"stroke:#000000; stroke-width:4; stroke-opacity:1; fill:none\" points=\"\n",
       "  180.66,623.269 206.725,623.269 \n",
       "  \"/>\n",
       "<polyline clip-path=\"url(#clip9300)\" style=\"stroke:#000000; stroke-width:4; stroke-opacity:1; fill:none\" points=\"\n",
       "  180.66,322.599 206.725,322.599 \n",
       "  \"/>\n",
       "<g clip-path=\"url(#clip9300)\">\n",
       "<text style=\"fill:#000000; fill-opacity:1; font-family:Arial,Helvetica Neue,Helvetica,sans-serif; font-size:48px; text-anchor:middle;\" transform=\"rotate(0, 240.084, 1541.47)\" x=\"240.084\" y=\"1541.47\">0</text>\n",
       "</g>\n",
       "<g clip-path=\"url(#clip9300)\">\n",
       "<text style=\"fill:#000000; fill-opacity:1; font-family:Arial,Helvetica Neue,Helvetica,sans-serif; font-size:48px; text-anchor:start;\" transform=\"rotate(0, 656.321, 1562.48)\" x=\"656.321\" y=\"1562.48\">2.5×10</text>\n",
       "</g>\n",
       "<g clip-path=\"url(#clip9300)\">\n",
       "<text style=\"fill:#000000; fill-opacity:1; font-family:Arial,Helvetica Neue,Helvetica,sans-serif; font-size:38px; text-anchor:start;\" transform=\"rotate(0, 804.861, 1535.07)\" x=\"804.861\" y=\"1535.07\">-</text>\n",
       "</g>\n",
       "<g clip-path=\"url(#clip9300)\">\n",
       "<text style=\"fill:#000000; fill-opacity:1; font-family:Arial,Helvetica Neue,Helvetica,sans-serif; font-size:38px; text-anchor:start;\" transform=\"rotate(0, 827.701, 1535.07)\" x=\"827.701\" y=\"1535.07\">8</text>\n",
       "</g>\n",
       "<g clip-path=\"url(#clip9300)\">\n",
       "<text style=\"fill:#000000; fill-opacity:1; font-family:Arial,Helvetica Neue,Helvetica,sans-serif; font-size:48px; text-anchor:start;\" transform=\"rotate(0, 1169.12, 1562.48)\" x=\"1169.12\" y=\"1562.48\">5.0×10</text>\n",
       "</g>\n",
       "<g clip-path=\"url(#clip9300)\">\n",
       "<text style=\"fill:#000000; fill-opacity:1; font-family:Arial,Helvetica Neue,Helvetica,sans-serif; font-size:38px; text-anchor:start;\" transform=\"rotate(0, 1317.66, 1535.07)\" x=\"1317.66\" y=\"1535.07\">-</text>\n",
       "</g>\n",
       "<g clip-path=\"url(#clip9300)\">\n",
       "<text style=\"fill:#000000; fill-opacity:1; font-family:Arial,Helvetica Neue,Helvetica,sans-serif; font-size:38px; text-anchor:start;\" transform=\"rotate(0, 1340.5, 1535.07)\" x=\"1340.5\" y=\"1535.07\">8</text>\n",
       "</g>\n",
       "<g clip-path=\"url(#clip9300)\">\n",
       "<text style=\"fill:#000000; fill-opacity:1; font-family:Arial,Helvetica Neue,Helvetica,sans-serif; font-size:48px; text-anchor:start;\" transform=\"rotate(0, 1681.92, 1562.48)\" x=\"1681.92\" y=\"1562.48\">7.5×10</text>\n",
       "</g>\n",
       "<g clip-path=\"url(#clip9300)\">\n",
       "<text style=\"fill:#000000; fill-opacity:1; font-family:Arial,Helvetica Neue,Helvetica,sans-serif; font-size:38px; text-anchor:start;\" transform=\"rotate(0, 1830.46, 1535.07)\" x=\"1830.46\" y=\"1535.07\">-</text>\n",
       "</g>\n",
       "<g clip-path=\"url(#clip9300)\">\n",
       "<text style=\"fill:#000000; fill-opacity:1; font-family:Arial,Helvetica Neue,Helvetica,sans-serif; font-size:38px; text-anchor:start;\" transform=\"rotate(0, 1853.3, 1535.07)\" x=\"1853.3\" y=\"1535.07\">8</text>\n",
       "</g>\n",
       "<g clip-path=\"url(#clip9300)\">\n",
       "<text style=\"fill:#000000; fill-opacity:1; font-family:Arial,Helvetica Neue,Helvetica,sans-serif; font-size:48px; text-anchor:start;\" transform=\"rotate(0, 2194.72, 1562.48)\" x=\"2194.72\" y=\"1562.48\">1.0×10</text>\n",
       "</g>\n",
       "<g clip-path=\"url(#clip9300)\">\n",
       "<text style=\"fill:#000000; fill-opacity:1; font-family:Arial,Helvetica Neue,Helvetica,sans-serif; font-size:38px; text-anchor:start;\" transform=\"rotate(0, 2343.26, 1535.07)\" x=\"2343.26\" y=\"1535.07\">-</text>\n",
       "</g>\n",
       "<g clip-path=\"url(#clip9300)\">\n",
       "<text style=\"fill:#000000; fill-opacity:1; font-family:Arial,Helvetica Neue,Helvetica,sans-serif; font-size:38px; text-anchor:start;\" transform=\"rotate(0, 2366.1, 1535.07)\" x=\"2366.1\" y=\"1535.07\">7</text>\n",
       "</g>\n",
       "<g clip-path=\"url(#clip9300)\">\n",
       "<text style=\"fill:#000000; fill-opacity:1; font-family:Arial,Helvetica Neue,Helvetica,sans-serif; font-size:48px; text-anchor:end;\" transform=\"rotate(0, 156.66, 1242.11)\" x=\"156.66\" y=\"1242.11\">0.05</text>\n",
       "</g>\n",
       "<g clip-path=\"url(#clip9300)\">\n",
       "<text style=\"fill:#000000; fill-opacity:1; font-family:Arial,Helvetica Neue,Helvetica,sans-serif; font-size:48px; text-anchor:end;\" transform=\"rotate(0, 156.66, 941.439)\" x=\"156.66\" y=\"941.439\">0.10</text>\n",
       "</g>\n",
       "<g clip-path=\"url(#clip9300)\">\n",
       "<text style=\"fill:#000000; fill-opacity:1; font-family:Arial,Helvetica Neue,Helvetica,sans-serif; font-size:48px; text-anchor:end;\" transform=\"rotate(0, 156.66, 640.769)\" x=\"156.66\" y=\"640.769\">0.15</text>\n",
       "</g>\n",
       "<g clip-path=\"url(#clip9300)\">\n",
       "<text style=\"fill:#000000; fill-opacity:1; font-family:Arial,Helvetica Neue,Helvetica,sans-serif; font-size:48px; text-anchor:end;\" transform=\"rotate(0, 156.66, 340.099)\" x=\"156.66\" y=\"340.099\">0.20</text>\n",
       "</g>\n",
       "<g clip-path=\"url(#clip9300)\">\n",
       "<text style=\"fill:#000000; fill-opacity:1; font-family:Arial,Helvetica Neue,Helvetica,sans-serif; font-size:84px; text-anchor:middle;\" transform=\"rotate(0, 1266.71, 73.2)\" x=\"1266.71\" y=\"73.2\">PDF and CDF of Bayesian Predictive Distribution</text>\n",
       "</g>\n",
       "<polyline clip-path=\"url(#clip9302)\" style=\"stroke:#009af9; stroke-width:4; stroke-opacity:1; fill:none\" points=\"\n",
       "  242.135,1419.92 252.432,1419.92 262.729,1419.92 273.026,1419.92 283.324,1419.92 293.621,1419.92 303.918,1419.92 314.215,1419.92 324.512,1419.92 334.81,1419.92 \n",
       "  345.107,1419.92 355.404,1419.92 365.701,1419.92 375.999,1419.92 386.296,1419.92 396.593,1419.92 406.89,1419.92 417.187,1419.92 427.485,1419.92 437.782,1419.92 \n",
       "  448.079,1419.92 458.376,1419.92 468.674,1419.92 478.971,1419.92 489.268,1419.92 499.565,1419.92 509.862,1419.92 520.16,1419.92 530.457,1419.92 540.754,1419.92 \n",
       "  551.051,1419.92 561.349,1419.92 571.646,1419.92 581.943,1419.92 592.24,1419.92 602.537,1419.92 612.835,1419.92 623.132,1419.92 633.429,1419.92 643.726,1419.92 \n",
       "  654.024,1419.92 664.321,1419.92 674.618,1419.92 684.915,1419.92 695.212,1419.92 705.51,1419.92 715.807,1419.92 726.104,1419.92 736.401,1419.92 746.698,1419.92 \n",
       "  756.996,1419.92 767.293,1419.92 777.59,1419.92 787.887,1419.92 798.185,1419.92 808.482,1419.92 818.779,1419.92 829.076,1419.92 839.373,1419.92 849.671,1419.92 \n",
       "  859.968,1419.92 870.265,1419.92 880.562,1419.92 890.86,1419.92 901.157,1419.92 911.454,1419.92 921.751,1419.92 932.048,1419.92 942.346,1419.92 952.643,1419.92 \n",
       "  962.94,1419.92 973.237,1419.92 983.535,1419.92 993.832,1419.92 1004.13,1419.92 1014.43,1419.92 1024.72,1419.92 1035.02,1419.92 1045.32,1419.92 1055.62,1419.92 \n",
       "  1065.91,1419.92 1076.21,1419.92 1086.51,1419.92 1096.8,1419.92 1107.1,1419.92 1117.4,1419.92 1127.7,1419.92 1137.99,1419.92 1148.29,1419.92 1158.59,1419.92 \n",
       "  1168.88,1419.92 1179.18,1419.92 1189.48,1419.92 1199.78,1419.92 1210.07,1419.92 1220.37,1419.92 1230.67,1419.92 1240.97,1419.92 1251.26,1419.92 1261.56,1419.92 \n",
       "  1271.86,1419.92 1282.15,1419.92 1292.45,1419.92 1302.75,1419.92 1313.05,1419.92 1323.34,1419.92 1333.64,1419.92 1343.94,1419.92 1354.23,1419.92 1364.53,1419.92 \n",
       "  1374.83,1419.92 1385.13,1419.92 1395.42,1419.92 1405.72,1419.92 1416.02,1419.92 1426.32,1419.92 1436.61,1419.92 1446.91,1419.92 1457.21,1419.92 1467.5,1419.92 \n",
       "  1477.8,1419.92 1488.1,1419.92 1498.4,1419.92 1508.69,1419.92 1518.99,1419.92 1529.29,1419.92 1539.58,1419.92 1549.88,1419.92 1560.18,1419.92 1570.48,1419.92 \n",
       "  1580.77,1419.92 1591.07,1419.92 1601.37,1419.92 1611.66,1419.92 1621.96,1419.92 1632.26,1419.92 1642.56,1419.92 1652.85,1419.92 1663.15,1419.92 1673.45,1419.92 \n",
       "  1683.75,1419.92 1694.04,1419.92 1704.34,1419.92 1714.64,1419.92 1724.93,1419.92 1735.23,1419.92 1745.53,1419.92 1755.83,1419.92 1766.12,1419.92 1776.42,1419.92 \n",
       "  1786.72,1419.92 1797.01,1419.92 1807.31,1419.92 1817.61,1419.92 1827.91,1419.92 1838.2,1419.92 1848.5,1419.92 1858.8,1419.92 1869.1,1419.92 1879.39,1419.92 \n",
       "  1889.69,1419.92 1899.99,1419.92 1910.28,1419.92 1920.58,1419.92 1930.88,1419.92 1941.18,1419.92 1951.47,1419.92 1961.77,1419.92 1972.07,1419.92 1982.36,1419.92 \n",
       "  1992.66,1419.92 2002.96,1419.92 2013.26,1419.92 2023.55,1419.92 2033.85,1419.92 2044.15,1419.92 2054.45,1419.92 2064.74,1419.92 2075.04,1419.92 2085.34,1419.92 \n",
       "  2095.63,1419.92 2105.93,1419.92 2116.23,1419.92 2126.53,1419.92 2136.82,1419.92 2147.12,1419.92 2157.42,1419.92 2167.71,1419.92 2178.01,1419.92 2188.31,1419.92 \n",
       "  2198.61,1419.92 2208.9,1419.92 2219.2,1419.92 2229.5,1419.92 2239.8,1419.92 2250.09,1419.92 2260.39,1419.92 2270.69,1419.92 2280.98,1419.92 2291.28,1419.92 \n",
       "  \n",
       "  \"/>\n",
       "<polyline clip-path=\"url(#clip9302)\" style=\"stroke:#e26f46; stroke-width:4; stroke-opacity:1; fill:none\" points=\"\n",
       "  242.135,160.33 252.432,896.343 262.729,1039.61 273.026,1110.94 283.324,1155.88 293.621,1187.62 303.918,1211.65 314.215,1230.68 324.512,1246.26 334.81,1259.33 \n",
       "  345.107,1270.52 355.404,1280.23 365.701,1288.78 375.999,1296.38 386.296,1303.2 396.593,1309.36 406.89,1314.97 417.187,1320.11 427.485,1324.83 437.782,1329.2 \n",
       "  448.079,1333.25 458.376,1337.03 468.674,1340.56 478.971,1343.88 489.268,1346.99 499.565,1349.92 509.862,1352.7 520.16,1355.32 530.457,1357.82 540.754,1360.19 \n",
       "  551.051,1362.44 561.349,1364.59 571.646,1366.65 581.943,1368.62 592.24,1370.5 602.537,1372.31 612.835,1374.04 623.132,1375.71 633.429,1377.32 643.726,1378.86 \n",
       "  654.024,1380.35 664.321,1381.79 674.618,1383.18 684.915,1384.53 695.212,1385.83 705.51,1387.09 715.807,1388.31 726.104,1389.49 736.401,1390.64 746.698,1391.75 \n",
       "  756.996,1392.84 767.293,1393.89 777.59,1394.91 787.887,1395.91 798.185,1396.88 808.482,1397.82 818.779,1398.74 829.076,1399.64 839.373,1400.52 849.671,1401.37 \n",
       "  859.968,1402.2 870.265,1403.02 880.562,1403.81 890.86,1404.59 901.157,1405.35 911.454,1406.1 921.751,1406.82 932.048,1407.54 942.346,1408.23 952.643,1408.92 \n",
       "  962.94,1409.58 973.237,1410.24 983.535,1410.88 993.832,1411.51 1004.13,1412.13 1014.43,1412.74 1024.72,1413.33 1035.02,1413.92 1045.32,1414.49 1055.62,1415.05 \n",
       "  1065.91,1415.6 1076.21,1416.15 1086.51,1416.68 1096.8,1417.21 1107.1,1417.72 1117.4,1418.23 1127.7,1418.73 1137.99,1419.22 1148.29,1419.7 1158.59,1420.17 \n",
       "  1168.88,1420.64 1179.18,1421.1 1189.48,1421.55 1199.78,1422 1210.07,1422.44 1220.37,1422.87 1230.67,1423.3 1240.97,1423.72 1251.26,1424.13 1261.56,1424.54 \n",
       "  1271.86,1424.94 1282.15,1425.34 1292.45,1425.73 1302.75,1426.12 1313.05,1426.5 1323.34,1426.87 1333.64,1427.24 1343.94,1427.61 1354.23,1427.97 1364.53,1428.32 \n",
       "  1374.83,1428.67 1385.13,1429.02 1395.42,1429.36 1405.72,1429.7 1416.02,1430.03 1426.32,1430.36 1436.61,1430.69 1446.91,1431.01 1457.21,1431.33 1467.5,1431.64 \n",
       "  1477.8,1431.95 1488.1,1432.26 1498.4,1432.56 1508.69,1432.86 1518.99,1433.16 1529.29,1433.45 1539.58,1433.74 1549.88,1434.02 1560.18,1434.31 1570.48,1434.59 \n",
       "  1580.77,1434.86 1591.07,1435.14 1601.37,1435.41 1611.66,1435.68 1621.96,1435.94 1632.26,1436.2 1642.56,1436.46 1652.85,1436.72 1663.15,1436.97 1673.45,1437.22 \n",
       "  1683.75,1437.47 1694.04,1437.72 1704.34,1437.96 1714.64,1438.21 1724.93,1438.45 1735.23,1438.68 1745.53,1438.92 1755.83,1439.15 1766.12,1439.38 1776.42,1439.61 \n",
       "  1786.72,1439.83 1797.01,1440.06 1807.31,1440.28 1817.61,1440.5 1827.91,1440.72 1838.2,1440.93 1848.5,1441.14 1858.8,1441.36 1869.1,1441.57 1879.39,1441.77 \n",
       "  1889.69,1441.98 1899.99,1442.18 1910.28,1442.39 1920.58,1442.59 1930.88,1442.79 1941.18,1442.98 1951.47,1443.18 1961.77,1443.37 1972.07,1443.56 1982.36,1443.75 \n",
       "  1992.66,1443.94 2002.96,1444.13 2013.26,1444.32 2023.55,1444.5 2033.85,1444.68 2044.15,1444.86 2054.45,1445.04 2064.74,1445.22 2075.04,1445.4 2085.34,1445.58 \n",
       "  2095.63,1445.75 2105.93,1445.92 2116.23,1446.09 2126.53,1446.26 2136.82,1446.43 2147.12,1446.6 2157.42,1446.77 2167.71,1446.93 2178.01,1447.1 2188.31,1447.26 \n",
       "  2198.61,1447.42 2208.9,1447.58 2219.2,1447.74 2229.5,1447.9 2239.8,1448.05 2250.09,1448.21 2260.39,1448.36 2270.69,1448.52 2280.98,1448.67 2291.28,1448.82 \n",
       "  \n",
       "  \"/>\n",
       "<path clip-path=\"url(#clip9300)\" d=\"\n",
       "M2016.69 386.635 L2280.76 386.635 L2280.76 205.195 L2016.69 205.195  Z\n",
       "  \" fill=\"#ffffff\" fill-rule=\"evenodd\" fill-opacity=\"1\"/>\n",
       "<polyline clip-path=\"url(#clip9300)\" style=\"stroke:#000000; stroke-width:4; stroke-opacity:1; fill:none\" points=\"\n",
       "  2016.69,386.635 2280.76,386.635 2280.76,205.195 2016.69,205.195 2016.69,386.635 \n",
       "  \"/>\n",
       "<polyline clip-path=\"url(#clip9300)\" style=\"stroke:#009af9; stroke-width:4; stroke-opacity:1; fill:none\" points=\"\n",
       "  2040.69,265.675 2184.69,265.675 \n",
       "  \"/>\n",
       "<g clip-path=\"url(#clip9300)\">\n",
       "<text style=\"fill:#000000; fill-opacity:1; font-family:Arial,Helvetica Neue,Helvetica,sans-serif; font-size:48px; text-anchor:start;\" transform=\"rotate(0, 2208.69, 283.175)\" x=\"2208.69\" y=\"283.175\">y</text>\n",
       "</g>\n",
       "<polyline clip-path=\"url(#clip9300)\" style=\"stroke:#e26f46; stroke-width:4; stroke-opacity:1; fill:none\" points=\"\n",
       "  2040.69,326.155 2184.69,326.155 \n",
       "  \"/>\n",
       "<g clip-path=\"url(#clip9300)\">\n",
       "<text style=\"fill:#000000; fill-opacity:1; font-family:Arial,Helvetica Neue,Helvetica,sans-serif; font-size:48px; text-anchor:start;\" transform=\"rotate(0, 2208.69, 343.655)\" x=\"2208.69\" y=\"343.655\">y</text>\n",
       "</g>\n",
       "</svg>\n"
      ]
     },
     "metadata": {},
     "output_type": "display_data"
    },
    {
     "data": {
      "text/plain": [
       "([1.0e-10, 6.020100502512562e-10, 1.1040201005025125e-9, 1.6060301507537689e-9, 2.108040201005025e-9, 2.610050251256281e-9, 3.1120603015075377e-9, 3.614070351758794e-9, 4.11608040201005e-9, 4.618090452261306e-9  …  9.548190954773868e-8, 9.598391959798994e-8, 9.64859296482412e-8, 9.698793969849244e-8, 9.74899497487437e-8, 9.799195979899496e-8, 9.849396984924622e-8, 9.899597989949748e-8, 9.949798994974872e-8, 9.999999999999998e-8], [0.22698468616642592, 0.10458917305091892, 0.08076369940524247, 0.06890226783944066, 0.06142983032709076, 0.05615035076348846, 0.052155324760390344, 0.048990480535379896, 0.04639962503513789, 0.044225630588736284  …  0.012947576275003926, 0.01292094461246086, 0.0128945097033463, 0.012868269077943306, 0.012842220310137976, 0.012816361016429575, 0.012790688854968063, 0.01276520152461819, 0.012739896764049113, 0.012714772350849064])"
      ]
     },
     "execution_count": 23,
     "metadata": {},
     "output_type": "execute_result"
    }
   ],
   "source": [
    "# Plot to see the shape of pdf and cdf\n",
    "dpdf_fixed = y0 -> dpdf(x0, Fx0, y0) \n",
    "pdf_fixed = y0 -> pdf(x0, Fx0, y0)\n",
    "cdf_fixed = y0 -> cdf(x0, Fx0, y0)\n",
    "a = 1e-10; b = 1e-7\n",
    "plt(cdf_fixed, a, b, 200)\n",
    "# plt!(dpdf_fixed, a, b, 200)\n",
    "plt!(pdf_fixed, a, b, 200, title = \"PDF and CDF of Bayesian Predictive Distribution\")"
   ]
  },
  {
   "cell_type": "markdown",
   "metadata": {},
   "source": [
    "# Quantile computation"
   ]
  },
  {
   "cell_type": "code",
   "execution_count": 26,
   "metadata": {
    "scrolled": false
   },
   "outputs": [
    {
     "data": {
      "text/plain": [
       "credible_interval (generic function with 3 methods)"
      ]
     },
     "execution_count": 26,
     "metadata": {},
     "output_type": "execute_result"
    }
   ],
   "source": [
    "include(\"test_quantile.jl\")\n",
    "include(\"../statistics.jl\")"
   ]
  },
  {
   "cell_type": "code",
   "execution_count": 27,
   "metadata": {
    "scrolled": false
   },
   "outputs": [
    {
     "name": "stdout",
     "output_type": "stream",
     "text": [
      "Estimated support of pdf: [0.001, 5.0]\n"
     ]
    }
   ],
   "source": [
    "# preprocess output from solve(btg)\n",
    "pdf_fixed, cdf_fixed, quant0, support = pre_process(x0, Fx0, pdf, cdf, quantInfo[1]);\n",
    "println(\"Estimated support of pdf: $support\")"
   ]
  },
  {
   "cell_type": "code",
   "execution_count": 28,
   "metadata": {
    "scrolled": false
   },
   "outputs": [
    {
     "data": {
      "text/plain": [
       "(0.7520702510511227, 9.547918011776346e-15)"
      ]
     },
     "execution_count": 28,
     "metadata": {},
     "output_type": "execute_result"
    }
   ],
   "source": [
    "px = 0.5\n",
    "quant_px = quantile(pdf_fixed, cdf_fixed, quant0, support; p=px)\n",
    "# quant_0 = Roots.fzero(y-> cdf_fixed(y) - 0.5, 0, 5)"
   ]
  },
  {
   "cell_type": "code",
   "execution_count": 29,
   "metadata": {
    "scrolled": true
   },
   "outputs": [
    {
     "data": {
      "text/plain": [
       "(0.7520702510511227, 9.547918011776346e-15)"
      ]
     },
     "execution_count": 29,
     "metadata": {},
     "output_type": "execute_result"
    }
   ],
   "source": [
    "med = median(pdf_fixed, cdf_fixed, quant0, support)"
   ]
  },
  {
   "cell_type": "code",
   "execution_count": 30,
   "metadata": {
    "scrolled": false
   },
   "outputs": [
    {
     "data": {
      "text/plain": [
       "0.7516625543907569"
      ]
     },
     "execution_count": 30,
     "metadata": {},
     "output_type": "execute_result"
    }
   ],
   "source": [
    "mod = mode(pdf_fixed, cdf_fixed, support)"
   ]
  },
  {
   "cell_type": "code",
   "execution_count": 31,
   "metadata": {
    "scrolled": true
   },
   "outputs": [
    {
     "data": {
      "text/plain": [
       "([0.4597959620802875, 1.0499030392881563], 0.0)"
      ]
     },
     "execution_count": 31,
     "metadata": {},
     "output_type": "execute_result"
    }
   ],
   "source": [
    "confidence_level = .95\n",
    "CI_equal = credible_interval(pdf_fixed, cdf_fixed, quant0, support; \n",
    "    mode=:equal, wp = confidence_level)"
   ]
  },
  {
   "cell_type": "code",
   "execution_count": 32,
   "metadata": {
    "scrolled": true
   },
   "outputs": [
    {
     "data": {
      "text/plain": [
       "([0.570707309162015, 1.1022344441414724], 5.3370437893668645e-9)"
      ]
     },
     "execution_count": 32,
     "metadata": {},
     "output_type": "execute_result"
    }
   ],
   "source": [
    "CI_narrow = credible_interval(pdf_fixed, cdf_fixed, quant0, support;\n",
    "    mode=:narrow, wp = confidence_level)"
   ]
  },
  {
   "cell_type": "code",
   "execution_count": null,
   "metadata": {},
   "outputs": [],
   "source": []
  },
  {
   "cell_type": "code",
   "execution_count": null,
   "metadata": {},
   "outputs": [],
   "source": []
  }
 ],
 "metadata": {
  "kernelspec": {
   "display_name": "Julia 1.3.1",
   "language": "julia",
   "name": "julia-1.3"
  },
  "language_info": {
   "file_extension": ".jl",
   "mimetype": "application/julia",
   "name": "julia",
   "version": "1.3.1"
  }
 },
 "nbformat": 4,
 "nbformat_minor": 2
}
