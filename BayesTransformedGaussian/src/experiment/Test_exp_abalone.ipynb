{
 "cells": [
  {
   "cell_type": "code",
   "execution_count": 9,
   "metadata": {},
   "outputs": [
    {
     "data": {
      "text/plain": [
       "credible_interval (generic function with 3 methods)"
      ]
     },
     "execution_count": 9,
     "metadata": {},
     "output_type": "execute_result"
    }
   ],
   "source": [
    "using Dates\n",
    "using ArgParse\n",
    "using Printf\n",
    "using Random\n",
    "\n",
    "include(\"../btg.jl\")\n"
   ]
  },
  {
   "cell_type": "code",
   "execution_count": 10,
   "metadata": {},
   "outputs": [
    {
     "data": {
      "text/plain": [
       "3"
      ]
     },
     "execution_count": 10,
     "metadata": {},
     "output_type": "execute_result"
    }
   ],
   "source": [
    "# load abalone data\n",
    "df = DataFrame(CSV.File(\"../datasets/abalone.csv\"))\n",
    "data = convert(Matrix, df[:,2:8]) #length, diameter, height, whole weight, shucked weight, viscera weight, shell weight\n",
    "target = convert(Array, df[:, 9]) #age\n",
    "\n",
    "# shuffle data\n",
    "ind_shuffle = randperm(MersenneTwister(1234), size(data, 1)) \n",
    "data = data[ind_shuffle, :]\n",
    "target = target[ind_shuffle]\n",
    "# training set\n",
    "id_train = 1:200; posx = 1:7; posc = 1:3\n",
    "x = data[id_train, posx] \n",
    "Fx = data[id_train, posc] \n",
    "y = float(target[id_train])\n",
    "ymax_train = maximum(y)\n",
    "y ./= ymax_train\n",
    "trainingData0 = trainingData(x, Fx, y) #training data used for testing various functions\n",
    "d = getDimension(trainingData0); n = getNumPts(trainingData0); p = getCovDimension(trainingData0)\n"
   ]
  },
  {
   "cell_type": "code",
   "execution_count": 11,
   "metadata": {},
   "outputs": [],
   "source": [
    "#parameter setting\n",
    "myquadtype = [\"SparseCarlo\", \"SparseCarlo\"]\n",
    "# myquadtype = [\"QuasiMonteCarlo\", \"QuasiMonteCarlo\"]\n",
    "rangeλ = [-1.5 1.] \n",
    "rangeθs = [0.125 1000]\n",
    "rangeθm = repeat(rangeθs, d, 1)\n",
    "single = false\n",
    "rangeθ = single ? rangeθs : rangeθm\n",
    "# build btg model\n",
    "btg0 = btg(trainingData0, rangeθ, rangeλ; quadtype = myquadtype)\n",
    "(pdf0_raw, cdf0_raw, dpdf0_raw, quantInfo0_raw) = solve(btg0); #initialize training_buffer_dicts, solve once so can use fast techiques to extrapolate submatrix determinants, etc.\n"
   ]
  },
  {
   "cell_type": "markdown",
   "metadata": {},
   "source": [
    "# Test"
   ]
  },
  {
   "cell_type": "code",
   "execution_count": 16,
   "metadata": {
    "scrolled": true
   },
   "outputs": [
    {
     "data": {
      "text/plain": [
       "0.0"
      ]
     },
     "execution_count": 16,
     "metadata": {},
     "output_type": "execute_result"
    }
   ],
   "source": [
    "id_test = 1001:1010\n",
    "n_test = length(id_test)\n",
    "id_fail = []\n",
    "id_nonproper = []\n",
    "x_test = data[id_test, posx]\n",
    "Fx_test = data[id_test, posc]\n",
    "y_test_true = target[id_test]\n",
    "count_test = 0\n",
    "error_abs = 0.\n",
    "error_sq = 0.\n",
    "nlpd = 0."
   ]
  },
  {
   "cell_type": "code",
   "execution_count": 17,
   "metadata": {
    "scrolled": true
   },
   "outputs": [
    {
     "name": "stderr",
     "output_type": "stream",
     "text": [
      "┌ Info: Elapsed time:\n",
      "│   elapsedmin = 1.4548\n",
      "└ @ Main In[17]:29\n",
      "┌ Info: Elapsed time:\n",
      "│   elapsedmin = 1.40063\n",
      "└ @ Main In[17]:29\n",
      "┌ Info: Elapsed time:\n",
      "│   elapsedmin = 1.31928\n",
      "└ @ Main In[17]:29\n",
      "┌ Info: Elapsed time:\n",
      "│   elapsedmin = 1.28235\n",
      "└ @ Main In[17]:29\n",
      "┌ Info: Elapsed time:\n",
      "│   elapsedmin = 1.33793\n",
      "└ @ Main In[17]:29\n",
      "┌ Info: Elapsed time:\n",
      "│   elapsedmin = 1.41157\n",
      "└ @ Main In[17]:29\n",
      "┌ Info: Elapsed time:\n",
      "│   elapsedmin = 4.08628\n",
      "└ @ Main In[17]:29\n",
      "┌ Info: Elapsed time:\n",
      "│   elapsedmin = 1.65967\n",
      "└ @ Main In[17]:29\n",
      "┌ Info: Elapsed time:\n",
      "│   elapsedmin = 1.37212\n",
      "└ @ Main In[17]:29\n",
      "┌ Info: 10\n",
      "└ @ Main In[17]:4\n",
      "┌ Info: Elapsed time:\n",
      "│   elapsedmin = 1.38437\n",
      "└ @ Main In[17]:29\n"
     ]
    }
   ],
   "source": [
    "for i in 1:n_test\n",
    "    global error_abs, error_sq, nlpd, count_test\n",
    "    before = Dates.now()\n",
    "    mod(i, 10) == 0 ? (@info i) : nothing\n",
    "    # @info \"i\" i\n",
    "    x_test_i = reshape(x_test[i, :], 1, length(posx))\n",
    "    Fx_test_i = reshape(Fx_test[i, :], 1, length(posc))\n",
    "    try\n",
    "        pdf_test_i, cdf_test_i, dpdf_test_i, quantbound_test_i, support_test_i = pre_process(x_test_i, Fx_test_i, pdf0_raw, cdf0_raw, dpdf0_raw, quantInfo0_raw)\n",
    "        y_test_i_true = y_test_true[i]\n",
    "        median_test_i = ymax_train * quantile(cdf_test_i, quantbound_test_i, support_test_i)[1]\n",
    "        # @info \"True, median \" y_test_i_true, median_test_i\n",
    "        try \n",
    "            CI_test_i = ymax_train .* credible_interval(cdf_test_i, quantbound_test_i, support_test_i; mode=:equal, wp=.95)[1]\n",
    "            count_test += (y_test_i_true >= CI_test_i[1])&&(y_test_i_true <= CI_test_i[2]) ? 1 : 0\n",
    "            # @info \"CI\" CI_test_i\n",
    "        catch err\n",
    "            append!(id_fail, i)\n",
    "        end\n",
    "        error_abs += abs(y_test_i_true - median_test_i)\n",
    "        error_sq += (y_test_i_true - median_test_i)^2\n",
    "        nlpd += log(pdf_test_i(y_test_i_true)) \n",
    "    # @info \"Count, id_fail\" count_test, id_fail\n",
    "    catch err \n",
    "        append!(id_nonproper, i)\n",
    "    end\n",
    "    after = Dates.now()\n",
    "    elapsedmin = round(((after - before) / Millisecond(1000))/60, digits=5)\n",
    "    @info \"Elapsed time:\" elapsedmin\n",
    "end"
   ]
  },
  {
   "cell_type": "code",
   "execution_count": 6,
   "metadata": {
    "scrolled": true
   },
   "outputs": [
    {
     "data": {
      "text/plain": [
       "40.18671922407129"
      ]
     },
     "execution_count": 6,
     "metadata": {},
     "output_type": "execute_result"
    }
   ],
   "source": [
    "count_test /= n_test - length(id_fail)\n",
    "error_abs  /= n_test\n",
    "error_sq   /= n_test\n",
    "nlpd       /= -n_test"
   ]
  },
  {
   "cell_type": "code",
   "execution_count": 7,
   "metadata": {},
   "outputs": [
    {
     "data": {
      "text/plain": [
       "14.098494448005281"
      ]
     },
     "execution_count": 7,
     "metadata": {},
     "output_type": "execute_result"
    }
   ],
   "source": [
    "error_sq"
   ]
  },
  {
   "cell_type": "code",
   "execution_count": 8,
   "metadata": {
    "scrolled": false
   },
   "outputs": [
    {
     "data": {
      "text/plain": [
       "2.9691971991088915"
      ]
     },
     "execution_count": 8,
     "metadata": {},
     "output_type": "execute_result"
    }
   ],
   "source": [
    "error_abs"
   ]
  },
  {
   "cell_type": "code",
   "execution_count": 9,
   "metadata": {},
   "outputs": [
    {
     "data": {
      "text/plain": [
       "40.18671922407129"
      ]
     },
     "execution_count": 9,
     "metadata": {},
     "output_type": "execute_result"
    }
   ],
   "source": [
    "nlpd"
   ]
  },
  {
   "cell_type": "markdown",
   "metadata": {},
   "source": [
    "# Validation"
   ]
  },
  {
   "cell_type": "code",
   "execution_count": null,
   "metadata": {},
   "outputs": [],
   "source": [
    "function lootd(td::AbstractTrainingData, i::Int64)\n",
    "        x = getPosition(td)\n",
    "        Fx = getCovariates(td)\n",
    "        z = getLabel(td)\n",
    "        x_minus_i = x[[1:i-1;i+1:end], :]\n",
    "        Fx_minus_i = Fx[[1:i-1;i+1:end], :]\n",
    "        z_minus_i = z[[1:i-1;i+1:end]]\n",
    "        x_i = x[i:i, :]\n",
    "        Fx_i = Fx[i:i, :]\n",
    "        z_i = z[i:i, :]\n",
    "        return trainingData(x_minus_i, Fx_minus_i, z_minus_i), x_i, Fx_i, z_i\n",
    "end"
   ]
  }
 ],
 "metadata": {
  "kernelspec": {
   "display_name": "Julia 1.4.1",
   "language": "julia",
   "name": "julia-1.4"
  },
  "language_info": {
   "file_extension": ".jl",
   "mimetype": "application/julia",
   "name": "julia",
   "version": "1.4.1"
  }
 },
 "nbformat": 4,
 "nbformat_minor": 4
}
