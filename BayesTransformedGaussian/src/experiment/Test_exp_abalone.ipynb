{
 "cells": [
  {
   "cell_type": "code",
   "execution_count": 1,
   "metadata": {},
   "outputs": [
    {
     "data": {
      "text/plain": [
       "credible_interval (generic function with 3 methods)"
      ]
     },
     "execution_count": 1,
     "metadata": {},
     "output_type": "execute_result"
    }
   ],
   "source": [
    "using Dates\n",
    "using ArgParse\n",
    "using Printf\n",
    "using Random\n",
    "\n",
    "include(\"../btg.jl\")\n"
   ]
  },
  {
   "cell_type": "code",
   "execution_count": 1,
   "metadata": {},
   "outputs": [],
   "source": [
    "using ArgParse"
   ]
  },
  {
   "cell_type": "code",
   "execution_count": 6,
   "metadata": {},
   "outputs": [
    {
     "data": {
      "text/plain": [
       "Dict{String,Any} with 4 entries:\n",
       "  \"flag1\" => false\n",
       "  \"arg1\"  => \"/home/xz584/.local/share/jupyter/runtime/kernel-db366c4a-0ff7-4a7…\n",
       "  \"opt1\"  => nothing\n",
       "  \"opt2\"  => 0"
      ]
     },
     "execution_count": 6,
     "metadata": {},
     "output_type": "execute_result"
    }
   ],
   "source": [
    "s = ArgParseSettings()\n",
    "\n",
    "@add_arg_table! s begin\n",
    "    \"--opt1\"\n",
    "        help = \"an option with an argument\"\n",
    "    \"--opt2\", \"-o\"\n",
    "        help = \"another option with an argument\"\n",
    "        arg_type = Int\n",
    "        default = 0\n",
    "    \"--flag1\"\n",
    "        help = \"an option without argument, i.e. a flag\"\n",
    "        action = :store_true\n",
    "    \"arg1\"\n",
    "        help = \"a positional argument\"\n",
    "        required = true\n",
    "end\n",
    "parsed_args = parse_args(ARGS, s)"
   ]
  },
  {
   "cell_type": "code",
   "execution_count": null,
   "metadata": {},
   "outputs": [],
   "source": [
    "include()"
   ]
  },
  {
   "cell_type": "code",
   "execution_count": null,
   "metadata": {},
   "outputs": [],
   "source": []
  },
  {
   "cell_type": "code",
   "execution_count": 7,
   "metadata": {},
   "outputs": [],
   "source": [
    "parsed_args[\"opt1\"]"
   ]
  },
  {
   "cell_type": "code",
   "execution_count": null,
   "metadata": {},
   "outputs": [],
   "source": []
  },
  {
   "cell_type": "code",
   "execution_count": null,
   "metadata": {},
   "outputs": [],
   "source": []
  },
  {
   "cell_type": "code",
   "execution_count": null,
   "metadata": {},
   "outputs": [],
   "source": []
  },
  {
   "cell_type": "code",
   "execution_count": null,
   "metadata": {},
   "outputs": [],
   "source": []
  },
  {
   "cell_type": "code",
   "execution_count": null,
   "metadata": {},
   "outputs": [],
   "source": []
  },
  {
   "cell_type": "code",
   "execution_count": 35,
   "metadata": {},
   "outputs": [
    {
     "data": {
      "text/plain": [
       "1234"
      ]
     },
     "execution_count": 35,
     "metadata": {},
     "output_type": "execute_result"
    }
   ],
   "source": [
    "seed = 1234"
   ]
  },
  {
   "cell_type": "code",
   "execution_count": 43,
   "metadata": {
    "scrolled": false
   },
   "outputs": [
    {
     "data": {
      "text/plain": [
       "10-element Array{Int64,1}:\n",
       "  2\n",
       "  1\n",
       "  7\n",
       "  9\n",
       "  5\n",
       " 10\n",
       "  4\n",
       "  8\n",
       "  6\n",
       "  3"
      ]
     },
     "execution_count": 43,
     "metadata": {},
     "output_type": "execute_result"
    }
   ],
   "source": [
    "rng = MersenneTwister(seed)\n",
    "ind_shuffle = randperm(rng, 10) "
   ]
  },
  {
   "cell_type": "code",
   "execution_count": null,
   "metadata": {},
   "outputs": [],
   "source": []
  },
  {
   "cell_type": "code",
   "execution_count": 2,
   "metadata": {},
   "outputs": [
    {
     "data": {
      "text/plain": [
       "7"
      ]
     },
     "execution_count": 2,
     "metadata": {},
     "output_type": "execute_result"
    }
   ],
   "source": [
    "# load abalone data\n",
    "df = DataFrame(CSV.File(\"../datasets/abalone.csv\"))\n",
    "data = convert(Matrix, df[:,2:8]) #length, diameter, height, whole weight, shucked weight, viscera weight, shell weight\n",
    "target = convert(Array, df[:, 9]) #age\n",
    "\n",
    "# shuffle data\n",
    "rng = MersenneTwister(1234)\n",
    "ind_shuffle = randperm(rng, size(data, 1)) \n",
    "data = data[ind_shuffle, :]\n",
    "target = target[ind_shuffle]\n",
    "# training set\n",
    "id_train = 1:200; posx = 1:7; posc = 1:7; n_train = length(id_train)\n",
    "x = data[id_train, posx] \n",
    "Fx = data[id_train, posc] \n",
    "y = float(target[id_train])\n",
    "ymax_train = maximum(y)\n",
    "y ./= ymax_train\n",
    "trainingData0 = trainingData(x, Fx, y) \n",
    "d = getDimension(trainingData0); n = getNumPts(trainingData0); p = getCovDimension(trainingData0)\n"
   ]
  },
  {
   "cell_type": "code",
   "execution_count": 3,
   "metadata": {},
   "outputs": [],
   "source": [
    "myquadtype = [\"QuasiMonteCarlo\", \"QuasiMonteCarlo\"]\n",
    "rangeλ = [-1.5 1.] \n",
    "rangeθs = [0.125 1000]\n",
    "rangeθm = repeat(rangeθs, d, 1)\n",
    "single = true\n",
    "rangeθ = single ? rangeθs : rangeθm\n",
    "# build btg model\n",
    "btg0 = btg(trainingData0, rangeθ, rangeλ; quadtype = myquadtype)\n",
    "(pdf0_raw, cdf0_raw, dpdf0_raw, quantInfo0_raw) = solve(btg0);"
   ]
  },
  {
   "cell_type": "markdown",
   "metadata": {},
   "source": [
    "# Test"
   ]
  },
  {
   "cell_type": "code",
   "execution_count": 14,
   "metadata": {
    "scrolled": true
   },
   "outputs": [
    {
     "data": {
      "text/plain": [
       "0.0"
      ]
     },
     "execution_count": 14,
     "metadata": {},
     "output_type": "execute_result"
    }
   ],
   "source": [
    "id_test = 1001:1100\n",
    "n_test = length(id_test)\n",
    "id_fail = []\n",
    "id_nonproper = []\n",
    "x_test = data[id_test, posx]\n",
    "Fx_test = data[id_test, posc]\n",
    "y_test_true = target[id_test]\n",
    "count_test = 0\n",
    "error_abs = 0.\n",
    "error_sq = 0.\n",
    "nlpd = 0."
   ]
  },
  {
   "cell_type": "code",
   "execution_count": null,
   "metadata": {
    "scrolled": true
   },
   "outputs": [
    {
     "name": "stderr",
     "output_type": "stream",
     "text": [
      "┌ Info: Elapsed time:\n",
      "│   elapsedmin = 0.35127\n",
      "└ @ Main In[15]:29\n",
      "┌ Info: Elapsed time:\n",
      "│   elapsedmin = 0.34528\n",
      "└ @ Main In[15]:29\n",
      "┌ Info: Elapsed time:\n",
      "│   elapsedmin = 0.32573\n",
      "└ @ Main In[15]:29\n",
      "┌ Info: Elapsed time:\n",
      "│   elapsedmin = 0.31762\n",
      "└ @ Main In[15]:29\n",
      "┌ Info: Elapsed time:\n",
      "│   elapsedmin = 0.3304\n",
      "└ @ Main In[15]:29\n",
      "┌ Info: Elapsed time:\n",
      "│   elapsedmin = 0.31972\n",
      "└ @ Main In[15]:29\n",
      "┌ Info: Elapsed time:\n",
      "│   elapsedmin = 0.32567\n",
      "└ @ Main In[15]:29\n",
      "┌ Info: Elapsed time:\n",
      "│   elapsedmin = 0.32418\n",
      "└ @ Main In[15]:29\n",
      "┌ Info: Elapsed time:\n",
      "│   elapsedmin = 0.32608\n",
      "└ @ Main In[15]:29\n",
      "┌ Info: 10\n",
      "└ @ Main In[15]:4\n",
      "┌ Info: Elapsed time:\n",
      "│   elapsedmin = 0.32512\n",
      "└ @ Main In[15]:29\n",
      "┌ Info: Elapsed time:\n",
      "│   elapsedmin = 0.33662\n",
      "└ @ Main In[15]:29\n",
      "┌ Info: Elapsed time:\n",
      "│   elapsedmin = 0.3277\n",
      "└ @ Main In[15]:29\n",
      "┌ Info: Elapsed time:\n",
      "│   elapsedmin = 0.33032\n",
      "└ @ Main In[15]:29\n",
      "┌ Info: Elapsed time:\n",
      "│   elapsedmin = 0.33017\n",
      "└ @ Main In[15]:29\n",
      "┌ Info: Elapsed time:\n",
      "│   elapsedmin = 0.31813\n",
      "└ @ Main In[15]:29\n",
      "┌ Info: Elapsed time:\n",
      "│   elapsedmin = 0.32228\n",
      "└ @ Main In[15]:29\n",
      "┌ Info: Elapsed time:\n",
      "│   elapsedmin = 0.32668\n",
      "└ @ Main In[15]:29\n",
      "┌ Info: Elapsed time:\n",
      "│   elapsedmin = 0.33243\n",
      "└ @ Main In[15]:29\n",
      "┌ Info: Elapsed time:\n",
      "│   elapsedmin = 0.31832\n",
      "└ @ Main In[15]:29\n",
      "┌ Info: 20\n",
      "└ @ Main In[15]:4\n",
      "┌ Info: Elapsed time:\n",
      "│   elapsedmin = 0.32025\n",
      "└ @ Main In[15]:29\n",
      "┌ Info: Elapsed time:\n",
      "│   elapsedmin = 0.33532\n",
      "└ @ Main In[15]:29\n",
      "┌ Info: Elapsed time:\n",
      "│   elapsedmin = 0.32012\n",
      "└ @ Main In[15]:29\n",
      "┌ Info: Elapsed time:\n",
      "│   elapsedmin = 0.32297\n",
      "└ @ Main In[15]:29\n",
      "┌ Info: Elapsed time:\n",
      "│   elapsedmin = 0.32062\n",
      "└ @ Main In[15]:29\n",
      "┌ Info: Elapsed time:\n",
      "│   elapsedmin = 0.32278\n",
      "└ @ Main In[15]:29\n",
      "┌ Info: Elapsed time:\n",
      "│   elapsedmin = 0.32925\n",
      "└ @ Main In[15]:29\n",
      "┌ Info: Elapsed time:\n",
      "│   elapsedmin = 0.3247\n",
      "└ @ Main In[15]:29\n",
      "┌ Info: Elapsed time:\n",
      "│   elapsedmin = 0.31555\n",
      "└ @ Main In[15]:29\n",
      "┌ Info: Elapsed time:\n",
      "│   elapsedmin = 0.31408\n",
      "└ @ Main In[15]:29\n",
      "┌ Info: 30\n",
      "└ @ Main In[15]:4\n",
      "┌ Info: Elapsed time:\n",
      "│   elapsedmin = 0.32777\n",
      "└ @ Main In[15]:29\n",
      "┌ Info: Elapsed time:\n",
      "│   elapsedmin = 0.33163\n",
      "└ @ Main In[15]:29\n",
      "┌ Info: Elapsed time:\n",
      "│   elapsedmin = 0.33347\n",
      "└ @ Main In[15]:29\n",
      "┌ Info: Elapsed time:\n",
      "│   elapsedmin = 0.32358\n",
      "└ @ Main In[15]:29\n",
      "┌ Info: Elapsed time:\n",
      "│   elapsedmin = 0.31877\n",
      "└ @ Main In[15]:29\n",
      "┌ Info: Elapsed time:\n",
      "│   elapsedmin = 0.31198\n",
      "└ @ Main In[15]:29\n",
      "┌ Info: Elapsed time:\n",
      "│   elapsedmin = 0.33298\n",
      "└ @ Main In[15]:29\n",
      "┌ Info: Elapsed time:\n",
      "│   elapsedmin = 0.32765\n",
      "└ @ Main In[15]:29\n",
      "┌ Info: Elapsed time:\n",
      "│   elapsedmin = 0.31872\n",
      "└ @ Main In[15]:29\n",
      "┌ Info: Elapsed time:\n",
      "│   elapsedmin = 0.32802\n",
      "└ @ Main In[15]:29\n",
      "┌ Info: 40\n",
      "└ @ Main In[15]:4\n",
      "┌ Info: Elapsed time:\n",
      "│   elapsedmin = 0.32758\n",
      "└ @ Main In[15]:29\n",
      "┌ Info: Elapsed time:\n",
      "│   elapsedmin = 0.3343\n",
      "└ @ Main In[15]:29\n",
      "┌ Info: Elapsed time:\n",
      "│   elapsedmin = 0.58062\n",
      "└ @ Main In[15]:29\n",
      "┌ Info: Elapsed time:\n",
      "│   elapsedmin = 0.56952\n",
      "└ @ Main In[15]:29\n",
      "┌ Info: Elapsed time:\n",
      "│   elapsedmin = 0.31348\n",
      "└ @ Main In[15]:29\n",
      "┌ Info: Elapsed time:\n",
      "│   elapsedmin = 0.32232\n",
      "└ @ Main In[15]:29\n",
      "┌ Info: Elapsed time:\n",
      "│   elapsedmin = 0.35968\n",
      "└ @ Main In[15]:29\n",
      "┌ Info: Elapsed time:\n",
      "│   elapsedmin = 0.36798\n",
      "└ @ Main In[15]:29\n",
      "┌ Info: Elapsed time:\n",
      "│   elapsedmin = 0.65418\n",
      "└ @ Main In[15]:29\n",
      "┌ Info: Elapsed time:\n",
      "│   elapsedmin = 0.3348\n",
      "└ @ Main In[15]:29\n",
      "┌ Info: 50\n",
      "└ @ Main In[15]:4\n",
      "┌ Info: Elapsed time:\n",
      "│   elapsedmin = 0.31943\n",
      "└ @ Main In[15]:29\n",
      "┌ Info: Elapsed time:\n",
      "│   elapsedmin = 0.54373\n",
      "└ @ Main In[15]:29\n",
      "┌ Info: Elapsed time:\n",
      "│   elapsedmin = 0.34248\n",
      "└ @ Main In[15]:29\n",
      "┌ Info: Elapsed time:\n",
      "│   elapsedmin = 0.34553\n",
      "└ @ Main In[15]:29\n",
      "┌ Info: Elapsed time:\n",
      "│   elapsedmin = 0.33935\n",
      "└ @ Main In[15]:29\n",
      "┌ Info: Elapsed time:\n",
      "│   elapsedmin = 0.36195\n",
      "└ @ Main In[15]:29\n",
      "┌ Info: Elapsed time:\n",
      "│   elapsedmin = 0.56278\n",
      "└ @ Main In[15]:29\n",
      "┌ Info: Elapsed time:\n",
      "│   elapsedmin = 0.94152\n",
      "└ @ Main In[15]:29\n",
      "┌ Info: Elapsed time:\n",
      "│   elapsedmin = 0.6825\n",
      "└ @ Main In[15]:29\n",
      "┌ Info: Elapsed time:\n",
      "│   elapsedmin = 0.74538\n",
      "└ @ Main In[15]:29\n",
      "┌ Info: 60\n",
      "└ @ Main In[15]:4\n",
      "┌ Info: Elapsed time:\n",
      "│   elapsedmin = 0.85168\n",
      "└ @ Main In[15]:29\n",
      "┌ Info: Elapsed time:\n",
      "│   elapsedmin = 0.69797\n",
      "└ @ Main In[15]:29\n",
      "┌ Info: Elapsed time:\n",
      "│   elapsedmin = 0.82767\n",
      "└ @ Main In[15]:29\n",
      "┌ Info: Elapsed time:\n",
      "│   elapsedmin = 1.04288\n",
      "└ @ Main In[15]:29\n",
      "┌ Info: Elapsed time:\n",
      "│   elapsedmin = 0.78137\n",
      "└ @ Main In[15]:29\n",
      "┌ Info: Elapsed time:\n",
      "│   elapsedmin = 0.62925\n",
      "└ @ Main In[15]:29\n",
      "┌ Info: Elapsed time:\n",
      "│   elapsedmin = 0.66162\n",
      "└ @ Main In[15]:29\n",
      "┌ Info: Elapsed time:\n",
      "│   elapsedmin = 0.66062\n",
      "└ @ Main In[15]:29\n",
      "┌ Info: Elapsed time:\n",
      "│   elapsedmin = 0.6581\n",
      "└ @ Main In[15]:29\n",
      "┌ Info: Elapsed time:\n",
      "│   elapsedmin = 0.66713\n",
      "└ @ Main In[15]:29\n",
      "┌ Info: 70\n",
      "└ @ Main In[15]:4\n",
      "┌ Info: Elapsed time:\n",
      "│   elapsedmin = 0.65588\n",
      "└ @ Main In[15]:29\n",
      "┌ Info: Elapsed time:\n",
      "│   elapsedmin = 0.64995\n",
      "└ @ Main In[15]:29\n",
      "┌ Info: Elapsed time:\n",
      "│   elapsedmin = 0.4979\n",
      "└ @ Main In[15]:29\n",
      "┌ Info: Elapsed time:\n",
      "│   elapsedmin = 0.31547\n",
      "└ @ Main In[15]:29\n",
      "┌ Info: Elapsed time:\n",
      "│   elapsedmin = 0.32245\n",
      "└ @ Main In[15]:29\n",
      "┌ Info: Elapsed time:\n",
      "│   elapsedmin = 0.33007\n",
      "└ @ Main In[15]:29\n",
      "┌ Info: Elapsed time:\n",
      "│   elapsedmin = 0.33303\n",
      "└ @ Main In[15]:29\n",
      "┌ Info: Elapsed time:\n",
      "│   elapsedmin = 0.32833\n",
      "└ @ Main In[15]:29\n",
      "┌ Info: Elapsed time:\n",
      "│   elapsedmin = 0.33833\n",
      "└ @ Main In[15]:29\n",
      "┌ Info: Elapsed time:\n",
      "│   elapsedmin = 0.3348\n",
      "└ @ Main In[15]:29\n",
      "┌ Info: 80\n",
      "└ @ Main In[15]:4\n",
      "┌ Info: Elapsed time:\n",
      "│   elapsedmin = 0.32422\n",
      "└ @ Main In[15]:29\n",
      "┌ Info: Elapsed time:\n",
      "│   elapsedmin = 0.30353\n",
      "└ @ Main In[15]:29\n",
      "┌ Info: Elapsed time:\n",
      "│   elapsedmin = 0.32478\n",
      "└ @ Main In[15]:29\n"
     ]
    }
   ],
   "source": [
    "for i in 1:n_test\n",
    "    global error_abs, error_sq, nlpd, count_test\n",
    "    before = Dates.now()\n",
    "    mod(i, 10) == 0 ? (@info i) : nothing\n",
    "    # @info \"i\" i\n",
    "    x_test_i = reshape(x_test[i, :], 1, length(posx))\n",
    "    Fx_test_i = reshape(Fx_test[i, :], 1, length(posc))\n",
    "    try\n",
    "        pdf_test_i, cdf_test_i, dpdf_test_i, quantbound_test_i, support_test_i = pre_process(x_test_i, Fx_test_i, pdf0_raw, cdf0_raw, dpdf0_raw, quantInfo0_raw)\n",
    "        y_test_i_true = y_test_true[i]\n",
    "        median_test_i = ymax_train * quantile(cdf_test_i, quantbound_test_i, support_test_i)[1]\n",
    "        # @info \"True, median \" y_test_i_true, median_test_i\n",
    "        try \n",
    "            CI_test_i = ymax_train .* credible_interval(cdf_test_i, quantbound_test_i, support_test_i; mode=:equal, wp=.95)[1]\n",
    "            count_test += (y_test_i_true >= CI_test_i[1])&&(y_test_i_true <= CI_test_i[2]) ? 1 : 0\n",
    "            # @info \"CI\" CI_test_i\n",
    "        catch err\n",
    "            append!(id_fail, i)\n",
    "        end\n",
    "        error_abs += abs(y_test_i_true - median_test_i)\n",
    "        error_sq += (y_test_i_true - median_test_i)^2\n",
    "        nlpd += log(pdf_test_i(y_test_i_true)) \n",
    "    # @info \"Count, id_fail\" count_test, id_fail\n",
    "    catch err \n",
    "        append!(id_nonproper, i)\n",
    "    end\n",
    "    after = Dates.now()\n",
    "    elapsedmin = round(((after - before) / Millisecond(1000))/60, digits=5)\n",
    "    @info \"Elapsed time:\" elapsedmin\n",
    "end"
   ]
  },
  {
   "cell_type": "code",
   "execution_count": 16,
   "metadata": {
    "scrolled": true
   },
   "outputs": [
    {
     "data": {
      "text/plain": [
       "80.55491326322891"
      ]
     },
     "execution_count": 16,
     "metadata": {},
     "output_type": "execute_result"
    }
   ],
   "source": [
    "count_test /= n_test - length(id_fail)\n",
    "error_abs  /= n_test\n",
    "error_sq   /= n_test\n",
    "nlpd       /= -n_test"
   ]
  },
  {
   "cell_type": "code",
   "execution_count": 17,
   "metadata": {},
   "outputs": [
    {
     "data": {
      "text/plain": [
       "6.6271409350295825"
      ]
     },
     "execution_count": 17,
     "metadata": {},
     "output_type": "execute_result"
    }
   ],
   "source": [
    "error_sq"
   ]
  },
  {
   "cell_type": "code",
   "execution_count": 18,
   "metadata": {
    "scrolled": false
   },
   "outputs": [
    {
     "data": {
      "text/plain": [
       "1.837001061907537"
      ]
     },
     "execution_count": 18,
     "metadata": {},
     "output_type": "execute_result"
    }
   ],
   "source": [
    "error_abs"
   ]
  },
  {
   "cell_type": "code",
   "execution_count": 19,
   "metadata": {},
   "outputs": [
    {
     "data": {
      "text/plain": [
       "80.55491326322891"
      ]
     },
     "execution_count": 19,
     "metadata": {},
     "output_type": "execute_result"
    }
   ],
   "source": [
    "nlpd"
   ]
  },
  {
   "cell_type": "markdown",
   "metadata": {},
   "source": [
    "# Validation"
   ]
  },
  {
   "cell_type": "code",
   "execution_count": null,
   "metadata": {},
   "outputs": [],
   "source": [
    "function lootd(td::AbstractTrainingData, i::Int64)\n",
    "        x = getPosition(td)\n",
    "        Fx = getCovariates(td)\n",
    "        z = getLabel(td)\n",
    "        x_minus_i = x[[1:i-1;i+1:end], :]\n",
    "        Fx_minus_i = Fx[[1:i-1;i+1:end], :]\n",
    "        z_minus_i = z[[1:i-1;i+1:end]]\n",
    "        x_i = x[i:i, :]\n",
    "        Fx_i = Fx[i:i, :]\n",
    "        z_i = z[i:i, :]\n",
    "        return trainingData(x_minus_i, Fx_minus_i, z_minus_i), x_i, Fx_i, z_i\n",
    "end"
   ]
  }
 ],
 "metadata": {
  "kernelspec": {
   "display_name": "Julia 1.4.1",
   "language": "julia",
   "name": "julia-1.4"
  },
  "language_info": {
   "file_extension": ".jl",
   "mimetype": "application/julia",
   "name": "julia",
   "version": "1.4.1"
  }
 },
 "nbformat": 4,
 "nbformat_minor": 4
}
