{
 "cells": [
  {
   "cell_type": "code",
   "execution_count": 1,
   "metadata": {},
   "outputs": [
    {
     "data": {
      "text/plain": [
       "credible_interval (generic function with 3 methods)"
      ]
     },
     "execution_count": 1,
     "metadata": {},
     "output_type": "execute_result"
    }
   ],
   "source": [
    "using Dates\n",
    "using ArgParse\n",
    "using Printf\n",
    "using Random\n",
    "using GaussianProcesses\n",
    "\n",
    "include(\"../btg.jl\")"
   ]
  },
  {
   "cell_type": "code",
   "execution_count": 2,
   "metadata": {
    "scrolled": false
   },
   "outputs": [],
   "source": [
    "# load creep data\n",
    "df = DataFrame(CSV.File(\"../datasets/creeprupt/taka\", header=0))\n",
    "data = convert(Matrix, df[:,[1; 3:end]])\n",
    "target = convert(Array, df[:, 2]);"
   ]
  },
  {
   "cell_type": "code",
   "execution_count": 3,
   "metadata": {},
   "outputs": [
    {
     "data": {
      "text/plain": [
       "30"
      ]
     },
     "execution_count": 3,
     "metadata": {},
     "output_type": "execute_result"
    }
   ],
   "source": [
    "# shuffle data\n",
    "ind_shuffle = randperm(MersenneTwister(1234), size(data, 1)) \n",
    "data = data[ind_shuffle, :]\n",
    "target = target[ind_shuffle]\n",
    "# training set\n",
    "id_train = 1:200; posx = 1:30; posc = 1:30; n_train = length(id_train)\n",
    "x = data[id_train, posx] \n",
    "Fx = data[id_train, posc] \n",
    "y = float(target[id_train])\n",
    "ymax_train = maximum(y)\n",
    "y ./= ymax_train\n",
    "trainingData0 = trainingData(x, Fx, y) #training data used for testing various functions\n",
    "d = getDimension(trainingData0); n = getNumPts(trainingData0); p = getCovDimension(trainingData0)"
   ]
  },
  {
   "cell_type": "code",
   "execution_count": 4,
   "metadata": {},
   "outputs": [
    {
     "data": {
      "text/plain": [
       "2-element Array{String,1}:\n",
       " \"QuasiMonteCarlo\"\n",
       " \"QuasiMonteCarlo\""
      ]
     },
     "execution_count": 4,
     "metadata": {},
     "output_type": "execute_result"
    }
   ],
   "source": [
    "#parameter setting\n",
    "rangeθ = [0.125 1000]\n",
    "rangeθm = repeat(rangeθ, d, 1)\n",
    "rangeλ = [-1.5 1.] #we will always used 1 range scale for lambda\n",
    "myquadtype = [\"QuasiMonteCarlo\", \"QuasiMonteCarlo\"]"
   ]
  },
  {
   "cell_type": "code",
   "execution_count": 5,
   "metadata": {},
   "outputs": [
    {
     "ename": "UndefVarError",
     "evalue": "UndefVarError: m not defined",
     "output_type": "error",
     "traceback": [
      "UndefVarError: m not defined",
      "",
      "Stacktrace:",
      " [1] comp_tdist(::btg, ::Array{Float64,1}, ::Float64; validate::Int64) at /home/xz584/projects/btg/BayesTransformedGaussian/src/computation/tdist.jl:278",
      " [2] prediction_comp(::btg, ::Array{Float64,1}; validate::Int64) at /home/xz584/projects/btg/BayesTransformedGaussian/src/model0.jl:187",
      " [3] solve(::btg; validate::Int64) at /home/xz584/projects/btg/BayesTransformedGaussian/src/model0.jl:129",
      " [4] solve(::btg) at /home/xz584/projects/btg/BayesTransformedGaussian/src/model0.jl:122",
      " [5] top-level scope at In[5]:3"
     ]
    }
   ],
   "source": [
    "# build btg model\n",
    "btg0 = btg(trainingData0, rangeθm, rangeλ; quadtype = myquadtype)\n",
    "(pdf0_raw, cdf0_raw, dpdf0_raw, quantInfo0_raw) = solve(btg0); #initialize training_buffer_dicts, solve once so can use fast techiques to extrapolate submatrix determinants, etc."
   ]
  },
  {
   "cell_type": "code",
   "execution_count": 9,
   "metadata": {
    "scrolled": true
   },
   "outputs": [
    {
     "name": "stderr",
     "output_type": "stream",
     "text": [
      "┌ Info: 1.59388\n",
      "└ @ Main In[9]:40\n",
      "┌ Info: 1.40265\n",
      "└ @ Main In[9]:40\n",
      "┌ Info: 1.39662\n",
      "└ @ Main In[9]:40\n",
      "┌ Info: 1.39543\n",
      "└ @ Main In[9]:40\n",
      "┌ Info: 1.37568\n",
      "└ @ Main In[9]:40\n",
      "┌ Info: 1.38765\n",
      "└ @ Main In[9]:40\n",
      "┌ Info: 1.3929\n",
      "└ @ Main In[9]:40\n",
      "┌ Info: 1.39347\n",
      "└ @ Main In[9]:40\n",
      "┌ Info: 1.3954\n",
      "└ @ Main In[9]:40\n",
      "┌ Info: 1.40203\n",
      "└ @ Main In[9]:40\n"
     ]
    }
   ],
   "source": [
    "id_test = 801:805\n",
    "n_test = length(id_test)\n",
    "id_fail = []\n",
    "x_test = data[id_test, posx]\n",
    "Fx_test = data[id_test, posc]\n",
    "y_test_true = target[id_test]\n",
    "count_test = 0\n",
    "error_abs = 0.\n",
    "error_sq = 0.\n",
    "nlpd = 0.\n",
    "for i in 1:n_test\n",
    "    global error_abs, error_sq, nlpd, count_test\n",
    "    mod(i, 10) == 0 ? (@info i) : nothing\n",
    "    # @info \"i\" i\n",
    "    x_test_i = reshape(x_test[i, :], 1, length(posx))\n",
    "    Fx_test_i = reshape(Fx_test[i, :], 1, length(posc))\n",
    "    try\n",
    "        pdf_test_i, cdf_test_i, dpdf_test_i, quantbound_test_i, support_test_i = pre_process(x_test_i, Fx_test_i, pdf0_raw, cdf0_raw, dpdf0_raw, quantInfo0_raw)\n",
    "        y_test_i_true = y_test_true[i]\n",
    "        median_test_i = ymax_train * quantile(cdf_test_i, quantbound_test_i, support_test_i)[1]\n",
    "        try \n",
    "            CI_test_i = ymax_train .* credible_interval(cdf_test_i, quantbound_test_i, support_test_i; mode=:equal, wp=.95)[1]\n",
    "            count_test += (y_test_i_true >= CI_test_i[1])&&(y_test_i_true <= CI_test_i[2]) ? 1 : 0\n",
    "        catch err\n",
    "            append!(id_fail, i)\n",
    "        end\n",
    "        error_abs += abs(y_test_i_true - median_test_i)\n",
    "        error_sq += (y_test_i_true - median_test_i)^2\n",
    "        nlpd += log(pdf_test_i(y_test_i_true)) \n",
    "        # @info y_test_i_true, median_test_i\n",
    "        # @info error_abs, error_sq\n",
    "        # @info count_test, id_fail, id_nonproper\n",
    "    catch err \n",
    "        append!(id_nonproper, i)\n",
    "end"
   ]
  },
  {
   "cell_type": "code",
   "execution_count": 10,
   "metadata": {},
   "outputs": [
    {
     "name": "stderr",
     "output_type": "stream",
     "text": [
      "┌ Info: (29.359706866126107, 2006.5558046142717, 165.4093859385092, 0.9)\n",
      "└ @ Main In[10]:5\n"
     ]
    }
   ],
   "source": [
    "count_test /= n_test - length(id_fail)\n",
    "error_abs  /= n_test\n",
    "error_sq   /= n_test\n",
    "nlpd       /= -n_test\n",
    "@info error_abs, error_sq, nlpd, count_test"
   ]
  },
  {
   "cell_type": "markdown",
   "metadata": {},
   "source": [
    "# GP"
   ]
  },
  {
   "cell_type": "code",
   "execution_count": 11,
   "metadata": {},
   "outputs": [
    {
     "data": {
      "text/plain": [
       "6.521642240273723"
      ]
     },
     "execution_count": 11,
     "metadata": {},
     "output_type": "execute_result"
    }
   ],
   "source": [
    "# training set\n",
    "x = data[id_train, posx]' \n",
    "y = float(target[id_train])\n",
    "# build and fit a GP\n",
    "mymean = MeanZero(); kern = SE(zeros(d),0.0) \n",
    "gp = GP(x, y, mymean, kern) \n",
    "optimize!(gp)     \n",
    "# predict\n",
    "x_test = data[id_test, posx]'\n",
    "y_test_true = target[id_test]\n",
    "μ, σ² = predict_y(gp, x_test); stdv = sqrt.(σ²)\n",
    "error_GP = abs.(μ .- y_test_true)\n",
    "error_abs_GP = mean(error_GP)\n",
    "error_sq_GP = mean(error_GP.^2)\n",
    "CI_test_GP = hcat(-1.96.*stdv .+ μ, 1.96.*stdv .+ μ)\n",
    "count_test_GP = sum((y_test_true .>= CI_test_GP[:, 1]) .* (y_test_true .<= CI_test_GP[:,2]))/n_test\n",
    "nlpd_GP = -mean(log.(pdf.(Normal(), (y_test_true.-μ)./stdv)./stdv))"
   ]
  },
  {
   "cell_type": "code",
   "execution_count": 12,
   "metadata": {
    "scrolled": false
   },
   "outputs": [
    {
     "name": "stderr",
     "output_type": "stream",
     "text": [
      "┌ Info: (137.5, 26416.9, 6.521642240273723, 1.0)\n",
      "└ @ Main In[12]:1\n"
     ]
    }
   ],
   "source": [
    "@info error_abs_GP, error_sq_GP, nlpd_GP, count_test_GP"
   ]
  },
  {
   "cell_type": "markdown",
   "metadata": {},
   "source": [
    "# log GP"
   ]
  },
  {
   "cell_type": "code",
   "execution_count": 15,
   "metadata": {},
   "outputs": [
    {
     "data": {
      "text/plain": [
       "800-element Array{Float64,1}:\n",
       " 4.584967478670572\n",
       " 4.770684624465665\n",
       " 4.219507705176107\n",
       " 4.795790545596741\n",
       " 4.584967478670572\n",
       " 5.3706380281276624\n",
       " 5.459585514144159\n",
       " 4.584967478670572\n",
       " 4.584967478670572\n",
       " 5.375278407684165\n",
       " 5.0106352940962555\n",
       " 4.356708826689592\n",
       " 5.056245805348308\n",
       " ⋮\n",
       " 3.6109179126442243\n",
       " 5.808142489980444\n",
       " 4.605170185988092\n",
       " 5.921578419643816\n",
       " 4.465908118654584\n",
       " 5.645446897643238\n",
       " 3.367295829986474\n",
       " 4.919980925828125\n",
       " 5.521460917862246\n",
       " 5.075173815233827\n",
       " 4.110873864173311\n",
       " 5.459585514144159"
      ]
     },
     "execution_count": 15,
     "metadata": {},
     "output_type": "execute_result"
    }
   ],
   "source": [
    "x = data[id_train, posx]' \n",
    "y = float(target[id_train])\n",
    "trans = BoxCox()\n",
    "g_fixed(x) = trans(x, 0.); dg(x) = partialx(trans, x, 0.)\n",
    "invg(x) = inverse(trans, x, 0.)\n",
    "gy = g_fixed.(y) "
   ]
  },
  {
   "cell_type": "code",
   "execution_count": null,
   "metadata": {},
   "outputs": [],
   "source": [
    "# build and fit a GP\n",
    "mymean = MeanZero(); kern = SE(zeros(d),0.0) \n",
    "loggp = GP(x, gy, mymean, kern) \n",
    "optimize!(loggp) "
   ]
  },
  {
   "cell_type": "code",
   "execution_count": null,
   "metadata": {},
   "outputs": [],
   "source": [
    "# predict\n",
    "x_test = data[id_test, posx]'\n",
    "y_test_true = target[id_test]\n",
    "μ, σ² = predict_y(loggp, x_test); stdv = sqrt.(σ²)\n",
    "CI_test_logGP = invg.(hcat(-1.96.*stdv .+ μ, 1.96.*stdv .+ μ))\n",
    "count_test_logGP = sum((y_test_true .>= CI_test_logGP[:, 1]) .* (y_test_true .<= CI_test_logGP[:,2]))/n_test\n",
    "y_pred = invg.(μ)\n",
    "error_logGP = abs.(y_pred .- y_test_true)\n",
    "error_abs_logGP = mean(error_logGP)\n",
    "error_sq_logGP = mean(error_logGP.^2)\n",
    "nlpd_logGP = -mean(log.( dg.(y_test_true) .* pdf.(Normal(), (g_fixed.(y_test_true).-μ)./stdv) ./stdv ))"
   ]
  },
  {
   "cell_type": "code",
   "execution_count": null,
   "metadata": {},
   "outputs": [],
   "source": []
  },
  {
   "cell_type": "code",
   "execution_count": null,
   "metadata": {},
   "outputs": [],
   "source": []
  },
  {
   "cell_type": "code",
   "execution_count": null,
   "metadata": {},
   "outputs": [],
   "source": []
  },
  {
   "cell_type": "code",
   "execution_count": 14,
   "metadata": {
    "scrolled": false
   },
   "outputs": [
    {
     "ename": "UndefVarError",
     "evalue": "UndefVarError: error_abs_logGP not defined",
     "output_type": "error",
     "traceback": [
      "UndefVarError: error_abs_logGP not defined",
      "",
      "Stacktrace:",
      " [1] top-level scope at logging.jl:322",
      " [2] top-level scope at In[14]:1"
     ]
    }
   ],
   "source": [
    "@info error_abs_logGP, error_sq_logGP, nlpd_logGP, count_test_logGP"
   ]
  },
  {
   "cell_type": "code",
   "execution_count": null,
   "metadata": {},
   "outputs": [],
   "source": []
  },
  {
   "cell_type": "code",
   "execution_count": null,
   "metadata": {},
   "outputs": [],
   "source": []
  }
 ],
 "metadata": {
  "kernelspec": {
   "display_name": "Julia 1.4.1",
   "language": "julia",
   "name": "julia-1.4"
  },
  "language_info": {
   "file_extension": ".jl",
   "mimetype": "application/julia",
   "name": "julia",
   "version": "1.4.1"
  }
 },
 "nbformat": 4,
 "nbformat_minor": 4
}
