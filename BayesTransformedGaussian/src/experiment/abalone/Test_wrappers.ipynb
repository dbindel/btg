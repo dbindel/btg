{
 "cells": [
  {
   "cell_type": "code",
   "execution_count": 1,
   "metadata": {},
   "outputs": [
    {
     "data": {
      "text/plain": [
       "print (generic function with 7 methods)"
      ]
     },
     "execution_count": 1,
     "metadata": {},
     "output_type": "execute_result"
    }
   ],
   "source": [
    "using Dates\n",
    "using ArgParse\n",
    "using Printf\n",
    "using Random\n",
    "using GaussianProcesses\n",
    "using Cubature\n",
    "include(\"../../btg.jl\")"
   ]
  },
  {
   "cell_type": "code",
   "execution_count": 2,
   "metadata": {
    "scrolled": true
   },
   "outputs": [
    {
     "data": {
      "text/plain": [
       "22.0"
      ]
     },
     "execution_count": 2,
     "metadata": {},
     "output_type": "execute_result"
    }
   ],
   "source": [
    "#########################\n",
    "# initialize training set\n",
    "#########################\n",
    "# args here: ntrain, posc, yshift, are part of data process, no need to put into BTG options\n",
    "# so keep them here \n",
    "\n",
    "df = DataFrame(CSV.File(\"../../datasets/abalone.csv\", header = 0))\n",
    "data = convert(Matrix, df[:,2:8]) #length, diameter, height, whole weight, shucked weight, viscera weight, shell weight\n",
    "target = convert(Array, df[:, 9]) #age\n",
    "ntrain_size = 1000\n",
    "feature_size = 7\n",
    "# shuffle data\n",
    "randseed = 1234; rng = MersenneTwister(randseed)\n",
    "ind_shuffle = randperm(rng, size(data, 1)) \n",
    "data = data[ind_shuffle, :]\n",
    "target = target[ind_shuffle];\n",
    "id_train = 1:100\n",
    "n_train = length(id_train)\n",
    "posx = 1:feature_size\n",
    "x = data[id_train, posx]\n",
    "\n",
    "posc = 3\n",
    "posc = 1:posc\n",
    "Fx = data[id_train, posc] \n",
    "\n",
    "y = float(target[id_train])\n",
    "trainingData0 = trainingData(x, Fx, y) \n",
    "d = getDimension(trainingData0); n = getNumPts(trainingData0); p = getCovDimension(trainingData0)\n",
    "ymax = trainingData0.ymax"
   ]
  },
  {
   "cell_type": "code",
   "execution_count": 3,
   "metadata": {
    "scrolled": false
   },
   "outputs": [
    {
     "data": {
      "text/plain": [
       "1×2 Array{Float64,2}:\n",
       " 100.0  2000.0"
      ]
     },
     "execution_count": 3,
     "metadata": {},
     "output_type": "execute_result"
    }
   ],
   "source": [
    "rangeλ = reshape(convert(Array{Float64, 1}, [-1, 2]), 1, 2)\n",
    "rangeθ = reshape(convert(Array{Float64, 1}, [100, 2000]), 1, 2)\n",
    "# rangeθm = repeat(rangeθ, 7, 1)"
   ]
  },
  {
   "cell_type": "code",
   "execution_count": 4,
   "metadata": {
    "scrolled": false
   },
   "outputs": [
    {
     "data": {
      "text/plain": [
       "Options(\"BoxCox\", \"Gaussian\", Dict(\"λ\" => \"Gaussian\",\"θ\" => \"Gaussian\"), Dict(\"Gaussian\" => 12,\"MonteCarlo\" => 400), Dict(\"λ\" => [-1.0 2.0],\"θ\" => [100.0 2000.0]), Dict{String,priorType}(\"λ\" => Uniform(Real[-1.0 2.0], 1, Real[3.0]),\"θ\" => inverseUniform([100.0 2000.0], 1, Real[1900.0])), 1, 0.95)"
      ]
     },
     "execution_count": 4,
     "metadata": {},
     "output_type": "execute_result"
    }
   ],
   "source": [
    "options = Options(rangeθ, rangeλ, trainingData0, 1)"
   ]
  },
  {
   "cell_type": "code",
   "execution_count": 5,
   "metadata": {
    "scrolled": true
   },
   "outputs": [
    {
     "name": "stdout",
     "output_type": "stream",
     "text": [
      "  7.043697 seconds (22.30 M allocations: 1.087 GiB, 10.72% gc time)\n",
      "\n",
      "\n",
      "=============== BTG OPTIONS =============== \n",
      "   transform type:       BoxCox\n",
      "   Kernel type:          Gaussian\n",
      "   quadrature type:      Dict(\"λ\" => \"Gaussian\",\"θ\" => \"Gaussian\")\n",
      "   quadrature size:      Dict(\"Gaussian\" => 12,\"MonteCarlo\" => 400)\n",
      "   Confidence level:     0.95\n",
      "   Parameter range:      \n",
      "                         λ: [-1.0 2.0]\n",
      "                         θ: [100.0 2000.0]\n",
      "   Parameter prior:      \n",
      "                         λ: Uniform(Real[-1.0 2.0], 1, Real[3.0])\n",
      "                         θ: inverseUniform([100.0 2000.0], 1, Real[1900.0])\n"
     ]
    }
   ],
   "source": [
    "@time btg0 = btg(trainingData0, options);\n",
    "print(btg0.options)"
   ]
  },
  {
   "cell_type": "code",
   "execution_count": 6,
   "metadata": {
    "scrolled": false
   },
   "outputs": [
    {
     "data": {
      "text/plain": [
       "5×1 Array{Float64,2}:\n",
       " 10.0\n",
       "  7.0\n",
       " 11.0\n",
       "  8.0\n",
       " 21.0"
      ]
     },
     "execution_count": 6,
     "metadata": {},
     "output_type": "execute_result"
    }
   ],
   "source": [
    "##################################################\n",
    "# process test data \n",
    "##################################################\n",
    "ntrain_size = 800\n",
    "ntest = 5\n",
    "id_test = (ntrain_size+1) :(ntest+ntrain_size)\n",
    "n_test = length(id_test)\n",
    "x_test = data[id_test, posx]; # n*d\n",
    "posc = 1:3\n",
    "Fx_test = data[id_test, posc] \n",
    "y_test_true = reshape(float(target[id_test]), ntest, 1)"
   ]
  },
  {
   "cell_type": "code",
   "execution_count": 7,
   "metadata": {
    "scrolled": false
   },
   "outputs": [
    {
     "data": {
      "text/plain": [
       "12×12 Array{Float64,2}:\n",
       " 3.54944e-16  4.34664e-15  8.41411e-14  …  5.37718e-19  1.84734e-20\n",
       " 9.57546e-8   1.08355e-6   1.66977e-5      4.85962e-15  8.55911e-17\n",
       " 0.000505632  0.005001     0.0549122       1.59434e-16  1.43439e-18\n",
       " 0.000260594  0.00216993   0.0166898       2.38741e-20  1.47063e-22\n",
       " 4.88929e-6   3.49436e-5   0.000202844     5.10515e-24  2.63774e-26\n",
       " 6.55111e-8   4.19123e-7   2.00731e-6   …  6.22002e-27  2.96262e-29\n",
       " 1.4916e-9    8.85614e-9   3.74152e-8      3.74833e-29  1.71554e-31\n",
       " 6.80989e-11  3.84605e-10  1.49669e-9      7.86005e-31  3.52226e-33\n",
       " 5.98643e-12  3.26878e-11  1.20437e-10     4.27542e-32  1.89293e-34\n",
       " 9.08628e-13  4.85105e-12  1.72396e-11     4.79554e-33  2.10792e-35\n",
       " 2.05277e-13  1.0806e-12   3.75473e-12  …  9.01802e-34  3.94707e-36\n",
       " 5.05663e-14  2.64235e-13  9.07451e-13     2.0221e-34   8.83142e-37"
      ]
     },
     "metadata": {},
     "output_type": "display_data"
    },
    {
     "name": "stdout",
     "output_type": "stream",
     "text": [
      "\n",
      " weightsTensorGrid\n",
      " 12.410278 seconds (40.68 M allocations: 1.907 GiB, 5.42% gc time)\n"
     ]
    }
   ],
   "source": [
    "# @time predict = btgPredict(x_test, Fx_test, btg0; y_true = y_test_true);\n",
    "@time predict = btgPredict(x_test, Fx_test, btg0; y_true = y_test_true);"
   ]
  },
  {
   "cell_type": "code",
   "execution_count": 8,
   "metadata": {
    "scrolled": false
   },
   "outputs": [
    {
     "data": {
      "text/plain": [
       "testingData([0.675 0.51 … 0.3175 0.3965; 0.34 0.25 … 0.0405 0.05; … ; 0.46 0.35 … 0.077 0.123; 0.68 0.55 … 0.4075 0.585], [0.675 0.51 0.195; 0.34 0.25 0.075; … ; 0.46 0.35 0.1; 0.68 0.55 0.2], [10.0; 7.0; … ; 8.0; 21.0], 7, 3, 5)"
      ]
     },
     "execution_count": 8,
     "metadata": {},
     "output_type": "execute_result"
    }
   ],
   "source": [
    "predict.testingdata"
   ]
  },
  {
   "cell_type": "code",
   "execution_count": 9,
   "metadata": {
    "scrolled": false
   },
   "outputs": [
    {
     "data": {
      "text/plain": [
       "5-element Array{Real,1}:\n",
       "  9.121171329404955\n",
       "  6.816050410640659\n",
       "  9.451162968569534\n",
       "  7.253598463820227\n",
       " 10.211018903131869"
      ]
     },
     "execution_count": 9,
     "metadata": {},
     "output_type": "execute_result"
    }
   ],
   "source": [
    "predict.median"
   ]
  },
  {
   "cell_type": "code",
   "execution_count": 10,
   "metadata": {
    "scrolled": true
   },
   "outputs": [
    {
     "data": {
      "text/plain": [
       "5-element Array{Array,1}:\n",
       " Real[4.8403041369058855, 18.96200130204881]\n",
       " Real[5.795380873543383, 8.105537406676829]\n",
       " Real[6.944307586036174, 13.094156687117545]\n",
       " Real[4.707373191995036, 11.657694503618272]\n",
       " Real[4.48646918103099, 28.091019083353377]"
      ]
     },
     "execution_count": 10,
     "metadata": {},
     "output_type": "execute_result"
    }
   ],
   "source": [
    "predict.credible_intervel"
   ]
  },
  {
   "cell_type": "code",
   "execution_count": 11,
   "metadata": {
    "scrolled": true
   },
   "outputs": [
    {
     "data": {
      "text/plain": [
       "5-element Array{Real,1}:\n",
       "  0.8788286705950448\n",
       "  0.18394958935934103\n",
       "  1.548837031430466\n",
       "  0.7464015361797731\n",
       " 10.788981096868131"
      ]
     },
     "execution_count": 11,
     "metadata": {},
     "output_type": "execute_result"
    }
   ],
   "source": [
    "predict.absolute_error"
   ]
  },
  {
   "cell_type": "code",
   "execution_count": 12,
   "metadata": {},
   "outputs": [
    {
     "data": {
      "text/plain": [
       "5-element Array{Real,1}:\n",
       " -0.8938289428414969\n",
       " -2.6529760490608183\n",
       " -1.1364793759317373\n",
       " -1.4632551864651913\n",
       "  1.3694100840637113"
      ]
     },
     "execution_count": 12,
     "metadata": {},
     "output_type": "execute_result"
    }
   ],
   "source": [
    "predict.negative_log_pred_density"
   ]
  },
  {
   "cell_type": "code",
   "execution_count": 13,
   "metadata": {
    "scrolled": false
   },
   "outputs": [
    {
     "data": {
      "text/plain": [
       "Dict{String,Float64} with 5 entries:\n",
       "  \"time_median\"     => 1.10179\n",
       "  \"time_total\"      => 8.53491\n",
       "  \"time_eval\"       => 0.0164432\n",
       "  \"time_preprocess\" => 5.32105\n",
       "  \"time_CI\"         => 1.90396"
      ]
     },
     "execution_count": 13,
     "metadata": {},
     "output_type": "execute_result"
    }
   ],
   "source": [
    "predict.time_cost"
   ]
  },
  {
   "cell_type": "code",
   "execution_count": 14,
   "metadata": {
    "scrolled": false
   },
   "outputs": [
    {
     "data": {
      "text/plain": [
       "2.829399584886551"
      ]
     },
     "execution_count": 14,
     "metadata": {},
     "output_type": "execute_result"
    }
   ],
   "source": [
    "predict.mean_abs_err"
   ]
  },
  {
   "cell_type": "code",
   "execution_count": 15,
   "metadata": {
    "scrolled": true
   },
   "outputs": [
    {
     "data": {
      "text/plain": [
       "24.03286035908101"
      ]
     },
     "execution_count": 15,
     "metadata": {},
     "output_type": "execute_result"
    }
   ],
   "source": [
    "predict.mean_sq_err"
   ]
  },
  {
   "cell_type": "code",
   "execution_count": 16,
   "metadata": {
    "scrolled": true
   },
   "outputs": [],
   "source": [
    "P = predict;"
   ]
  },
  {
   "cell_type": "code",
   "execution_count": 17,
   "metadata": {
    "scrolled": false
   },
   "outputs": [
    {
     "data": {
      "text/plain": [
       "(::var\"#pdf_fixed#298\"{Array{Float64,2},Array{Float64,2},var\"#140#159\"{btg,Array{Float64,2},Array{Float64,2},var\"#evalgrid_pdf!#149\"{Array{Function,2},SubArray{Float64,2,Array{Float64,2},Tuple{UnitRange{Int64},UnitRange{Int64}},false},var\"#evalgrid!#147\"},var\"#checkInput#156\"}}) (generic function with 1 method)"
      ]
     },
     "execution_count": 17,
     "metadata": {},
     "output_type": "execute_result"
    }
   ],
   "source": [
    "f1 = P.pdf[1]"
   ]
  },
  {
   "cell_type": "code",
   "execution_count": 18,
   "metadata": {
    "scrolled": true
   },
   "outputs": [
    {
     "data": {
      "text/plain": [
       "0.01:0.013030303030303031:1.3"
      ]
     },
     "execution_count": 18,
     "metadata": {},
     "output_type": "execute_result"
    }
   ],
   "source": [
    "xgrid = range(.01, stop=1.3, length=100)"
   ]
  },
  {
   "cell_type": "code",
   "execution_count": null,
   "metadata": {},
   "outputs": [],
   "source": [
    "plot()"
   ]
  }
 ],
 "metadata": {
  "kernelspec": {
   "display_name": "Julia 1.4.1",
   "language": "julia",
   "name": "julia-1.4"
  },
  "language_info": {
   "file_extension": ".jl",
   "mimetype": "application/julia",
   "name": "julia",
   "version": "1.4.1"
  }
 },
 "nbformat": 4,
 "nbformat_minor": 4
}
