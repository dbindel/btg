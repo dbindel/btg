{
 "cells": [
  {
   "cell_type": "code",
   "execution_count": 1,
   "metadata": {},
   "outputs": [
    {
     "name": "stderr",
     "output_type": "stream",
     "text": [
      "┌ Info: (\"range\", [0.0002063336748407222 1.6649562414646606])\n",
      "└ @ Main /home/xz584/projects/btg/BayesTransformedGaussian/src/range_selector.jl:32\n"
     ]
    },
    {
     "data": {
      "text/plain": [
       "credible_interval (generic function with 3 methods)"
      ]
     },
     "execution_count": 1,
     "metadata": {},
     "output_type": "execute_result"
    }
   ],
   "source": [
    "using Dates\n",
    "using ArgParse\n",
    "using Printf\n",
    "using Random\n",
    "using GaussianProcesses\n",
    "\n",
    "# before_all = Dates.now()\n",
    "\n",
    "include(\"../btg.jl\")"
   ]
  },
  {
   "cell_type": "code",
   "execution_count": 9,
   "metadata": {},
   "outputs": [
    {
     "data": {
      "text/plain": [
       "unpack (generic function with 11 methods)"
      ]
     },
     "execution_count": 9,
     "metadata": {},
     "output_type": "execute_result"
    }
   ],
   "source": [
    "function lootd(td::AbstractTrainingData, i::Int64)\n",
    "    x = getPosition(td)\n",
    "    Fx = getCovariates(td)\n",
    "    z = getLabel(td)\n",
    "    x_minus_i = x[[1:i-1;i+1:end], :]\n",
    "    Fx_minus_i = Fx[[1:i-1;i+1:end], :]\n",
    "    z_minus_i = z[[1:i-1;i+1:end]]\n",
    "    x_i = x[i:i, :]\n",
    "    Fx_i = Fx[i:i, :]\n",
    "    z_i = z[i:i, :]\n",
    "    return trainingData(x_minus_i, Fx_minus_i, z_minus_i), x_i, Fx_i, z_i\n",
    "end\n",
    "\n",
    "mutable struct validation_plot_buffer\n",
    "    ygrid::Array{Float64, 1}\n",
    "    median::Float64\n",
    "    CI::Array{Float64, 1}\n",
    "    pdf_ytrue::Float64\n",
    "    pdf_median_i::Float64\n",
    "    pdf_CI::Array{Float64, 1}\n",
    "    function validation_plot_buffer(ygrid_i, median_i, CI_i, pdf_ytrue_i, pdf_median_i, pdf_CI_i)\n",
    "        return new(ygrid_i, median_i, CI_i, pdf_ytrue_i, pdf_median_i, pdf_CI_i)\n",
    "    end\n",
    "end\n",
    "\n",
    "function unpack(a::validation_plot_buffer) \n",
    "    return (a.ygrid, a.median, a.CI, a.pdf_ytrue, a.pdf_median_i, a.pdf_CI)\n",
    "end"
   ]
  },
  {
   "cell_type": "code",
   "execution_count": 2,
   "metadata": {},
   "outputs": [],
   "source": [
    "df = DataFrame(CSV.File(\"../datasets/abalone.csv\"))\n",
    "data = convert(Matrix, df[:,2:8]) #length, diameter, height, whole weight, shucked weight, viscera weight, shell weight\n",
    "target = convert(Array, df[:, 9]) #age\n",
    "# shuffle data\n",
    "randseed = 1234; rng = MersenneTwister(randseed)\n",
    "ind_shuffle = randperm(rng, size(data, 1)) \n",
    "data = data[ind_shuffle, :]\n",
    "target = target[ind_shuffle];"
   ]
  },
  {
   "cell_type": "code",
   "execution_count": 4,
   "metadata": {},
   "outputs": [
    {
     "data": {
      "text/plain": [
       "7"
      ]
     },
     "execution_count": 4,
     "metadata": {},
     "output_type": "execute_result"
    }
   ],
   "source": [
    "id_train = 1:1000; \n",
    "posx = 1:7; posc = 1:7\n",
    "n_train = length(id_train)\n",
    "x = data[id_train, posx] \n",
    "Fx = data[id_train, posc] \n",
    "y = float(target[id_train])\n",
    "ymax_train = maximum(y)\n",
    "y ./= ymax_train\n",
    "trainingData0 = trainingData(x, Fx, y) \n",
    "d = getDimension(trainingData0); n = getNumPts(trainingData0); \n",
    "p = getCovDimension(trainingData0)"
   ]
  },
  {
   "cell_type": "code",
   "execution_count": 6,
   "metadata": {},
   "outputs": [
    {
     "name": "stderr",
     "output_type": "stream",
     "text": [
      "┌ Info: (\"derivatives\", false)\n",
      "└ @ Main /home/xz584/projects/btg/BayesTransformedGaussian/src/model0.jl:135\n"
     ]
    }
   ],
   "source": [
    "rangeλ = [-1.5 1.] \n",
    "rangeθs = [500. 1000]\n",
    "rangeθm = repeat(rangeθs, d, 1)\n",
    "rangeθ = rangeθs\n",
    "myquadtype = [\"Gaussian\", \"Gaussian\"]\n",
    "# build btg model\n",
    "btg0 = btg(trainingData0, rangeθ, rangeλ; quadtype = myquadtype)\n",
    "(pdf0_raw, cdf0_raw, dpdf0_raw, quantInfo0_raw) = solve(btg0);"
   ]
  },
  {
   "cell_type": "code",
   "execution_count": 11,
   "metadata": {
    "scrolled": true
   },
   "outputs": [
    {
     "data": {
      "text/plain": [
       "0.044721359549995794"
      ]
     },
     "execution_count": 11,
     "metadata": {},
     "output_type": "execute_result"
    }
   ],
   "source": [
    "sqrt(1/(500))"
   ]
  },
  {
   "cell_type": "code",
   "execution_count": 12,
   "metadata": {},
   "outputs": [
    {
     "data": {
      "text/plain": [
       "0.03162277660168379"
      ]
     },
     "execution_count": 12,
     "metadata": {},
     "output_type": "execute_result"
    }
   ],
   "source": [
    "sqrt(1/(1000))"
   ]
  },
  {
   "cell_type": "code",
   "execution_count": null,
   "metadata": {},
   "outputs": [],
   "source": []
  },
  {
   "cell_type": "code",
   "execution_count": null,
   "metadata": {},
   "outputs": [],
   "source": []
  }
 ],
 "metadata": {
  "kernelspec": {
   "display_name": "Julia 1.4.1",
   "language": "julia",
   "name": "julia-1.4"
  },
  "language_info": {
   "file_extension": ".jl",
   "mimetype": "application/julia",
   "name": "julia",
   "version": "1.4.1"
  }
 },
 "nbformat": 4,
 "nbformat_minor": 4
}
