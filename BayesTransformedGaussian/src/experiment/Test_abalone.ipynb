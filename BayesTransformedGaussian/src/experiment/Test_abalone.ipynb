{
 "cells": [
  {
   "cell_type": "code",
   "execution_count": 38,
   "metadata": {
    "scrolled": true
   },
   "outputs": [
    {
     "data": {
      "text/plain": [
       "select_single_theta_range"
      ]
     },
     "execution_count": 38,
     "metadata": {},
     "output_type": "execute_result"
    }
   ],
   "source": [
    "using Dates\n",
    "using ArgParse\n",
    "using Printf\n",
    "using Random\n",
    "using GaussianProcesses\n",
    "\n",
    "include(\"../btg.jl\")\n",
    "include(\"../range_selector.jl\")"
   ]
  },
  {
   "cell_type": "code",
   "execution_count": 34,
   "metadata": {},
   "outputs": [
    {
     "data": {
      "text/plain": [
       "true"
      ]
     },
     "execution_count": 34,
     "metadata": {},
     "output_type": "execute_result"
    }
   ],
   "source": [
    "args_ntrain = 200\n",
    "arg_posc = 7\n",
    "arg_single = true"
   ]
  },
  {
   "cell_type": "code",
   "execution_count": 35,
   "metadata": {},
   "outputs": [
    {
     "data": {
      "text/plain": [
       "7"
      ]
     },
     "execution_count": 35,
     "metadata": {},
     "output_type": "execute_result"
    }
   ],
   "source": [
    "# load abalone data\n",
    "df = DataFrame(CSV.File(\"../datasets/abalone.csv\"))\n",
    "data = convert(Matrix, df[:,2:8]) #length, diameter, height, whole weight, shucked weight, viscera weight, shell weight\n",
    "target = convert(Array, df[:, 9]) #age\n",
    "# shuffle data\n",
    "randseed = 1234; rng = MersenneTwister(randseed)\n",
    "ind_shuffle = randperm(rng, size(data, 1)) \n",
    "data = data[ind_shuffle, :]\n",
    "target = target[ind_shuffle]\n",
    "# training set\n",
    "id_train = 1:args_ntrain; posx = 1:7; posc = 1:arg_posc\n",
    "n_train = length(id_train)\n",
    "x = data[id_train, posx] \n",
    "Fx = data[id_train, posc] \n",
    "y = float(target[id_train])\n",
    "ymax_train = maximum(y)\n",
    "y ./= ymax_train\n",
    "trainingData0 = trainingData(x, Fx, y) \n",
    "d = getDimension(trainingData0); n = getNumPts(trainingData0); p = getCovDimension(trainingData0)\n"
   ]
  },
  {
   "cell_type": "code",
   "execution_count": 36,
   "metadata": {
    "scrolled": false
   },
   "outputs": [
    {
     "name": "stderr",
     "output_type": "stream",
     "text": [
      "┌ Info: (\"derivatives\", false)\n",
      "└ @ Main /home/xz584/projects/btg/BayesTransformedGaussian/src/model0.jl:124\n"
     ]
    }
   ],
   "source": [
    "myquadtype = [\"Gaussian\", \"Gaussian\"]\n",
    "rangeλ = [-1.5 1.] \n",
    "rangeθs = [10. 1000]\n",
    "rangeθm = repeat(rangeθs, d, 1)\n",
    "rangeθ = arg_single ? rangeθs : rangeθm\n",
    "# build btg model\n",
    "btg0 = btg(trainingData0, rangeθ, rangeλ; quadtype = myquadtype)\n",
    "(pdf0_raw, cdf0_raw, dpdf0_raw, quantInfo0_raw) = solve(btg0);\n"
   ]
  },
  {
   "cell_type": "code",
   "execution_count": null,
   "metadata": {},
   "outputs": [],
   "source": []
  },
  {
   "cell_type": "code",
   "execution_count": 46,
   "metadata": {
    "scrolled": false
   },
   "outputs": [
    {
     "name": "stdout",
     "output_type": "stream",
     "text": [
      "Computed rangeθ: [1.6835344732142599 2.3669822564093868]\n"
     ]
    },
    {
     "name": "stderr",
     "output_type": "stream",
     "text": [
      "┌ Info: 10.94167125\n",
      "└ @ Main /home/xz584/projects/btg/BayesTransformedGaussian/src/range_selector.jl:12\n",
      "┌ Info: 8.450000000004287e-5\n",
      "└ @ Main /home/xz584/projects/btg/BayesTransformedGaussian/src/range_selector.jl:15\n",
      "┌ Info: Current θ\n",
      "│   θ_set[i] = 1.6835344732142599\n",
      "└ @ Main In[46]:7\n",
      "┌ Info: (false, false)\n",
      "└ @ Main In[46]:9\n",
      "┌ Info: Current θ\n",
      "│   θ_set[i] = 1.7594731157914962\n",
      "└ @ Main In[46]:7\n",
      "┌ Info: (false, false)\n",
      "└ @ Main In[46]:9\n",
      "┌ Info: Current θ\n",
      "│   θ_set[i] = 1.8354117583687326\n",
      "└ @ Main In[46]:7\n",
      "┌ Info: (false, false)\n",
      "└ @ Main In[46]:9\n",
      "┌ Info: Current θ\n",
      "│   θ_set[i] = 1.9113504009459688\n",
      "└ @ Main In[46]:7\n",
      "┌ Info: (false, false)\n",
      "└ @ Main In[46]:9\n",
      "┌ Info: Current θ\n",
      "│   θ_set[i] = 1.9872890435232051\n",
      "└ @ Main In[46]:7\n",
      "┌ Info: (false, false)\n",
      "└ @ Main In[46]:9\n",
      "┌ Info: Current θ\n",
      "│   θ_set[i] = 2.0632276861004413\n",
      "└ @ Main In[46]:7\n",
      "┌ Info: (false, false)\n",
      "└ @ Main In[46]:9\n",
      "┌ Info: Current θ\n",
      "│   θ_set[i] = 2.139166328677678\n",
      "└ @ Main In[46]:7\n",
      "┌ Info: (false, false)\n",
      "└ @ Main In[46]:9\n",
      "┌ Info: Current θ\n",
      "│   θ_set[i] = 2.215104971254914\n",
      "└ @ Main In[46]:7\n",
      "┌ Info: (false, false)\n",
      "└ @ Main In[46]:9\n",
      "┌ Info: Current θ\n",
      "│   θ_set[i] = 2.2910436138321506\n",
      "└ @ Main In[46]:7\n",
      "┌ Info: (false, false)\n",
      "└ @ Main In[46]:9\n",
      "┌ Info: Current θ\n",
      "│   θ_set[i] = 2.3669822564093868\n",
      "└ @ Main In[46]:7\n",
      "┌ Info: (false, true)\n",
      "└ @ Main In[46]:9\n"
     ]
    }
   ],
   "source": [
    "rangeθ = select_single_theta_range(x)\n",
    "println(\"Computed rangeθ: $rangeθ\")\n",
    "θ_set = range(rangeθ[1], stop=rangeθ[2], length = 10)\n",
    "for i in 1:10\n",
    "    Σθ = correlation(Gaussian(), θ_set[i], x[1:n_train, :]; jitter = 1e-8)\n",
    "    Σθp = Σθ\n",
    "    @info \"Current θ\" θ_set[i]\n",
    "#     @info minimum(Σθ)\n",
    "    @info (minimum(Σθ - Diagonal(diag(Σθ))) >= 1e-4), (maximum(Σθ - Diagonal(diag(Σθ))) <= 0.9999)\n",
    "#     @info \"Condition number \" cond(Σθ)\n",
    "end"
   ]
  },
  {
   "cell_type": "code",
   "execution_count": null,
   "metadata": {},
   "outputs": [],
   "source": []
  }
 ],
 "metadata": {
  "kernelspec": {
   "display_name": "Julia 1.4.1",
   "language": "julia",
   "name": "julia-1.4"
  },
  "language_info": {
   "file_extension": ".jl",
   "mimetype": "application/julia",
   "name": "julia",
   "version": "1.4.1"
  }
 },
 "nbformat": 4,
 "nbformat_minor": 4
}
