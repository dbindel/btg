{
 "cells": [
  {
   "cell_type": "code",
   "execution_count": 1,
   "metadata": {
    "scrolled": true
   },
   "outputs": [
    {
     "ename": "LoadError",
     "evalue": "syntax: extra token \")\" after end of expression",
     "output_type": "error",
     "traceback": [
      "syntax: extra token \")\" after end of expression",
      "",
      "Stacktrace:",
      " [1] top-level scope at /Users/zhuxinran/projects/BTG/btg/BayesTransformedGaussian/src/computation/tdist.jl:85",
      " [2] include at ./boot.jl:328 [inlined]",
      " [3] include_relative(::Module, ::String) at ./loading.jl:1105",
      " [4] include(::Module, ::String) at ./Base.jl:31",
      " [5] include(::String) at ./client.jl:424",
      " [6] top-level scope at In[1]:17"
     ]
    }
   ],
   "source": [
    "using LinearAlgebra                                                             \n",
    "using Test                                                                                       \n",
    "using Distributions                                                             \n",
    "using DataFrames                                                                          \n",
    "using CSV                                                                              \n",
    "using Polynomials  \n",
    "                                                                                 \n",
    "include(\"../computation/finitedifference.jl\")                                                   \n",
    "include(\"../quadrature/quadrature.jl\")                                             \n",
    "include(\"../transforms/transforms.jl\")                                             \n",
    "include(\"../priors/priors.jl\")                                                     \n",
    "include(\"../bayesopt/incremental.jl\")                                              \n",
    "include(\"../kernels/kernel.jl\")                                                    \n",
    "include(\"../datastructs.jl\")                                                       \n",
    "include(\"../computation/buffers0.jl\") #datastruct, kernel, incremental, quadrature \n",
    "include(\"../model0.jl\") #buffers, datastructs, several auxiliary                   \n",
    "include(\"../computation/tdist.jl\") #model0 and buffer0  "
   ]
  },
  {
   "cell_type": "code",
   "execution_count": 2,
   "metadata": {},
   "outputs": [
    {
     "data": {
      "text/plain": [
       "covariate_fun (generic function with 1 method)"
      ]
     },
     "execution_count": 2,
     "metadata": {},
     "output_type": "execute_result"
    }
   ],
   "source": [
    "function covariate_fun(x, p)\n",
    "    n = size(x, 1)\n",
    "    d = size(x, 2)\n",
    "    if p == 1\n",
    "        return ones(n, 1)\n",
    "    elseif p == 1 + d\n",
    "        return hcat(ones(n), x)\n",
    "    else\n",
    "         throw(ArgumentError(\"Only support constant or linear convariate.\"))\n",
    "    end\n",
    "end"
   ]
  },
  {
   "cell_type": "code",
   "execution_count": 3,
   "metadata": {},
   "outputs": [
    {
     "ename": "UndefVarError",
     "evalue": "UndefVarError: nx not defined",
     "output_type": "error",
     "traceback": [
      "UndefVarError: nx not defined",
      "",
      "Stacktrace:",
      " [1] top-level scope at In[3]:6"
     ]
    }
   ],
   "source": [
    "# Data and setup for different tests\n",
    "\n",
    "# choice of covariate functions\n",
    "p = 1\n",
    "p = 3\n",
    "\n",
    "# training\n",
    "x1 = 4 .* rand(nx, 2) .- 2 \n",
    "x2 = [-0.28340   0.62098;\n",
    "     -1.59902   1.86275;\n",
    "      0.49347  -1.46311;\n",
    "      1.50624  -1.42874; \n",
    "      1.57966  -1.4987;  \n",
    "     -1.35577   0.33419;\n",
    "      1.57967   0.4927;  \n",
    "      1.30226   1.30865; \n",
    "      1.84554  -1.71706; \n",
    "      1.45705   0.264961]\n",
    "x3 = [-0.801151   -0.543169;   \n",
    "      -0.94552     1.09677;    \n",
    "       0.947512   -0.827147;   \n",
    "      -1.42516     0.916257;   \n",
    "      -1.35157     0.449443;   \n",
    "       0.266677    1.31536;    \n",
    "      -0.555493    0.841922;   \n",
    "      -0.0235545   0.000649033;\n",
    "      -0.339027    0.843967;   \n",
    "      -1.7816      1.52251; ]\n",
    "\n",
    "# testing\n",
    "x01 = 4 .*rand(1, 2) .- 2\n",
    "x02 = [-1.0097 0.3929]\n",
    "x03 = [-0.936599  -1.94613]\n",
    "\n",
    "# underlying 2d function \n",
    "test_fun1(x, y) = x^2 * exp(- x^2 - y^2) \n"
   ]
  },
  {
   "cell_type": "markdown",
   "metadata": {},
   "source": [
    "# Summary\n",
    "Settings parameters: \\\n",
    "p: choices of covariates, p = 1 if constant and p = 2 if linear \\\n",
    "x: training data \\\n",
    "x0: testing data\n",
    "\n",
    "Tests:\n",
    "1. p=3 or p=1, x=x2, x0=x02 \\\n",
    "   pdf blows up near 0, numerical issue (g'(y0) blows up when y0~=0?)\n",
    "2. p=1, x=x3, x0=x03 \\\n",
    "    pdf weird shape (no peak, uniformish)\n",
    "3. p=3, x=x3, x0=x03 \\\n",
    "    pdf blows up near 0, and pdf support ~= $[0,5]$"
   ]
  },
  {
   "cell_type": "code",
   "execution_count": 4,
   "metadata": {
    "scrolled": true
   },
   "outputs": [
    {
     "ename": "UndefVarError",
     "evalue": "UndefVarError: x3 not defined",
     "output_type": "error",
     "traceback": [
      "UndefVarError: x3 not defined",
      "",
      "Stacktrace:",
      " [1] top-level scope at In[4]:4"
     ]
    }
   ],
   "source": [
    "# parameter setting: change for different tests\n",
    "\n",
    "p = 1 # choose covariate basis function, only support 1 or 1+dim(x)\n",
    "x = x2 # choose training data \n",
    "x0 = x02 # choose testing data\n",
    "test_fun = test_fun1 # choose underlying function\n",
    "\n",
    "#####################################\n",
    "\n",
    "# setup values and covariates (no changes needed)\n",
    "Fx = covariate_fun(x, p)\n",
    "y = [test_fun(_x[1], _x[2]) for _x in zip(x[:,1], x[:,2])]\n",
    "ymax = maximum(y)\n",
    "y /= ymax\n",
    "trainingData1 = trainingData(x, Fx, y) \n",
    "\n",
    "Fx0 = covariate_fun(x0, p)\n",
    "y0_true = test_fun(x0[1], x0[2])/ymax\n",
    "println(\"Prediction at x0 = $x0\")\n",
    "println(\"Covariates at x0: $Fx0\")\n",
    "println(\"Should expect peak near $y0_true\")\n"
   ]
  },
  {
   "cell_type": "code",
   "execution_count": 5,
   "metadata": {
    "scrolled": true
   },
   "outputs": [
    {
     "ename": "UndefVarError",
     "evalue": "UndefVarError: trainingData1 not defined",
     "output_type": "error",
     "traceback": [
      "UndefVarError: trainingData1 not defined",
      "",
      "Stacktrace:",
      " [1] top-level scope at In[5]:1"
     ]
    }
   ],
   "source": [
    "d = getDimension(trainingData1)\n",
    "n = getNumPts(trainingData1)\n",
    "p = getCovDimension(trainingData1)\n",
    "rangeθ = [0.25 150]\n",
    "rangeλ = [0.5 5]"
   ]
  },
  {
   "cell_type": "code",
   "execution_count": 6,
   "metadata": {
    "scrolled": true
   },
   "outputs": [
    {
     "ename": "UndefVarError",
     "evalue": "UndefVarError: trainingData1 not defined",
     "output_type": "error",
     "traceback": [
      "UndefVarError: trainingData1 not defined",
      "",
      "Stacktrace:",
      " [1] top-level scope at In[6]:1"
     ]
    }
   ],
   "source": [
    "btg1 = btg(trainingData1, rangeθ, rangeλ);\n",
    "(dpdf, pdf, cdf) = solve(btg1);\n",
    "dpdf_fixed = y0 -> dpdf(x0, Fx0, y0) \n",
    "pdf_fixed = y0 -> pdf(x0, Fx0, y0)\n",
    "cdf_fixed = y0 -> cdf(x0, Fx0, y0)"
   ]
  },
  {
   "cell_type": "code",
   "execution_count": 7,
   "metadata": {
    "scrolled": false
   },
   "outputs": [
    {
     "ename": "UndefVarError",
     "evalue": "UndefVarError: pdf_fixed not defined",
     "output_type": "error",
     "traceback": [
      "UndefVarError: pdf_fixed not defined",
      "",
      "Stacktrace:",
      " [1] top-level scope at In[7]:1"
     ]
    }
   ],
   "source": [
    "plt(pdf_fixed, 1e-5, 5, 100)\n",
    "plt!(cdf_fixed, 1e-5, 5, 100, title = \"PDF and CDF of Bayesian Predictive Distribution\")"
   ]
  }
 ],
 "metadata": {
  "kernelspec": {
   "display_name": "Julia 1.3.1",
   "language": "julia",
   "name": "julia-1.3"
  },
  "language_info": {
   "file_extension": ".jl",
   "mimetype": "application/julia",
   "name": "julia",
   "version": "1.3.1"
  }
 },
 "nbformat": 4,
 "nbformat_minor": 2
}
