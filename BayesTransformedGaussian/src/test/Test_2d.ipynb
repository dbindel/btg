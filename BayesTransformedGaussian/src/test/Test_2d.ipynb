{
 "cells": [
  {
   "cell_type": "code",
   "execution_count": 1,
   "metadata": {
    "scrolled": true
   },
   "outputs": [
    {
     "data": {
      "text/plain": [
       "compute_BO_derivs"
      ]
     },
     "execution_count": 1,
     "metadata": {},
     "output_type": "execute_result"
    }
   ],
   "source": [
    "using LinearAlgebra                                                             \n",
    "using Test                                                                                       \n",
    "using Distributions                                                             \n",
    "using DataFrames                                                                          \n",
    "using CSV                                                                              \n",
    "using Polynomials  \n",
    "using Sobol\n",
    "                                                                                 \n",
    "include(\"../computation/finitedifference.jl\")                                                   \n",
    "include(\"../quadrature/quadrature.jl\")                                             \n",
    "include(\"../transforms/transforms.jl\")                                             \n",
    "include(\"../priors/priors.jl\")                                                     \n",
    "include(\"../bayesopt/incremental.jl\")                                              \n",
    "include(\"../kernels/kernel.jl\")                                                    \n",
    "include(\"../datastructs.jl\")                                                       \n",
    "include(\"../computation/buffers0.jl\") #datastruct, kernel, incremental, quadrature \n",
    "include(\"../model0.jl\") #buffers, datastructs, several auxiliary                   \n",
    "include(\"../computation/tdist.jl\") #model0 and buffer0  "
   ]
  },
  {
   "cell_type": "code",
   "execution_count": 2,
   "metadata": {},
   "outputs": [
    {
     "data": {
      "text/plain": [
       "covariate_fun (generic function with 1 method)"
      ]
     },
     "execution_count": 2,
     "metadata": {},
     "output_type": "execute_result"
    }
   ],
   "source": [
    "function covariate_fun(x, p)\n",
    "    n = size(x, 1)\n",
    "    d = size(x, 2)\n",
    "    if p == 1\n",
    "        return ones(n, 1)\n",
    "    elseif p == 1 + d\n",
    "        return hcat(ones(n), x)\n",
    "    else\n",
    "         throw(ArgumentError(\"Only support constant or linear convariate.\"))\n",
    "    end\n",
    "end"
   ]
  },
  {
   "cell_type": "markdown",
   "metadata": {},
   "source": [
    "# Summary\n",
    "Settings parameters: \\\n",
    "p: choices of covariates, p = 1 if constant and p = 2 if linear \\\n",
    "x: training data \\\n",
    "x0: testing data\n",
    "\n",
    "Tests:\n",
    "1. p=3 or p=1, x=x2, x0=x02, test_fun1 \\\n",
    "   pdf blows up near 0, numerical issue (g'(y0) blows up when y0~=0?)\n",
    "2. p=1, x=x3, x0=x03, test_fun1 \\\n",
    "    pdf weird shape (no peak, uniformish)\n",
    "3. p=3, x=x3, x0=x03, test_fun1 \\\n",
    "    pdf blows up near 0, and pdf support ~= $[0,5]$\n",
    "4. p=1, x=2, x0=x04, test_fun2 \\\n",
    "    pdf heavy near 0"
   ]
  },
  {
   "cell_type": "code",
   "execution_count": 3,
   "metadata": {},
   "outputs": [
    {
     "data": {
      "text/plain": [
       "test_fun2 (generic function with 1 method)"
      ]
     },
     "execution_count": 3,
     "metadata": {},
     "output_type": "execute_result"
    }
   ],
   "source": [
    "# Data and setup for different tests\n",
    "\n",
    "# choice of covariate functions\n",
    "p = 1\n",
    "# p = 3\n",
    "\n",
    "# training\n",
    "nx = 20\n",
    "x1 = 4 .* rand(nx, 2) .- 2 \n",
    "x2 = [-0.28340   0.62098;\n",
    "     -1.59902   1.86275;\n",
    "      0.49347  -1.46311;\n",
    "      1.50624  -1.42874; \n",
    "      1.57966  -1.4987;  \n",
    "     -1.35577   0.33419;\n",
    "      1.57967   0.4927;  \n",
    "      1.30226   1.30865; \n",
    "      1.84554  -1.71706; \n",
    "      1.45705   0.264961]\n",
    "x3 = [-0.801151   -0.543169;   \n",
    "      -0.94552     1.09677;    \n",
    "       0.947512   -0.827147;   \n",
    "      -1.42516     0.916257;   \n",
    "      -1.35157     0.449443;   \n",
    "       0.266677    1.31536;    \n",
    "      -0.555493    0.841922;   \n",
    "      -0.0235545   0.000649033;\n",
    "      -0.339027    0.843967;   \n",
    "      -1.7816      1.52251; ]\n",
    "\n",
    "# testing\n",
    "x01 = 4 .*rand(1, 2) .- 2\n",
    "x02 = [-1.0097 0.3929]\n",
    "x03 = [-0.936599  -1.94613]\n",
    "x04 = [0.6368579322807415 0.5764428247722932]\n",
    "\n",
    "# underlying 2d function \n",
    "test_fun1(x, y) = x^2 * exp(- x^2 - y^2) \n",
    "test_fun2(x, y) = sin(x^2 + y^2) + 1.1"
   ]
  },
  {
   "cell_type": "code",
   "execution_count": 4,
   "metadata": {
    "scrolled": true
   },
   "outputs": [
    {
     "name": "stdout",
     "output_type": "stream",
     "text": [
      "Prediction at x0 = [-1.5415926267234434 0.7273806698485306]\n",
      "Covariates at x0: [1.0]\n",
      "Should expect peak near 0.6573652934448811\n"
     ]
    }
   ],
   "source": [
    "# parameter setting: change for different tests\n",
    "\n",
    "p = 1 # choose covariate basis function, only support 1 or 1+dim(x)\n",
    "x = x2 # choose training data \n",
    "x0 = x01 # choose testing data\n",
    "test_fun = test_fun2 # choose underlying function\n",
    "\n",
    "#####################################\n",
    "\n",
    "# setup values and covariates (no changes needed)\n",
    "Fx = covariate_fun(x, p)\n",
    "y = [test_fun(_x[1], _x[2]) for _x in zip(x[:,1], x[:,2])]\n",
    "ymax = maximum(y)\n",
    "y /= ymax\n",
    "trainingData1 = trainingData(x, Fx, y) \n",
    "\n",
    "Fx0 = covariate_fun(x0, p)\n",
    "y0_true = test_fun(x0[1], x0[2])/ymax\n",
    "println(\"Prediction at x0 = $x0\")\n",
    "println(\"Covariates at x0: $Fx0\")\n",
    "println(\"Should expect peak near $y0_true\")\n"
   ]
  },
  {
   "cell_type": "code",
   "execution_count": 5,
   "metadata": {
    "scrolled": true
   },
   "outputs": [
    {
     "data": {
      "text/plain": [
       "1×2 Array{Float64,2}:\n",
       " 0.2  3.0"
      ]
     },
     "execution_count": 5,
     "metadata": {},
     "output_type": "execute_result"
    }
   ],
   "source": [
    "d = getDimension(trainingData1)\n",
    "n = getNumPts(trainingData1)\n",
    "p = getCovDimension(trainingData1)\n",
    "rangeθ = [0.25 150]\n",
    "rangeθ2 = [0.25 150; 0.25 150]\n",
    "rangeλ = [0.2 3.]"
   ]
  },
  {
   "cell_type": "code",
   "execution_count": 6,
   "metadata": {
    "scrolled": true
   },
   "outputs": [
    {
     "data": {
      "text/plain": [
       "#137 (generic function with 1 method)"
      ]
     },
     "execution_count": 6,
     "metadata": {},
     "output_type": "execute_result"
    }
   ],
   "source": [
    "btg1 = btg(trainingData1, rangeθ, rangeλ, quadtype = [\"Gaussian\", \"Gaussian\"]);\n",
    "(pdf1, cdf1, dpdf1, quantInfo1) = solve(btg1);\n",
    "pdf_fixed = y0 -> pdf(x0, Fx0, y0)\n",
    "cdf_fixed = y0 -> cdf(x0, Fx0, y0)\n",
    "dpdf_fixed = y0 -> dpdf(x0, Fx0, y0) "
   ]
  },
  {
   "cell_type": "code",
   "execution_count": 7,
   "metadata": {},
   "outputs": [
    {
     "data": {
      "text/plain": [
       "#143 (generic function with 1 method)"
      ]
     },
     "execution_count": 7,
     "metadata": {},
     "output_type": "execute_result"
    }
   ],
   "source": [
    "btg2 = btg(trainingData1, rangeθ2, rangeλ, quadtype = [\"Gaussian\", \"Gaussian\"]);\n",
    "(pdf2, cdf2, dpdf2, quantInfo2) = solve(btg2);\n",
    "pdf_fixed2 = y0 -> pdf2(x0, Fx0, y0)\n",
    "cdf_fixed2 = y0 -> cdf2(x0, Fx0, y0)\n",
    "dpdf_fixed2 = y0 -> dpdf2(x0, Fx0, y0) "
   ]
  },
  {
   "cell_type": "code",
   "execution_count": 8,
   "metadata": {},
   "outputs": [
    {
     "data": {
      "text/plain": [
       "#149 (generic function with 1 method)"
      ]
     },
     "execution_count": 8,
     "metadata": {},
     "output_type": "execute_result"
    }
   ],
   "source": [
    "btg3 = btg(trainingData1, rangeθ2, rangeλ; quadtype = [\"MonteCarlo\", \"MonteCarlo\"]);\n",
    "(pdf3, cdf3, dpdf3, quantInfo3) = solve(btg3);\n",
    "pdf_fixed3 = y0 -> pdf3(x0, Fx0, y0)\n",
    "cdf_fixed3 = y0 -> cdf3(x0, Fx0, y0)\n",
    "dpdf_fixed3 = y0 -> dpdf3(x0, Fx0, y0) "
   ]
  },
  {
   "cell_type": "code",
   "execution_count": 9,
   "metadata": {},
   "outputs": [
    {
     "data": {
      "text/plain": [
       "#155 (generic function with 1 method)"
      ]
     },
     "execution_count": 9,
     "metadata": {},
     "output_type": "execute_result"
    }
   ],
   "source": [
    "btg4 = btg(trainingData1, rangeθ2, rangeλ; quadtype = [\"MonteCarlo\", \"Gaussian\"]);\n",
    "(pdf4, cdf4, dpdf4, quantInfo4) = solve(btg4);\n",
    "pdf_fixed4 = y0 -> pdf4(x0, Fx0, y0)\n",
    "cdf_fixed4 = y0 -> cdf4(x0, Fx0, y0)\n",
    "dpdf_fixed4 = y0 -> dpdf4(x0, Fx0, y0) "
   ]
  },
  {
   "cell_type": "code",
   "execution_count": 10,
   "metadata": {},
   "outputs": [
    {
     "data": {
      "text/plain": [
       "#161 (generic function with 1 method)"
      ]
     },
     "execution_count": 10,
     "metadata": {},
     "output_type": "execute_result"
    }
   ],
   "source": [
    "btg5 = btg(trainingData1, rangeθ2, rangeλ; quadtype = [\"QuasiMonteCarlo\", \"QuasiMonteCarlo\"]);\n",
    "(pdf5, cdf5, dpdf5, quantInfo5) = solve(btg5);\n",
    "pdf_fixed5 = y0 -> pdf5(x0, Fx0, y0)\n",
    "cdf_fixed5 = y0 -> cdf5(x0, Fx0, y0)\n",
    "dpdf_fixed5 = y0 -> dpdf5(x0, Fx0, y0) "
   ]
  },
  {
   "cell_type": "code",
   "execution_count": 36,
   "metadata": {},
   "outputs": [
    {
     "data": {
      "text/plain": [
       "#199 (generic function with 1 method)"
      ]
     },
     "execution_count": 36,
     "metadata": {},
     "output_type": "execute_result"
    }
   ],
   "source": [
    "btg6 = btg(trainingData1, rangeθ2, rangeλ; quadtype = [\"QuasiMonteCarlo\", \"Gaussian\"]);\n",
    "(pdf6, cdf6, dpdf6, quantInfo6) = solve(btg6);\n",
    "pdf_fixed6 = y0 -> pdf6(x0, Fx0, y0)\n",
    "cdf_fixed6 = y0 -> cdf6(x0, Fx0, y0)\n",
    "dpdf_fixed6 = y0 -> dpdf6(x0, Fx0, y0) "
   ]
  },
  {
   "cell_type": "code",
   "execution_count": null,
   "metadata": {
    "collapsed": true
   },
   "outputs": [],
   "source": []
  },
  {
   "cell_type": "markdown",
   "metadata": {},
   "source": [
    "# Statistics"
   ]
  },
  {
   "cell_type": "code",
   "execution_count": 29,
   "metadata": {
    "scrolled": false
   },
   "outputs": [
    {
     "name": "stderr",
     "output_type": "stream",
     "text": [
      "┌ Info: Precompiling Optim [429524aa-4258-5aef-a3af-852621145aeb]\n",
      "└ @ Base loading.jl:1273\n"
     ]
    },
    {
     "ename": "LoadError",
     "evalue": "error in method definition: function Statistics.quantile must be explicitly imported to be extended",
     "output_type": "error",
     "traceback": [
      "error in method definition: function Statistics.quantile must be explicitly imported to be extended",
      "",
      "Stacktrace:",
      " [1] top-level scope at none:0",
      " [2] top-level scope at C:\\Users\\Albert Huang\\Desktop\\btg\\BayesTransformedGaussian\\src\\statistics.jl:67",
      " [3] include at .\\boot.jl:328 [inlined]",
      " [4] include_relative(::Module, ::String) at .\\loading.jl:1105",
      " [5] include(::Module, ::String) at .\\Base.jl:31",
      " [6] include(::String) at .\\client.jl:424",
      " [7] top-level scope at In[29]:1"
     ]
    }
   ],
   "source": [
    "#include(\"test_quantile.jl\")\n",
    "include(\"../statistics.jl\")"
   ]
  },
  {
   "cell_type": "code",
   "execution_count": 31,
   "metadata": {
    "scrolled": true
   },
   "outputs": [],
   "source": [
    "#include(\"../statistics.jl\")\n",
    "# preprocess output from solve(btg)\n",
    "pdf_fixed1, cdf_fixed1, dpdf_fixed1, quant01, support1 = pre_process(x0, Fx0, pdf1, cdf1, dpdf1, quantInfo1[1]);\n",
    "#println(btg1.quadType, \" Estimated support of pdf: $support1\")\n",
    "\n",
    "# pdf_fixed2, cdf_fixed2, dpdf_fixed2, quant02, support2 = pre_process(x0, Fx0, pdf2, cdf2, dpdf2, quantInfo2[1]);\n",
    "# println(btg2.quadType, \" Estimated support of pdf: $support2\")\n",
    "\n",
    "# pdf_fixed3, cdf_fixed3, dpdf_fixed3, quant03, support3 = pre_process(x0, Fx0, pdf3, cdf3, dpdf3, quantInfo3[1]);\n",
    "# println(btg3.quadType, \" Estimated support of pdf: $support3\")\n",
    "\n",
    "# pdf_fixed4, cdf_fixed4, dpdf_fixed4, quant04, support4 = pre_process(x0, Fx0, pdf4, cdf4, dpdf4, quantInfo4[1]);\n",
    "# println(btg4.quadType, \" Estimated support of pdf: $support4\")\n",
    "\n",
    "# pdf_fixed5, cdf_fixed5, dpdf_fixed5, quant05, support5 = pre_process(x0, Fx0, pdf5, cdf5, dpdf5, quantInfo5[1]);\n",
    "# println(btg5.quadType, \" Estimated support of pdf: $support5\")\n",
    "\n",
    "# pdf_fixed6, cdf_fixed6, dpdf_fixed6, quant06, support6 = pre_process(x0, Fx0, pdf6, cdf6, dpdf6, quantInfo6[1]);\n",
    "# println(btg6.quadType, \" Estimated support of pdf: $support6\")"
   ]
  },
  {
   "cell_type": "code",
   "execution_count": 34,
   "metadata": {
    "scrolled": true
   },
   "outputs": [
    {
     "data": {
      "image/svg+xml": [
       "<?xml version=\"1.0\" encoding=\"utf-8\"?>\n",
       "<svg xmlns=\"http://www.w3.org/2000/svg\" xmlns:xlink=\"http://www.w3.org/1999/xlink\" width=\"600\" height=\"400\" viewBox=\"0 0 2400 1600\">\n",
       "<defs>\n",
       "  <clipPath id=\"clip6400\">\n",
       "    <rect x=\"0\" y=\"0\" width=\"2400\" height=\"1600\"/>\n",
       "  </clipPath>\n",
       "</defs>\n",
       "<path clip-path=\"url(#clip6400)\" d=\"\n",
       "M0 1600 L2400 1600 L2400 0 L0 0  Z\n",
       "  \" fill=\"#ffffff\" fill-rule=\"evenodd\" fill-opacity=\"1\"/>\n",
       "<defs>\n",
       "  <clipPath id=\"clip6401\">\n",
       "    <rect x=\"480\" y=\"0\" width=\"1681\" height=\"1600\"/>\n",
       "  </clipPath>\n",
       "</defs>\n",
       "<path clip-path=\"url(#clip6400)\" d=\"\n",
       "M180.66 1487.47 L2352.76 1487.47 L2352.76 47.2441 L180.66 47.2441  Z\n",
       "  \" fill=\"#ffffff\" fill-rule=\"evenodd\" fill-opacity=\"1\"/>\n",
       "<defs>\n",
       "  <clipPath id=\"clip6402\">\n",
       "    <rect x=\"180\" y=\"47\" width=\"2173\" height=\"1441\"/>\n",
       "  </clipPath>\n",
       "</defs>\n",
       "<polyline clip-path=\"url(#clip6402)\" style=\"stroke:#000000; stroke-width:2; stroke-opacity:0.1; fill:none\" points=\"\n",
       "  673.534,1487.47 673.534,47.2441 \n",
       "  \"/>\n",
       "<polyline clip-path=\"url(#clip6402)\" style=\"stroke:#000000; stroke-width:2; stroke-opacity:0.1; fill:none\" points=\"\n",
       "  1212.78,1487.47 1212.78,47.2441 \n",
       "  \"/>\n",
       "<polyline clip-path=\"url(#clip6402)\" style=\"stroke:#000000; stroke-width:2; stroke-opacity:0.1; fill:none\" points=\"\n",
       "  1752.03,1487.47 1752.03,47.2441 \n",
       "  \"/>\n",
       "<polyline clip-path=\"url(#clip6402)\" style=\"stroke:#000000; stroke-width:2; stroke-opacity:0.1; fill:none\" points=\"\n",
       "  2291.28,1487.47 2291.28,47.2441 \n",
       "  \"/>\n",
       "<polyline clip-path=\"url(#clip6402)\" style=\"stroke:#000000; stroke-width:2; stroke-opacity:0.1; fill:none\" points=\"\n",
       "  180.66,1463.04 2352.76,1463.04 \n",
       "  \"/>\n",
       "<polyline clip-path=\"url(#clip6402)\" style=\"stroke:#000000; stroke-width:2; stroke-opacity:0.1; fill:none\" points=\"\n",
       "  180.66,1169.47 2352.76,1169.47 \n",
       "  \"/>\n",
       "<polyline clip-path=\"url(#clip6402)\" style=\"stroke:#000000; stroke-width:2; stroke-opacity:0.1; fill:none\" points=\"\n",
       "  180.66,875.895 2352.76,875.895 \n",
       "  \"/>\n",
       "<polyline clip-path=\"url(#clip6402)\" style=\"stroke:#000000; stroke-width:2; stroke-opacity:0.1; fill:none\" points=\"\n",
       "  180.66,582.321 2352.76,582.321 \n",
       "  \"/>\n",
       "<polyline clip-path=\"url(#clip6402)\" style=\"stroke:#000000; stroke-width:2; stroke-opacity:0.1; fill:none\" points=\"\n",
       "  180.66,288.748 2352.76,288.748 \n",
       "  \"/>\n",
       "<polyline clip-path=\"url(#clip6400)\" style=\"stroke:#000000; stroke-width:4; stroke-opacity:1; fill:none\" points=\"\n",
       "  180.66,1487.47 2352.76,1487.47 \n",
       "  \"/>\n",
       "<polyline clip-path=\"url(#clip6400)\" style=\"stroke:#000000; stroke-width:4; stroke-opacity:1; fill:none\" points=\"\n",
       "  180.66,1487.47 180.66,47.2441 \n",
       "  \"/>\n",
       "<polyline clip-path=\"url(#clip6400)\" style=\"stroke:#000000; stroke-width:4; stroke-opacity:1; fill:none\" points=\"\n",
       "  673.534,1487.47 673.534,1470.19 \n",
       "  \"/>\n",
       "<polyline clip-path=\"url(#clip6400)\" style=\"stroke:#000000; stroke-width:4; stroke-opacity:1; fill:none\" points=\"\n",
       "  1212.78,1487.47 1212.78,1470.19 \n",
       "  \"/>\n",
       "<polyline clip-path=\"url(#clip6400)\" style=\"stroke:#000000; stroke-width:4; stroke-opacity:1; fill:none\" points=\"\n",
       "  1752.03,1487.47 1752.03,1470.19 \n",
       "  \"/>\n",
       "<polyline clip-path=\"url(#clip6400)\" style=\"stroke:#000000; stroke-width:4; stroke-opacity:1; fill:none\" points=\"\n",
       "  2291.28,1487.47 2291.28,1470.19 \n",
       "  \"/>\n",
       "<polyline clip-path=\"url(#clip6400)\" style=\"stroke:#000000; stroke-width:4; stroke-opacity:1; fill:none\" points=\"\n",
       "  180.66,1463.04 206.725,1463.04 \n",
       "  \"/>\n",
       "<polyline clip-path=\"url(#clip6400)\" style=\"stroke:#000000; stroke-width:4; stroke-opacity:1; fill:none\" points=\"\n",
       "  180.66,1169.47 206.725,1169.47 \n",
       "  \"/>\n",
       "<polyline clip-path=\"url(#clip6400)\" style=\"stroke:#000000; stroke-width:4; stroke-opacity:1; fill:none\" points=\"\n",
       "  180.66,875.895 206.725,875.895 \n",
       "  \"/>\n",
       "<polyline clip-path=\"url(#clip6400)\" style=\"stroke:#000000; stroke-width:4; stroke-opacity:1; fill:none\" points=\"\n",
       "  180.66,582.321 206.725,582.321 \n",
       "  \"/>\n",
       "<polyline clip-path=\"url(#clip6400)\" style=\"stroke:#000000; stroke-width:4; stroke-opacity:1; fill:none\" points=\"\n",
       "  180.66,288.748 206.725,288.748 \n",
       "  \"/>\n",
       "<g clip-path=\"url(#clip6400)\">\n",
       "<text style=\"fill:#000000; fill-opacity:1; font-family:Arial,Helvetica Neue,Helvetica,sans-serif; font-size:48px; text-anchor:middle;\" transform=\"rotate(0, 673.534, 1541.47)\" x=\"673.534\" y=\"1541.47\">0.5</text>\n",
       "</g>\n",
       "<g clip-path=\"url(#clip6400)\">\n",
       "<text style=\"fill:#000000; fill-opacity:1; font-family:Arial,Helvetica Neue,Helvetica,sans-serif; font-size:48px; text-anchor:middle;\" transform=\"rotate(0, 1212.78, 1541.47)\" x=\"1212.78\" y=\"1541.47\">1.0</text>\n",
       "</g>\n",
       "<g clip-path=\"url(#clip6400)\">\n",
       "<text style=\"fill:#000000; fill-opacity:1; font-family:Arial,Helvetica Neue,Helvetica,sans-serif; font-size:48px; text-anchor:middle;\" transform=\"rotate(0, 1752.03, 1541.47)\" x=\"1752.03\" y=\"1541.47\">1.5</text>\n",
       "</g>\n",
       "<g clip-path=\"url(#clip6400)\">\n",
       "<text style=\"fill:#000000; fill-opacity:1; font-family:Arial,Helvetica Neue,Helvetica,sans-serif; font-size:48px; text-anchor:middle;\" transform=\"rotate(0, 2291.28, 1541.47)\" x=\"2291.28\" y=\"1541.47\">2.0</text>\n",
       "</g>\n",
       "<g clip-path=\"url(#clip6400)\">\n",
       "<text style=\"fill:#000000; fill-opacity:1; font-family:Arial,Helvetica Neue,Helvetica,sans-serif; font-size:48px; text-anchor:end;\" transform=\"rotate(0, 156.66, 1480.54)\" x=\"156.66\" y=\"1480.54\">0.00</text>\n",
       "</g>\n",
       "<g clip-path=\"url(#clip6400)\">\n",
       "<text style=\"fill:#000000; fill-opacity:1; font-family:Arial,Helvetica Neue,Helvetica,sans-serif; font-size:48px; text-anchor:end;\" transform=\"rotate(0, 156.66, 1186.97)\" x=\"156.66\" y=\"1186.97\">0.25</text>\n",
       "</g>\n",
       "<g clip-path=\"url(#clip6400)\">\n",
       "<text style=\"fill:#000000; fill-opacity:1; font-family:Arial,Helvetica Neue,Helvetica,sans-serif; font-size:48px; text-anchor:end;\" transform=\"rotate(0, 156.66, 893.395)\" x=\"156.66\" y=\"893.395\">0.50</text>\n",
       "</g>\n",
       "<g clip-path=\"url(#clip6400)\">\n",
       "<text style=\"fill:#000000; fill-opacity:1; font-family:Arial,Helvetica Neue,Helvetica,sans-serif; font-size:48px; text-anchor:end;\" transform=\"rotate(0, 156.66, 599.821)\" x=\"156.66\" y=\"599.821\">0.75</text>\n",
       "</g>\n",
       "<g clip-path=\"url(#clip6400)\">\n",
       "<text style=\"fill:#000000; fill-opacity:1; font-family:Arial,Helvetica Neue,Helvetica,sans-serif; font-size:48px; text-anchor:end;\" transform=\"rotate(0, 156.66, 306.248)\" x=\"156.66\" y=\"306.248\">1.00</text>\n",
       "</g>\n",
       "<polyline clip-path=\"url(#clip6402)\" style=\"stroke:#009af9; stroke-width:4; stroke-opacity:1; fill:none\" points=\"\n",
       "  242.135,1071.14 262.833,1033.2 283.532,994.005 304.23,953.692 324.929,912.399 345.627,870.256 366.325,827.394 387.024,783.951 407.722,740.071 428.421,695.907 \n",
       "  449.119,651.623 469.818,607.391 490.516,563.397 511.215,519.839 531.913,476.925 552.612,434.881 573.31,393.943 594.008,354.36 614.707,316.397 635.405,280.328 \n",
       "  656.104,246.438 676.802,215.022 697.501,186.379 718.199,160.812 738.898,138.621 759.596,120.099 780.294,105.528 800.993,95.1702 821.691,89.2618 842.39,88.0053 \n",
       "  863.088,91.5616 883.787,100.042 904.485,113.5 925.184,131.927 945.882,155.242 966.581,183.292 987.279,215.848 1007.98,252.604 1028.68,293.185 1049.37,337.146 \n",
       "  1070.07,383.989 1090.77,433.168 1111.47,484.108 1132.17,536.218 1152.87,588.91 1173.57,641.614 1194.26,693.796 1214.96,744.969 1235.66,794.705 1256.36,842.645 \n",
       "  1277.06,888.5 1297.76,932.053 1318.45,973.158 1339.15,1011.73 1359.85,1047.75 1380.55,1081.23 1401.25,1112.23 1421.95,1140.84 1442.64,1167.18 1463.34,1191.38 \n",
       "  1484.04,1213.56 1504.74,1233.86 1525.44,1252.42 1546.14,1269.39 1566.84,1284.88 1587.53,1299.02 1608.23,1311.93 1628.93,1323.71 1649.63,1334.47 1670.33,1344.29 \n",
       "  1691.03,1353.27 1711.72,1361.47 1732.42,1368.98 1753.12,1375.85 1773.82,1382.14 1794.52,1387.92 1815.22,1393.21 1835.92,1398.07 1856.61,1402.54 1877.31,1406.65 \n",
       "  1898.01,1410.43 1918.71,1413.92 1939.41,1417.14 1960.11,1420.11 1980.8,1422.85 2001.5,1425.39 2022.2,1427.74 2042.9,1429.91 2063.6,1431.93 2084.3,1433.8 \n",
       "  2105,1435.54 2125.69,1437.16 2146.39,1438.67 2167.09,1440.07 2187.79,1441.37 2208.49,1442.59 2229.19,1443.73 2249.88,1444.79 2270.58,1445.78 2291.28,1446.71 \n",
       "  \n",
       "  \"/>\n",
       "<path clip-path=\"url(#clip6400)\" d=\"\n",
       "M1862.95 251.724 L2280.76 251.724 L2280.76 130.764 L1862.95 130.764  Z\n",
       "  \" fill=\"#ffffff\" fill-rule=\"evenodd\" fill-opacity=\"1\"/>\n",
       "<polyline clip-path=\"url(#clip6400)\" style=\"stroke:#000000; stroke-width:4; stroke-opacity:1; fill:none\" points=\"\n",
       "  1862.95,251.724 2280.76,251.724 2280.76,130.764 1862.95,130.764 1862.95,251.724 \n",
       "  \"/>\n",
       "<polyline clip-path=\"url(#clip6400)\" style=\"stroke:#009af9; stroke-width:4; stroke-opacity:1; fill:none\" points=\"\n",
       "  1886.95,191.244 2030.95,191.244 \n",
       "  \"/>\n",
       "<g clip-path=\"url(#clip6400)\">\n",
       "<text style=\"fill:#000000; fill-opacity:1; font-family:Arial,Helvetica Neue,Helvetica,sans-serif; font-size:48px; text-anchor:start;\" transform=\"rotate(0, 2054.95, 208.744)\" x=\"2054.95\" y=\"208.744\">MC+MC</text>\n",
       "</g>\n",
       "</svg>\n"
      ]
     },
     "execution_count": 34,
     "metadata": {},
     "output_type": "execute_result"
    }
   ],
   "source": [
    "using Plots\n",
    "a = 0.1; b = 2\n",
    "ygrid = range(a, b, length = 100)\n",
    "#pdf_plot = plot(ygrid, pdf_fixed1.(ygrid), label = \"Gauss+Gauss, 1 lengthscale\")\n",
    "#plot!(ygrid, pdf_fixed2.(ygrid), label = \"Gauss+Gauss\")\n",
    "#plot!(ygrid, pdf_fixed3.(ygrid), label = \"MC+MC\")\n",
    "#plot!(ygrid, pdf_fixed4.(ygrid), label = \"MC+Gaussian\")\n",
    "#plot!(ygrid, pdf_fixed5.(ygrid), label = \"QMC+QMC\")\n",
    "#plot!(ygrid, pdf_fixed6.(ygrid), label = \"QMC+Gaussian\", title = \"2D Test: PDF Comparison\")\n",
    "\n",
    "pdf_plot = plot(ygrid, pdf_fixed3.(ygrid), label = \"MC+MC\")"
   ]
  },
  {
   "cell_type": "code",
   "execution_count": 33,
   "metadata": {
    "scrolled": false
   },
   "outputs": [
    {
     "ename": "MethodError",
     "evalue": "MethodError: no method matching cdf(::Array{Float64,2}, ::Array{Float64,2}, ::Float64)\nClosest candidates are:\n  cdf(!Matched::Distribution{Univariate,S} where S<:ValueSupport, ::AbstractArray) at deprecated.jl:65",
     "output_type": "error",
     "traceback": [
      "MethodError: no method matching cdf(::Array{Float64,2}, ::Array{Float64,2}, ::Float64)\nClosest candidates are:\n  cdf(!Matched::Distribution{Univariate,S} where S<:ValueSupport, ::AbstractArray) at deprecated.jl:65",
      "",
      "Stacktrace:",
      " [1] (::var\"#135#136\")(::Float64) at .\\In[6]:4",
      " [2] _broadcast_getindex_evalf at .\\broadcast.jl:630 [inlined]",
      " [3] _broadcast_getindex at .\\broadcast.jl:603 [inlined]",
      " [4] getindex at .\\broadcast.jl:563 [inlined]",
      " [5] copy at .\\broadcast.jl:853 [inlined]",
      " [6] materialize(::Base.Broadcast.Broadcasted{Base.Broadcast.DefaultArrayStyle{1},Nothing,var\"#135#136\",Tuple{StepRangeLen{Float64,Base.TwicePrecision{Float64},Base.TwicePrecision{Float64}}}}) at .\\broadcast.jl:819",
      " [7] top-level scope at In[33]:1"
     ]
    }
   ],
   "source": [
    "cdf_plot = plot(ygrid, cdf_fixed.(ygrid), label = \"Gauss+Gauss, 1 lengthscale\", legend=:bottomright)\n",
    "plot!(ygrid, cdf_fixed2.(ygrid), label = \"Gauss+Gauss\")\n",
    "plot!(ygrid, cdf_fixed3.(ygrid), label = \"MC+MC\")\n",
    "plot!(ygrid, cdf_fixed4.(ygrid), label = \"MC+Gaussian\")\n",
    "plot!(ygrid, cdf_fixed5.(ygrid), label = \"QMC+QMC\")\n",
    "plot!(ygrid, cdf_fixed6.(ygrid), label = \"QMC+Gaussian\", title = \"2D Test: CDF Comparison\")"
   ]
  },
  {
   "cell_type": "code",
   "execution_count": 16,
   "metadata": {
    "scrolled": false
   },
   "outputs": [
    {
     "data": {
      "text/plain": [
       "range1 (generic function with 1 method)"
      ]
     },
     "execution_count": 16,
     "metadata": {},
     "output_type": "execute_result"
    }
   ],
   "source": [
    "range1(q) = quantInfo1[5](x0, Fx0, q)\n",
    "# range2(q) = quantInfo2[5](x0, Fx0, q)\n",
    "# range3(q) = quantInfo3[5](x0, Fx0, q)\n",
    "# range4(q) = quantInfo4[5](x0, Fx0, q)\n",
    "# range5(q) = quantInfo5[5](x0, Fx0, q)\n",
    "# range6(q) = quantInfo6[5](x0, Fx0, q)"
   ]
  },
  {
   "cell_type": "code",
   "execution_count": 17,
   "metadata": {
    "scrolled": true
   },
   "outputs": [
    {
     "ename": "UndefVarError",
     "evalue": "UndefVarError: pdf_fixed1 not defined",
     "output_type": "error",
     "traceback": [
      "UndefVarError: pdf_fixed1 not defined",
      "",
      "Stacktrace:",
      " [1] top-level scope at In[17]:2"
     ]
    }
   ],
   "source": [
    "px = 0.5\n",
    "quant_p1, error_quant1 = quantile(pdf_fixed1, cdf_fixed1, quant01, support1; p=px)"
   ]
  },
  {
   "cell_type": "code",
   "execution_count": null,
   "metadata": {
    "collapsed": true
   },
   "outputs": [],
   "source": []
  },
  {
   "cell_type": "code",
   "execution_count": null,
   "metadata": {
    "collapsed": true
   },
   "outputs": [],
   "source": []
  },
  {
   "cell_type": "code",
   "execution_count": null,
   "metadata": {
    "collapsed": true
   },
   "outputs": [],
   "source": []
  },
  {
   "cell_type": "code",
   "execution_count": 18,
   "metadata": {
    "scrolled": true
   },
   "outputs": [
    {
     "data": {
      "text/plain": [
       "18×18 Array{Float64,2}:\n",
       " -0.404701   -0.38174    -0.345831   …  -0.0733607  -0.0708564  -0.0694995\n",
       " -0.0716341  -0.0771946  -0.0848839     -0.0646949  -0.0634123  -0.062705 \n",
       " -0.191355   -0.192626   -0.193406      -0.109124   -0.107083   -0.10596  \n",
       " -0.358578   -0.351208   -0.338532      -0.154679   -0.151666   -0.150014 \n",
       " -0.471252   -0.457612   -0.435232      -0.183325   -0.179692   -0.177702 \n",
       " -0.532372   -0.515072   -0.487052   …  -0.197759   -0.193814   -0.191653 \n",
       " -0.561292   -0.542094   -0.511167      -0.203831   -0.199755   -0.197523 \n",
       " -0.574342   -0.554192   -0.521809      -0.206038   -0.201912   -0.199654 \n",
       " -0.580982   -0.5603     -0.527104      -0.206798   -0.202653   -0.200385 \n",
       " -0.585498   -0.564447   -0.530683      -0.207136   -0.202979   -0.200704 \n",
       " -0.589438   -0.568077   -0.533834   …  -0.207398   -0.20323    -0.200949 \n",
       " -0.593189   -0.571546   -0.536865      -0.20767    -0.203489   -0.201201 \n",
       " -0.596732   -0.574831   -0.539746      -0.207951   -0.203757   -0.201462 \n",
       " -0.599939   -0.577808   -0.542366      -0.208222   -0.204015   -0.201714 \n",
       " -0.602683   -0.580359   -0.544614      -0.208463   -0.204245   -0.201938 \n",
       " -0.604864   -0.582387   -0.546403   …  -0.20866    -0.204433   -0.202121 \n",
       " -0.606414   -0.583828   -0.547676      -0.208801   -0.204568   -0.202252 \n",
       " -0.607288   -0.584641   -0.548394      -0.208882   -0.204645   -0.202327 "
      ]
     },
     "execution_count": 18,
     "metadata": {},
     "output_type": "execute_result"
    }
   ],
   "source": [
    "range1(px)"
   ]
  },
  {
   "cell_type": "code",
   "execution_count": 19,
   "metadata": {},
   "outputs": [
    {
     "data": {
      "text/plain": [
       "LocationScale{Float64,TDist{Float64}}(\n",
       "μ: 0.3\n",
       "σ: 1.2\n",
       "ρ: TDist{Float64}(ν=5.0)\n",
       ")\n"
      ]
     },
     "execution_count": 19,
     "metadata": {},
     "output_type": "execute_result"
    }
   ],
   "source": [
    "t = LocationScale(0.3, 1.2, TDist(5))"
   ]
  },
  {
   "cell_type": "code",
   "execution_count": 20,
   "metadata": {},
   "outputs": [
    {
     "data": {
      "text/plain": [
       "0.3"
      ]
     },
     "execution_count": 20,
     "metadata": {},
     "output_type": "execute_result"
    }
   ],
   "source": [
    "pp = Distributions.quantile(t, px)"
   ]
  },
  {
   "cell_type": "code",
   "execution_count": 21,
   "metadata": {
    "scrolled": true
   },
   "outputs": [
    {
     "data": {
      "text/plain": [
       "0.8815580144827919"
      ]
     },
     "execution_count": 21,
     "metadata": {},
     "output_type": "execute_result"
    }
   ],
   "source": [
    "θ = Array{Float64, 1}(undef, 1)\n",
    "θ[1] = btg1.nodesWeightsθ.nodes[1]"
   ]
  },
  {
   "cell_type": "code",
   "execution_count": null,
   "metadata": {
    "collapsed": true
   },
   "outputs": [],
   "source": []
  },
  {
   "cell_type": "code",
   "execution_count": 22,
   "metadata": {},
   "outputs": [
    {
     "data": {
      "text/plain": [
       "0.21180876421069694"
      ]
     },
     "execution_count": 22,
     "metadata": {},
     "output_type": "execute_result"
    }
   ],
   "source": [
    "λ = Array{Float64, 1}(undef, 1)\n",
    "λ[1] = btg1.nodesWeightsλ.nodes[1]"
   ]
  },
  {
   "cell_type": "code",
   "execution_count": null,
   "metadata": {
    "collapsed": true
   },
   "outputs": [],
   "source": []
  },
  {
   "cell_type": "code",
   "execution_count": null,
   "metadata": {
    "collapsed": true
   },
   "outputs": [],
   "source": []
  },
  {
   "cell_type": "code",
   "execution_count": 23,
   "metadata": {
    "scrolled": true
   },
   "outputs": [
    {
     "ename": "UndefVarError",
     "evalue": "UndefVarError: summary_comp not defined",
     "output_type": "error",
     "traceback": [
      "UndefVarError: summary_comp not defined",
      "",
      "Stacktrace:",
      " [1] top-level scope at In[23]:1"
     ]
    }
   ],
   "source": [
    "DistributionInfo = summary_comp(pdf_fixed1, cdf_fixed1, dpdf_fixed1, quant01, support1; px = .8);"
   ]
  },
  {
   "cell_type": "code",
   "execution_count": null,
   "metadata": {
    "collapsed": true
   },
   "outputs": [],
   "source": []
  }
 ],
 "metadata": {
  "kernelspec": {
   "display_name": "Julia 1.3.1",
   "language": "julia",
   "name": "julia-1.3"
  },
  "language_info": {
   "file_extension": ".jl",
   "mimetype": "application/julia",
   "name": "julia",
   "version": "1.3.1"
  }
 },
 "nbformat": 4,
 "nbformat_minor": 2
}
