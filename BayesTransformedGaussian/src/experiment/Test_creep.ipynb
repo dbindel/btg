{
 "cells": [
  {
   "cell_type": "code",
   "execution_count": 1,
   "metadata": {},
   "outputs": [
    {
     "data": {
      "text/plain": [
       "credible_interval (generic function with 3 methods)"
      ]
     },
     "execution_count": 1,
     "metadata": {},
     "output_type": "execute_result"
    }
   ],
   "source": [
    "using Dates\n",
    "using ArgParse\n",
    "using Printf\n",
    "using Random\n",
    "using GaussianProcesses\n",
    "\n",
    "include(\"../btg.jl\")"
   ]
  },
  {
   "cell_type": "code",
   "execution_count": null,
   "metadata": {
    "scrolled": false
   },
   "outputs": [],
   "source": [
    "# load creep data\n",
    "df = DataFrame(CSV.File(\"../datasets/creeprupt/taka\", header=0))\n",
    "data = convert(Matrix, df[:,[1;3:end]])\n",
    "target = convert(Array, df[:, 2]);"
   ]
  },
  {
   "cell_type": "code",
   "execution_count": 14,
   "metadata": {},
   "outputs": [
    {
     "data": {
      "text/plain": [
       "30"
      ]
     },
     "execution_count": 14,
     "metadata": {},
     "output_type": "execute_result"
    }
   ],
   "source": [
    "# shuffle data\n",
    "ind_shuffle = randperm(MersenneTwister(1234), size(data, 1)) \n",
    "data = data[ind_shuffle, :]\n",
    "target = target[ind_shuffle]\n",
    "# training set\n",
    "id_train = 1:400; posx = 1:30; posc = 1:30; n_train = length(id_train)\n",
    "x = data[id_train, posx] \n",
    "Fx = data[id_train, posc] \n",
    "y = float(target[id_train])\n",
    "ymax_train = maximum(y)\n",
    "y ./= ymax_train\n",
    "trainingData0 = trainingData(x, Fx, y) #training data used for testing various functions\n",
    "d = getDimension(trainingData0); n = getNumPts(trainingData0); p = getCovDimension(trainingData0)"
   ]
  },
  {
   "cell_type": "code",
   "execution_count": 15,
   "metadata": {},
   "outputs": [
    {
     "data": {
      "text/plain": [
       "2-element Array{String,1}:\n",
       " \"QuasiMonteCarlo\"\n",
       " \"QuasiMonteCarlo\""
      ]
     },
     "execution_count": 15,
     "metadata": {},
     "output_type": "execute_result"
    }
   ],
   "source": [
    "#parameter setting\n",
    "rangeθ = [0.125 1000]\n",
    "rangeθm = repeat(rangeθ, d, 1)\n",
    "rangeλ = [-1.5 1.] #we will always used 1 range scale for lambda\n",
    "myquadtype = [\"QuasiMonteCarlo\", \"QuasiMonteCarlo\"]"
   ]
  },
  {
   "cell_type": "code",
   "execution_count": 16,
   "metadata": {},
   "outputs": [],
   "source": [
    "# build btg model\n",
    "btg0 = btg(trainingData0, rangeθm, rangeλ; quadtype = myquadtype)\n",
    "(pdf0_raw, cdf0_raw, dpdf0_raw, quantInfo0_raw) = solve(btg0); "
   ]
  },
  {
   "cell_type": "code",
   "execution_count": 17,
   "metadata": {
    "scrolled": false
   },
   "outputs": [
    {
     "name": "stderr",
     "output_type": "stream",
     "text": [
      "┌ Info: 0.45437\n",
      "└ @ Main In[17]:40\n",
      "┌ Info: 0.43962\n",
      "└ @ Main In[17]:40\n",
      "┌ Info: 0.44352\n",
      "└ @ Main In[17]:40\n",
      "┌ Info: 0.45322\n",
      "└ @ Main In[17]:40\n",
      "┌ Info: 0.469\n",
      "└ @ Main In[17]:40\n",
      "┌ Info: 0.45097\n",
      "└ @ Main In[17]:40\n",
      "┌ Info: 0.45892\n",
      "└ @ Main In[17]:40\n",
      "┌ Info: 0.43608\n",
      "└ @ Main In[17]:40\n",
      "┌ Info: 0.47312\n",
      "└ @ Main In[17]:40\n",
      "┌ Info: 0.44462\n",
      "└ @ Main In[17]:40\n"
     ]
    }
   ],
   "source": [
    "id_test = 801:810\n",
    "n_test = length(id_test)\n",
    "id_fail = []\n",
    "id_nonproper = []\n",
    "x_test = data[id_test, posx]\n",
    "Fx_test = data[id_test, posc]\n",
    "y_test_true = target[id_test]\n",
    "count_test = 0\n",
    "error_abs = 0.\n",
    "error_sq = 0.\n",
    "nlpd = 0.\n",
    "\n",
    "for i in 1:n_test\n",
    "    global error_abs, error_sq, nlpd, count_test\n",
    "    before = Dates.now()\n",
    "    x_test_i = reshape(x_test[i, :], 1, length(posx))\n",
    "    Fx_test_i = reshape(Fx_test[i, :], 1, length(posc))\n",
    "    try\n",
    "        pdf_test_i, cdf_test_i, dpdf_test_i, quantbound_test_i, support_test_i = pre_process(x_test_i, Fx_test_i, pdf0_raw, cdf0_raw, dpdf0_raw, quantInfo0_raw)\n",
    "        y_test_i_true = y_test_true[i]\n",
    "        median_test_i = ymax_train * quantile(cdf_test_i, quantbound_test_i, support_test_i)[1]\n",
    "        try \n",
    "            CI_test_i = ymax_train .* credible_interval(cdf_test_i, quantbound_test_i, support_test_i; mode=:equal, wp=.95)[1]\n",
    "            count_test += (y_test_i_true >= CI_test_i[1])&&(y_test_i_true <= CI_test_i[2]) ? 1 : 0\n",
    "            # @info \"CI\" CI_test_i\n",
    "        catch err\n",
    "            append!(id_fail, i)\n",
    "        end\n",
    "        error_abs += abs(y_test_i_true - median_test_i)\n",
    "        error_sq += (y_test_i_true - median_test_i)^2\n",
    "        nlpd += log(pdf_test_i(y_test_i_true)) \n",
    "#         @info y_test_i_true, median_test_i\n",
    "#         @info error_abs, error_sq\n",
    "#         @info count_test, id_fail, id_nonproper\n",
    "    catch err \n",
    "        append!(id_nonproper, i)\n",
    "    end\n",
    "    after = Dates.now()\n",
    "    elapsedmin = round(((after - before) / Millisecond(1000))/60, digits=5)\n",
    "    @info elapsedmin\n",
    "    end"
   ]
  },
  {
   "cell_type": "code",
   "execution_count": 18,
   "metadata": {},
   "outputs": [
    {
     "name": "stderr",
     "output_type": "stream",
     "text": [
      "┌ Info: (28.933933258870564, 1717.331746149653, 124.41866306740683, 0.9)\n",
      "└ @ Main In[18]:5\n"
     ]
    }
   ],
   "source": [
    "count_test /= n_test - length(id_fail)\n",
    "error_abs  /= n_test\n",
    "error_sq   /= n_test\n",
    "nlpd       /= -n_test\n",
    "@info error_abs, error_sq, nlpd, count_test"
   ]
  },
  {
   "cell_type": "code",
   "execution_count": 19,
   "metadata": {},
   "outputs": [
    {
     "data": {
      "text/plain": [
       "12.789828967769768"
      ]
     },
     "execution_count": 19,
     "metadata": {},
     "output_type": "execute_result"
    }
   ],
   "source": [
    "# training set\n",
    "x = data[id_train, posx]' \n",
    "y = float(target[id_train])\n",
    "# build and fit a GP\n",
    "mymean = MeanZero(); kern = SE(zeros(d),0.0) \n",
    "gp = GP(x, y, mymean, kern) \n",
    "optimize!(gp)     \n",
    "# predict\n",
    "x_test = data[id_test, posx]'\n",
    "y_test_true = target[id_test]\n",
    "μ, σ² = predict_y(gp, x_test); stdv = sqrt.(σ²)\n",
    "error_GP = abs.(μ .- y_test_true)\n",
    "error_abs_GP = mean(error_GP)\n",
    "error_sq_GP = mean(error_GP.^2)\n",
    "CI_test_GP = hcat(-1.96.*stdv .+ μ, 1.96.*stdv .+ μ)\n",
    "count_test_GP = sum((y_test_true .>= CI_test_GP[:, 1]) .* (y_test_true .<= CI_test_GP[:,2]))/n_test\n",
    "nlpd_GP = -mean(log.(pdf.(Normal(), (y_test_true.-μ)./stdv)./stdv))"
   ]
  },
  {
   "cell_type": "code",
   "execution_count": null,
   "metadata": {},
   "outputs": [],
   "source": [
    "error_GP"
   ]
  },
  {
   "cell_type": "code",
   "execution_count": 20,
   "metadata": {
    "scrolled": false
   },
   "outputs": [
    {
     "name": "stderr",
     "output_type": "stream",
     "text": [
      "┌ Info: (56148.149261290164, 5.24943465870176e9, 12.789828967769768, 1.0)\n",
      "└ @ Main In[20]:1\n"
     ]
    }
   ],
   "source": [
    "@info error_abs_GP, error_sq_GP, nlpd_GP, count_test_GP"
   ]
  },
  {
   "cell_type": "code",
   "execution_count": 24,
   "metadata": {},
   "outputs": [
    {
     "ename": "InterruptException",
     "evalue": "InterruptException:",
     "output_type": "error",
     "traceback": [
      "InterruptException:",
      "",
      "Stacktrace:",
      " [1] (::GaussianProcesses.var\"#ltarget_and_dltarget!#99\"{Base.Iterators.Pairs{Symbol,Bool,Tuple{Symbol,Symbol,Symbol},NamedTuple{(:kern, :domean, :noise),Tuple{Bool,Bool,Bool}}},GPE{Adjoint{Float64,Array{Float64,2}},Array{Float64,1},MeanLin,SEArd{Float64},GaussianProcesses.FullCovariance,GaussianProcesses.StationaryARDData{Array{Float64,3}},PDMats.PDMat{Float64,Array{Float64,2}},GaussianProcesses.Scalar{Float64}}})(::Array{Float64,1}, ::Array{Float64,1}) at /home/xz584/.julia/packages/GaussianProcesses/sed6i/src/optimize.jl:85",
      " [2] value_gradient!!(::OnceDifferentiable{Float64,Array{Float64,1},Array{Float64,1}}, ::Array{Float64,1}) at /home/xz584/.julia/packages/NLSolversBase/mGaJg/src/interface.jl:82",
      " [3] value_gradient!(::OnceDifferentiable{Float64,Array{Float64,1},Array{Float64,1}}, ::Array{Float64,1}) at /home/xz584/.julia/packages/NLSolversBase/mGaJg/src/interface.jl:69",
      " [4] value_gradient!(::Optim.ManifoldObjective{OnceDifferentiable{Float64,Array{Float64,1},Array{Float64,1}}}, ::Array{Float64,1}) at /home/xz584/.julia/packages/Optim/UkDyx/src/Manifolds.jl:50",
      " [5] (::LineSearches.var\"#ϕdϕ#6\"{Optim.ManifoldObjective{OnceDifferentiable{Float64,Array{Float64,1},Array{Float64,1}}},Array{Float64,1},Array{Float64,1},Array{Float64,1}})(::Float64) at /home/xz584/.julia/packages/LineSearches/WrsMD/src/LineSearches.jl:84",
      " [6] (::LineSearches.HagerZhang{Float64,Base.RefValue{Bool}})(::Function, ::LineSearches.var\"#ϕdϕ#6\"{Optim.ManifoldObjective{OnceDifferentiable{Float64,Array{Float64,1},Array{Float64,1}}},Array{Float64,1},Array{Float64,1},Array{Float64,1}}, ::Float64, ::Float64, ::Float64) at /home/xz584/.julia/packages/LineSearches/WrsMD/src/hagerzhang.jl:227",
      " [7] HagerZhang at /home/xz584/.julia/packages/LineSearches/WrsMD/src/hagerzhang.jl:101 [inlined]",
      " [8] perform_linesearch!(::Optim.LBFGSState{Array{Float64,1},Array{Array{Float64,1},1},Array{Array{Float64,1},1},Float64,Array{Float64,1}}, ::LBFGS{Nothing,LineSearches.InitialStatic{Float64},LineSearches.HagerZhang{Float64,Base.RefValue{Bool}},Optim.var\"#19#21\"}, ::Optim.ManifoldObjective{OnceDifferentiable{Float64,Array{Float64,1},Array{Float64,1}}}) at /home/xz584/.julia/packages/Optim/UkDyx/src/utilities/perform_linesearch.jl:53",
      " [9] update_state!(::OnceDifferentiable{Float64,Array{Float64,1},Array{Float64,1}}, ::Optim.LBFGSState{Array{Float64,1},Array{Array{Float64,1},1},Array{Array{Float64,1},1},Float64,Array{Float64,1}}, ::LBFGS{Nothing,LineSearches.InitialStatic{Float64},LineSearches.HagerZhang{Float64,Base.RefValue{Bool}},Optim.var\"#19#21\"}) at /home/xz584/.julia/packages/Optim/UkDyx/src/multivariate/solvers/first_order/l_bfgs.jl:198",
      " [10] optimize(::OnceDifferentiable{Float64,Array{Float64,1},Array{Float64,1}}, ::Array{Float64,1}, ::LBFGS{Nothing,LineSearches.InitialStatic{Float64},LineSearches.HagerZhang{Float64,Base.RefValue{Bool}},Optim.var\"#19#21\"}, ::Optim.Options{Float64,Nothing}, ::Optim.LBFGSState{Array{Float64,1},Array{Array{Float64,1},1},Array{Array{Float64,1},1},Float64,Array{Float64,1}}) at /home/xz584/.julia/packages/Optim/UkDyx/src/multivariate/optimize/optimize.jl:57",
      " [11] optimize(::OnceDifferentiable{Float64,Array{Float64,1},Array{Float64,1}}, ::Array{Float64,1}, ::LBFGS{Nothing,LineSearches.InitialStatic{Float64},LineSearches.HagerZhang{Float64,Base.RefValue{Bool}},Optim.var\"#19#21\"}, ::Optim.Options{Float64,Nothing}) at /home/xz584/.julia/packages/Optim/UkDyx/src/multivariate/optimize/optimize.jl:33 (repeats 2 times)",
      " [12] optimize!(::GPE{Adjoint{Float64,Array{Float64,2}},Array{Float64,1},MeanLin,SEArd{Float64},GaussianProcesses.FullCovariance,GaussianProcesses.StationaryARDData{Array{Float64,3}},PDMats.PDMat{Float64,Array{Float64,2}},GaussianProcesses.Scalar{Float64}}, ::LBFGS{Nothing,LineSearches.InitialStatic{Float64},LineSearches.HagerZhang{Float64,Base.RefValue{Bool}},Optim.var\"#19#21\"}; domean::Bool, kern::Bool, noise::Bool, lik::Bool, meanbounds::Nothing, kernbounds::Nothing, noisebounds::Nothing, likbounds::Nothing, kwargs::Base.Iterators.Pairs{Union{},Union{},Tuple{},NamedTuple{(),Tuple{}}}) at /home/xz584/.julia/packages/GaussianProcesses/sed6i/src/optimize.jl:28",
      " [13] optimize! at /home/xz584/.julia/packages/GaussianProcesses/sed6i/src/optimize.jl:23 [inlined] (repeats 2 times)",
      " [14] top-level scope at In[24]:10"
     ]
    }
   ],
   "source": [
    "x = data[id_train, posx]' \n",
    "y = float(target[id_train])\n",
    "trans = BoxCox()\n",
    "g_fixed(x) = trans(x, 0.); dg(x) = partialx(trans, x, 0.)\n",
    "invg(x) = inverse(trans, x, 0.)\n",
    "gy = g_fixed.(y) \n",
    "# build and fit a GP\n",
    "mymean = MeanZero(); kern = SE(zeros(d),0.0) \n",
    "loggp = GP(x, gy, mymean, kern) \n",
    "optimize!(loggp) \n",
    "# predict\n",
    "x_test = data[id_test, posx]'\n",
    "y_test_true = target[id_test]\n",
    "μ, σ² = predict_y(loggp, x_test); stdv = sqrt.(σ²)\n",
    "CI_test_logGP = invg.(hcat(-1.96.*stdv .+ μ, 1.96.*stdv .+ μ))\n",
    "count_test_logGP = sum((y_test_true .>= CI_test_logGP[:, 1]) .* (y_test_true .<= CI_test_logGP[:,2]))/n_test\n",
    "y_pred = invg.(μ)\n",
    "error_logGP = abs.(y_pred .- y_test_true)\n",
    "error_abs_logGP = mean(error_logGP)\n",
    "error_sq_logGP = mean(error_logGP.^2)\n",
    "nlpd_logGP = -mean(log.( dg.(y_test_true) .* pdf.(Normal(), (g_fixed.(y_test_true).-μ)./stdv) ./stdv ))"
   ]
  },
  {
   "cell_type": "code",
   "execution_count": 25,
   "metadata": {
    "scrolled": false
   },
   "outputs": [
    {
     "name": "stderr",
     "output_type": "stream",
     "text": [
      "┌ Info: (47.98384467132985, 3829.6654631976817, 5.349362513912765, 1.0)\n",
      "└ @ Main In[25]:1\n"
     ]
    }
   ],
   "source": [
    "@info error_abs_logGP, error_sq_logGP, nlpd_logGP, count_test_logGP"
   ]
  },
  {
   "cell_type": "code",
   "execution_count": null,
   "metadata": {},
   "outputs": [],
   "source": []
  },
  {
   "cell_type": "code",
   "execution_count": null,
   "metadata": {},
   "outputs": [],
   "source": []
  }
 ],
 "metadata": {
  "kernelspec": {
   "display_name": "Julia 1.4.1",
   "language": "julia",
   "name": "julia-1.4"
  },
  "language_info": {
   "file_extension": ".jl",
   "mimetype": "application/julia",
   "name": "julia",
   "version": "1.4.1"
  }
 },
 "nbformat": 4,
 "nbformat_minor": 4
}
