{
 "cells": [
  {
   "cell_type": "code",
   "execution_count": 1,
   "metadata": {},
   "outputs": [],
   "source": [
    "using Dates\n",
    "using ArgParse\n",
    "using Printf\n",
    "using Random\n",
    "\n",
    "include(\"../btg.jl\")\n",
    "include(\"../datasets/load_abalone.jl\");"
   ]
  },
  {
   "cell_type": "code",
   "execution_count": 2,
   "metadata": {},
   "outputs": [
    {
     "data": {
      "text/plain": [
       "3"
      ]
     },
     "execution_count": 2,
     "metadata": {},
     "output_type": "execute_result"
    }
   ],
   "source": [
    "# shuffle data\n",
    "ind_shuffle = randperm(MersenneTwister(1234), size(data, 1)) \n",
    "data = data[ind_shuffle, :]\n",
    "target = target[ind_shuffle]\n",
    "id_train = 1:400; posx = 1:7; posc = 1:3\n",
    "x = data[id_train, posx] \n",
    "Fx = data[id_train, posc] \n",
    "y = float(target[id_train])\n",
    "trainingData1 = trainingData(x, Fx, y) #training data used for testing various functions\n",
    "d = getDimension(trainingData1); n = getNumPts(trainingData1); p = getCovDimension(trainingData1)"
   ]
  },
  {
   "cell_type": "code",
   "execution_count": 3,
   "metadata": {},
   "outputs": [],
   "source": [
    "#parameter setting\n",
    "rangeθ = [10.0 1000]\n",
    "rangeθm = repeat(rangeθ, d, 1)\n",
    "rangeλ = [-1. 1.] #we will always used 1 range scale for lambda\n",
    "myquadtype = [\"SparseGrid\", \"Gaussian\"]\n",
    "myquadtype = [\"QuasiMonteCarlo\", \"QuasiMonteCarlo\"]\n",
    "btg1 = btg(trainingData1, rangeθm, rangeλ; quadtype = myquadtype)\n",
    "(pdf, cdf, dpdf, quantInfo) = solve(btg1); "
   ]
  },
  {
   "cell_type": "code",
   "execution_count": 4,
   "metadata": {},
   "outputs": [
    {
     "data": {
      "text/plain": [
       "0.0"
      ]
     },
     "execution_count": 4,
     "metadata": {},
     "output_type": "execute_result"
    }
   ],
   "source": [
    "id_test = 1001:1200\n",
    "n_test = length(id_test)\n",
    "id_fail = []\n",
    "Fx0 = reshape(data[id_test, posc], n_test, length(posc))\n",
    "x0 = reshape(data[id_test, posx], n_test, length(posx)) \n",
    "count_test = 0\n",
    "error_abs  = 0.\n",
    "error_sq   = 0.\n",
    "nlpd       = 0."
   ]
  },
  {
   "cell_type": "code",
   "execution_count": 5,
   "metadata": {
    "scrolled": false
   },
   "outputs": [
    {
     "data": {
      "text/plain": [
       "0.27586206896551724"
      ]
     },
     "execution_count": 5,
     "metadata": {},
     "output_type": "execute_result"
    }
   ],
   "source": [
    "i = 1\n",
    "x0_i = reshape(x0[i, :], 1, length(posx))\n",
    "Fx0_i = reshape(Fx0[i, :], 1, length(posc))\n",
    "y_i_true = getLabel(btg1.trainingData)[i]"
   ]
  },
  {
   "cell_type": "code",
   "execution_count": 6,
   "metadata": {},
   "outputs": [
    {
     "data": {
      "text/plain": [
       "dpdf_fixed (generic function with 1 method)"
      ]
     },
     "execution_count": 6,
     "metadata": {},
     "output_type": "execute_result"
    }
   ],
   "source": [
    "quantbound_fixed(p) = quantInfo(x0_i, Fx0_i, p) \n",
    "pdf_fixed(y) = pdf(x0_i, Fx0_i, y)\n",
    "cdf_fixed(y) = cdf(x0_i, Fx0_i, y)\n",
    "dpdf_fixed(y) = dpdf(x0_i, Fx0_i, y)"
   ]
  },
  {
   "cell_type": "code",
   "execution_count": 10,
   "metadata": {},
   "outputs": [
    {
     "ename": "ErrorException",
     "evalue": "syntax: \"[0.01, 5]\" is not a valid function argument name",
     "output_type": "error",
     "traceback": [
      "syntax: \"[0.01, 5]\" is not a valid function argument name",
      "",
      "Stacktrace:",
      " [1] top-level scope at /home/xz584/.julia/packages/IJulia/DrVMH/src/kernel.jl:52"
     ]
    }
   ],
   "source": [
    "support = [.01, 5.]support = [.01, 5.]\n",
    "function support_comp!(pdf, support)\n",
    "      current = pdf(support[1])\n",
    "      while i in 1:5\n",
    "        next = pdf(support[1]/5)\n",
    "        if next < current\n",
    "          support[1] /= 5\n",
    "        else\n",
    "          break\n",
    "        end\n",
    "        current = next\n",
    "      end\n",
    "      while pdf(support[2]) > 1e-6 \n",
    "        support[2] *= 1.2\n",
    "      end\n",
    "      # should make sure CDF(support[2]) - CDF(support[1]) > .97 to make 95% CI possible\n",
    "      INT = cdf_fixed(support[2]) - cdf_fixed(support[1])\n",
    "      @assert INT > .97 \"pdf integral $INT\"\n",
    "      return nothing\n",
    "end\n",
    "support_comp!(pdf_fixed, support)"
   ]
  },
  {
   "cell_type": "code",
   "execution_count": 8,
   "metadata": {
    "scrolled": true
   },
   "outputs": [
    {
     "data": {
      "text/plain": [
       "2-element Array{Float64,1}:\n",
       " 0.01\n",
       " 5.0"
      ]
     },
     "execution_count": 8,
     "metadata": {},
     "output_type": "execute_result"
    }
   ],
   "source": [
    "support = [.01, 5.]"
   ]
  },
  {
   "cell_type": "code",
   "execution_count": null,
   "metadata": {},
   "outputs": [],
   "source": []
  },
  {
   "cell_type": "code",
   "execution_count": null,
   "metadata": {},
   "outputs": [],
   "source": []
  },
  {
   "cell_type": "code",
   "execution_count": null,
   "metadata": {},
   "outputs": [],
   "source": []
  },
  {
   "cell_type": "code",
   "execution_count": null,
   "metadata": {},
   "outputs": [],
   "source": []
  },
  {
   "cell_type": "code",
   "execution_count": null,
   "metadata": {},
   "outputs": [],
   "source": []
  },
  {
   "cell_type": "code",
   "execution_count": null,
   "metadata": {},
   "outputs": [],
   "source": []
  },
  {
   "cell_type": "code",
   "execution_count": null,
   "metadata": {},
   "outputs": [],
   "source": []
  },
  {
   "cell_type": "code",
   "execution_count": null,
   "metadata": {},
   "outputs": [],
   "source": []
  },
  {
   "cell_type": "code",
   "execution_count": null,
   "metadata": {},
   "outputs": [],
   "source": []
  },
  {
   "cell_type": "code",
   "execution_count": null,
   "metadata": {},
   "outputs": [],
   "source": []
  },
  {
   "cell_type": "code",
   "execution_count": null,
   "metadata": {},
   "outputs": [],
   "source": []
  },
  {
   "cell_type": "code",
   "execution_count": 42,
   "metadata": {
    "scrolled": true
   },
   "outputs": [
    {
     "data": {
      "text/plain": [
       "test_single (generic function with 1 method)"
      ]
     },
     "execution_count": 42,
     "metadata": {},
     "output_type": "execute_result"
    }
   ],
   "source": [
    "function test_single(i)\n",
    "    x0_i = reshape(x0[i, :], 1, length(posx))\n",
    "    Fx0_i = reshape(Fx0[i, :], 1, length(posc))\n",
    "    pdf_i, cdf_i, dpdf_i, quantbound_i, support_i, fail_i = pre_process(x0_i, Fx0_i, pdf, cdf, dpdf, quantInfo)\n",
    "    y_i_true = getLabel(btg1.trainingData)[i]\n",
    "    median_i = quantile(cdf_i, quantbound_i, support_i)[1]\n",
    "    try \n",
    "        CI_i = credible_interval(cdf_i, quantbound_i, support_i; mode=:equal, wp=.95)[1]\n",
    "        count_test += (y_i_true >= CI_i[1])&&(y_i_true <= CI_i[2]) ? 1 : 0\n",
    "    catch err\n",
    "        append!(id_fail, i)\n",
    "    end\n",
    "end"
   ]
  },
  {
   "cell_type": "code",
   "execution_count": null,
   "metadata": {},
   "outputs": [],
   "source": [
    "@time test_single(1)"
   ]
  },
  {
   "cell_type": "code",
   "execution_count": 23,
   "metadata": {
    "scrolled": false
   },
   "outputs": [
    {
     "ename": "BoundsError",
     "evalue": "SYSTEM: show(lasterr) caused an error",
     "output_type": "error",
     "traceback": [
      "SYSTEM: show(lasterr) caused an error",
      "",
      "Stacktrace:",
      " [1] indexed_iterate(::Tuple{var\"#pdf_fixed#975\"{Array{Float64,2},Array{Float64,2},var\"#363#373\"{btg,Array{Float64,1},Array{Float64,1},var\"#evalgrid_pdf!#368\"{Array{Function,1},SubArray{Float64,1,Array{Float64,1},Tuple{Base.Slice{Base.OneTo{Int64}}},true},var\"#evalgrid!#366\"{CartesianIndices{1,Tuple{Base.OneTo{Int64}}}}},var\"#checkInput#371\"}},var\"#cdf_fixed#976\"{Array{Float64,2},Array{Float64,2},var\"#364#374\"{btg,Array{Float64,1},Array{Float64,1},var\"#evalgrid_cdf!#369\"{Array{Function,1},SubArray{Float64,1,Array{Float64,1},Tuple{Base.Slice{Base.OneTo{Int64}}},true},var\"#evalgrid!#366\"{CartesianIndices{1,Tuple{Base.OneTo{Int64}}}}},var\"#checkInput#371\"}},var\"#dpdf_fixed#977\"{Array{Float64,2},Array{Float64,2},var\"#362#372\"{btg,Array{Float64,1},Array{Float64,1},var\"#evalgrid_dpdf!#367\"{Array{Function,1},SubArray{Float64,1,Array{Float64,1},Tuple{Base.Slice{Base.OneTo{Int64}}},true},var\"#evalgrid!#366\"{CartesianIndices{1,Tuple{Base.OneTo{Int64}}}}},var\"#checkInput#371\"}},var\"#quantbound_fixed#974\"{Array{Float64,2},Array{Float64,2},var\"#365#375\"{Array{Float64,1},var\"#evalgrid_quantile!#370\"{Array{Function,1},SubArray{Float64,1,Array{Float64,1},Tuple{Base.Slice{Base.OneTo{Int64}}},true},var\"#evalgrid!#366\"{CartesianIndices{1,Tuple{Base.OneTo{Int64}}}}}}},Array{Float64,1}}, ::Int64, ::Int64) at ./tuple.jl:81",
      " [2] top-level scope at In[23]:1"
     ]
    }
   ],
   "source": [
    "pdf_i, cdf_i, dpdf_i, quantbound_i, support_i, fail_i = pre_process(x0_i, Fx0_i, pdf, cdf, dpdf, quantInfo)"
   ]
  },
  {
   "cell_type": "code",
   "execution_count": null,
   "metadata": {},
   "outputs": [],
   "source": []
  },
  {
   "cell_type": "code",
   "execution_count": null,
   "metadata": {},
   "outputs": [],
   "source": []
  },
  {
   "cell_type": "code",
   "execution_count": null,
   "metadata": {},
   "outputs": [],
   "source": [
    "median_i = quantile(cdf_i, quantbound_i, support_i)[1]"
   ]
  },
  {
   "cell_type": "code",
   "execution_count": null,
   "metadata": {},
   "outputs": [],
   "source": [
    "CI_i = credible_interval(cdf_i, quantbound_i, support_i; mode=:equal, wp=.95)[1]"
   ]
  },
  {
   "cell_type": "code",
   "execution_count": null,
   "metadata": {},
   "outputs": [],
   "source": []
  },
  {
   "cell_type": "code",
   "execution_count": 20,
   "metadata": {
    "scrolled": true
   },
   "outputs": [
    {
     "name": "stderr",
     "output_type": "stream",
     "text": [
      "┌ Info: (\"Current iteration\", 1)\n",
      "└ @ Main In[20]:2\n",
      "┌ Info: (\"Current iteration\", 2)\n",
      "└ @ Main In[20]:2\n",
      "┌ Info: (\"Current iteration\", 3)\n",
      "└ @ Main In[20]:2\n"
     ]
    },
    {
     "ename": "InterruptException",
     "evalue": "InterruptException:",
     "output_type": "error",
     "traceback": [
      "InterruptException:",
      "",
      "Stacktrace:",
      " [1] Array at ./boot.jl:407 [inlined]",
      " [2] Array at ./boot.jl:415 [inlined]",
      " [3] similar at ./array.jl:361 [inlined]",
      " [4] * at /buildworker/worker/package_linux64/build/usr/share/julia/stdlib/v1.4/LinearAlgebra/src/matmul.jl:160 [inlined]",
      " [5] update!(::train_buffer, ::test_buffer, ::trainingData, ::testingData) at /home/xz584/projects/btg/BayesTransformedGaussian/src/computation/buffers0.jl:525",
      " [6] (::var\"#compute_qmC#882\"{Int64,btg,Array{Float64,1}})(::Array{Float64,2}, ::Array{Float64,2}) at /home/xz584/projects/btg/BayesTransformedGaussian/src/computation/tdist.jl:45",
      " [7] (::var\"#compute#883\"{Int64,Array{Float64,1},var\"#compute_qmC#882\"{Int64,btg,Array{Float64,1}}})(::var\"#873#885\"{Float64,BoxCox}, ::Array{Float64,2}, ::Array{Float64,2}, ::Float64) at /home/xz584/projects/btg/BayesTransformedGaussian/src/computation/tdist.jl:103",
      " [8] (::var\"#cdf#890\"{var\"#compute#883\"{Int64,Array{Float64,1},var\"#compute_qmC#882\"{Int64,btg,Array{Float64,1}}},var\"#873#885\"{Float64,BoxCox}})(::Array{Float64,2}, ::Array{Float64,2}, ::Float64) at /home/xz584/projects/btg/BayesTransformedGaussian/src/computation/tdist.jl:141",
      " [9] (::var\"#evalgrid!#789\"{CartesianIndices{2,Tuple{Base.OneTo{Int64},Base.OneTo{Int64}}}})(::Array{Function,2}, ::SubArray{Float64,2,Array{Float64,2},Tuple{Base.Slice{Base.OneTo{Int64}},Base.Slice{Base.OneTo{Int64}}},true}, ::Array{Float64,2}, ::Array{Float64,2}, ::Vararg{Any,N} where N) at /home/xz584/projects/btg/BayesTransformedGaussian/src/model0.jl:204",
      " [10] evalgrid_cdf! at /home/xz584/projects/btg/BayesTransformedGaussian/src/model0.jl:211 [inlined]",
      " [11] (::var\"#787#797\"{btg,Array{Float64,2},Array{Float64,2},var\"#evalgrid_cdf!#792\"{Array{Function,2},SubArray{Float64,2,Array{Float64,2},Tuple{Base.Slice{Base.OneTo{Int64}},Base.Slice{Base.OneTo{Int64}}},true},var\"#evalgrid!#789\"{CartesianIndices{2,Tuple{Base.OneTo{Int64},Base.OneTo{Int64}}}}},var\"#checkInput#794\"})(::Array{Float64,2}, ::Array{Float64,2}, ::Float64) at /home/xz584/projects/btg/BayesTransformedGaussian/src/model0.jl:227",
      " [12] cdf_fixed at /home/xz584/projects/btg/BayesTransformedGaussian/src/statistics.jl:11 [inlined]",
      " [13] (::var\"#907#908\"{Float64,var\"#cdf_fixed#901\"{Array{Float64,2},Array{Float64,2},var\"#787#797\"{btg,Array{Float64,2},Array{Float64,2},var\"#evalgrid_cdf!#792\"{Array{Function,2},SubArray{Float64,2,Array{Float64,2},Tuple{Base.Slice{Base.OneTo{Int64}},Base.Slice{Base.OneTo{Int64}}},true},var\"#evalgrid!#789\"{CartesianIndices{2,Tuple{Base.OneTo{Int64},Base.OneTo{Int64}}}}},var\"#checkInput#794\"}}})(::Float64) at /home/xz584/projects/btg/BayesTransformedGaussian/src/statistics.jl:73",
      " [14] (::Roots.FnWrapper)(::Float64) at /home/xz584/.julia/packages/Roots/sNoys/src/find_zero.jl:263",
      " [15] (::Roots.DerivativeFree{Roots.FnWrapper})(::Float64) at /home/xz584/.julia/packages/Roots/sNoys/src/find_zero.jl:264 (repeats 2 times)",
      " [16] update_state(::Roots.BisectionExact, ::Roots.DerivativeFree{Roots.DerivativeFree{Roots.FnWrapper}}, ::Roots.UnivariateZeroState{Float64,Float64}, ::Roots.UnivariateZeroOptions{Float64,Float64,Float64,Float64}) at /home/xz584/.julia/packages/Roots/sNoys/src/bracketing.jl:311",
      " [17] find_zero(::Roots.BisectionExact, ::Roots.DerivativeFree{Roots.DerivativeFree{Roots.FnWrapper}}, ::Roots.UnivariateZeroOptions{Float64,Float64,Float64,Float64}, ::Roots.UnivariateZeroState{Float64,Float64}, ::Roots.NullTracks) at /home/xz584/.julia/packages/Roots/sNoys/src/find_zero.jl:582",
      " [18] find_zero(::Roots.DerivativeFree{Roots.FnWrapper}, ::Tuple{Float64,Float64}, ::Roots.BisectionExact, ::Nothing; tracks::Roots.NullTracks, verbose::Bool, kwargs::Base.Iterators.Pairs{Union{},Union{},Tuple{},NamedTuple{(),Tuple{}}}) at /home/xz584/.julia/packages/Roots/sNoys/src/find_zero.jl:546",
      " [19] find_zero(::Roots.FnWrapper, ::Tuple{Float64,Float64}, ::Bisection; tracks::Roots.NullTracks, verbose::Bool, kwargs::Base.Iterators.Pairs{Union{},Union{},Tuple{},NamedTuple{(),Tuple{}}}) at /home/xz584/.julia/packages/Roots/sNoys/src/bracketing.jl:342",
      " [20] find_zero at /home/xz584/.julia/packages/Roots/sNoys/src/bracketing.jl:329 [inlined]",
      " [21] #fzero#48 at /home/xz584/.julia/packages/Roots/sNoys/src/fzero.jl:81 [inlined]",
      " [22] fzero at /home/xz584/.julia/packages/Roots/sNoys/src/fzero.jl:77 [inlined]",
      " [23] #fzero#49 at /home/xz584/.julia/packages/Roots/sNoys/src/fzero.jl:85 [inlined]",
      " [24] fzero at /home/xz584/.julia/packages/Roots/sNoys/src/fzero.jl:85 [inlined]",
      " [25] quantile(::var\"#cdf_fixed#901\"{Array{Float64,2},Array{Float64,2},var\"#787#797\"{btg,Array{Float64,2},Array{Float64,2},var\"#evalgrid_cdf!#792\"{Array{Function,2},SubArray{Float64,2,Array{Float64,2},Tuple{Base.Slice{Base.OneTo{Int64}},Base.Slice{Base.OneTo{Int64}}},true},var\"#evalgrid!#789\"{CartesianIndices{2,Tuple{Base.OneTo{Int64},Base.OneTo{Int64}}}}},var\"#checkInput#794\"}}, ::Function, ::Array{Float64,1}; pdf::Nothing, pdf_deriv::Nothing, p::Float64) at /home/xz584/projects/btg/BayesTransformedGaussian/src/statistics.jl:73",
      " [26] quantile(::Function, ::Function, ::Array{Float64,1}) at /home/xz584/projects/btg/BayesTransformedGaussian/src/statistics.jl:68",
      " [27] top-level scope at ./In[20]:7"
     ]
    }
   ],
   "source": [
    "for i in 1:n_test\n",
    "    @info \"Current iteration\", i\n",
    "    x0_i = reshape(x0[i, :], 1, length(posx))\n",
    "    Fx0_i = reshape(Fx0[i, :], 1, length(posc))\n",
    "    pdf_i, cdf_i, dpdf_i, quantbound_i, support_i, fail_i = pre_process(x0_i, Fx0_i, pdf, cdf, dpdf, quantInfo)\n",
    "    y_i_true = getLabel(btg1.trainingData)[i]\n",
    "    median_i = quantile(cdf_i, quantbound_i, support_i)[1]\n",
    "    try \n",
    "        CI_i = credible_interval(cdf_i, quantbound_i, support_i; mode=:equal, wp=.95)[1]\n",
    "        count_test += (y_i_true >= CI_i[1])&&(y_i_true <= CI_i[2]) ? 1 : 0\n",
    "    catch err\n",
    "        append!(id_fail, i)\n",
    "    end\n",
    "    error_abs += abs(y_i_true - median_i)\n",
    "    error_sq += (y_i_true - median_i)^2\n",
    "    nlpd += log(pdf_i(y_i_true)) \n",
    "end"
   ]
  },
  {
   "cell_type": "code",
   "execution_count": 11,
   "metadata": {},
   "outputs": [
    {
     "data": {
      "text/plain": [
       "-0.0"
      ]
     },
     "execution_count": 11,
     "metadata": {},
     "output_type": "execute_result"
    }
   ],
   "source": [
    "count_test /= n_test - length(id_fail)\n",
    "error_abs  /= n_test\n",
    "error_sq   /= n_test\n",
    "nlpd       /= -n_test"
   ]
  },
  {
   "cell_type": "code",
   "execution_count": null,
   "metadata": {},
   "outputs": [],
   "source": [
    "if filesize(\"Exp_abalone_test.txt\") == 0\n",
    "    # write the setting headers\n",
    "    io1 = open(\"Exp_abalone_test.txt\", \"w\") \n",
    "    write(io1, \"Time     ;    ind_train  ;  ind_test   ;      quadtype     ;     rangeθ    ;    rangeλ   ;  error_abs ;  error_sq ;  CI accuracy ; -log(p(y));  failed id \\n\")\n",
    "    close(io1)\n",
    "end\n",
    "\n",
    "io1 = open(\"Exp_abalone_test.txt\", \"a\") \n",
    "write(io1, \"$(Dates.now())  ;    $ind    ;   $id_test   ;     $myquadtype     ;   $rangeθ   ;  $rangeλ ;   $count_test    ;  $error_abs   ;  $error_sq   ;   $nlpd   ;  $id_fail \\n\")\n",
    "close(io1)\n"
   ]
  },
  {
   "cell_type": "code",
   "execution_count": 25,
   "metadata": {},
   "outputs": [
    {
     "data": {
      "text/plain": [
       "3-element Array{Any,1}:\n",
       " 1\n",
       " 1\n",
       " 1"
      ]
     },
     "execution_count": 25,
     "metadata": {},
     "output_type": "execute_result"
    }
   ],
   "source": [
    "id_fail"
   ]
  },
  {
   "cell_type": "code",
   "execution_count": null,
   "metadata": {},
   "outputs": [],
   "source": []
  },
  {
   "cell_type": "code",
   "execution_count": 12,
   "metadata": {},
   "outputs": [
    {
     "data": {
      "text/plain": [
       "0-element Array{Any,1}"
      ]
     },
     "execution_count": 12,
     "metadata": {},
     "output_type": "execute_result"
    }
   ],
   "source": [
    "a = []"
   ]
  },
  {
   "cell_type": "code",
   "execution_count": 15,
   "metadata": {},
   "outputs": [
    {
     "data": {
      "text/plain": [
       "2-element Array{Any,1}:\n",
       " 1\n",
       " 1"
      ]
     },
     "execution_count": 15,
     "metadata": {},
     "output_type": "execute_result"
    }
   ],
   "source": [
    "append!(a, 1)"
   ]
  },
  {
   "cell_type": "code",
   "execution_count": 16,
   "metadata": {},
   "outputs": [
    {
     "data": {
      "text/plain": [
       "2"
      ]
     },
     "execution_count": 16,
     "metadata": {},
     "output_type": "execute_result"
    }
   ],
   "source": [
    "length(a)"
   ]
  },
  {
   "cell_type": "code",
   "execution_count": null,
   "metadata": {},
   "outputs": [],
   "source": []
  },
  {
   "cell_type": "code",
   "execution_count": null,
   "metadata": {},
   "outputs": [],
   "source": []
  }
 ],
 "metadata": {
  "kernelspec": {
   "display_name": "Julia 1.4.1",
   "language": "julia",
   "name": "julia-1.4"
  },
  "language_info": {
   "file_extension": ".jl",
   "mimetype": "application/julia",
   "name": "julia",
   "version": "1.4.1"
  }
 },
 "nbformat": 4,
 "nbformat_minor": 4
}
